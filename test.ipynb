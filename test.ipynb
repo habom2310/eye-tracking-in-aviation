{
 "cells": [
  {
   "cell_type": "code",
   "execution_count": 1,
   "metadata": {},
   "outputs": [],
   "source": [
    "import numpy as np\n",
    "import pandas as pd\n",
    "import cv2\n",
    "from matplotlib import pyplot as plt\n",
    "from collections import defaultdict\n",
    "import seaborn as sns\n",
    "from tqdm import tqdm "
   ]
  },
  {
   "cell_type": "code",
   "execution_count": 14,
   "metadata": {},
   "outputs": [],
   "source": [
    "A = np.random.randint(low = 600, high = 700, size=(1000, 2))\n",
    "B = np.random.randint(low = 600, high = 700, size=(1000, 2))\n",
    "\n",
    "nrows, ncols = A.shape\n",
    "dtype={'names':['f{}'.format(i) for i in range(ncols)],\n",
    "       'formats':ncols * [A.dtype]}\n",
    "\n",
    "C = np.intersect1d(A.view(dtype), B.view(dtype))\n",
    "\n",
    "# This last bit is optional if you're okay with \"C\" being a structured array...\n",
    "C = C.view(A.dtype).reshape(-1, ncols)"
   ]
  },
  {
   "cell_type": "code",
   "execution_count": 15,
   "metadata": {},
   "outputs": [
    {
     "data": {
      "text/plain": [
       "81"
      ]
     },
     "execution_count": 15,
     "metadata": {},
     "output_type": "execute_result"
    }
   ],
   "source": [
    "len(C)"
   ]
  },
  {
   "cell_type": "code",
   "execution_count": 99,
   "metadata": {},
   "outputs": [],
   "source": [
    "csv_file = \"data/PISSS_ID_003_Approach Two Gaze-Vergence.csv\"\n",
    "df_data = pd.read_csv(csv_file)\n",
    "df_data = df_data.dropna()\n",
    "x = df_data[[\"Y Pos\", \"X Pos\"]].values"
   ]
  },
  {
   "cell_type": "code",
   "execution_count": 18,
   "metadata": {},
   "outputs": [],
   "source": [
    "label = {\"standby_ASI\": [(534, 424), 50, \"c\"], # [(cx,cy), radius, type: \"c\" = circle]  \n",
    "         \"standby_AH\": [(528,530), 50, \"c\"],\n",
    "         \"standby_ALT\": [(523, 626), 45, \"c\"], \n",
    "         \"RPM_LEFT\": [(633, 411), (672, 451), \"r\"], #[(topleft_x,y), (bottomright_x,y), type: \"r\" = rectangle]  \n",
    "         \"G1000_ASI\": [(674, 432), (705, 525), \"r\"],\n",
    "         \"G1000_AI\": [(720, 413), (790, 495), \"r\"],\n",
    "         \"HSI\": [(742, 556), 45, \"c\"],\n",
    "         \"G1000_ALT\": [(797, 428), (852, 523), \"r\"],\n",
    "         \"NRST_Box\": [(792, 534), (876, 554), \"r\"],\n",
    "         \"RPM_RIGHT\": [(1054, 440), 30, \"c\"],\n",
    "         \"outside\": [(0,0), (1280, 350), \"r\"]} \n"
   ]
  },
  {
   "cell_type": "code",
   "execution_count": 22,
   "metadata": {},
   "outputs": [],
   "source": [
    "pdict = defaultdict()\n",
    "h, w = 720, 1280\n",
    "for key in label:\n",
    "    if label[key][-1] == \"c\":\n",
    "        mask = np.zeros((h,w), np.uint8)\n",
    "        cv2.circle(mask,label[key][0], label[key][1],255,-1)\n",
    "        points = np.where(mask==255)\n",
    "        pdict[key] = points\n",
    "    elif label[key][-1] == \"r\":\n",
    "        mask = np.zeros((h,w), np.uint8)\n",
    "        cv2.rectangle(mask,label[key][0], label[key][1],255,-1)\n",
    "        points = np.where(mask==255)\n",
    "        pdict[key] = points"
   ]
  },
  {
   "cell_type": "code",
   "execution_count": 35,
   "metadata": {},
   "outputs": [],
   "source": [
    "fovea_radius = 20\n",
    "para_radius = 50\n",
    "\n",
    "def get_fovea_parafovea(point):\n",
    "    mask = np.zeros((h,w), np.uint8)\n",
    "    cv2.circle(mask, point, para_radius, 255, -1)\n",
    "\n",
    "    # mask = np.zeros((h,w), np.uint8)\n",
    "    cv2.circle(mask, point, fovea_radius, 100, -1)\n",
    "\n",
    "    fovea = np.where(mask==100)\n",
    "    parafovea = np.where(mask==255)\n",
    "    \n",
    "    return fovea, parafovea\n",
    "\n",
    "def count_intersect(A,B):\n",
    "    aset = set([tuple(x) for x in A])\n",
    "    bset = set([tuple(x) for x in B])\n",
    "    C = np.array([x for x in aset & bset])\n",
    "    \n",
    "    return len(C)\n",
    "\n",
    "def calculate_intersect(point, ROI):\n",
    "    fovea, parafovea = get_fovea_parafovea(point)\n",
    "    fovea = np.transpose(fovea)\n",
    "    parafovea = np.transpose(parafovea)\n",
    "    ROI = np.transpose(ROI)\n",
    "    \n",
    "    ifovea = count_intersect(fovea, ROI)\n",
    "    iparafovea = count_intersect(parafovea, ROI)\n",
    "    \n",
    "    p = (ifovea*3 + iparafovea) / (len(fovea)*3 + len(parafovea))\n",
    "    \n",
    "    return p"
   ]
  },
  {
   "cell_type": "code",
   "execution_count": 47,
   "metadata": {},
   "outputs": [],
   "source": [
    "def matching_rows(A,B):\n",
    "    A_rows = A.T.view([('', A.dtype)]).T\n",
    "    B_rows = B.T.view([('', B.dtype)]).T\n",
    "    C = np.intersect1d(A_rows, B_rows)\n",
    "    return len(C)"
   ]
  },
  {
   "cell_type": "code",
   "execution_count": 52,
   "metadata": {},
   "outputs": [],
   "source": [
    "import timeit"
   ]
  },
  {
   "cell_type": "code",
   "execution_count": 53,
   "metadata": {},
   "outputs": [
    {
     "name": "stdout",
     "output_type": "stream",
     "text": [
      "\t Voted answer: 0.627371506\n",
      "\t Voted answer: 0.846919995\n"
     ]
    }
   ],
   "source": [
    "point = (650, 450)\n",
    "fovea, parafovea = get_fovea_parafovea(point)\n",
    "fovea = np.transpose(fovea)\n",
    "parafovea = np.transpose(parafovea)\n",
    "ROI = np.transpose(pdict[\"outside\"])\n",
    "\n",
    "print ('\\t Voted answer:',timeit.timeit(lambda:matching_rows(fovea, ROI),number=100)/100)\n",
    "print ('\\t Voted answer:',timeit.timeit(lambda:count_intersect(fovea, ROI),number=100)/100)\n",
    "\n"
   ]
  },
  {
   "cell_type": "code",
   "execution_count": 54,
   "metadata": {},
   "outputs": [
    {
     "data": {
      "text/plain": [
       "[1, 2, 3, 4]"
      ]
     },
     "execution_count": 54,
     "metadata": {},
     "output_type": "execute_result"
    }
   ],
   "source": [
    "[1,2,3,4]"
   ]
  },
  {
   "cell_type": "code",
   "execution_count": null,
   "metadata": {},
   "outputs": [],
   "source": [
    "rect: min(x, y) max(x,y) "
   ]
  },
  {
   "cell_type": "code",
   "execution_count": null,
   "metadata": {},
   "outputs": [],
   "source": []
  },
  {
   "cell_type": "code",
   "execution_count": 59,
   "metadata": {},
   "outputs": [
    {
     "data": {
      "text/plain": [
       "array([[3, 4]])"
      ]
     },
     "execution_count": 59,
     "metadata": {},
     "output_type": "execute_result"
    }
   ],
   "source": [
    "a = [[1,2],[3,4],[5,6]]\n",
    "b = [[2,3],[3,4],[7,1]]\n",
    "\n",
    "aset = set([tuple(x) for x in a])\n",
    "bset = set([tuple(x) for x in b])\n",
    "np.array([x for x in aset & bset])"
   ]
  },
  {
   "cell_type": "code",
   "execution_count": 64,
   "metadata": {},
   "outputs": [
    {
     "data": {
      "text/plain": [
       "2742571194192"
      ]
     },
     "execution_count": 64,
     "metadata": {},
     "output_type": "execute_result"
    }
   ],
   "source": []
  },
  {
   "cell_type": "code",
   "execution_count": 86,
   "metadata": {},
   "outputs": [],
   "source": [
    "A = np.random.randint(low = 600, high = 700, size=(1000, 1))\n",
    "B = np.random.randint(low = 600, high = 700, size=(1000, 1))"
   ]
  },
  {
   "cell_type": "code",
   "execution_count": 87,
   "metadata": {},
   "outputs": [],
   "source": [
    "C = np.random.randint(low = 0, high = 1, size=(1000, 1))"
   ]
  },
  {
   "cell_type": "code",
   "execution_count": 95,
   "metadata": {},
   "outputs": [],
   "source": [
    "df_data = pd.DataFrame(zip(A,B,C),columns=[\"A\", \"B\", \"C\"])"
   ]
  },
  {
   "cell_type": "code",
   "execution_count": 96,
   "metadata": {},
   "outputs": [],
   "source": [
    "df_X = df_data[[\"A\", \"B\"]]\n",
    "df_Y = df_data[[\"C\"]]\n"
   ]
  },
  {
   "cell_type": "code",
   "execution_count": 104,
   "metadata": {},
   "outputs": [],
   "source": [
    "from sklearn.linear_model import LogisticRegression\n",
    "from sklearn.model_selection import train_test_split\n",
    "from sklearn.metrics import classification_report"
   ]
  },
  {
   "cell_type": "code",
   "execution_count": 153,
   "metadata": {},
   "outputs": [],
   "source": [
    "x = np.array([[1,1],[1,2],[1,1],[1,2],[2,1],[8,9],[8,9],[8,9],[8,9],[8,9]])\n",
    "y = np.array([0,0,0,0,0,1,1,1,1,1])"
   ]
  },
  {
   "cell_type": "code",
   "execution_count": 154,
   "metadata": {},
   "outputs": [
    {
     "data": {
      "text/plain": [
       "((10, 2), (10,))"
      ]
     },
     "execution_count": 154,
     "metadata": {},
     "output_type": "execute_result"
    }
   ],
   "source": [
    "x.shape, y.shape"
   ]
  },
  {
   "cell_type": "code",
   "execution_count": 155,
   "metadata": {},
   "outputs": [],
   "source": [
    "clf = LogisticRegression().fit(x, y)\n"
   ]
  },
  {
   "cell_type": "code",
   "execution_count": 159,
   "metadata": {},
   "outputs": [],
   "source": [
    "x_test = [[1,3],[4,5],[4,6],[1,7],[6,6],[6,8],[1,1]]\n",
    "y_test = [0,1,1,0,0,1,0]"
   ]
  },
  {
   "cell_type": "code",
   "execution_count": 160,
   "metadata": {},
   "outputs": [],
   "source": [
    "y_pred = clf.predict(x_test)"
   ]
  },
  {
   "cell_type": "code",
   "execution_count": 162,
   "metadata": {},
   "outputs": [
    {
     "name": "stdout",
     "output_type": "stream",
     "text": [
      "0 0\n",
      "1 0\n",
      "1 1\n",
      "0 0\n",
      "0 1\n",
      "1 1\n",
      "0 0\n"
     ]
    }
   ],
   "source": [
    "for u,v in zip(y_test, y_pred):\n",
    "    print(u,v)"
   ]
  },
  {
   "cell_type": "code",
   "execution_count": 165,
   "metadata": {},
   "outputs": [],
   "source": [
    "y_prob = clf.predict_proba(x_test)"
   ]
  },
  {
   "cell_type": "code",
   "execution_count": 167,
   "metadata": {},
   "outputs": [],
   "source": [
    "pred2 = []\n",
    "for v in y_prob:\n",
    "    if v[1] > 0.3:\n",
    "        pred2.append(1)\n",
    "    else:\n",
    "        pred2.append(0)"
   ]
  },
  {
   "cell_type": "code",
   "execution_count": null,
   "metadata": {},
   "outputs": [],
   "source": [
    "recall (0 la bai toan) = 1"
   ]
  },
  {
   "cell_type": "code",
   "execution_count": 168,
   "metadata": {},
   "outputs": [
    {
     "name": "stdout",
     "output_type": "stream",
     "text": [
      "              precision    recall  f1-score   support\n",
      "\n",
      "     class 0       1.00      0.75      0.86         4\n",
      "     class 1       0.75      1.00      0.86         3\n",
      "\n",
      "    accuracy                           0.86         7\n",
      "   macro avg       0.88      0.88      0.86         7\n",
      "weighted avg       0.89      0.86      0.86         7\n",
      "\n"
     ]
    }
   ],
   "source": [
    "target_names = ['class 0', 'class 1']\n",
    "print(classification_report(y_test, pred2, target_names=target_names))"
   ]
  },
  {
   "cell_type": "code",
   "execution_count": 78,
   "metadata": {},
   "outputs": [],
   "source": []
  },
  {
   "cell_type": "code",
   "execution_count": 79,
   "metadata": {},
   "outputs": [
    {
     "data": {
      "text/plain": [
       "2742551640328"
      ]
     },
     "execution_count": 79,
     "metadata": {},
     "output_type": "execute_result"
    }
   ],
   "source": [
    "id(a)"
   ]
  },
  {
   "cell_type": "code",
   "execution_count": 44,
   "metadata": {},
   "outputs": [],
   "source": [
    "sales = pd.DataFrame({ 'Date': ['2020-02-01 00:13:00', '2020-02-01 02:10:00', '2020-02-01 03:03:00', \n",
    "                                '2020-02-01 06:52:00', '2020-02-01 09:19:00', '2020-02-01 09:50:00',\n",
    "                                '2020-02-01 10:00:00', '2020-02-01 10:06:00', '2020-02-19 21:43:00'],\n",
    "                       'Amount': [2000, 26080, 5060, 800, 3000, 10934, 2250, 3600, 11528] })\n",
    "\n",
    "# sales[\"Time\"] = pd.to_datetime(sales[\"Date\"]).dt.time\n",
    "# sales[(sales[\"Time\"] > pd.to_datetime(\"00:00:00\").time()) & (sales[\"Time\"] < pd.to_datetime(\"04:59:00\").time())]"
   ]
  },
  {
   "cell_type": "code",
   "execution_count": 45,
   "metadata": {},
   "outputs": [],
   "source": [
    "sales[\"Time\"] = pd.to_datetime(sales[\"Date\"]).dt.time\n",
    "# sales[\"Date\"] = pd.to_datetime(sales[\"Date\"])"
   ]
  },
  {
   "cell_type": "code",
   "execution_count": null,
   "metadata": {},
   "outputs": [],
   "source": []
  },
  {
   "cell_type": "code",
   "execution_count": 32,
   "metadata": {},
   "outputs": [
    {
     "data": {
      "text/html": [
       "<div>\n",
       "<style scoped>\n",
       "    .dataframe tbody tr th:only-of-type {\n",
       "        vertical-align: middle;\n",
       "    }\n",
       "\n",
       "    .dataframe tbody tr th {\n",
       "        vertical-align: top;\n",
       "    }\n",
       "\n",
       "    .dataframe thead th {\n",
       "        text-align: right;\n",
       "    }\n",
       "</style>\n",
       "<table border=\"1\" class=\"dataframe\">\n",
       "  <thead>\n",
       "    <tr style=\"text-align: right;\">\n",
       "      <th></th>\n",
       "      <th>Date</th>\n",
       "      <th>Amount</th>\n",
       "      <th>Time</th>\n",
       "    </tr>\n",
       "  </thead>\n",
       "  <tbody>\n",
       "    <tr>\n",
       "      <th>0</th>\n",
       "      <td>2020-02-01 00:13:00</td>\n",
       "      <td>2000</td>\n",
       "      <td>00:13:00</td>\n",
       "    </tr>\n",
       "    <tr>\n",
       "      <th>1</th>\n",
       "      <td>2020-02-01 02:10:00</td>\n",
       "      <td>26080</td>\n",
       "      <td>02:10:00</td>\n",
       "    </tr>\n",
       "    <tr>\n",
       "      <th>2</th>\n",
       "      <td>2020-02-01 03:03:00</td>\n",
       "      <td>5060</td>\n",
       "      <td>03:03:00</td>\n",
       "    </tr>\n",
       "    <tr>\n",
       "      <th>3</th>\n",
       "      <td>2020-02-01 06:52:00</td>\n",
       "      <td>800</td>\n",
       "      <td>06:52:00</td>\n",
       "    </tr>\n",
       "    <tr>\n",
       "      <th>4</th>\n",
       "      <td>2020-02-01 09:19:00</td>\n",
       "      <td>3000</td>\n",
       "      <td>09:19:00</td>\n",
       "    </tr>\n",
       "    <tr>\n",
       "      <th>5</th>\n",
       "      <td>2020-02-01 09:50:00</td>\n",
       "      <td>10934</td>\n",
       "      <td>09:50:00</td>\n",
       "    </tr>\n",
       "    <tr>\n",
       "      <th>6</th>\n",
       "      <td>2020-02-01 10:00:00</td>\n",
       "      <td>2250</td>\n",
       "      <td>10:00:00</td>\n",
       "    </tr>\n",
       "    <tr>\n",
       "      <th>7</th>\n",
       "      <td>2020-02-01 10:06:00</td>\n",
       "      <td>3600</td>\n",
       "      <td>10:06:00</td>\n",
       "    </tr>\n",
       "    <tr>\n",
       "      <th>8</th>\n",
       "      <td>2020-02-19 21:43:00</td>\n",
       "      <td>11528</td>\n",
       "      <td>21:43:00</td>\n",
       "    </tr>\n",
       "  </tbody>\n",
       "</table>\n",
       "</div>"
      ],
      "text/plain": [
       "                  Date  Amount      Time\n",
       "0  2020-02-01 00:13:00    2000  00:13:00\n",
       "1  2020-02-01 02:10:00   26080  02:10:00\n",
       "2  2020-02-01 03:03:00    5060  03:03:00\n",
       "3  2020-02-01 06:52:00     800  06:52:00\n",
       "4  2020-02-01 09:19:00    3000  09:19:00\n",
       "5  2020-02-01 09:50:00   10934  09:50:00\n",
       "6  2020-02-01 10:00:00    2250  10:00:00\n",
       "7  2020-02-01 10:06:00    3600  10:06:00\n",
       "8  2020-02-19 21:43:00   11528  21:43:00"
      ]
     },
     "execution_count": 32,
     "metadata": {},
     "output_type": "execute_result"
    }
   ],
   "source": [
    "sales"
   ]
  },
  {
   "cell_type": "code",
   "execution_count": 46,
   "metadata": {},
   "outputs": [
    {
     "data": {
      "text/plain": [
       "33140"
      ]
     },
     "execution_count": 46,
     "metadata": {},
     "output_type": "execute_result"
    }
   ],
   "source": [
    "sales[(sales[\"Time\"] > pd.to_datetime(\"00:00:00\").time()) & (sales[\"Time\"] < pd.to_datetime(\"04:59:00\").time())][\"Amount\"].sum()"
   ]
  },
  {
   "cell_type": "code",
   "execution_count": 4,
   "metadata": {},
   "outputs": [],
   "source": [
    "a = pd.DataFrame({\"col1\": [\"A\", \"B\", \"D\", \"C\", \"A\"],\n",
    "                  \"col2\": [\"A\", \"B\", \"D\", \"A\", \"B\"],\n",
    "                  \"col3\": [\"D\", \"A\", \"B\", \"D\", \"A\"]})"
   ]
  },
  {
   "cell_type": "code",
   "execution_count": 6,
   "metadata": {},
   "outputs": [
    {
     "data": {
      "text/plain": [
       "A    6\n",
       "D    4\n",
       "B    4\n",
       "C    1\n",
       "dtype: int64"
      ]
     },
     "execution_count": 6,
     "metadata": {},
     "output_type": "execute_result"
    }
   ],
   "source": [
    "pd.value_counts(a.values.flatten())"
   ]
  },
  {
   "cell_type": "code",
   "execution_count": 1,
   "metadata": {},
   "outputs": [],
   "source": [
    "import numpy as np"
   ]
  },
  {
   "cell_type": "code",
   "execution_count": 21,
   "metadata": {},
   "outputs": [],
   "source": [
    "a = np.arange(8).reshape([4,2])"
   ]
  },
  {
   "cell_type": "code",
   "execution_count": null,
   "metadata": {},
   "outputs": [],
   "source": [
    "b = a[:,[0]]"
   ]
  },
  {
   "cell_type": "code",
   "execution_count": 34,
   "metadata": {},
   "outputs": [
    {
     "data": {
      "text/plain": [
       "array([[0, 1, 0],\n",
       "       [2, 3, 2],\n",
       "       [4, 5, 4],\n",
       "       [6, 7, 6]])"
      ]
     },
     "execution_count": 34,
     "metadata": {},
     "output_type": "execute_result"
    }
   ],
   "source": [
    "np.concatenate((a,b), axis = 1)"
   ]
  },
  {
   "cell_type": "code",
   "execution_count": null,
   "metadata": {},
   "outputs": [],
   "source": []
  }
 ],
 "metadata": {
  "kernelspec": {
   "display_name": "Python 3",
   "language": "python",
   "name": "python3"
  },
  "language_info": {
   "codemirror_mode": {
    "name": "ipython",
    "version": 3
   },
   "file_extension": ".py",
   "mimetype": "text/x-python",
   "name": "python",
   "nbconvert_exporter": "python",
   "pygments_lexer": "ipython3",
   "version": "3.6.10"
  }
 },
 "nbformat": 4,
 "nbformat_minor": 4
}
