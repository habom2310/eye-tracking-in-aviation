{
 "cells": [
  {
   "cell_type": "code",
   "execution_count": 1,
   "metadata": {},
   "outputs": [
    {
     "name": "stderr",
     "output_type": "stream",
     "text": [
      "Using TensorFlow backend.\n"
     ]
    }
   ],
   "source": [
    "import pandas as pd\n",
    "import numpy as np\n",
    "import matplotlib.pyplot as plt\n",
    "import matplotlib.image as mpimg\n",
    "import seaborn as sns\n",
    "import scipy\n",
    "import glob\n",
    "from tqdm import tqdm\n",
    "from collections import defaultdict\n",
    "import eye_metrics_utils\n",
    "import data_utils\n",
    "import gaze_entropy\n",
    "\n",
    "\n",
    "import keras\n",
    "from sklearn.model_selection import train_test_split\n",
    "import tensorflow as tf\n",
    "from keras.models import Sequential\n",
    "from keras.layers import LSTM, Dense, Conv1D, MaxPooling1D, Flatten, RepeatVector, TimeDistributed\n",
    "from sklearn.preprocessing import MinMaxScaler, StandardScaler, Normalizer\n",
    "from sklearn.metrics import mean_squared_error\n",
    "\n",
    "\n",
    "import warnings\n",
    "warnings.filterwarnings('ignore')"
   ]
  },
  {
   "cell_type": "code",
   "execution_count": 2,
   "metadata": {},
   "outputs": [],
   "source": [
    "csv_files = glob.glob(\"data/*.csv\")"
   ]
  },
  {
   "cell_type": "code",
   "execution_count": 3,
   "metadata": {},
   "outputs": [],
   "source": [
    "csv_files_one = [v for v in csv_files if \"One Gaze-Vergence\" in v]\n",
    "csv_files_two = [v for v in csv_files if \"Two Gaze-Vergence\" in v]\n",
    "csv_files_three = [v for v in csv_files if \"Three Go-Around Gaze-Vergence\" in v]"
   ]
  },
  {
   "cell_type": "code",
   "execution_count": 4,
   "metadata": {},
   "outputs": [
    {
     "name": "stdout",
     "output_type": "stream",
     "text": [
      "032 10 1A\n",
      "027 18 1A\n",
      "031 26 1A\n",
      "028 28 1A\n",
      "004 35 1A\n",
      "008 35 1A\n",
      "010 35 1A\n",
      "029 40 1A\n",
      "003 42 1A\n",
      "007 49 1A\n",
      "023 50 1A\n",
      "021 63 2B\n",
      "006 90 2B\n",
      "019 98 2B\n",
      "022 100 2B\n",
      "015 133 2B\n",
      "016 200 2B\n",
      "014 155 2C\n",
      "005 180 2C\n",
      "025 200 2C\n",
      "002 220 2C\n",
      "001 230 2C\n",
      "020 230 2C\n",
      "011 300 2C\n",
      "017 420 2C\n",
      "013 23 1A\n",
      "024 28 1A\n",
      "018 116 2B\n",
      "026 150 2C\n",
      "012 175 2C\n",
      "009 220 2C\n",
      "033 1300 2B\n",
      "32\n"
     ]
    }
   ],
   "source": [
    "df_par = pd.read_csv(\"participant.csv\")\n",
    "par_id_arr = [v[-3:] for v in df_par['ID'].tolist()]\n",
    "flight_exp_arr = df_par['Flight_hour'].tolist()\n",
    "\n",
    "group_arr = df_par['Group'].astype(\"str\").tolist()\n",
    "\n",
    "for i,e,g in zip(par_id_arr, flight_exp_arr, group_arr):\n",
    "    print(i, e, g)\n",
    "    \n",
    "print(len(par_id_arr))"
   ]
  },
  {
   "cell_type": "code",
   "execution_count": 5,
   "metadata": {},
   "outputs": [
    {
     "name": "stdout",
     "output_type": "stream",
     "text": [
      "data\\PISSS_ID_001_Approach Two Gaze-Vergence.csv 9554\n",
      "2C\n",
      "data\\PISSS_ID_002_Approach Two Gaze-Vergence.csv 9430\n",
      "2C\n",
      "data\\PISSS_ID_003_Approach Two Gaze-Vergence.csv 9368\n",
      "1A\n",
      "data\\PISSS_ID_004_Approach Two Gaze-Vergence.csv 9862\n",
      "1A\n",
      "data\\PISSS_ID_005_Approach Two Gaze-Vergence.csv 9245\n",
      "2C\n",
      "data\\PISSS_ID_006_Approach Two Gaze-Vergence.csv 9739\n",
      "2B\n",
      "data\\PISSS_ID_007_Approach Two Gaze-Vergence.csv 9677\n",
      "1A\n",
      "data\\PISSS_ID_008_Approach Two Gaze-Vergence.csv 9923\n",
      "1A\n",
      "data\\PISSS_ID_009_Approach Two Gaze-Vergence.csv 9243\n",
      "2C\n",
      "data\\PISSS_ID_010_Approach Two Gaze-Vergence.csv 9923\n",
      "1A\n",
      "data\\PISSS_ID_011_Approach Two Gaze-Vergence.csv 9492\n",
      "2C\n",
      "data\\PISSS_ID_012_Approach Two Gaze-Vergence.csv 9431\n",
      "2C\n",
      "data\\PISSS_ID_013_Approach Two Gaze-Vergence.csv 8691\n",
      "1A\n",
      "data\\PISSS_ID_014_Approach Two Gaze-Vergence.csv 9307\n",
      "2C\n",
      "data\\PISSS_ID_015_Approach Two Gaze-Vergence.csv 8812\n",
      "2B\n",
      "data\\PISSS_ID_016_Approach Two Gaze-Vergence.csv 8259\n",
      "2B\n",
      "data\\PISSS_ID_017_Approach Two Gaze-Vergence.csv 9184\n",
      "2C\n",
      "data\\PISSS_ID_018_Approach Two Gaze-Vergence.csv 8937\n",
      "2B\n",
      "data\\PISSS_ID_019_Approach Two Gaze-Vergence.csv 9615\n",
      "2B\n",
      "data\\PISSS_ID_020_Approach Two Gaze-Vergence.csv 9923\n",
      "2C\n",
      "data\\PISSS_ID_021_Approach Two Gaze-Vergence.csv 9369\n",
      "2B\n",
      "data\\PISSS_ID_022_Approach Two Gaze-Vergence.csv 9307\n",
      "2B\n",
      "data\\PISSS_ID_023_Approach Two Gaze-Vergence.csv 9677\n",
      "1A\n",
      "data\\PISSS_ID_024_Approach Two Gaze-Vergence.csv 9307\n",
      "1A\n",
      "data\\PISSS_ID_025_Approach Two Gaze-Vergence.csv 8937\n",
      "2C\n",
      "data\\PISSS_ID_026_Approach Two Gaze-Vergence.csv 8259\n",
      "2C\n",
      "data\\PISSS_ID_027_Approach Two Gaze-Vergence.csv 8568\n",
      "1A\n",
      "data\\PISSS_ID_028_Approach Two Gaze-Vergence.csv 9554\n",
      "1A\n",
      "data\\PISSS_ID_029_Approach Two Gaze-Vergence.csv 10232\n",
      "1A\n",
      "data\\PISSS_ID_031_Approach Two Gaze-Vergence.csv 9923\n",
      "1A\n",
      "data\\PISSS_ID_032_Approach Two Gaze-Vergence.csv 8011\n",
      "1A\n",
      "data\\PISSS_ID_033_Approach Two Gaze-Vergence.csv 9245\n",
      "2B\n"
     ]
    }
   ],
   "source": [
    "X = []\n",
    "y = []\n",
    "\n",
    "def norm(df_x):\n",
    "    train_stats = df_x.describe().transpose()\n",
    "    return (df_x - train_stats['mean']) / train_stats['std']\n",
    "\n",
    "for csv_files in [csv_files_two]:\n",
    "#     part = defaultdict(dict)\n",
    "    for csv in csv_files:\n",
    "        par_id = csv[14:17]\n",
    "        \n",
    "        if par_id not in par_id_arr:\n",
    "            continue\n",
    "#         ret = defaultdict(list)\n",
    "        df_data = pd.read_csv(csv)\n",
    "        print(csv, len(df_data))\n",
    "        exp = flight_exp_arr[par_id_arr.index(par_id)]\n",
    "        group = group_arr[par_id_arr.index(par_id)]\n",
    "        print(group)\n",
    "        for df_slice in data_utils.data_slicing(df_data, window_length = 600, stride = 600, min_length=600):\n",
    "            if (data_utils.check_percentage_null(df_slice) < 0.3): # Ignore data with missing value > 30%\n",
    "                continue\n",
    "                \n",
    "            df_slice.fillna(0.0, inplace=True)\n",
    "            v = df_slice[['X Pos', 'Y Pos', 'Pupil Diameter']]\n",
    "            v = norm(v)\n",
    "            \n",
    "            X.append(v.values)\n",
    "#             y.append(exp)\n",
    "            if \"1\" in group:\n",
    "                y.append(0)\n",
    "            elif \"2\" in group:\n",
    "                y.append(1)\n",
    "            "
   ]
  },
  {
   "cell_type": "code",
   "execution_count": 6,
   "metadata": {},
   "outputs": [
    {
     "name": "stdout",
     "output_type": "stream",
     "text": [
      "Training set dimension: (457, 600, 3)\n"
     ]
    }
   ],
   "source": [
    "print(\"Training set dimension:\" ,np.array(X).shape)\n"
   ]
  },
  {
   "cell_type": "code",
   "execution_count": 7,
   "metadata": {},
   "outputs": [
    {
     "data": {
      "text/plain": [
       "266"
      ]
     },
     "execution_count": 7,
     "metadata": {},
     "output_type": "execute_result"
    }
   ],
   "source": [
    "sum(y)"
   ]
  },
  {
   "cell_type": "code",
   "execution_count": 8,
   "metadata": {},
   "outputs": [],
   "source": [
    "def sqrt_loss_function(y_true, y_pred):\n",
    "    return tf.sqrt(tf.reduce_mean((y_true - y_pred)**2))"
   ]
  },
  {
   "cell_type": "code",
   "execution_count": 9,
   "metadata": {},
   "outputs": [],
   "source": [
    "X = np.array(X)\n",
    "y = np.array(y)"
   ]
  },
  {
   "cell_type": "code",
   "execution_count": null,
   "metadata": {},
   "outputs": [],
   "source": []
  },
  {
   "cell_type": "code",
   "execution_count": 22,
   "metadata": {},
   "outputs": [],
   "source": [
    "scaler = StandardScaler()\n",
    "y_scale = scaler.fit_transform(y.reshape(-1,1))"
   ]
  },
  {
   "cell_type": "code",
   "execution_count": null,
   "metadata": {},
   "outputs": [],
   "source": []
  },
  {
   "cell_type": "code",
   "execution_count": 10,
   "metadata": {},
   "outputs": [],
   "source": [
    "X_train, X_test, y_train, y_test = train_test_split(X, y, test_size=0.2, random_state=5)"
   ]
  },
  {
   "cell_type": "code",
   "execution_count": 11,
   "metadata": {},
   "outputs": [],
   "source": [
    "X_train, X_val, y_train, y_val = train_test_split(X_train, y_train, test_size=0.25, random_state=1)"
   ]
  },
  {
   "cell_type": "code",
   "execution_count": null,
   "metadata": {},
   "outputs": [],
   "source": []
  },
  {
   "cell_type": "code",
   "execution_count": 12,
   "metadata": {
    "scrolled": true
   },
   "outputs": [
    {
     "name": "stdout",
     "output_type": "stream",
     "text": [
      "Model: \"sequential_1\"\n",
      "_________________________________________________________________\n",
      "Layer (type)                 Output Shape              Param #   \n",
      "=================================================================\n",
      "LSTM_1 (LSTM)                (None, 900, 128)          67584     \n",
      "_________________________________________________________________\n",
      "LSTM_2 (LSTM)                (None, 64)                49408     \n",
      "_________________________________________________________________\n",
      "Fully_connected_1 (Dense)    (None, 10)                650       \n",
      "_________________________________________________________________\n",
      "Fully_connected_2 (Dense)    (None, 1)                 11        \n",
      "=================================================================\n",
      "Total params: 117,653\n",
      "Trainable params: 117,653\n",
      "Non-trainable params: 0\n",
      "_________________________________________________________________\n"
     ]
    }
   ],
   "source": [
    "# create and fit the LSTM network\n",
    "model = Sequential()\n",
    "model.add(LSTM(128, input_shape=(900, 3), return_sequences=True, name = \"LSTM_1\"))\n",
    "model.add(LSTM(64, name = \"LSTM_2\"))\n",
    "\n",
    "model.add(Dense(10, name = \"Fully_connected_1\"))\n",
    "model.add(Dense(1, name = \"Fully_connected_2\"))\n",
    "\n",
    "model.compile(loss=sqrt_loss_function, optimizer = tf.keras.optimizers.RMSprop(0.001))\n",
    "\n",
    "model.summary()"
   ]
  },
  {
   "cell_type": "code",
   "execution_count": 33,
   "metadata": {},
   "outputs": [
    {
     "name": "stdout",
     "output_type": "stream",
     "text": [
      "Model: \"sequential_4\"\n",
      "_________________________________________________________________\n",
      "Layer (type)                 Output Shape              Param #   \n",
      "=================================================================\n",
      "Convolution_1D_1 (Conv1D)    (None, 598, 128)          1280      \n",
      "_________________________________________________________________\n",
      "Convolution_1D_2 (Conv1D)    (None, 596, 64)           24640     \n",
      "_________________________________________________________________\n",
      "MaxPooling_1D_1 (MaxPooling1 (None, 298, 64)           0         \n",
      "_________________________________________________________________\n",
      "Flatten_1 (Flatten)          (None, 19072)             0         \n",
      "_________________________________________________________________\n",
      "Repeat_vector_1 (RepeatVecto (None, 1, 19072)          0         \n",
      "_________________________________________________________________\n",
      "LSTM_1 (LSTM)                (None, 128)               9830912   \n",
      "_________________________________________________________________\n",
      "Fully_connected_1 (Dense)    (None, 10)                1290      \n",
      "_________________________________________________________________\n",
      "Fully_connected_2 (Dense)    (None, 1)                 11        \n",
      "=================================================================\n",
      "Total params: 9,858,133\n",
      "Trainable params: 9,858,133\n",
      "Non-trainable params: 0\n",
      "_________________________________________________________________\n"
     ]
    }
   ],
   "source": [
    "model = Sequential()\n",
    "model.add(Conv1D(filters=128, kernel_size=3, activation='relu', input_shape=(z,3), name=\"Convolution_1D_1\"))\n",
    "model.add(Conv1D(filters=64, kernel_size=3, activation='relu', name=\"Convolution_1D_2\"))\n",
    "model.add(MaxPooling1D(pool_size=2, name=\"MaxPooling_1D_1\"))\n",
    "model.add(Flatten(name=\"Flatten_1\"))\n",
    "model.add(RepeatVector(1, name=\"Repeat_vector_1\"))\n",
    "model.add(LSTM(128, activation='relu', return_sequences=True, name = \"LSTM_1\"))\n",
    "model.add(Dense(10, activation='relu', name = \"Fully_connected_1\"))\n",
    "model.add(Dense(1, name = \"Fully_connected_2\"))\n",
    "\n",
    "model.compile(loss=sqrt_loss_function, optimizer = tf.keras.optimizers.RMSprop(0.001))\n",
    "model.summary()"
   ]
  },
  {
   "cell_type": "code",
   "execution_count": null,
   "metadata": {},
   "outputs": [],
   "source": []
  },
  {
   "cell_type": "code",
   "execution_count": 13,
   "metadata": {},
   "outputs": [],
   "source": [
    "callbacks = [\n",
    "    keras.callbacks.EarlyStopping(\n",
    "        # Stop training when `val_loss` is no longer improving\n",
    "        monitor='val_loss',\n",
    "        # \"no longer improving\" being defined as \"no better than 1e-2 less\"\n",
    "        min_delta=1e-3,\n",
    "        # \"no longer improving\" being further defined as \"for at least 2 epochs\"\n",
    "        patience=2,\n",
    "        verbose=1)\n",
    "]"
   ]
  },
  {
   "cell_type": "code",
   "execution_count": 35,
   "metadata": {
    "scrolled": true
   },
   "outputs": [
    {
     "name": "stdout",
     "output_type": "stream",
     "text": [
      "Train on 51 samples, validate on 17 samples\n",
      "Epoch 1/20\n",
      "51/51 [==============================] - 11s 225ms/step - loss: 0.6593 - accuracy: 0.5490 - val_loss: 0.6231 - val_accuracy: 0.5882\n",
      "Epoch 2/20\n",
      "51/51 [==============================] - 11s 208ms/step - loss: 0.7017 - accuracy: 0.6471 - val_loss: 0.6266 - val_accuracy: 0.4706\n",
      "Epoch 3/20\n",
      "51/51 [==============================] - 12s 226ms/step - loss: 0.5060 - accuracy: 0.7843 - val_loss: 0.6606 - val_accuracy: 0.5882\n",
      "Epoch 00003: early stopping\n"
     ]
    }
   ],
   "source": [
    "history = model.fit(X_train, y_train, epochs=20, validation_data=(X_val, y_val), batch_size=1, callbacks = callbacks, verbose=1)"
   ]
  },
  {
   "cell_type": "code",
   "execution_count": 36,
   "metadata": {},
   "outputs": [
    {
     "name": "stdout",
     "output_type": "stream",
     "text": [
      "\r",
      "17/17 [==============================] - 0s 2ms/step\n"
     ]
    },
    {
     "data": {
      "text/plain": [
       "[0.913830041885376, 0.529411792755127]"
      ]
     },
     "execution_count": 36,
     "metadata": {},
     "output_type": "execute_result"
    }
   ],
   "source": [
    "model.evaluate(X_test, y_test)"
   ]
  },
  {
   "cell_type": "code",
   "execution_count": 37,
   "metadata": {},
   "outputs": [],
   "source": [
    "pred = model.predict(X_test)"
   ]
  },
  {
   "cell_type": "code",
   "execution_count": 18,
   "metadata": {},
   "outputs": [],
   "source": [
    "p = scaler.inverse_transform(pred)"
   ]
  },
  {
   "cell_type": "code",
   "execution_count": 19,
   "metadata": {},
   "outputs": [],
   "source": [
    "t = scaler.inverse_transform(y_test)"
   ]
  },
  {
   "cell_type": "code",
   "execution_count": 20,
   "metadata": {},
   "outputs": [
    {
     "data": {
      "text/plain": [
       "112.37021542937968"
      ]
     },
     "execution_count": 20,
     "metadata": {},
     "output_type": "execute_result"
    }
   ],
   "source": [
    "np.sqrt(mean_squared_error(p.reshape(-1),t))"
   ]
  },
  {
   "cell_type": "code",
   "execution_count": 38,
   "metadata": {
    "scrolled": true
   },
   "outputs": [
    {
     "ename": "NameError",
     "evalue": "name 'p' is not defined",
     "output_type": "error",
     "traceback": [
      "\u001b[1;31m---------------------------------------------------------------------------\u001b[0m",
      "\u001b[1;31mNameError\u001b[0m                                 Traceback (most recent call last)",
      "\u001b[1;32m<ipython-input-38-52640d7cb34f>\u001b[0m in \u001b[0;36m<module>\u001b[1;34m\u001b[0m\n\u001b[1;32m----> 1\u001b[1;33m \u001b[1;32mfor\u001b[0m \u001b[0mu\u001b[0m\u001b[1;33m,\u001b[0m\u001b[0mv\u001b[0m \u001b[1;32min\u001b[0m \u001b[0mzip\u001b[0m\u001b[1;33m(\u001b[0m\u001b[0mp\u001b[0m\u001b[1;33m,\u001b[0m\u001b[0mt\u001b[0m\u001b[1;33m)\u001b[0m\u001b[1;33m:\u001b[0m\u001b[1;33m\u001b[0m\u001b[1;33m\u001b[0m\u001b[0m\n\u001b[0m\u001b[0;32m      2\u001b[0m     \u001b[0mprint\u001b[0m\u001b[1;33m(\u001b[0m\u001b[0mu\u001b[0m\u001b[1;33m,\u001b[0m\u001b[0mv\u001b[0m\u001b[1;33m)\u001b[0m\u001b[1;33m\u001b[0m\u001b[1;33m\u001b[0m\u001b[0m\n",
      "\u001b[1;31mNameError\u001b[0m: name 'p' is not defined"
     ]
    }
   ],
   "source": [
    "for u,v in zip(p,t):\n",
    "    print(u,v)"
   ]
  },
  {
   "cell_type": "code",
   "execution_count": 22,
   "metadata": {},
   "outputs": [
    {
     "data": {
      "text/plain": [
       "89"
      ]
     },
     "execution_count": 22,
     "metadata": {},
     "output_type": "execute_result"
    }
   ],
   "source": [
    "len(t)"
   ]
  },
  {
   "cell_type": "markdown",
   "metadata": {},
   "source": [
    "# classification model"
   ]
  },
  {
   "cell_type": "code",
   "execution_count": 16,
   "metadata": {},
   "outputs": [
    {
     "name": "stdout",
     "output_type": "stream",
     "text": [
      "Model: \"sequential_2\"\n",
      "_________________________________________________________________\n",
      "Layer (type)                 Output Shape              Param #   \n",
      "=================================================================\n",
      "LSTM_1 (LSTM)                (None, 600, 128)          67584     \n",
      "_________________________________________________________________\n",
      "LSTM_2 (LSTM)                (None, 64)                49408     \n",
      "_________________________________________________________________\n",
      "Fully_connected_2 (Dense)    (None, 1)                 65        \n",
      "=================================================================\n",
      "Total params: 117,057\n",
      "Trainable params: 117,057\n",
      "Non-trainable params: 0\n",
      "_________________________________________________________________\n"
     ]
    }
   ],
   "source": [
    "# create and fit the LSTM network\n",
    "model = Sequential()\n",
    "model.add(LSTM(128, input_shape=(600, 3), return_sequences=True, name = \"LSTM_1\"))\n",
    "model.add(LSTM(64, name = \"LSTM_2\"))\n",
    "\n",
    "# model.add(Dense(10, name = \"Fully_connected_1\"))\n",
    "model.add(Dense(1, activation=\"sigmoid\", name = \"Fully_connected_2\"))\n",
    "\n",
    "model.compile(optimizer ='adam',loss='binary_crossentropy', metrics =['accuracy'])\n",
    "\n",
    "model.summary()"
   ]
  },
  {
   "cell_type": "code",
   "execution_count": 24,
   "metadata": {},
   "outputs": [
    {
     "name": "stdout",
     "output_type": "stream",
     "text": [
      "Model: \"sequential_3\"\n",
      "_________________________________________________________________\n",
      "Layer (type)                 Output Shape              Param #   \n",
      "=================================================================\n",
      "Convolution_1D_1 (Conv1D)    (None, 598, 200)          2000      \n",
      "_________________________________________________________________\n",
      "MaxPooling_1D_1 (MaxPooling1 (None, 299, 200)          0         \n",
      "_________________________________________________________________\n",
      "Flatten_1 (Flatten)          (None, 59800)             0         \n",
      "_________________________________________________________________\n",
      "Repeat_vector_1 (RepeatVecto (None, 1, 59800)          0         \n",
      "_________________________________________________________________\n",
      "LSTM_2 (LSTM)                (None, 100)               23960400  \n",
      "_________________________________________________________________\n",
      "Fully_connected_2 (Dense)    (None, 100)               10100     \n",
      "_________________________________________________________________\n",
      "Fully_connected_3 (Dense)    (None, 1)                 101       \n",
      "=================================================================\n",
      "Total params: 23,972,601\n",
      "Trainable params: 23,972,601\n",
      "Non-trainable params: 0\n",
      "_________________________________________________________________\n"
     ]
    }
   ],
   "source": [
    "model = Sequential()\n",
    "model.add(Conv1D(filters=200, kernel_size=3, activation='relu', input_shape=(600,3), name=\"Convolution_1D_1\"))\n",
    "# model.add(Conv1D(filters=128, kernel_size=3, activation='relu', name=\"Convolution_1D_2\"))\n",
    "model.add(MaxPooling1D(pool_size=2, name=\"MaxPooling_1D_1\"))\n",
    "model.add(Flatten(name=\"Flatten_1\"))\n",
    "model.add(RepeatVector(1, name=\"Repeat_vector_1\"))\n",
    "# model.add(LSTM(128, activation='relu', return_sequences=True, name = \"LSTM_1\"))\n",
    "model.add(LSTM(100, activation='relu', name = \"LSTM_2\"))\n",
    "\n",
    "# model.add(Dense(100, activation='relu', name = \"Fully_connected_1\"))\n",
    "model.add(Dense(100, activation='relu', name = \"Fully_connected_2\"))\n",
    "\n",
    "model.add(Dense(1, activation='sigmoid', name = \"Fully_connected_3\"))\n",
    "\n",
    "model.compile(optimizer ='adam',loss='binary_crossentropy', metrics =['accuracy'])\n",
    "\n",
    "model.summary()"
   ]
  },
  {
   "cell_type": "code",
   "execution_count": 25,
   "metadata": {},
   "outputs": [
    {
     "name": "stdout",
     "output_type": "stream",
     "text": [
      "Train on 273 samples, validate on 92 samples\n",
      "Epoch 1/20\n",
      "273/273 [==============================] - 6s 23ms/step - loss: 0.7974 - accuracy: 0.5128 - val_loss: 0.7494 - val_accuracy: 0.5217\n",
      "Epoch 2/20\n",
      "273/273 [==============================] - 6s 21ms/step - loss: 0.5758 - accuracy: 0.6960 - val_loss: 0.8628 - val_accuracy: 0.5109\n",
      "Epoch 3/20\n",
      "273/273 [==============================] - 6s 20ms/step - loss: 0.4534 - accuracy: 0.7692 - val_loss: 0.8025 - val_accuracy: 0.5978\n",
      "Epoch 00003: early stopping\n"
     ]
    }
   ],
   "source": [
    "history = model.fit(X_train, y_train, epochs=20, validation_data=(X_val, y_val), batch_size=32, callbacks = callbacks, verbose=1)"
   ]
  },
  {
   "cell_type": "code",
   "execution_count": 26,
   "metadata": {},
   "outputs": [],
   "source": [
    "prob = model.predict(X_test)"
   ]
  },
  {
   "cell_type": "code",
   "execution_count": 1,
   "metadata": {},
   "outputs": [
    {
     "ename": "NameError",
     "evalue": "name 'prob' is not defined",
     "output_type": "error",
     "traceback": [
      "\u001b[1;31m---------------------------------------------------------------------------\u001b[0m",
      "\u001b[1;31mNameError\u001b[0m                                 Traceback (most recent call last)",
      "\u001b[1;32m~\\AppData\\Local\\Temp/ipykernel_10552/1085545036.py\u001b[0m in \u001b[0;36m<module>\u001b[1;34m\u001b[0m\n\u001b[1;32m----> 1\u001b[1;33m \u001b[0mprob\u001b[0m\u001b[1;33m\u001b[0m\u001b[1;33m\u001b[0m\u001b[0m\n\u001b[0m",
      "\u001b[1;31mNameError\u001b[0m: name 'prob' is not defined"
     ]
    }
   ],
   "source": [
    "prob"
   ]
  },
  {
   "cell_type": "code",
   "execution_count": 27,
   "metadata": {},
   "outputs": [],
   "source": [
    "thresh = 0.5\n",
    "\n",
    "pred = []\n",
    "for v in prob:\n",
    "    if v > thresh:\n",
    "        pred.append(1)\n",
    "    else:\n",
    "        pred.append(0)"
   ]
  },
  {
   "cell_type": "code",
   "execution_count": null,
   "metadata": {},
   "outputs": [],
   "source": []
  },
  {
   "cell_type": "code",
   "execution_count": 28,
   "metadata": {},
   "outputs": [],
   "source": [
    "# prob"
   ]
  },
  {
   "cell_type": "code",
   "execution_count": 29,
   "metadata": {},
   "outputs": [
    {
     "name": "stdout",
     "output_type": "stream",
     "text": [
      "1 1 [0.8817761]\n",
      "1 0 [0.52432024]\n",
      "0 1 [0.1819345]\n",
      "1 1 [0.9212487]\n",
      "1 1 [0.5834781]\n",
      "1 0 [0.65762395]\n",
      "1 1 [0.9602155]\n",
      "0 1 [0.15185118]\n",
      "1 1 [0.7170392]\n",
      "1 0 [0.544924]\n",
      "1 0 [0.84624684]\n",
      "1 1 [0.91618407]\n",
      "1 1 [0.99895716]\n",
      "1 0 [0.67003673]\n",
      "1 1 [0.6024354]\n",
      "1 1 [0.992162]\n",
      "1 1 [0.9341528]\n",
      "1 0 [0.5717106]\n",
      "1 0 [0.8127475]\n",
      "1 0 [0.610448]\n",
      "1 1 [0.88520926]\n",
      "1 0 [0.9267588]\n",
      "0 1 [0.323517]\n",
      "1 0 [0.63909256]\n",
      "1 1 [0.95496136]\n",
      "1 0 [0.93067265]\n",
      "1 0 [0.75693667]\n",
      "1 0 [0.939924]\n",
      "1 1 [0.9514601]\n",
      "0 1 [0.32093677]\n",
      "1 1 [0.6276399]\n",
      "1 1 [0.9922619]\n",
      "1 1 [0.99549294]\n",
      "0 1 [0.16066366]\n",
      "1 1 [0.758509]\n",
      "0 0 [0.2493594]\n",
      "0 1 [0.3883038]\n",
      "0 0 [0.28719753]\n",
      "1 1 [0.50960296]\n",
      "0 0 [0.44962814]\n",
      "1 1 [0.88308346]\n",
      "1 0 [0.8301594]\n",
      "0 1 [0.4572416]\n",
      "1 1 [0.9371617]\n",
      "0 1 [0.35862622]\n",
      "1 1 [0.65691465]\n",
      "0 1 [0.39484733]\n",
      "0 1 [0.49835265]\n",
      "0 1 [0.22887754]\n",
      "1 0 [0.9508226]\n",
      "1 0 [0.8132982]\n",
      "1 1 [0.65852576]\n",
      "0 0 [0.49839276]\n",
      "1 1 [0.64068085]\n",
      "1 0 [0.85552573]\n",
      "1 0 [0.61888504]\n",
      "0 0 [0.33016577]\n",
      "0 1 [0.45093572]\n",
      "0 1 [0.42382315]\n",
      "1 0 [0.72483236]\n",
      "1 1 [0.7274851]\n",
      "1 0 [0.76301336]\n",
      "1 1 [0.5698889]\n",
      "0 0 [0.36044693]\n",
      "1 0 [0.9007453]\n",
      "1 1 [0.7962311]\n",
      "1 0 [0.65898204]\n",
      "1 1 [0.5114645]\n",
      "1 1 [0.8318504]\n",
      "0 0 [0.49704507]\n",
      "1 1 [0.96043104]\n",
      "0 0 [0.23002735]\n",
      "1 0 [0.50975984]\n",
      "0 1 [0.27009428]\n",
      "1 1 [0.7378869]\n",
      "1 1 [0.60004526]\n",
      "0 1 [0.33070135]\n",
      "0 0 [0.11344746]\n",
      "1 0 [0.7010973]\n",
      "0 1 [0.43720496]\n",
      "1 0 [0.602645]\n",
      "1 1 [0.8340417]\n",
      "1 1 [0.97897935]\n",
      "1 1 [0.51408637]\n",
      "1 0 [0.84853804]\n",
      "1 1 [0.8016052]\n",
      "1 0 [0.85688186]\n",
      "0 1 [0.41033447]\n",
      "0 1 [0.35109636]\n",
      "0 1 [0.34011668]\n",
      "1 0 [0.6285757]\n",
      "1 1 [0.59893656]\n"
     ]
    }
   ],
   "source": [
    "for u,v,p in zip(pred,y_test,prob):\n",
    "    print(u,v,p)"
   ]
  },
  {
   "cell_type": "code",
   "execution_count": 30,
   "metadata": {},
   "outputs": [
    {
     "name": "stdout",
     "output_type": "stream",
     "text": [
      "              precision    recall  f1-score   support\n",
      "\n",
      "     group 1       0.32      0.24      0.28        37\n",
      "     group 2       0.56      0.65      0.61        55\n",
      "\n",
      "    accuracy                           0.49        92\n",
      "   macro avg       0.44      0.45      0.44        92\n",
      "weighted avg       0.47      0.49      0.47        92\n",
      "\n"
     ]
    }
   ],
   "source": [
    "from sklearn.metrics import classification_report\n",
    "target_names = ['group 1', 'group 2']\n",
    "print(classification_report(y_test, pred, target_names=target_names))"
   ]
  },
  {
   "cell_type": "code",
   "execution_count": 32,
   "metadata": {},
   "outputs": [
    {
     "data": {
      "image/png": "[encoded data removed]",
      "text/plain": [
       "<Figure size 432x288 with 1 Axes>"
      ]
     },
     "metadata": {
      "needs_background": "light"
     },
     "output_type": "display_data"
    }
   ],
   "source": [
    "\n",
    "plt.plot(, label=\"predict\")\n",
    "plt.plot(prob, label=\"actual\")\n",
    "plt.legend(loc='upper right')\n",
    "plt.show()"
   ]
  },
  {
   "cell_type": "code",
   "execution_count": null,
   "metadata": {},
   "outputs": [],
   "source": []
  },
  {
   "cell_type": "code",
   "execution_count": null,
   "metadata": {},
   "outputs": [],
   "source": []
  }
 ],
 "metadata": {
  "kernelspec": {
   "display_name": "Python 3 (ipykernel)",
   "language": "python",
   "name": "python3"
  },
  "language_info": {
   "codemirror_mode": {
    "name": "ipython",
    "version": 3
   },
   "file_extension": ".py",
   "mimetype": "text/x-python",
   "name": "python",
   "nbconvert_exporter": "python",
   "pygments_lexer": "ipython3",
   "version": "3.7.11"
  }
 },
 "nbformat": 4,
 "nbformat_minor": 4
}
