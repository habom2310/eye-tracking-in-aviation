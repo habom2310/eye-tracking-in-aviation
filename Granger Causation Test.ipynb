{
 "cells": [
  {
   "cell_type": "code",
   "execution_count": 1,
   "id": "8b84c35b",
   "metadata": {},
   "outputs": [],
   "source": [
    "from mongo_connection import Mongo_connection\n",
    "import numpy as np\n",
    "import pandas as pd\n",
    "import pair_transition_analysis\n",
    "import granger_causation_test\n",
    "from matplotlib import pyplot as plt"
   ]
  },
  {
   "cell_type": "code",
   "execution_count": 2,
   "id": "6fc745e2",
   "metadata": {},
   "outputs": [
    {
     "name": "stdout",
     "output_type": "stream",
     "text": [
      "[INFO] Created a mongodb instance.\n",
      "[INFO] Currently connected to eye_tracking_db/fixation_sequences.\n",
      "[INFO] Found 66 documents.\n"
     ]
    }
   ],
   "source": [
    "mongo = Mongo_connection()\n",
    "mongo.connect()"
   ]
  },
  {
   "cell_type": "code",
   "execution_count": null,
   "id": "6fbdcb02",
   "metadata": {},
   "outputs": [],
   "source": [
    "pID = \"002\"\n",
    "trial = 2\n",
    "document = mongo.find_one({\"pID\": pID, \"trial\": trial})"
   ]
  },
  {
   "cell_type": "code",
   "execution_count": 3,
   "id": "0ec5b98e",
   "metadata": {},
   "outputs": [
    {
     "name": "stdout",
     "output_type": "stream",
     "text": [
      "        roi1     roi2 lag   pval\n",
      "0     runway  rpmleft   0  0.036\n",
      "2     runway  rpmleft   2  0.009\n",
      "3     runway  rpmleft   3  0.020\n",
      "4     runway  rpmleft   4  0.005\n",
      "5     runway  rpmleft   5  0.009\n",
      "..       ...      ...  ..    ...\n",
      "345  unknown     nrst   5  0.000\n",
      "346  unknown     nrst   6  0.000\n",
      "347  unknown     nrst   7  0.000\n",
      "348  unknown     nrst   8  0.000\n",
      "349  unknown     nrst   9  0.000\n",
      "\n",
      "[123 rows x 4 columns]\n"
     ]
    }
   ],
   "source": [
    "d_data = document[\"data\"]\n",
    "df_data = pd.DataFrame(d_data)\n",
    "\n",
    "sr = 10\n",
    "signal = granger_causation_test.create_signal_from_transitions(df_data, sr)\n",
    "\n",
    "df_granger = granger_causation_test.granger_causality_test(signal)\n",
    "\n",
    "print(df_granger[df_granger[\"pval\"] < 0.05])"
   ]
  },
  {
   "cell_type": "code",
   "execution_count": 20,
   "id": "90f1b13b",
   "metadata": {},
   "outputs": [],
   "source": [
    "metadata = {\n",
    "    \"pID\": pID,\n",
    "    \"trial\": trial,\n",
    "    \"sr\": sr\n",
    "}"
   ]
  },
  {
   "cell_type": "code",
   "execution_count": 28,
   "id": "acb47359",
   "metadata": {},
   "outputs": [],
   "source": [
    "from statsmodels.tsa.stattools import grangercausalitytests, adfuller, kpss\n",
    "\n",
    "def run_adf_kpss_test(signals_from_transitions):\n",
    "    lroi = []\n",
    "    lstat = []\n",
    "    lpval = []\n",
    "    lnlag = []\n",
    "    lcritval = []\n",
    "    ltesttype = []\n",
    "\n",
    "    for k, v in signals_from_transitions.items():\n",
    "        signal = v\n",
    "        adf_result = adfuller(signal)\n",
    "        lroi.append(k)\n",
    "        ltesttype.append(\"adf\")\n",
    "        lstat.append(adf_result[0])\n",
    "        lpval.append(round(adf_result[1],3))\n",
    "        lnlag.append(adf_result[2])\n",
    "        lcritval.append(adf_result[4])\n",
    "\n",
    "        kpss_result = kpss(signal, nlags=\"auto\")\n",
    "        lroi.append(k)\n",
    "        ltesttype.append(\"kpss\")\n",
    "        lstat.append(kpss_result[0])\n",
    "        lpval.append(round(kpss_result[1],3))\n",
    "        lnlag.append(kpss_result[2])\n",
    "        lcritval.append(kpss_result[3])\n",
    "    \n",
    "    df_test = pd.DataFrame({\"roi\": lroi,\n",
    "                            \"test_type\": ltesttype,\n",
    "                            \"stat_val\": lstat,\n",
    "                            \"pval\": lpval,\n",
    "                            \"nlag\": lnlag,\n",
    "                            \"crit_val\": lcritval})\n",
    "\n",
    "    return df_test"
   ]
  },
  {
   "cell_type": "code",
   "execution_count": 54,
   "id": "a937c48a",
   "metadata": {},
   "outputs": [],
   "source": [
    "df_data = pd.DataFrame(signal)\n",
    "variables = df_data.columns"
   ]
  },
  {
   "cell_type": "code",
   "execution_count": 55,
   "id": "b5ca1319",
   "metadata": {},
   "outputs": [],
   "source": [
    "# split data into train and test. We will need this later for VAR analysis\n",
    "msk = np.random.rand(len(df_data)) < 0.8\n",
    "train = df_data[msk]\n",
    "test = df_data[~msk]"
   ]
  },
  {
   "cell_type": "code",
   "execution_count": 50,
   "id": "5ac78156",
   "metadata": {},
   "outputs": [],
   "source": [
    "from statsmodels.tsa.api import VAR\n",
    "from statsmodels.tools.eval_measures import rmse, aic"
   ]
  },
  {
   "cell_type": "code",
   "execution_count": 51,
   "id": "ffa70def",
   "metadata": {},
   "outputs": [
    {
     "name": "stdout",
     "output_type": "stream",
     "text": [
      "Lag Order = 1\n",
      "AIC :  -30.552298327008575\n",
      "BIC :  -30.35689516057881\n",
      "FPE :  5.3864882644864396e-14\n",
      "HQIC:  -30.479570932446023 \n",
      "\n",
      "Lag Order = 2\n",
      "AIC :  -30.72201282579884\n",
      "BIC :  -30.355436969840778\n",
      "FPE :  4.545705312452558e-14\n",
      "HQIC:  -30.585571939593585 \n",
      "\n",
      "Lag Order = 3\n",
      "AIC :  -30.847746779235155\n",
      "BIC :  -30.30981597803985\n",
      "FPE :  4.0086659604443134e-14\n",
      "HQIC:  -30.64752038011131 \n",
      "\n",
      "Lag Order = 4\n",
      "AIC :  -30.973197572401062\n",
      "BIC :  -30.26372925313849\n",
      "FPE :  3.5361049616912106e-14\n",
      "HQIC:  -30.709113510242908 \n",
      "\n",
      "Lag Order = 5\n",
      "AIC :  -30.968344554938664\n",
      "BIC :  -30.087155826897888\n",
      "FPE :  3.553412038565787e-14\n",
      "HQIC:  -30.64033055047671 \n",
      "\n",
      "Lag Order = 6\n",
      "AIC :  -31.004619118470835\n",
      "BIC :  -29.951526772297857\n",
      "FPE :  3.426972654677634e-14\n",
      "HQIC:  -30.61260276296687 \n",
      "\n",
      "Lag Order = 7\n",
      "AIC :  -31.062261474951196\n",
      "BIC :  -29.837081981884463\n",
      "FPE :  3.2352150005266196e-14\n",
      "HQIC:  -30.606170229882398 \n",
      "\n",
      "Lag Order = 8\n",
      "AIC :  -31.072180670042638\n",
      "BIC :  -29.674730181146213\n",
      "FPE :  3.203539997939335e-14\n",
      "HQIC:  -30.551941866784677 \n",
      "\n",
      "Lag Order = 9\n",
      "AIC :  -31.049048657097998\n",
      "BIC :  -29.479143002492428\n",
      "FPE :  3.278845458042781e-14\n",
      "HQIC:  -30.46458949660719 \n",
      "\n",
      "Lag Order = 10\n",
      "AIC :  -31.116312751972295\n",
      "BIC :  -29.373767440063077\n",
      "FPE :  3.065944644454407e-14\n",
      "HQIC:  -30.467560304466755 \n",
      "\n",
      "Lag Order = 11\n",
      "AIC :  -31.099409857826146\n",
      "BIC :  -29.18404007452987\n",
      "FPE :  3.1186978322254267e-14\n",
      "HQIC:  -30.38629106246596 \n",
      "\n",
      "Lag Order = 12\n",
      "AIC :  -31.077639747326046\n",
      "BIC :  -28.989260355294153\n",
      "FPE :  3.1879371168473816e-14\n",
      "HQIC:  -30.300081411892464 \n",
      "\n"
     ]
    }
   ],
   "source": [
    "model = VAR(df_data) #recall that rawData is w/o difference operation\n",
    "for i in [1,2,3,4,5,6,7,8,9,10,11,12]:\n",
    "    result = model.fit(i)\n",
    "    try:\n",
    "        print('Lag Order =', i)\n",
    "        print('AIC : ', result.aic)\n",
    "        print('BIC : ', result.bic)\n",
    "        print('FPE : ', result.fpe)\n",
    "        print('HQIC: ', result.hqic, '\\n')\n",
    "    except:\n",
    "        continue"
   ]
  },
  {
   "cell_type": "code",
   "execution_count": 56,
   "id": "840b432f",
   "metadata": {},
   "outputs": [
    {
     "name": "stderr",
     "output_type": "stream",
     "text": [
      "c:\\users\\work\\anaconda3\\envs\\kia\\lib\\site-packages\\statsmodels\\tsa\\base\\tsa_model.py:579: ValueWarning: An unsupported index was provided and will be ignored when e.g. forecasting.\n",
      "  ' ignored when e.g. forecasting.', ValueWarning)\n"
     ]
    }
   ],
   "source": [
    "# Lag Order = 10\n",
    "# FPE :  3.065944644454407e-14\n",
    "\n",
    "model = VAR(train)\n",
    "model_fitted = model.fit(10)"
   ]
  },
  {
   "cell_type": "code",
   "execution_count": 58,
   "id": "9af46e39",
   "metadata": {},
   "outputs": [
    {
     "name": "stdout",
     "output_type": "stream",
     "text": [
      "unknown : 1.96\n",
      "runway : 2.0\n",
      "hsi : 1.98\n",
      "nrst : 2.02\n",
      "asi : 2.0\n",
      "rpmleft : 2.0\n",
      "alt : 2.01\n"
     ]
    }
   ],
   "source": [
    "from statsmodels.stats.stattools import durbin_watson\n",
    "out = durbin_watson(model_fitted.resid)\n",
    "\n",
    "for col, val in zip(df_data.columns, out):\n",
    "    print(col, ':', round(val, 2))"
   ]
  },
  {
   "cell_type": "code",
   "execution_count": 59,
   "id": "5061ce2f",
   "metadata": {},
   "outputs": [
    {
     "name": "stdout",
     "output_type": "stream",
     "text": [
      "(-5.949862100334587, 2.0810372613706883e-06, array([-3.90362183, -3.34013168, -3.04722682]))\n"
     ]
    }
   ],
   "source": [
    "import statsmodels.tsa.stattools as ts \n",
    "result=ts.coint(df_data['runway'], df_data['asi'])\n",
    "print(result)"
   ]
  },
  {
   "cell_type": "code",
   "execution_count": 60,
   "id": "72781748",
   "metadata": {},
   "outputs": [],
   "source": [
    "lag_order = model_fitted.k_ar"
   ]
  },
  {
   "cell_type": "code",
   "execution_count": null,
   "id": "5ce431de",
   "metadata": {},
   "outputs": [],
   "source": []
  },
  {
   "cell_type": "code",
   "execution_count": 62,
   "id": "05669d1a",
   "metadata": {},
   "outputs": [],
   "source": [
    "test = 'ssr_chi2test'\n",
    "maxlag = lag_order\n",
    "def grangers_causation_matrix(data, variables, test='ssr_chi2test', verbose=False):    \n",
    "    \"\"\"Check Granger Causality of all possible combinations of the Time series.\n",
    "    The rows are the response variable, columns are predictors. The values in the table \n",
    "    are the P-Values. P-Values lesser than the significance level (0.05), implies \n",
    "    the Null Hypothesis that the coefficients of the corresponding past values is \n",
    "    zero, that is, the X does not cause Y can be rejected.\n",
    "\n",
    "    data      : pandas dataframe containing the time series variables\n",
    "    variables : list containing names of the time series variables.\n",
    "    \"\"\"\n",
    "    df = pd.DataFrame(np.zeros((len(variables), len(variables))), columns=variables, index=variables)\n",
    "    for c in df.columns:\n",
    "        for r in df.index:\n",
    "            test_result = grangercausalitytests(data[[r, c]], maxlag=maxlag, verbose=False)\n",
    "            p_values = [round(test_result[i+1][0][test][1],4) for i in range(maxlag)]\n",
    "            if verbose: print(f'Y = {r}, X = {c}, P Values = {p_values}')\n",
    "            min_p_value = np.min(p_values)\n",
    "            df.loc[r, c] = min_p_value\n",
    "    df.columns = [var + '_x' for var in variables]\n",
    "    df.index = [var + '_y' for var in variables]\n",
    "    return df\n"
   ]
  },
  {
   "cell_type": "code",
   "execution_count": 63,
   "id": "7b3db91b",
   "metadata": {},
   "outputs": [
    {
     "name": "stderr",
     "output_type": "stream",
     "text": [
      "c:\\users\\work\\anaconda3\\envs\\kia\\lib\\site-packages\\statsmodels\\base\\model.py:1834: ValueWarning: covariance of constraints does not have full rank. The number of constraints is 4, but rank is 2\n",
      "  'rank is %d' % (J, J_), ValueWarning)\n",
      "c:\\users\\work\\anaconda3\\envs\\kia\\lib\\site-packages\\statsmodels\\base\\model.py:1834: ValueWarning: covariance of constraints does not have full rank. The number of constraints is 5, but rank is 2\n",
      "  'rank is %d' % (J, J_), ValueWarning)\n"
     ]
    },
    {
     "data": {
      "text/html": [
       "<div>\n",
       "<style scoped>\n",
       "    .dataframe tbody tr th:only-of-type {\n",
       "        vertical-align: middle;\n",
       "    }\n",
       "\n",
       "    .dataframe tbody tr th {\n",
       "        vertical-align: top;\n",
       "    }\n",
       "\n",
       "    .dataframe thead th {\n",
       "        text-align: right;\n",
       "    }\n",
       "</style>\n",
       "<table border=\"1\" class=\"dataframe\">\n",
       "  <thead>\n",
       "    <tr style=\"text-align: right;\">\n",
       "      <th></th>\n",
       "      <th>unknown_x</th>\n",
       "      <th>runway_x</th>\n",
       "      <th>hsi_x</th>\n",
       "      <th>nrst_x</th>\n",
       "      <th>asi_x</th>\n",
       "      <th>rpmleft_x</th>\n",
       "      <th>alt_x</th>\n",
       "    </tr>\n",
       "  </thead>\n",
       "  <tbody>\n",
       "    <tr>\n",
       "      <th>unknown_y</th>\n",
       "      <td>1.0000</td>\n",
       "      <td>0.2595</td>\n",
       "      <td>0.9469</td>\n",
       "      <td>0.0000</td>\n",
       "      <td>0.0434</td>\n",
       "      <td>0.8468</td>\n",
       "      <td>0.2864</td>\n",
       "    </tr>\n",
       "    <tr>\n",
       "      <th>runway_y</th>\n",
       "      <td>0.0620</td>\n",
       "      <td>1.0000</td>\n",
       "      <td>0.2414</td>\n",
       "      <td>0.0048</td>\n",
       "      <td>0.0000</td>\n",
       "      <td>0.0021</td>\n",
       "      <td>0.0000</td>\n",
       "    </tr>\n",
       "    <tr>\n",
       "      <th>hsi_y</th>\n",
       "      <td>0.9288</td>\n",
       "      <td>0.0593</td>\n",
       "      <td>1.0000</td>\n",
       "      <td>0.8682</td>\n",
       "      <td>0.7186</td>\n",
       "      <td>0.8413</td>\n",
       "      <td>0.1666</td>\n",
       "    </tr>\n",
       "    <tr>\n",
       "      <th>nrst_y</th>\n",
       "      <td>0.0000</td>\n",
       "      <td>0.0463</td>\n",
       "      <td>0.9072</td>\n",
       "      <td>1.0000</td>\n",
       "      <td>0.5425</td>\n",
       "      <td>0.1033</td>\n",
       "      <td>0.0022</td>\n",
       "    </tr>\n",
       "    <tr>\n",
       "      <th>asi_y</th>\n",
       "      <td>0.1348</td>\n",
       "      <td>0.0000</td>\n",
       "      <td>0.1727</td>\n",
       "      <td>0.3972</td>\n",
       "      <td>1.0000</td>\n",
       "      <td>0.0018</td>\n",
       "      <td>0.0002</td>\n",
       "    </tr>\n",
       "    <tr>\n",
       "      <th>rpmleft_y</th>\n",
       "      <td>0.8180</td>\n",
       "      <td>0.0022</td>\n",
       "      <td>0.8587</td>\n",
       "      <td>0.2099</td>\n",
       "      <td>0.0000</td>\n",
       "      <td>1.0000</td>\n",
       "      <td>0.3558</td>\n",
       "    </tr>\n",
       "    <tr>\n",
       "      <th>alt_y</th>\n",
       "      <td>0.6967</td>\n",
       "      <td>0.0000</td>\n",
       "      <td>0.0337</td>\n",
       "      <td>0.4683</td>\n",
       "      <td>0.0000</td>\n",
       "      <td>0.3812</td>\n",
       "      <td>1.0000</td>\n",
       "    </tr>\n",
       "  </tbody>\n",
       "</table>\n",
       "</div>"
      ],
      "text/plain": [
       "           unknown_x  runway_x   hsi_x  nrst_x   asi_x  rpmleft_x   alt_x\n",
       "unknown_y     1.0000    0.2595  0.9469  0.0000  0.0434     0.8468  0.2864\n",
       "runway_y      0.0620    1.0000  0.2414  0.0048  0.0000     0.0021  0.0000\n",
       "hsi_y         0.9288    0.0593  1.0000  0.8682  0.7186     0.8413  0.1666\n",
       "nrst_y        0.0000    0.0463  0.9072  1.0000  0.5425     0.1033  0.0022\n",
       "asi_y         0.1348    0.0000  0.1727  0.3972  1.0000     0.0018  0.0002\n",
       "rpmleft_y     0.8180    0.0022  0.8587  0.2099  0.0000     1.0000  0.3558\n",
       "alt_y         0.6967    0.0000  0.0337  0.4683  0.0000     0.3812  1.0000"
      ]
     },
     "execution_count": 63,
     "metadata": {},
     "output_type": "execute_result"
    }
   ],
   "source": [
    "grangers_causation_matrix(df_data, variables)"
   ]
  },
  {
   "cell_type": "code",
   "execution_count": null,
   "id": "2ba2f615",
   "metadata": {},
   "outputs": [],
   "source": []
  },
  {
   "cell_type": "code",
   "execution_count": 30,
   "id": "5cc1d892",
   "metadata": {},
   "outputs": [],
   "source": [
    "def draw_signals(signal, rois, metadata):\n",
    "    \"\"\"\n",
    "    signal: return from granger_causation_test.create_signal_from_transitions\n",
    "    rois: 2 rois that you want to draw together.\"\"\"\n",
    "    fig, ax = plt.subplots(figsize=(15,8))\n",
    "    ax.plot(signal[rois[0]], label=rois[0])\n",
    "    ax.plot(signal[rois[1]], label=rois[1])\n",
    "    ax.set_xlabel(f\"time (sampling rate = {metadata['sr']} Hz)\")\n",
    "    ax.legend()\n",
    "    plt.title(\"gaze signal\")"
   ]
  },
  {
   "cell_type": "code",
   "execution_count": null,
   "id": "9c53f30b",
   "metadata": {},
   "outputs": [],
   "source": []
  },
  {
   "cell_type": "code",
   "execution_count": 31,
   "id": "e27c85a0",
   "metadata": {},
   "outputs": [
    {
     "data": {
      "image/png": "[encoded data removed]",
      "text/plain": [
       "<Figure size 1080x576 with 1 Axes>"
      ]
     },
     "metadata": {
      "needs_background": "light"
     },
     "output_type": "display_data"
    }
   ],
   "source": [
    "draw_signals(signal, [\"rpmleft\", \"alt\"], metadata)"
   ]
  },
  {
   "cell_type": "code",
   "execution_count": null,
   "id": "c01723d9",
   "metadata": {},
   "outputs": [],
   "source": []
  }
 ],
 "metadata": {
  "kernelspec": {
   "display_name": "Python 3 (ipykernel)",
   "language": "python",
   "name": "python3"
  },
  "language_info": {
   "codemirror_mode": {
    "name": "ipython",
    "version": 3
   },
   "file_extension": ".py",
   "mimetype": "text/x-python",
   "name": "python",
   "nbconvert_exporter": "python",
   "pygments_lexer": "ipython3",
   "version": "3.7.11"
  }
 },
 "nbformat": 4,
 "nbformat_minor": 5
}
