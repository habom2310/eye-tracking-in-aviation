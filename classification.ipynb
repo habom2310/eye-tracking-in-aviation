{
 "cells": [
  {
   "cell_type": "code",
   "execution_count": 1,
   "metadata": {},
   "outputs": [],
   "source": [
    "import pandas as pd\n",
    "import numpy as np\n",
    "import pygaze\n",
    "import matplotlib.pyplot as plt\n",
    "import matplotlib.image as mpimg\n",
    "import seaborn as sns\n",
    "import scipy\n",
    "import glob\n",
    "from tqdm import tqdm\n",
    "from sklearn.cluster import DBSCAN\n",
    "import detectors\n",
    "import gazeplotter\n",
    "from collections import defaultdict\n",
    "# import local lib\n",
    "import eye_metrics_utils\n",
    "import data_utils\n",
    "import gaze_entropy"
   ]
  },
  {
   "cell_type": "code",
   "execution_count": 2,
   "metadata": {},
   "outputs": [],
   "source": [
    "import warnings\n",
    "# warnings.filterwarnings(action='once')\n",
    "warnings.filterwarnings('ignore')"
   ]
  },
  {
   "cell_type": "code",
   "execution_count": 3,
   "metadata": {},
   "outputs": [],
   "source": [
    "def run_all(df_data):\n",
    "    df_x = df_data.copy()\n",
    "    if (data_utils.check_percentage_null(df_x) < 0.3): # if missing value > 30%, remove\n",
    "        return None\n",
    "    \n",
    "    time = np.array(df_data['Start Time (secs)'].tolist())\n",
    "\n",
    "    Efix = eye_metrics_utils.detect_fixations(df_x)\n",
    "    Eblk = eye_metrics_utils.detect_blinks(df_x)\n",
    "    Esac = eye_metrics_utils.detect_saccades(df_x)\n",
    "    Emsac = eye_metrics_utils.detect_microsaccades(df_x)\n",
    "#     print(Efix)\n",
    "    X = np.array(Efix).T[3:].T\n",
    "    Hs, Ht = gaze_entropy.entropy(X)\n",
    "    total_time = time[-1] - time[0]\n",
    "    \n",
    "    return Efix, Hs, Ht, total_time, Eblk, Esac, Emsac\n",
    "    "
   ]
  },
  {
   "cell_type": "code",
   "execution_count": 4,
   "metadata": {},
   "outputs": [],
   "source": [
    "csv_files = glob.glob(\"data/*.csv\")"
   ]
  },
  {
   "cell_type": "code",
   "execution_count": 5,
   "metadata": {},
   "outputs": [],
   "source": [
    "csv_files_one = [v for v in csv_files if \"One Gaze-Vergence\" in v]\n",
    "csv_files_two = [v for v in csv_files if \"Two Gaze-Vergence\" in v]\n",
    "csv_files_three = [v for v in csv_files if \"Three Go-Around Gaze-Vergence\" in v]"
   ]
  },
  {
   "cell_type": "code",
   "execution_count": null,
   "metadata": {},
   "outputs": [],
   "source": []
  },
  {
   "cell_type": "markdown",
   "metadata": {},
   "source": [
    "# classification"
   ]
  },
  {
   "cell_type": "code",
   "execution_count": 6,
   "metadata": {},
   "outputs": [
    {
     "data": {
      "text/plain": [
       "[['032',\n",
       "  '027',\n",
       "  '031',\n",
       "  '028',\n",
       "  '004',\n",
       "  '008',\n",
       "  '010',\n",
       "  '029',\n",
       "  '003',\n",
       "  '007',\n",
       "  '023',\n",
       "  '013',\n",
       "  '024'],\n",
       " ['021',\n",
       "  '006',\n",
       "  '019',\n",
       "  '022',\n",
       "  '015',\n",
       "  '016',\n",
       "  '014',\n",
       "  '005',\n",
       "  '025',\n",
       "  '002',\n",
       "  '001',\n",
       "  '020',\n",
       "  '011',\n",
       "  '017',\n",
       "  '018',\n",
       "  '026',\n",
       "  '012',\n",
       "  '009',\n",
       "  '033']]"
      ]
     },
     "execution_count": 6,
     "metadata": {},
     "output_type": "execute_result"
    }
   ],
   "source": [
    "df_par = pd.read_csv(\"participant.csv\")\n",
    "group = [df_par[df_par['Group'].str.contains(\"1\")]['ID'].tolist(), df_par[df_par['Group'].str.contains(\"2\")][\"ID\"].tolist()]\n",
    "group = [[i[-3:] for i in v] for v in group]\n",
    "group"
   ]
  },
  {
   "cell_type": "code",
   "execution_count": 7,
   "metadata": {
    "scrolled": true
   },
   "outputs": [
    {
     "name": "stdout",
     "output_type": "stream",
     "text": [
      "data\\PISSS_ID_003_Approach Two Gaze-Vergence.csv 9368\n",
      "data\\PISSS_ID_004_Approach Two Gaze-Vergence.csv 9862\n",
      "data\\PISSS_ID_007_Approach Two Gaze-Vergence.csv 9677\n",
      "data\\PISSS_ID_008_Approach Two Gaze-Vergence.csv 9923\n",
      "data\\PISSS_ID_010_Approach Two Gaze-Vergence.csv 9923\n",
      "data\\PISSS_ID_013_Approach Two Gaze-Vergence.csv 8691\n",
      "data\\PISSS_ID_023_Approach Two Gaze-Vergence.csv 9677\n",
      "data\\PISSS_ID_024_Approach Two Gaze-Vergence.csv 9307\n",
      "data\\PISSS_ID_027_Approach Two Gaze-Vergence.csv 8568\n",
      "data\\PISSS_ID_028_Approach Two Gaze-Vergence.csv 9554\n",
      "data\\PISSS_ID_029_Approach Two Gaze-Vergence.csv 10232\n",
      "data\\PISSS_ID_031_Approach Two Gaze-Vergence.csv 9923\n",
      "data\\PISSS_ID_032_Approach Two Gaze-Vergence.csv 8011\n",
      "data\\PISSS_ID_001_Approach Two Gaze-Vergence.csv 9554\n",
      "data\\PISSS_ID_002_Approach Two Gaze-Vergence.csv 9430\n",
      "data\\PISSS_ID_005_Approach Two Gaze-Vergence.csv 9245\n",
      "data\\PISSS_ID_006_Approach Two Gaze-Vergence.csv 9739\n",
      "data\\PISSS_ID_009_Approach Two Gaze-Vergence.csv 9243\n",
      "data\\PISSS_ID_011_Approach Two Gaze-Vergence.csv 9492\n",
      "data\\PISSS_ID_012_Approach Two Gaze-Vergence.csv 9431\n",
      "data\\PISSS_ID_014_Approach Two Gaze-Vergence.csv 9307\n",
      "data\\PISSS_ID_015_Approach Two Gaze-Vergence.csv 8812\n",
      "data\\PISSS_ID_016_Approach Two Gaze-Vergence.csv 8259\n",
      "data\\PISSS_ID_017_Approach Two Gaze-Vergence.csv 9184\n",
      "data\\PISSS_ID_018_Approach Two Gaze-Vergence.csv 8937\n",
      "data\\PISSS_ID_019_Approach Two Gaze-Vergence.csv 9615\n",
      "data\\PISSS_ID_020_Approach Two Gaze-Vergence.csv 9923\n",
      "data\\PISSS_ID_021_Approach Two Gaze-Vergence.csv 9369\n",
      "data\\PISSS_ID_022_Approach Two Gaze-Vergence.csv 9307\n",
      "data\\PISSS_ID_025_Approach Two Gaze-Vergence.csv 8937\n",
      "data\\PISSS_ID_026_Approach Two Gaze-Vergence.csv 8259\n",
      "data\\PISSS_ID_033_Approach Two Gaze-Vergence.csv 9245\n"
     ]
    }
   ],
   "source": [
    "feature_groups = []\n",
    "for g in group:\n",
    "    trials = []\n",
    "#     for csv_files in [csv_files_one, csv_files_two, csv_files_three]:\n",
    "    for csv_files in [csv_files_two]:\n",
    "\n",
    "        ret = defaultdict(list)\n",
    "        for csv in csv_files:\n",
    "            par_id = csv[14:17]\n",
    "            if par_id not in g:\n",
    "                continue\n",
    "                \n",
    "            df_data = pd.read_csv(csv)\n",
    "            print(csv, len(df_data))\n",
    "\n",
    "            for v in data_utils.data_slicing(df_data,  window_length = 1800, stride = 1500, min_length=1200):\n",
    "                r = run_all(v)\n",
    "                if r != None:\n",
    "                    Efix, Hs, Ht, total_time, Eblk, Esac, Emsac = r\n",
    "                    ret[\"Eblk\"].append(Eblk)\n",
    "                    ret[\"Efix\"].append(Efix)\n",
    "                    ret[\"Esac\"].append(Esac)\n",
    "                    ret[\"Emsac\"].append(Emsac)\n",
    "#                     ret[\"trans_matrix\"].append(trans_matrix)\n",
    "                    ret[\"Hs\"].append(Hs)\n",
    "                    ret[\"Ht\"].append(Ht)\n",
    "                    ret[\"total_time\"].append(total_time)\n",
    "        trials.append(ret)\n",
    "    feature_groups.append(trials)"
   ]
  },
  {
   "cell_type": "code",
   "execution_count": 8,
   "metadata": {},
   "outputs": [
    {
     "name": "stdout",
     "output_type": "stream",
     "text": [
      "73 73 73 73 73\n",
      "103 103 103 103 103\n"
     ]
    },
    {
     "data": {
      "text/html": [
       "<div>\n",
       "<style scoped>\n",
       "    .dataframe tbody tr th:only-of-type {\n",
       "        vertical-align: middle;\n",
       "    }\n",
       "\n",
       "    .dataframe tbody tr th {\n",
       "        vertical-align: top;\n",
       "    }\n",
       "\n",
       "    .dataframe thead th {\n",
       "        text-align: right;\n",
       "    }\n",
       "</style>\n",
       "<table border=\"1\" class=\"dataframe\">\n",
       "  <thead>\n",
       "    <tr style=\"text-align: right;\">\n",
       "      <th></th>\n",
       "      <th>fix_dur</th>\n",
       "      <th>Hs</th>\n",
       "      <th>Ht</th>\n",
       "      <th>fix_rate</th>\n",
       "      <th>blk_rate</th>\n",
       "      <th>sac_rate</th>\n",
       "      <th>msac_rate</th>\n",
       "      <th>group</th>\n",
       "    </tr>\n",
       "  </thead>\n",
       "  <tbody>\n",
       "    <tr>\n",
       "      <th>0</th>\n",
       "      <td>0.592538</td>\n",
       "      <td>2.133797</td>\n",
       "      <td>1.486411</td>\n",
       "      <td>1.336189</td>\n",
       "      <td>0.308351</td>\n",
       "      <td>0.685225</td>\n",
       "      <td>1.918631</td>\n",
       "      <td>0</td>\n",
       "    </tr>\n",
       "    <tr>\n",
       "      <th>1</th>\n",
       "      <td>0.824998</td>\n",
       "      <td>0.975119</td>\n",
       "      <td>0.981468</td>\n",
       "      <td>0.925117</td>\n",
       "      <td>0.308372</td>\n",
       "      <td>0.616745</td>\n",
       "      <td>1.678916</td>\n",
       "      <td>0</td>\n",
       "    </tr>\n",
       "    <tr>\n",
       "      <th>2</th>\n",
       "      <td>0.613153</td>\n",
       "      <td>1.828845</td>\n",
       "      <td>1.437474</td>\n",
       "      <td>1.130350</td>\n",
       "      <td>0.376783</td>\n",
       "      <td>0.719314</td>\n",
       "      <td>1.849664</td>\n",
       "      <td>0</td>\n",
       "    </tr>\n",
       "    <tr>\n",
       "      <th>3</th>\n",
       "      <td>0.688831</td>\n",
       "      <td>1.282503</td>\n",
       "      <td>1.168764</td>\n",
       "      <td>1.165004</td>\n",
       "      <td>0.239854</td>\n",
       "      <td>0.719561</td>\n",
       "      <td>1.541917</td>\n",
       "      <td>0</td>\n",
       "    </tr>\n",
       "    <tr>\n",
       "      <th>4</th>\n",
       "      <td>0.449489</td>\n",
       "      <td>0.822404</td>\n",
       "      <td>0.826735</td>\n",
       "      <td>1.199061</td>\n",
       "      <td>0.342589</td>\n",
       "      <td>0.993508</td>\n",
       "      <td>2.226828</td>\n",
       "      <td>0</td>\n",
       "    </tr>\n",
       "    <tr>\n",
       "      <th>...</th>\n",
       "      <td>...</td>\n",
       "      <td>...</td>\n",
       "      <td>...</td>\n",
       "      <td>...</td>\n",
       "      <td>...</td>\n",
       "      <td>...</td>\n",
       "      <td>...</td>\n",
       "      <td>...</td>\n",
       "    </tr>\n",
       "    <tr>\n",
       "      <th>98</th>\n",
       "      <td>0.434337</td>\n",
       "      <td>1.529428</td>\n",
       "      <td>0.809833</td>\n",
       "      <td>0.650941</td>\n",
       "      <td>0.034260</td>\n",
       "      <td>0.205560</td>\n",
       "      <td>1.678743</td>\n",
       "      <td>1</td>\n",
       "    </tr>\n",
       "    <tr>\n",
       "      <th>99</th>\n",
       "      <td>0.748747</td>\n",
       "      <td>0.961237</td>\n",
       "      <td>0.883959</td>\n",
       "      <td>0.445366</td>\n",
       "      <td>0.034259</td>\n",
       "      <td>0.274071</td>\n",
       "      <td>0.753696</td>\n",
       "      <td>1</td>\n",
       "    </tr>\n",
       "    <tr>\n",
       "      <th>100</th>\n",
       "      <td>0.229679</td>\n",
       "      <td>0.000000</td>\n",
       "      <td>0.000000</td>\n",
       "      <td>0.205539</td>\n",
       "      <td>0.000000</td>\n",
       "      <td>0.068513</td>\n",
       "      <td>0.685132</td>\n",
       "      <td>1</td>\n",
       "    </tr>\n",
       "    <tr>\n",
       "      <th>101</th>\n",
       "      <td>0.708099</td>\n",
       "      <td>0.000000</td>\n",
       "      <td>0.000000</td>\n",
       "      <td>0.445369</td>\n",
       "      <td>0.822219</td>\n",
       "      <td>0.411109</td>\n",
       "      <td>0.822219</td>\n",
       "      <td>1</td>\n",
       "    </tr>\n",
       "    <tr>\n",
       "      <th>102</th>\n",
       "      <td>0.569630</td>\n",
       "      <td>0.000000</td>\n",
       "      <td>0.000000</td>\n",
       "      <td>0.342662</td>\n",
       "      <td>0.822388</td>\n",
       "      <td>0.376928</td>\n",
       "      <td>0.582525</td>\n",
       "      <td>1</td>\n",
       "    </tr>\n",
       "  </tbody>\n",
       "</table>\n",
       "<p>176 rows × 8 columns</p>\n",
       "</div>"
      ],
      "text/plain": [
       "      fix_dur        Hs        Ht  fix_rate  blk_rate  sac_rate  msac_rate  \\\n",
       "0    0.592538  2.133797  1.486411  1.336189  0.308351  0.685225   1.918631   \n",
       "1    0.824998  0.975119  0.981468  0.925117  0.308372  0.616745   1.678916   \n",
       "2    0.613153  1.828845  1.437474  1.130350  0.376783  0.719314   1.849664   \n",
       "3    0.688831  1.282503  1.168764  1.165004  0.239854  0.719561   1.541917   \n",
       "4    0.449489  0.822404  0.826735  1.199061  0.342589  0.993508   2.226828   \n",
       "..        ...       ...       ...       ...       ...       ...        ...   \n",
       "98   0.434337  1.529428  0.809833  0.650941  0.034260  0.205560   1.678743   \n",
       "99   0.748747  0.961237  0.883959  0.445366  0.034259  0.274071   0.753696   \n",
       "100  0.229679  0.000000  0.000000  0.205539  0.000000  0.068513   0.685132   \n",
       "101  0.708099  0.000000  0.000000  0.445369  0.822219  0.411109   0.822219   \n",
       "102  0.569630  0.000000  0.000000  0.342662  0.822388  0.376928   0.582525   \n",
       "\n",
       "     group  \n",
       "0        0  \n",
       "1        0  \n",
       "2        0  \n",
       "3        0  \n",
       "4        0  \n",
       "..     ...  \n",
       "98       1  \n",
       "99       1  \n",
       "100      1  \n",
       "101      1  \n",
       "102      1  \n",
       "\n",
       "[176 rows x 8 columns]"
      ]
     },
     "execution_count": 8,
     "metadata": {},
     "output_type": "execute_result"
    }
   ],
   "source": [
    "df_x = pd.DataFrame()\n",
    "for j, g in enumerate(feature_groups):\n",
    "    fix_dur = []\n",
    "    for i, p in enumerate(g[0]['Efix']):\n",
    "        fix_dur = np.append(fix_dur,np.mean(np.array(p).T[2]))\n",
    "        \n",
    "    Hs = g[0]['Hs']\n",
    "    Ht = g[0]['Ht']\n",
    "    \n",
    "    fix_rate = np.array([len(v) for v in g[0]['Efix']])/np.array(g[0]['total_time'])\n",
    "    blk_rate = np.array([len(v) for v in g[0]['Eblk']])/np.array(g[0]['total_time'])\n",
    "    sac_rate = np.array([len(v) for v in g[0]['Esac']])/np.array(g[0]['total_time'])\n",
    "    msac_rate = np.array([len(v) for v in g[0]['Emsac']])/np.array(g[0]['total_time'])\n",
    "\n",
    "    print(len(fix_dur), len(fix_rate), len(sac_rate), len(blk_rate), len(msac_rate))\n",
    "    group = j*np.ones_like(Hs)\n",
    "    df = pd.DataFrame(zip(fix_dur, Hs, Ht, fix_rate, blk_rate, sac_rate, msac_rate, group), \n",
    "                        columns=[\"fix_dur\", \"Hs\", \"Ht\", \"fix_rate\", \"blk_rate\", \"sac_rate\", \"msac_rate\", \"group\"]).astype({\"group\":\"int\"})\n",
    "    df_x = pd.concat([df_x, df])\n",
    "    \n",
    "df_x\n"
   ]
  },
  {
   "cell_type": "code",
   "execution_count": null,
   "metadata": {},
   "outputs": [],
   "source": []
  },
  {
   "cell_type": "markdown",
   "metadata": {},
   "source": [
    "# classification models"
   ]
  },
  {
   "cell_type": "code",
   "execution_count": null,
   "metadata": {},
   "outputs": [],
   "source": []
  },
  {
   "cell_type": "code",
   "execution_count": 52,
   "metadata": {},
   "outputs": [
    {
     "data": {
      "text/plain": [
       "176"
      ]
     },
     "execution_count": 52,
     "metadata": {},
     "output_type": "execute_result"
    }
   ],
   "source": [
    "len(df_x)"
   ]
  },
  {
   "cell_type": "code",
   "execution_count": 53,
   "metadata": {},
   "outputs": [
    {
     "data": {
      "text/plain": [
       "fix_dur      float64\n",
       "Hs           float64\n",
       "Ht           float64\n",
       "fix_rate     float64\n",
       "blk_rate     float64\n",
       "sac_rate     float64\n",
       "msac_rate    float64\n",
       "group          int32\n",
       "dtype: object"
      ]
     },
     "execution_count": 53,
     "metadata": {},
     "output_type": "execute_result"
    }
   ],
   "source": [
    "df_x.dtypes"
   ]
  },
  {
   "cell_type": "code",
   "execution_count": 54,
   "metadata": {},
   "outputs": [
    {
     "data": {
      "text/plain": [
       "157"
      ]
     },
     "execution_count": 54,
     "metadata": {},
     "output_type": "execute_result"
    }
   ],
   "source": [
    "df_x = df_x[~(df_x.iloc[:,:7] == 0).any(axis=1)]\n",
    "len(df_x)"
   ]
  },
  {
   "cell_type": "code",
   "execution_count": 55,
   "metadata": {},
   "outputs": [],
   "source": [
    "from sklearn.linear_model import LogisticRegression\n",
    "from sklearn.model_selection import train_test_split\n",
    "from sklearn.metrics import classification_report"
   ]
  },
  {
   "cell_type": "code",
   "execution_count": 56,
   "metadata": {},
   "outputs": [
    {
     "data": {
      "text/plain": [
       "0.6582278481012658"
      ]
     },
     "execution_count": 56,
     "metadata": {},
     "output_type": "execute_result"
    }
   ],
   "source": [
    "X = df_x[['fix_dur', 'Hs', 'Ht', \"fix_rate\", \"blk_rate\", \"sac_rate\", \"msac_rate\"]].values\n",
    "# X = df_x[['fix_dur', \"fix_rate\"]].values\n",
    "\n",
    "X = StandardScaler().fit_transform(X)\n",
    "\n",
    "y = df_x[['group']].values\n",
    "X_train, X_test, y_train, y_test = train_test_split(X, y, test_size=0.5, random_state=5)\n",
    "\n",
    "clf = LogisticRegression(random_state=1).fit(X_train, y_train)\n",
    "# clf.predict(X_test)\n",
    "clf.score(X_test, y_test)"
   ]
  },
  {
   "cell_type": "code",
   "execution_count": 57,
   "metadata": {},
   "outputs": [],
   "source": [
    "prob = clf.predict_proba(X_test)"
   ]
  },
  {
   "cell_type": "code",
   "execution_count": null,
   "metadata": {},
   "outputs": [],
   "source": []
  },
  {
   "cell_type": "code",
   "execution_count": 58,
   "metadata": {},
   "outputs": [],
   "source": [
    "thresh = 0.5\n",
    "\n",
    "pred = []\n",
    "for v in prob.T[1]:\n",
    "    if v > thresh:\n",
    "        pred.append(1)\n",
    "    else:\n",
    "        pred.append(0)"
   ]
  },
  {
   "cell_type": "code",
   "execution_count": 59,
   "metadata": {},
   "outputs": [
    {
     "name": "stdout",
     "output_type": "stream",
     "text": [
      "              precision    recall  f1-score   support\n",
      "\n",
      "     group 1       0.73      0.32      0.45        34\n",
      "     group 2       0.64      0.91      0.75        45\n",
      "\n",
      "    accuracy                           0.66        79\n",
      "   macro avg       0.69      0.62      0.60        79\n",
      "weighted avg       0.68      0.66      0.62        79\n",
      "\n"
     ]
    }
   ],
   "source": [
    "target_names = ['group 1', 'group 2']\n",
    "print(classification_report(y_test, pred, target_names=target_names))"
   ]
  },
  {
   "cell_type": "code",
   "execution_count": 60,
   "metadata": {},
   "outputs": [],
   "source": [
    "y_score = clf.decision_function(X_test)"
   ]
  },
  {
   "cell_type": "code",
   "execution_count": 61,
   "metadata": {},
   "outputs": [],
   "source": [
    "fpr, tpr, _ = roc_curve(y_test, y_score)\n",
    "roc_auc = auc(fpr, tpr)"
   ]
  },
  {
   "cell_type": "code",
   "execution_count": 62,
   "metadata": {},
   "outputs": [
    {
     "data": {
      "image/png": "[encoded data removed]",
      "text/plain": [
       "<Figure size 432x288 with 1 Axes>"
      ]
     },
     "metadata": {
      "needs_background": "light"
     },
     "output_type": "display_data"
    }
   ],
   "source": [
    "plt.figure()\n",
    "lw = 2\n",
    "plt.plot(fpr, tpr, color='darkorange',\n",
    "         lw=lw, label='ROC curve (area = %0.2f)' % roc_auc)\n",
    "plt.plot([0, 1], [0, 1], color='navy', lw=lw, linestyle='--')\n",
    "plt.xlim([0.0, 1.0])\n",
    "plt.ylim([0.0, 1.05])\n",
    "plt.xlabel('False Positive Rate')\n",
    "plt.ylabel('True Positive Rate')\n",
    "plt.title('Receiver operating characteristic example')\n",
    "plt.legend(loc=\"lower right\")\n",
    "plt.show()"
   ]
  },
  {
   "cell_type": "code",
   "execution_count": null,
   "metadata": {},
   "outputs": [],
   "source": []
  },
  {
   "cell_type": "code",
   "execution_count": null,
   "metadata": {},
   "outputs": [],
   "source": []
  },
  {
   "cell_type": "code",
   "execution_count": null,
   "metadata": {},
   "outputs": [],
   "source": []
  },
  {
   "cell_type": "code",
   "execution_count": 63,
   "metadata": {},
   "outputs": [
    {
     "name": "stdout",
     "output_type": "stream",
     "text": [
      "[0 1]\n",
      "fix_dur      \t: -0.35\n",
      "Hs      \t: -0.04\n",
      "Ht      \t: 0.311\n",
      "fix_rate      \t: 0.092\n",
      "blk_rate      \t: -0.707\n",
      "sac_rate      \t: -0.679\n",
      "msac_rate      \t: -0.369\n"
     ]
    }
   ],
   "source": [
    "features = ['fix_dur', 'Hs', 'Ht', \"fix_rate\", \"blk_rate\", \"sac_rate\", \"msac_rate\"]\n",
    "print(clf.classes_)\n",
    "for i in range(len(features)):\n",
    "    print(features[i] + \"      \\t: \" + str(round(clf.coef_[0][i],3)))"
   ]
  },
  {
   "cell_type": "code",
   "execution_count": 64,
   "metadata": {},
   "outputs": [
    {
     "name": "stdout",
     "output_type": "stream",
     "text": [
      "              precision    recall  f1-score   support\n",
      "\n",
      "     group 1       0.73      0.32      0.45        34\n",
      "     group 2       0.64      0.91      0.75        45\n",
      "\n",
      "    accuracy                           0.66        79\n",
      "   macro avg       0.69      0.62      0.60        79\n",
      "weighted avg       0.68      0.66      0.62        79\n",
      "\n"
     ]
    }
   ],
   "source": [
    "y_pred = clf.predict(X_test)\n",
    "target_names = ['group 1', 'group 2']\n",
    "print(classification_report(y_test, y_pred, target_names=target_names))"
   ]
  },
  {
   "cell_type": "code",
   "execution_count": 65,
   "metadata": {},
   "outputs": [],
   "source": [
    "y_score = clf.decision_function(X_test)"
   ]
  },
  {
   "cell_type": "code",
   "execution_count": 66,
   "metadata": {},
   "outputs": [
    {
     "name": "stdout",
     "output_type": "stream",
     "text": [
      "AUC:  0.6856209150326797\n"
     ]
    }
   ],
   "source": [
    "print(\"AUC: \", roc_auc_score(y_test, y_score))"
   ]
  },
  {
   "cell_type": "code",
   "execution_count": null,
   "metadata": {},
   "outputs": [],
   "source": []
  },
  {
   "cell_type": "code",
   "execution_count": 67,
   "metadata": {},
   "outputs": [],
   "source": [
    "fpr, tpr, _ = roc_curve(y_test, y_score)\n",
    "roc_auc = auc(fpr, tpr)"
   ]
  },
  {
   "cell_type": "code",
   "execution_count": null,
   "metadata": {},
   "outputs": [],
   "source": []
  },
  {
   "cell_type": "code",
   "execution_count": 68,
   "metadata": {},
   "outputs": [
    {
     "data": {
      "image/png": "[encoded data removed]",
      "text/plain": [
       "<Figure size 432x288 with 1 Axes>"
      ]
     },
     "metadata": {
      "needs_background": "light"
     },
     "output_type": "display_data"
    }
   ],
   "source": [
    "plt.figure()\n",
    "lw = 2\n",
    "plt.plot(fpr, tpr, color='darkorange',\n",
    "         lw=lw, label='ROC curve (area = %0.2f)' % roc_auc)\n",
    "plt.plot([0, 1], [0, 1], color='navy', lw=lw, linestyle='--')\n",
    "plt.xlim([0.0, 1.0])\n",
    "plt.ylim([0.0, 1.05])\n",
    "plt.xlabel('False Positive Rate')\n",
    "plt.ylabel('True Positive Rate')\n",
    "plt.title('Receiver operating characteristic example')\n",
    "plt.legend(loc=\"lower right\")\n",
    "plt.show()"
   ]
  },
  {
   "cell_type": "code",
   "execution_count": null,
   "metadata": {},
   "outputs": [],
   "source": []
  },
  {
   "cell_type": "code",
   "execution_count": 15,
   "metadata": {},
   "outputs": [],
   "source": [
    "import matplotlib.pyplot as plt\n",
    "from matplotlib.colors import ListedColormap\n",
    "from sklearn.model_selection import train_test_split\n",
    "from sklearn.preprocessing import StandardScaler\n",
    "from sklearn.datasets import make_moons, make_circles, make_classification\n",
    "from sklearn.neural_network import MLPClassifier\n",
    "from sklearn.neighbors import KNeighborsClassifier\n",
    "from sklearn.svm import SVC\n",
    "from sklearn.gaussian_process import GaussianProcessClassifier\n",
    "from sklearn.gaussian_process.kernels import RBF\n",
    "from sklearn.tree import DecisionTreeClassifier\n",
    "from sklearn.ensemble import RandomForestClassifier, AdaBoostClassifier\n",
    "from sklearn.naive_bayes import GaussianNB\n",
    "from sklearn.discriminant_analysis import QuadraticDiscriminantAnalysis\n",
    "from sklearn.metrics import roc_auc_score, roc_curve, auc"
   ]
  },
  {
   "cell_type": "code",
   "execution_count": 69,
   "metadata": {},
   "outputs": [],
   "source": [
    "h = .02  # step size in the mesh\n",
    "\n",
    "names = [\"Nearest Neighbors\", \"Linear SVM\", \"RBF SVM\", \"Gaussian Process\",\n",
    "         \"Decision Tree\", \"Random Forest\", \"Neural Net\", \"AdaBoost\",\n",
    "         \"Naive Bayes\", \"QDA\"]\n",
    "\n",
    "classifiers = [\n",
    "    KNeighborsClassifier(2),\n",
    "    SVC(kernel=\"linear\", C=0.025),\n",
    "    SVC(gamma=2, C=1),\n",
    "    GaussianProcessClassifier(1.0 * RBF(1.0)),\n",
    "    DecisionTreeClassifier(max_depth=5),\n",
    "    RandomForestClassifier(max_depth=5, n_estimators=10, max_features=1),\n",
    "    MLPClassifier(alpha=1, max_iter=1000),\n",
    "    AdaBoostClassifier(),\n",
    "    GaussianNB(),\n",
    "    QuadraticDiscriminantAnalysis()]"
   ]
  },
  {
   "cell_type": "code",
   "execution_count": 70,
   "metadata": {},
   "outputs": [
    {
     "name": "stdout",
     "output_type": "stream",
     "text": [
      "Nearest Neighbors\n",
      "AUC:  0.5618351063829787\n",
      "              precision    recall  f1-score   support\n",
      "\n",
      "     group 1       0.44      0.75      0.56        32\n",
      "     group 2       0.68      0.36      0.47        47\n",
      "\n",
      "    accuracy                           0.52        79\n",
      "   macro avg       0.56      0.56      0.52        79\n",
      "weighted avg       0.58      0.52      0.51        79\n",
      "\n",
      "Linear SVM\n",
      "AUC:  0.6515957446808511\n",
      "              precision    recall  f1-score   support\n",
      "\n",
      "     group 1       0.78      0.22      0.34        32\n",
      "     group 2       0.64      0.96      0.77        47\n",
      "\n",
      "    accuracy                           0.66        79\n",
      "   macro avg       0.71      0.59      0.56        79\n",
      "weighted avg       0.70      0.66      0.60        79\n",
      "\n",
      "RBF SVM\n",
      "AUC:  0.5811170212765957\n",
      "              precision    recall  f1-score   support\n",
      "\n",
      "     group 1       0.40      0.84      0.55        32\n",
      "     group 2       0.58      0.15      0.24        47\n",
      "\n",
      "    accuracy                           0.43        79\n",
      "   macro avg       0.49      0.50      0.39        79\n",
      "weighted avg       0.51      0.43      0.36        79\n",
      "\n",
      "Gaussian Process\n",
      "AUC:  0.613031914893617\n",
      "              precision    recall  f1-score   support\n",
      "\n",
      "     group 1       0.00      0.00      0.00        32\n",
      "     group 2       0.59      1.00      0.75        47\n",
      "\n",
      "    accuracy                           0.59        79\n",
      "   macro avg       0.30      0.50      0.37        79\n",
      "weighted avg       0.35      0.59      0.44        79\n",
      "\n",
      "Decision Tree\n",
      "AUC:  0.5847739361702128\n",
      "              precision    recall  f1-score   support\n",
      "\n",
      "     group 1       0.46      0.66      0.54        32\n",
      "     group 2       0.67      0.47      0.55        47\n",
      "\n",
      "    accuracy                           0.54        79\n",
      "   macro avg       0.56      0.56      0.54        79\n",
      "weighted avg       0.58      0.54      0.55        79\n",
      "\n",
      "Random Forest\n",
      "AUC:  0.49966755319148937\n",
      "              precision    recall  f1-score   support\n",
      "\n",
      "     group 1       0.50      0.25      0.33        32\n",
      "     group 2       0.62      0.83      0.71        47\n",
      "\n",
      "    accuracy                           0.59        79\n",
      "   macro avg       0.56      0.54      0.52        79\n",
      "weighted avg       0.57      0.59      0.56        79\n",
      "\n",
      "Neural Net\n",
      "AUC:  0.6728723404255319\n",
      "              precision    recall  f1-score   support\n",
      "\n",
      "     group 1       0.60      0.56      0.58        32\n",
      "     group 2       0.71      0.74      0.73        47\n",
      "\n",
      "    accuracy                           0.67        79\n",
      "   macro avg       0.66      0.65      0.65        79\n",
      "weighted avg       0.67      0.67      0.67        79\n",
      "\n",
      "AdaBoost\n",
      "AUC:  0.48071808510638303\n",
      "              precision    recall  f1-score   support\n",
      "\n",
      "     group 1       0.41      1.00      0.58        32\n",
      "     group 2       0.00      0.00      0.00        47\n",
      "\n",
      "    accuracy                           0.41        79\n",
      "   macro avg       0.20      0.50      0.29        79\n",
      "weighted avg       0.16      0.41      0.23        79\n",
      "\n",
      "Naive Bayes\n",
      "AUC:  0.6376329787234043\n",
      "              precision    recall  f1-score   support\n",
      "\n",
      "     group 1       0.65      0.47      0.55        32\n",
      "     group 2       0.70      0.83      0.76        47\n",
      "\n",
      "    accuracy                           0.68        79\n",
      "   macro avg       0.67      0.65      0.65        79\n",
      "weighted avg       0.68      0.68      0.67        79\n",
      "\n",
      "QDA\n",
      "AUC:  0.7453457446808511\n",
      "              precision    recall  f1-score   support\n",
      "\n",
      "     group 1       0.71      0.53      0.61        32\n",
      "     group 2       0.73      0.85      0.78        47\n",
      "\n",
      "    accuracy                           0.72        79\n",
      "   macro avg       0.72      0.69      0.70        79\n",
      "weighted avg       0.72      0.72      0.71        79\n",
      "\n"
     ]
    },
    {
     "data": {
      "image/png": "[encoded data removed]",
      "text/plain": [
       "<Figure size 1944x648 with 2 Axes>"
      ]
     },
     "metadata": {
      "needs_background": "light"
     },
     "output_type": "display_data"
    }
   ],
   "source": [
    "figure = plt.figure(figsize=(27, 9))\n",
    "i = 1\n",
    "\n",
    "# preprocess dataset, split into training and test part\n",
    "X = StandardScaler().fit_transform(X)\n",
    "X_train, X_test, y_train, y_test = train_test_split(X, y, test_size=.5, random_state=42)\n",
    "\n",
    "x_min, x_max = X[:, 0].min() - .5, X[:, 0].max() + .5\n",
    "y_min, y_max = X[:, 1].min() - .5, X[:, 1].max() + .5\n",
    "xx, yy = np.meshgrid(np.arange(x_min, x_max, h),\n",
    "                     np.arange(y_min, y_max, h))\n",
    "\n",
    "# just plot the dataset first\n",
    "cm = plt.cm.RdBu\n",
    "cm_bright = ListedColormap(['#FF0000', '#0000FF'])\n",
    "ax = plt.subplot(1, len(classifiers) + 1, i)\n",
    "ax.set_title(\"Input data\")\n",
    "# Plot the training points\n",
    "ax.scatter(X_train[:, 0], X_train[:, 1], c=y_train, cmap=cm_bright,\n",
    "           edgecolors='k')\n",
    "# Plot the testing points\n",
    "ax.scatter(X_test[:, 0], X_test[:, 1], c=y_test, cmap=cm_bright, alpha=0.6,\n",
    "           edgecolors='k')\n",
    "ax.set_xlim(xx.min(), xx.max())\n",
    "ax.set_ylim(yy.min(), yy.max())\n",
    "ax.set_xticks(())\n",
    "ax.set_yticks(())\n",
    "i += 1\n",
    "\n",
    "# iterate over classifiers\n",
    "for name, clf in zip(names, classifiers):\n",
    "    ax = plt.subplot(1, len(classifiers) + 1, i)\n",
    "    clf.fit(X_train, y_train)\n",
    "    score = clf.score(X_test, y_test)\n",
    "    y_pred = clf.predict(X_test)\n",
    "    \n",
    "    \n",
    "    if hasattr(clf, \"decision_function\"):\n",
    "        y_score = clf.decision_function(X_test)\n",
    "    else:\n",
    "        y_score = clf.predict_proba(X_test)[:, 1]\n",
    "        \n",
    "    \n",
    "    thresh = 0.5\n",
    "\n",
    "    pred = []\n",
    "    for v in y_score:\n",
    "        if v > thresh:\n",
    "            pred.append(1)\n",
    "        else:\n",
    "            pred.append(0)\n",
    "    \n",
    "\n",
    "    print(name)\n",
    "    print(\"AUC: \", roc_auc_score(y_test, y_score))\n",
    "    target_names = ['group 1', 'group 2']\n",
    "    print(classification_report(y_test, pred, target_names=target_names))\n",
    "\n",
    "    # Plot the decision boundary. For that, we will assign a color to each\n",
    "    # point in the mesh [x_min, x_max]x[y_min, y_max].\n",
    "#     if hasattr(clf, \"decision_function\"):\n",
    "#         Z = clf.decision_function(np.c_[xx.ravel(), yy.ravel()])\n",
    "#     else:\n",
    "#         Z = clf.predict_proba(np.c_[xx.ravel(), yy.ravel()])[:, 1]\n",
    "\n",
    "#     # Put the result into a color plot\n",
    "#     Z = Z.reshape(xx.shape)\n",
    "#     ax.contourf(xx, yy, Z, cmap=cm, alpha=.8)\n",
    "\n",
    "#     # Plot the training points\n",
    "#     ax.scatter(X_train[:, 0], X_train[:, 1], c=y_train, cmap=cm_bright,\n",
    "#                edgecolors='k')\n",
    "#     # Plot the testing points\n",
    "#     ax.scatter(X_test[:, 0], X_test[:, 1], c=y_test, cmap=cm_bright,\n",
    "#                edgecolors='k', alpha=0.6)\n",
    "\n",
    "#     ax.set_xlim(xx.min(), xx.max())\n",
    "#     ax.set_ylim(yy.min(), yy.max())\n",
    "#     ax.set_xticks(())\n",
    "#     ax.set_yticks(())\n",
    "#     ax.set_title(name)\n",
    "#     ax.text(xx.max() - .3, yy.min() + .3, ('%.2f' % score).lstrip('0'),\n",
    "#             size=15, horizontalalignment='right')\n",
    "#     i += 1\n",
    "\n",
    "plt.tight_layout()\n",
    "plt.show()"
   ]
  },
  {
   "cell_type": "code",
   "execution_count": null,
   "metadata": {},
   "outputs": [],
   "source": []
  },
  {
   "cell_type": "code",
   "execution_count": null,
   "metadata": {},
   "outputs": [],
   "source": [
    "a = [[1,3,4,5,6,2,1,3,5,2,3,1],[1,2,3,1,2,3,4,5,3,2,2,3]]\n",
    "\n",
    "a = StandardScaler().fit_transform(a)"
   ]
  }
 ],
 "metadata": {
  "kernelspec": {
   "display_name": "Python 3 (ipykernel)",
   "language": "python",
   "name": "python3"
  },
  "language_info": {
   "codemirror_mode": {
    "name": "ipython",
    "version": 3
   },
   "file_extension": ".py",
   "mimetype": "text/x-python",
   "name": "python",
   "nbconvert_exporter": "python",
   "pygments_lexer": "ipython3",
   "version": "3.7.11"
  }
 },
 "nbformat": 4,
 "nbformat_minor": 4
}
