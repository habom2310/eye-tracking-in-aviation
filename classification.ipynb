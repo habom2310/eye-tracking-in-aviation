{
 "cells": [
  {
   "cell_type": "code",
   "execution_count": 78,
   "metadata": {},
   "outputs": [],
   "source": [
    "import pandas as pd\n",
    "import numpy as np\n",
    "import pygaze\n",
    "import matplotlib.pyplot as plt\n",
    "import matplotlib.image as mpimg\n",
    "import seaborn as sns\n",
    "import scipy\n",
    "import glob\n",
    "from tqdm import tqdm\n",
    "from sklearn.cluster import DBSCAN\n",
    "import detectors\n",
    "import gazeplotter\n",
    "from collections import defaultdict\n",
    "# import local lib\n",
    "import eye_metrics_utils\n",
    "import data_utils\n",
    "import gaze_entropy"
   ]
  },
  {
   "cell_type": "code",
   "execution_count": 79,
   "metadata": {},
   "outputs": [],
   "source": [
    "import warnings\n",
    "# warnings.filterwarnings(action='once')\n",
    "warnings.filterwarnings('ignore')"
   ]
  },
  {
   "cell_type": "code",
   "execution_count": 80,
   "metadata": {},
   "outputs": [],
   "source": [
    "def run_all(df_data):\n",
    "    df_x = df_data.copy()\n",
    "    if (data_utils.check_percentage_null(df_x) < 0.3): # if missing value > 30%, remove\n",
    "        return None\n",
    "    \n",
    "    time = np.array(df_data['Start Time (secs)'].tolist())\n",
    "\n",
    "    Efix = eye_metrics_utils.detect_fixations(df_x)\n",
    "    Eblk = eye_metrics_utils.detect_blinks(df_x)\n",
    "    Esac = eye_metrics_utils.detect_saccades(df_x)\n",
    "    Emsac = eye_metrics_utils.detect_microsaccades(df_x)\n",
    "#     print(Efix)\n",
    "    X = np.array(Efix).T[3:].T\n",
    "    Hs, Ht = gaze_entropy.entropy(X)\n",
    "    total_time = time[-1] - time[0]\n",
    "    \n",
    "    return Efix, Hs, Ht, total_time, Eblk, Esac, Emsac\n",
    "    "
   ]
  },
  {
   "cell_type": "code",
   "execution_count": 81,
   "metadata": {},
   "outputs": [],
   "source": [
    "csv_files = glob.glob(\"data/*.csv\")"
   ]
  },
  {
   "cell_type": "code",
   "execution_count": 82,
   "metadata": {},
   "outputs": [],
   "source": [
    "csv_files_one = [v for v in csv_files if \"One Gaze-Vergence\" in v]\n",
    "csv_files_two = [v for v in csv_files if \"Two Gaze-Vergence\" in v]\n",
    "csv_files_three = [v for v in csv_files if \"Three Go-Around Gaze-Vergence\" in v]"
   ]
  },
  {
   "cell_type": "code",
   "execution_count": null,
   "metadata": {},
   "outputs": [],
   "source": []
  },
  {
   "cell_type": "markdown",
   "metadata": {},
   "source": [
    "# classification"
   ]
  },
  {
   "cell_type": "code",
   "execution_count": 83,
   "metadata": {},
   "outputs": [
    {
     "data": {
      "text/plain": [
       "[['032',\n",
       "  '027',\n",
       "  '031',\n",
       "  '028',\n",
       "  '004',\n",
       "  '008',\n",
       "  '010',\n",
       "  '029',\n",
       "  '003',\n",
       "  '007',\n",
       "  '023',\n",
       "  '013',\n",
       "  '024'],\n",
       " ['021',\n",
       "  '006',\n",
       "  '019',\n",
       "  '022',\n",
       "  '015',\n",
       "  '016',\n",
       "  '014',\n",
       "  '005',\n",
       "  '025',\n",
       "  '002',\n",
       "  '001',\n",
       "  '020',\n",
       "  '011',\n",
       "  '017',\n",
       "  '018',\n",
       "  '026',\n",
       "  '012',\n",
       "  '009',\n",
       "  '033']]"
      ]
     },
     "execution_count": 83,
     "metadata": {},
     "output_type": "execute_result"
    }
   ],
   "source": [
    "df_par = pd.read_csv(\"participant.csv\")\n",
    "group = [df_par[df_par['Group'].str.contains(\"1\")]['ID'].tolist(), df_par[df_par['Group'].str.contains(\"2\")][\"ID\"].tolist()]\n",
    "group = [[i[-3:] for i in v] for v in group]\n",
    "group"
   ]
  },
  {
   "cell_type": "code",
   "execution_count": 84,
   "metadata": {
    "scrolled": true
   },
   "outputs": [
    {
     "name": "stdout",
     "output_type": "stream",
     "text": [
      "data\\PISSS_ID_003_Approach One Gaze-Vergence.csv 9122\n",
      "data\\PISSS_ID_004_Approach One Gaze-Vergence.csv 9307\n",
      "data\\PISSS_ID_007_Approach One Gaze-Vergence.csv 9492\n",
      "data\\PISSS_ID_008_Approach One Gaze-Vergence.csv 9736\n",
      "data\\PISSS_ID_010_Approach One Gaze-Vergence.csv 9554\n",
      "data\\PISSS_ID_013_Approach One Gaze-Vergence.csv 8505\n",
      "data\\PISSS_ID_023_Approach One Gaze-Vergence.csv 9369\n",
      "data\\PISSS_ID_024_Approach One Gaze-Vergence.csv 9246\n",
      "data\\PISSS_ID_027_Approach One Gaze-Vergence.csv 9060\n",
      "data\\PISSS_ID_028_Approach One Gaze-Vergence.csv 8999\n",
      "data\\PISSS_ID_029_Approach One Gaze-Vergence.csv 9862\n",
      "data\\PISSS_ID_031_Approach One Gaze-Vergence.csv 9677\n",
      "data\\PISSS_ID_032_Approach One Gaze-Vergence.csv 8629\n",
      "data\\PISSS_ID_003_Approach Two Gaze-Vergence.csv 9368\n",
      "data\\PISSS_ID_004_Approach Two Gaze-Vergence.csv 9862\n",
      "data\\PISSS_ID_007_Approach Two Gaze-Vergence.csv 9677\n",
      "data\\PISSS_ID_008_Approach Two Gaze-Vergence.csv 9923\n",
      "data\\PISSS_ID_010_Approach Two Gaze-Vergence.csv 9923\n",
      "data\\PISSS_ID_013_Approach Two Gaze-Vergence.csv 8691\n",
      "data\\PISSS_ID_023_Approach Two Gaze-Vergence.csv 9677\n",
      "data\\PISSS_ID_024_Approach Two Gaze-Vergence.csv 9307\n",
      "data\\PISSS_ID_027_Approach Two Gaze-Vergence.csv 8568\n",
      "data\\PISSS_ID_028_Approach Two Gaze-Vergence.csv 9554\n",
      "data\\PISSS_ID_029_Approach Two Gaze-Vergence.csv 10232\n",
      "data\\PISSS_ID_031_Approach Two Gaze-Vergence.csv 9923\n",
      "data\\PISSS_ID_032_Approach Two Gaze-Vergence.csv 8011\n",
      "data\\PISSS_ID_003_Approach Three Go-Around Gaze-Vergence.csv 2157\n",
      "data\\PISSS_ID_004_Approach Three Go-Around Gaze-Vergence.csv 1849\n",
      "data\\PISSS_ID_007_Approach Three Go-Around Gaze-Vergence.csv 2096\n",
      "data\\PISSS_ID_010_Approach Three Go-Around Gaze-Vergence.csv 2589\n",
      "data\\PISSS_ID_013_Approach Three Go-Around Gaze-Vergence.csv 2034\n",
      "data\\PISSS_ID_023_Approach Three Go-Around Gaze-Vergence.csv 1849\n",
      "data\\PISSS_ID_024_Approach Three Go-Around Gaze-Vergence.csv 1602\n",
      "data\\PISSS_ID_027_Approach Three Go-Around Gaze-Vergence.csv 2280\n",
      "data\\PISSS_ID_028_Approach Three Go-Around Gaze-Vergence.csv 2157\n",
      "data\\PISSS_ID_029_Approach Three Go-Around Gaze-Vergence.csv 1725\n",
      "data\\PISSS_ID_031_Approach Three Go-Around Gaze-Vergence.csv 1849\n",
      "data\\PISSS_ID_032_Approach Three Go-Around Gaze-Vergence.csv 1911\n",
      "data\\PISSS_ID_001_Approach One Gaze-Vergence.csv 9307\n",
      "data\\PISSS_ID_002_Approach One Gaze-Vergence.csv 9184\n",
      "data\\PISSS_ID_005_Approach One Gaze-Vergence.csv 8567\n",
      "data\\PISSS_ID_006_Approach One Gaze-Vergence.csv 9985\n",
      "data\\PISSS_ID_009_Approach One Gaze-Vergence.csv 9427\n",
      "data\\PISSS_ID_011_Approach One Gaze-Vergence.csv 9492\n",
      "data\\PISSS_ID_012_Approach One Gaze-Vergence.csv 9184\n",
      "data\\PISSS_ID_014_Approach One Gaze-Vergence.csv 9369\n",
      "data\\PISSS_ID_015_Approach One Gaze-Vergence.csv 27978\n",
      "data\\PISSS_ID_016_Approach One Gaze-Vergence.csv 8259\n",
      "data\\PISSS_ID_017_Approach One Gaze-Vergence.csv 10046\n",
      "data\\PISSS_ID_018_Approach One Gaze-Vergence.csv 8814\n",
      "data\\PISSS_ID_019_Approach One Gaze-Vergence.csv 9615\n",
      "data\\PISSS_ID_020_Approach One Gaze-Vergence.csv 9800\n",
      "data\\PISSS_ID_021_Approach One Gaze-Vergence.csv 9492\n",
      "data\\PISSS_ID_022_Approach One Gaze-Vergence.csv 9615\n",
      "data\\PISSS_ID_025_Approach One Gaze-Vergence.csv 8382\n",
      "data\\PISSS_ID_026_Approach One Gaze-Vergence.csv 8321\n",
      "data\\PISSS_ID_033_Approach One Gaze-Vergence.csv 8750\n",
      "data\\PISSS_ID_001_Approach Two Gaze-Vergence.csv 9554\n",
      "data\\PISSS_ID_002_Approach Two Gaze-Vergence.csv 9430\n",
      "data\\PISSS_ID_005_Approach Two Gaze-Vergence.csv 9245\n",
      "data\\PISSS_ID_006_Approach Two Gaze-Vergence.csv 9739\n",
      "data\\PISSS_ID_009_Approach Two Gaze-Vergence.csv 9243\n",
      "data\\PISSS_ID_011_Approach Two Gaze-Vergence.csv 9492\n",
      "data\\PISSS_ID_012_Approach Two Gaze-Vergence.csv 9431\n",
      "data\\PISSS_ID_014_Approach Two Gaze-Vergence.csv 9307\n",
      "data\\PISSS_ID_015_Approach Two Gaze-Vergence.csv 8812\n",
      "data\\PISSS_ID_016_Approach Two Gaze-Vergence.csv 8259\n",
      "data\\PISSS_ID_017_Approach Two Gaze-Vergence.csv 9184\n",
      "data\\PISSS_ID_018_Approach Two Gaze-Vergence.csv 8937\n",
      "data\\PISSS_ID_019_Approach Two Gaze-Vergence.csv 9615\n",
      "data\\PISSS_ID_020_Approach Two Gaze-Vergence.csv 9923\n",
      "data\\PISSS_ID_021_Approach Two Gaze-Vergence.csv 9369\n",
      "data\\PISSS_ID_022_Approach Two Gaze-Vergence.csv 9307\n",
      "data\\PISSS_ID_025_Approach Two Gaze-Vergence.csv 8937\n",
      "data\\PISSS_ID_026_Approach Two Gaze-Vergence.csv 8259\n",
      "data\\PISSS_ID_033_Approach Two Gaze-Vergence.csv 9245\n",
      "data\\PISSS_ID_001_Approach Three Go-Around Gaze-Vergence.csv 2465\n",
      "data\\PISSS_ID_002_Approach Three Go-Around Gaze-Vergence.csv 616\n",
      "data\\PISSS_ID_005_Approach Three Go-Around Gaze-Vergence.csv 2230\n",
      "data\\PISSS_ID_006_Approach Three Go-Around Gaze-Vergence.csv 2033\n",
      "data\\PISSS_ID_009_Approach Three Go-Around Gaze-Vergence.csv 1849\n",
      "data\\PISSS_ID_011_Approach Three Go-Around Gaze-Vergence.csv 2157\n",
      "data\\PISSS_ID_012_Approach Three Go-Around Gaze-Vergence.csv 1911\n",
      "data\\PISSS_ID_014_Approach Three Go-Around Gaze-Vergence.csv 2096\n",
      "data\\PISSS_ID_015_Approach Three Go-Around Gaze-Vergence.csv 2033\n",
      "data\\PISSS_ID_016_Approach Three Go-Around Gaze-Vergence.csv 2219\n",
      "data\\PISSS_ID_017_Approach Three Go-Around Gaze-Vergence.csv 2650\n",
      "data\\PISSS_ID_018_Approach Three Go-Around Gaze-Vergence.csv 1664\n",
      "data\\PISSS_ID_019_Approach Three Go-Around Gaze-Vergence.csv 1541\n",
      "data\\PISSS_ID_020_Approach Three Go-Around Gaze-Vergence.csv 1665\n",
      "data\\PISSS_ID_021_Approach Three Go-Around Gaze-Vergence.csv 1726\n",
      "data\\PISSS_ID_022_Approach Three Go-Around Gaze-Vergence.csv 1972\n",
      "data\\PISSS_ID_025_Approach Three Go-Around Gaze-Vergence.csv 2342\n",
      "data\\PISSS_ID_026_Approach Three Go-Around Gaze-Vergence.csv 1911\n",
      "data\\PISSS_ID_033_Approach Three Go-Around Gaze-Vergence.csv 1849\n"
     ]
    }
   ],
   "source": [
    "feature_groups = []\n",
    "for g in group:\n",
    "    trials = []\n",
    "    for csv_files in [csv_files_one, csv_files_two, csv_files_three]:\n",
    "#     for csv_files in [csv_files_two]:\n",
    "\n",
    "        ret = defaultdict(list)\n",
    "        for csv in csv_files:\n",
    "            par_id = csv[14:17]\n",
    "            if par_id not in g:\n",
    "                continue\n",
    "                \n",
    "            df_data = pd.read_csv(csv)\n",
    "            print(csv, len(df_data))\n",
    "\n",
    "            for v in data_utils.data_slicing(df_data,  window_length = 1800, stride = 1800, min_length=1800):\n",
    "                r = run_all(v)\n",
    "                if r != None:\n",
    "                    Efix, Hs, Ht, total_time, Eblk, Esac, Emsac = r\n",
    "                    ret[\"Eblk\"].append(Eblk)\n",
    "                    ret[\"Efix\"].append(Efix)\n",
    "                    ret[\"Esac\"].append(Esac)\n",
    "                    ret[\"Emsac\"].append(Emsac)\n",
    "#                     ret[\"trans_matrix\"].append(trans_matrix)\n",
    "                    ret[\"Hs\"].append(Hs)\n",
    "                    ret[\"Ht\"].append(Ht)\n",
    "                    ret[\"total_time\"].append(total_time)\n",
    "        trials.append(ret)\n",
    "    feature_groups.append(trials)"
   ]
  },
  {
   "cell_type": "code",
   "execution_count": 85,
   "metadata": {},
   "outputs": [
    {
     "name": "stdout",
     "output_type": "stream",
     "text": [
      "61 61 61 61 61\n",
      "84 84 84 84 84\n"
     ]
    },
    {
     "data": {
      "text/html": [
       "<div>\n",
       "<style scoped>\n",
       "    .dataframe tbody tr th:only-of-type {\n",
       "        vertical-align: middle;\n",
       "    }\n",
       "\n",
       "    .dataframe tbody tr th {\n",
       "        vertical-align: top;\n",
       "    }\n",
       "\n",
       "    .dataframe thead th {\n",
       "        text-align: right;\n",
       "    }\n",
       "</style>\n",
       "<table border=\"1\" class=\"dataframe\">\n",
       "  <thead>\n",
       "    <tr style=\"text-align: right;\">\n",
       "      <th></th>\n",
       "      <th>fix_dur</th>\n",
       "      <th>Hs</th>\n",
       "      <th>Ht</th>\n",
       "      <th>fix_rate</th>\n",
       "      <th>blk_rate</th>\n",
       "      <th>sac_rate</th>\n",
       "      <th>msac_rate</th>\n",
       "      <th>group</th>\n",
       "    </tr>\n",
       "  </thead>\n",
       "  <tbody>\n",
       "    <tr>\n",
       "      <th>0</th>\n",
       "      <td>0.592538</td>\n",
       "      <td>2.133797</td>\n",
       "      <td>1.486411</td>\n",
       "      <td>1.336189</td>\n",
       "      <td>0.308351</td>\n",
       "      <td>0.685225</td>\n",
       "      <td>1.918631</td>\n",
       "      <td>0</td>\n",
       "    </tr>\n",
       "    <tr>\n",
       "      <th>1</th>\n",
       "      <td>0.853206</td>\n",
       "      <td>1.949082</td>\n",
       "      <td>1.041519</td>\n",
       "      <td>0.822383</td>\n",
       "      <td>0.376926</td>\n",
       "      <td>0.788117</td>\n",
       "      <td>1.541969</td>\n",
       "      <td>0</td>\n",
       "    </tr>\n",
       "    <tr>\n",
       "      <th>2</th>\n",
       "      <td>0.655173</td>\n",
       "      <td>1.384432</td>\n",
       "      <td>1.123823</td>\n",
       "      <td>1.233531</td>\n",
       "      <td>0.308383</td>\n",
       "      <td>0.616765</td>\n",
       "      <td>1.610443</td>\n",
       "      <td>0</td>\n",
       "    </tr>\n",
       "    <tr>\n",
       "      <th>3</th>\n",
       "      <td>0.503358</td>\n",
       "      <td>1.530030</td>\n",
       "      <td>1.404720</td>\n",
       "      <td>1.130213</td>\n",
       "      <td>0.308240</td>\n",
       "      <td>0.958968</td>\n",
       "      <td>1.917937</td>\n",
       "      <td>0</td>\n",
       "    </tr>\n",
       "    <tr>\n",
       "      <th>4</th>\n",
       "      <td>0.598858</td>\n",
       "      <td>0.000000</td>\n",
       "      <td>0.000000</td>\n",
       "      <td>1.302284</td>\n",
       "      <td>0.171353</td>\n",
       "      <td>0.479789</td>\n",
       "      <td>1.884885</td>\n",
       "      <td>0</td>\n",
       "    </tr>\n",
       "    <tr>\n",
       "      <th>...</th>\n",
       "      <td>...</td>\n",
       "      <td>...</td>\n",
       "      <td>...</td>\n",
       "      <td>...</td>\n",
       "      <td>...</td>\n",
       "      <td>...</td>\n",
       "      <td>...</td>\n",
       "      <td>...</td>\n",
       "    </tr>\n",
       "    <tr>\n",
       "      <th>79</th>\n",
       "      <td>0.374869</td>\n",
       "      <td>1.943110</td>\n",
       "      <td>1.559071</td>\n",
       "      <td>0.890793</td>\n",
       "      <td>0.137045</td>\n",
       "      <td>0.753748</td>\n",
       "      <td>2.226983</td>\n",
       "      <td>1</td>\n",
       "    </tr>\n",
       "    <tr>\n",
       "      <th>80</th>\n",
       "      <td>0.576417</td>\n",
       "      <td>1.545153</td>\n",
       "      <td>0.716803</td>\n",
       "      <td>0.719535</td>\n",
       "      <td>0.034264</td>\n",
       "      <td>0.308372</td>\n",
       "      <td>1.439070</td>\n",
       "      <td>1</td>\n",
       "    </tr>\n",
       "    <tr>\n",
       "      <th>81</th>\n",
       "      <td>0.245442</td>\n",
       "      <td>0.000000</td>\n",
       "      <td>0.000000</td>\n",
       "      <td>0.239763</td>\n",
       "      <td>0.034252</td>\n",
       "      <td>0.102756</td>\n",
       "      <td>0.719289</td>\n",
       "      <td>1</td>\n",
       "    </tr>\n",
       "    <tr>\n",
       "      <th>82</th>\n",
       "      <td>0.746337</td>\n",
       "      <td>0.995727</td>\n",
       "      <td>0.794477</td>\n",
       "      <td>0.445506</td>\n",
       "      <td>0.822472</td>\n",
       "      <td>0.445506</td>\n",
       "      <td>0.822472</td>\n",
       "      <td>1</td>\n",
       "    </tr>\n",
       "    <tr>\n",
       "      <th>83</th>\n",
       "      <td>0.643760</td>\n",
       "      <td>0.000000</td>\n",
       "      <td>0.000000</td>\n",
       "      <td>0.376889</td>\n",
       "      <td>0.479677</td>\n",
       "      <td>0.205576</td>\n",
       "      <td>0.548202</td>\n",
       "      <td>1</td>\n",
       "    </tr>\n",
       "  </tbody>\n",
       "</table>\n",
       "<p>145 rows × 8 columns</p>\n",
       "</div>"
      ],
      "text/plain": [
       "     fix_dur        Hs        Ht  fix_rate  blk_rate  sac_rate  msac_rate  \\\n",
       "0   0.592538  2.133797  1.486411  1.336189  0.308351  0.685225   1.918631   \n",
       "1   0.853206  1.949082  1.041519  0.822383  0.376926  0.788117   1.541969   \n",
       "2   0.655173  1.384432  1.123823  1.233531  0.308383  0.616765   1.610443   \n",
       "3   0.503358  1.530030  1.404720  1.130213  0.308240  0.958968   1.917937   \n",
       "4   0.598858  0.000000  0.000000  1.302284  0.171353  0.479789   1.884885   \n",
       "..       ...       ...       ...       ...       ...       ...        ...   \n",
       "79  0.374869  1.943110  1.559071  0.890793  0.137045  0.753748   2.226983   \n",
       "80  0.576417  1.545153  0.716803  0.719535  0.034264  0.308372   1.439070   \n",
       "81  0.245442  0.000000  0.000000  0.239763  0.034252  0.102756   0.719289   \n",
       "82  0.746337  0.995727  0.794477  0.445506  0.822472  0.445506   0.822472   \n",
       "83  0.643760  0.000000  0.000000  0.376889  0.479677  0.205576   0.548202   \n",
       "\n",
       "    group  \n",
       "0       0  \n",
       "1       0  \n",
       "2       0  \n",
       "3       0  \n",
       "4       0  \n",
       "..    ...  \n",
       "79      1  \n",
       "80      1  \n",
       "81      1  \n",
       "82      1  \n",
       "83      1  \n",
       "\n",
       "[145 rows x 8 columns]"
      ]
     },
     "execution_count": 85,
     "metadata": {},
     "output_type": "execute_result"
    }
   ],
   "source": [
    "df_x = pd.DataFrame()\n",
    "for j, g in enumerate(feature_groups):\n",
    "    fix_dur = []\n",
    "    for i, p in enumerate(g[1]['Efix']):\n",
    "        fix_dur = np.append(fix_dur,np.mean(np.array(p).T[2]))\n",
    "        \n",
    "    Hs = g[1]['Hs']\n",
    "    Ht = g[1]['Ht']\n",
    "    \n",
    "    fix_rate = np.array([len(v) for v in g[1]['Efix']])/np.array(g[1]['total_time'])\n",
    "    blk_rate = np.array([len(v) for v in g[1]['Eblk']])/np.array(g[1]['total_time'])\n",
    "    sac_rate = np.array([len(v) for v in g[1]['Esac']])/np.array(g[1]['total_time'])\n",
    "    msac_rate = np.array([len(v) for v in g[1]['Emsac']])/np.array(g[1]['total_time'])\n",
    "\n",
    "    print(len(fix_dur), len(fix_rate), len(sac_rate), len(blk_rate), len(msac_rate))\n",
    "    group = j*np.ones_like(Hs)\n",
    "    df = pd.DataFrame(zip(fix_dur, Hs, Ht, fix_rate, blk_rate, sac_rate, msac_rate, group), \n",
    "                        columns=[\"fix_dur\", \"Hs\", \"Ht\", \"fix_rate\", \"blk_rate\", \"sac_rate\", \"msac_rate\", \"group\"]).astype({\"group\":\"int\"})\n",
    "    df_x = pd.concat([df_x, df])\n",
    "    \n",
    "df_x\n"
   ]
  },
  {
   "cell_type": "code",
   "execution_count": null,
   "metadata": {},
   "outputs": [],
   "source": []
  },
  {
   "cell_type": "markdown",
   "metadata": {},
   "source": [
    "# classification models"
   ]
  },
  {
   "cell_type": "code",
   "execution_count": null,
   "metadata": {},
   "outputs": [],
   "source": []
  },
  {
   "cell_type": "code",
   "execution_count": 86,
   "metadata": {},
   "outputs": [
    {
     "data": {
      "text/plain": [
       "145"
      ]
     },
     "execution_count": 86,
     "metadata": {},
     "output_type": "execute_result"
    }
   ],
   "source": [
    "len(df_x)"
   ]
  },
  {
   "cell_type": "code",
   "execution_count": 87,
   "metadata": {},
   "outputs": [
    {
     "data": {
      "text/plain": [
       "fix_dur      float64\n",
       "Hs           float64\n",
       "Ht           float64\n",
       "fix_rate     float64\n",
       "blk_rate     float64\n",
       "sac_rate     float64\n",
       "msac_rate    float64\n",
       "group          int32\n",
       "dtype: object"
      ]
     },
     "execution_count": 87,
     "metadata": {},
     "output_type": "execute_result"
    }
   ],
   "source": [
    "df_x.dtypes"
   ]
  },
  {
   "cell_type": "code",
   "execution_count": 88,
   "metadata": {},
   "outputs": [
    {
     "data": {
      "text/plain": [
       "128"
      ]
     },
     "execution_count": 88,
     "metadata": {},
     "output_type": "execute_result"
    }
   ],
   "source": [
    "df_x = df_x[~(df_x.iloc[:,:7] == 0).any(axis=1)]\n",
    "len(df_x)"
   ]
  },
  {
   "cell_type": "code",
   "execution_count": 89,
   "metadata": {},
   "outputs": [],
   "source": [
    "from sklearn.linear_model import LogisticRegression\n",
    "from sklearn.model_selection import train_test_split\n",
    "from sklearn.metrics import classification_report"
   ]
  },
  {
   "cell_type": "code",
   "execution_count": 137,
   "metadata": {},
   "outputs": [
    {
     "data": {
      "text/plain": [
       "0.59375"
      ]
     },
     "execution_count": 137,
     "metadata": {},
     "output_type": "execute_result"
    }
   ],
   "source": [
    "X = df_x[['fix_dur', 'Hs', 'Ht', \"fix_rate\", \"blk_rate\", \"sac_rate\", \"msac_rate\"]].values\n",
    "# X = df_x[['fix_dur', \"fix_rate\"]].values\n",
    "\n",
    "X = StandardScaler().fit_transform(X)\n",
    "\n",
    "y = df_x[['group']].values\n",
    "X_train, X_test, y_train, y_test = train_test_split(X, y, test_size=0.5, random_state=5)\n",
    "\n",
    "clf = LogisticRegression(random_state=1).fit(X_train, y_train)\n",
    "# clf.predict(X_test)\n",
    "clf.score(X_test, y_test)"
   ]
  },
  {
   "cell_type": "code",
   "execution_count": 138,
   "metadata": {},
   "outputs": [],
   "source": [
    "prob = clf.predict_proba(X_test)"
   ]
  },
  {
   "cell_type": "code",
   "execution_count": 139,
   "metadata": {},
   "outputs": [],
   "source": [
    "thresh = 0.6\n",
    "\n",
    "pred = []\n",
    "for v in prob.T[1]:\n",
    "    if v > thresh:\n",
    "        pred.append(1)\n",
    "    else:\n",
    "        pred.append(0)"
   ]
  },
  {
   "cell_type": "code",
   "execution_count": 140,
   "metadata": {},
   "outputs": [
    {
     "name": "stdout",
     "output_type": "stream",
     "text": [
      "              precision    recall  f1-score   support\n",
      "\n",
      "     group 1       0.47      0.63      0.54        27\n",
      "     group 2       0.64      0.49      0.55        37\n",
      "\n",
      "    accuracy                           0.55        64\n",
      "   macro avg       0.56      0.56      0.55        64\n",
      "weighted avg       0.57      0.55      0.55        64\n",
      "\n"
     ]
    }
   ],
   "source": [
    "target_names = ['group 1', 'group 2']\n",
    "print(classification_report(y_test, pred, target_names=target_names))"
   ]
  },
  {
   "cell_type": "code",
   "execution_count": 110,
   "metadata": {},
   "outputs": [],
   "source": [
    "y_score = clf.decision_function(X_test)"
   ]
  },
  {
   "cell_type": "code",
   "execution_count": 111,
   "metadata": {},
   "outputs": [
    {
     "ename": "ValueError",
     "evalue": "bad input shape (64, 2)",
     "output_type": "error",
     "traceback": [
      "\u001b[1;31m---------------------------------------------------------------------------\u001b[0m",
      "\u001b[1;31mValueError\u001b[0m                                Traceback (most recent call last)",
      "\u001b[1;32m<ipython-input-111-b2fb0047270d>\u001b[0m in \u001b[0;36m<module>\u001b[1;34m\u001b[0m\n\u001b[1;32m----> 1\u001b[1;33m \u001b[0mfpr\u001b[0m\u001b[1;33m,\u001b[0m \u001b[0mtpr\u001b[0m\u001b[1;33m,\u001b[0m \u001b[0m_\u001b[0m \u001b[1;33m=\u001b[0m \u001b[0mroc_curve\u001b[0m\u001b[1;33m(\u001b[0m\u001b[0my_test\u001b[0m\u001b[1;33m,\u001b[0m \u001b[0my_score\u001b[0m\u001b[1;33m)\u001b[0m\u001b[1;33m\u001b[0m\u001b[1;33m\u001b[0m\u001b[0m\n\u001b[0m\u001b[0;32m      2\u001b[0m \u001b[0mroc_auc\u001b[0m \u001b[1;33m=\u001b[0m \u001b[0mauc\u001b[0m\u001b[1;33m(\u001b[0m\u001b[0mfpr\u001b[0m\u001b[1;33m,\u001b[0m \u001b[0mtpr\u001b[0m\u001b[1;33m)\u001b[0m\u001b[1;33m\u001b[0m\u001b[1;33m\u001b[0m\u001b[0m\n",
      "\u001b[1;32mc:\\users\\khanhhanguyen\\appdata\\local\\continuum\\anaconda3\\envs\\kia\\lib\\site-packages\\sklearn\\metrics\\_ranking.py\u001b[0m in \u001b[0;36mroc_curve\u001b[1;34m(y_true, y_score, pos_label, sample_weight, drop_intermediate)\u001b[0m\n\u001b[0;32m    769\u001b[0m     \"\"\"\n\u001b[0;32m    770\u001b[0m     fps, tps, thresholds = _binary_clf_curve(\n\u001b[1;32m--> 771\u001b[1;33m         y_true, y_score, pos_label=pos_label, sample_weight=sample_weight)\n\u001b[0m\u001b[0;32m    772\u001b[0m \u001b[1;33m\u001b[0m\u001b[0m\n\u001b[0;32m    773\u001b[0m     \u001b[1;31m# Attempt to drop thresholds corresponding to points in between and\u001b[0m\u001b[1;33m\u001b[0m\u001b[1;33m\u001b[0m\u001b[1;33m\u001b[0m\u001b[0m\n",
      "\u001b[1;32mc:\\users\\khanhhanguyen\\appdata\\local\\continuum\\anaconda3\\envs\\kia\\lib\\site-packages\\sklearn\\metrics\\_ranking.py\u001b[0m in \u001b[0;36m_binary_clf_curve\u001b[1;34m(y_true, y_score, pos_label, sample_weight)\u001b[0m\n\u001b[0;32m    538\u001b[0m     \u001b[0mcheck_consistent_length\u001b[0m\u001b[1;33m(\u001b[0m\u001b[0my_true\u001b[0m\u001b[1;33m,\u001b[0m \u001b[0my_score\u001b[0m\u001b[1;33m,\u001b[0m \u001b[0msample_weight\u001b[0m\u001b[1;33m)\u001b[0m\u001b[1;33m\u001b[0m\u001b[1;33m\u001b[0m\u001b[0m\n\u001b[0;32m    539\u001b[0m     \u001b[0my_true\u001b[0m \u001b[1;33m=\u001b[0m \u001b[0mcolumn_or_1d\u001b[0m\u001b[1;33m(\u001b[0m\u001b[0my_true\u001b[0m\u001b[1;33m)\u001b[0m\u001b[1;33m\u001b[0m\u001b[1;33m\u001b[0m\u001b[0m\n\u001b[1;32m--> 540\u001b[1;33m     \u001b[0my_score\u001b[0m \u001b[1;33m=\u001b[0m \u001b[0mcolumn_or_1d\u001b[0m\u001b[1;33m(\u001b[0m\u001b[0my_score\u001b[0m\u001b[1;33m)\u001b[0m\u001b[1;33m\u001b[0m\u001b[1;33m\u001b[0m\u001b[0m\n\u001b[0m\u001b[0;32m    541\u001b[0m     \u001b[0massert_all_finite\u001b[0m\u001b[1;33m(\u001b[0m\u001b[0my_true\u001b[0m\u001b[1;33m)\u001b[0m\u001b[1;33m\u001b[0m\u001b[1;33m\u001b[0m\u001b[0m\n\u001b[0;32m    542\u001b[0m     \u001b[0massert_all_finite\u001b[0m\u001b[1;33m(\u001b[0m\u001b[0my_score\u001b[0m\u001b[1;33m)\u001b[0m\u001b[1;33m\u001b[0m\u001b[1;33m\u001b[0m\u001b[0m\n",
      "\u001b[1;32mc:\\users\\khanhhanguyen\\appdata\\local\\continuum\\anaconda3\\envs\\kia\\lib\\site-packages\\sklearn\\utils\\validation.py\u001b[0m in \u001b[0;36mcolumn_or_1d\u001b[1;34m(y, warn)\u001b[0m\n\u001b[0;32m    795\u001b[0m         \u001b[1;32mreturn\u001b[0m \u001b[0mnp\u001b[0m\u001b[1;33m.\u001b[0m\u001b[0mravel\u001b[0m\u001b[1;33m(\u001b[0m\u001b[0my\u001b[0m\u001b[1;33m)\u001b[0m\u001b[1;33m\u001b[0m\u001b[1;33m\u001b[0m\u001b[0m\n\u001b[0;32m    796\u001b[0m \u001b[1;33m\u001b[0m\u001b[0m\n\u001b[1;32m--> 797\u001b[1;33m     \u001b[1;32mraise\u001b[0m \u001b[0mValueError\u001b[0m\u001b[1;33m(\u001b[0m\u001b[1;34m\"bad input shape {0}\"\u001b[0m\u001b[1;33m.\u001b[0m\u001b[0mformat\u001b[0m\u001b[1;33m(\u001b[0m\u001b[0mshape\u001b[0m\u001b[1;33m)\u001b[0m\u001b[1;33m)\u001b[0m\u001b[1;33m\u001b[0m\u001b[1;33m\u001b[0m\u001b[0m\n\u001b[0m\u001b[0;32m    798\u001b[0m \u001b[1;33m\u001b[0m\u001b[0m\n\u001b[0;32m    799\u001b[0m \u001b[1;33m\u001b[0m\u001b[0m\n",
      "\u001b[1;31mValueError\u001b[0m: bad input shape (64, 2)"
     ]
    }
   ],
   "source": [
    "fpr, tpr, _ = roc_curve(y_test, y_score)\n",
    "roc_auc = auc(fpr, tpr)"
   ]
  },
  {
   "cell_type": "code",
   "execution_count": 64,
   "metadata": {},
   "outputs": [
    {
     "data": {
      "image/png": "[encoded data removed]",
      "text/plain": [
       "<Figure size 432x288 with 1 Axes>"
      ]
     },
     "metadata": {
      "needs_background": "light"
     },
     "output_type": "display_data"
    }
   ],
   "source": [
    "plt.figure()\n",
    "lw = 2\n",
    "plt.plot(fpr, tpr, color='darkorange',\n",
    "         lw=lw, label='ROC curve (area = %0.2f)' % roc_auc)\n",
    "plt.plot([0, 1], [0, 1], color='navy', lw=lw, linestyle='--')\n",
    "plt.xlim([0.0, 1.0])\n",
    "plt.ylim([0.0, 1.05])\n",
    "plt.xlabel('False Positive Rate')\n",
    "plt.ylabel('True Positive Rate')\n",
    "plt.title('Receiver operating characteristic example')\n",
    "plt.legend(loc=\"lower right\")\n",
    "plt.show()"
   ]
  },
  {
   "cell_type": "code",
   "execution_count": null,
   "metadata": {},
   "outputs": [],
   "source": []
  },
  {
   "cell_type": "code",
   "execution_count": null,
   "metadata": {},
   "outputs": [],
   "source": []
  },
  {
   "cell_type": "code",
   "execution_count": null,
   "metadata": {},
   "outputs": [],
   "source": []
  },
  {
   "cell_type": "code",
   "execution_count": 14,
   "metadata": {},
   "outputs": [
    {
     "name": "stdout",
     "output_type": "stream",
     "text": [
      "[0 1]\n",
      "fix_dur      \t: -0.571\n",
      "Hs      \t: -0.255\n",
      "Ht      \t: -0.1\n",
      "fix_rate      \t: 1.016\n",
      "blk_rate      \t: -0.922\n",
      "sac_rate      \t: -0.827\n",
      "msac_rate      \t: -0.458\n"
     ]
    }
   ],
   "source": [
    "features = ['fix_dur', 'Hs', 'Ht', \"fix_rate\", \"blk_rate\", \"sac_rate\", \"msac_rate\"]\n",
    "print(clf.classes_)\n",
    "for i in range(len(features)):\n",
    "    print(features[i] + \"      \\t: \" + str(round(clf.coef_[0][i],3)))"
   ]
  },
  {
   "cell_type": "code",
   "execution_count": null,
   "metadata": {},
   "outputs": [],
   "source": [
    "y_pred = clf.predict(X_test)\n",
    "target_names = ['group 1', 'group 2']\n",
    "print(classification_report(y_test, y_pred, target_names=target_names))"
   ]
  },
  {
   "cell_type": "code",
   "execution_count": null,
   "metadata": {},
   "outputs": [],
   "source": [
    "y_score = clf.decision_function(X_test)"
   ]
  },
  {
   "cell_type": "code",
   "execution_count": null,
   "metadata": {},
   "outputs": [],
   "source": [
    "print(\"AUC: \", roc_auc_score(y_test, y_score))"
   ]
  },
  {
   "cell_type": "code",
   "execution_count": null,
   "metadata": {},
   "outputs": [],
   "source": []
  },
  {
   "cell_type": "code",
   "execution_count": null,
   "metadata": {},
   "outputs": [],
   "source": [
    "fpr, tpr, _ = roc_curve(y_test, y_score)\n",
    "roc_auc = auc(fpr, tpr)"
   ]
  },
  {
   "cell_type": "code",
   "execution_count": null,
   "metadata": {},
   "outputs": [],
   "source": []
  },
  {
   "cell_type": "code",
   "execution_count": null,
   "metadata": {},
   "outputs": [],
   "source": [
    "plt.figure()\n",
    "lw = 2\n",
    "plt.plot(fpr, tpr, color='darkorange',\n",
    "         lw=lw, label='ROC curve (area = %0.2f)' % roc_auc)\n",
    "plt.plot([0, 1], [0, 1], color='navy', lw=lw, linestyle='--')\n",
    "plt.xlim([0.0, 1.0])\n",
    "plt.ylim([0.0, 1.05])\n",
    "plt.xlabel('False Positive Rate')\n",
    "plt.ylabel('True Positive Rate')\n",
    "plt.title('Receiver operating characteristic example')\n",
    "plt.legend(loc=\"lower right\")\n",
    "plt.show()"
   ]
  },
  {
   "cell_type": "code",
   "execution_count": null,
   "metadata": {},
   "outputs": [],
   "source": []
  },
  {
   "cell_type": "code",
   "execution_count": 92,
   "metadata": {},
   "outputs": [],
   "source": [
    "import matplotlib.pyplot as plt\n",
    "from matplotlib.colors import ListedColormap\n",
    "from sklearn.model_selection import train_test_split\n",
    "from sklearn.preprocessing import StandardScaler\n",
    "from sklearn.datasets import make_moons, make_circles, make_classification\n",
    "from sklearn.neural_network import MLPClassifier\n",
    "from sklearn.neighbors import KNeighborsClassifier\n",
    "from sklearn.svm import SVC\n",
    "from sklearn.gaussian_process import GaussianProcessClassifier\n",
    "from sklearn.gaussian_process.kernels import RBF\n",
    "from sklearn.tree import DecisionTreeClassifier\n",
    "from sklearn.ensemble import RandomForestClassifier, AdaBoostClassifier\n",
    "from sklearn.naive_bayes import GaussianNB\n",
    "from sklearn.discriminant_analysis import QuadraticDiscriminantAnalysis\n",
    "from sklearn.metrics import roc_auc_score, roc_curve, auc"
   ]
  },
  {
   "cell_type": "code",
   "execution_count": 93,
   "metadata": {},
   "outputs": [],
   "source": [
    "h = .02  # step size in the mesh\n",
    "\n",
    "names = [\"Nearest Neighbors\", \"Linear SVM\", \"RBF SVM\", \"Gaussian Process\",\n",
    "         \"Decision Tree\", \"Random Forest\", \"Neural Net\", \"AdaBoost\",\n",
    "         \"Naive Bayes\", \"QDA\"]\n",
    "\n",
    "classifiers = [\n",
    "    KNeighborsClassifier(2),\n",
    "    SVC(kernel=\"linear\", C=0.025),\n",
    "    SVC(gamma=2, C=1),\n",
    "    GaussianProcessClassifier(1.0 * RBF(1.0)),\n",
    "    DecisionTreeClassifier(max_depth=5),\n",
    "    RandomForestClassifier(max_depth=5, n_estimators=10, max_features=1),\n",
    "    MLPClassifier(alpha=1, max_iter=1000),\n",
    "    AdaBoostClassifier(),\n",
    "    GaussianNB(),\n",
    "    QuadraticDiscriminantAnalysis()]"
   ]
  },
  {
   "cell_type": "code",
   "execution_count": 113,
   "metadata": {},
   "outputs": [
    {
     "name": "stdout",
     "output_type": "stream",
     "text": [
      "Nearest Neighbors\n",
      "AUC:  0.5529411764705882\n",
      "              precision    recall  f1-score   support\n",
      "\n",
      "     group 1       0.50      0.60      0.55        30\n",
      "     group 2       0.57      0.47      0.52        34\n",
      "\n",
      "    accuracy                           0.53        64\n",
      "   macro avg       0.54      0.54      0.53        64\n",
      "weighted avg       0.54      0.53      0.53        64\n",
      "\n",
      "Linear SVM\n",
      "AUC:  0.6147058823529412\n",
      "              precision    recall  f1-score   support\n",
      "\n",
      "     group 1       1.00      0.03      0.06        30\n",
      "     group 2       0.54      1.00      0.70        34\n",
      "\n",
      "    accuracy                           0.55        64\n",
      "   macro avg       0.77      0.52      0.38        64\n",
      "weighted avg       0.76      0.55      0.40        64\n",
      "\n",
      "RBF SVM\n",
      "AUC:  0.6490196078431373\n",
      "              precision    recall  f1-score   support\n",
      "\n",
      "     group 1       0.56      0.93      0.70        30\n",
      "     group 2       0.86      0.35      0.50        34\n",
      "\n",
      "    accuracy                           0.62        64\n",
      "   macro avg       0.71      0.64      0.60        64\n",
      "weighted avg       0.72      0.62      0.59        64\n",
      "\n",
      "Gaussian Process\n",
      "AUC:  0.48137254901960785\n",
      "              precision    recall  f1-score   support\n",
      "\n",
      "     group 1       0.45      0.17      0.24        30\n",
      "     group 2       0.53      0.82      0.64        34\n",
      "\n",
      "    accuracy                           0.52        64\n",
      "   macro avg       0.49      0.50      0.44        64\n",
      "weighted avg       0.49      0.52      0.46        64\n",
      "\n",
      "Decision Tree\n",
      "AUC:  0.5034313725490196\n",
      "              precision    recall  f1-score   support\n",
      "\n",
      "     group 1       0.40      0.20      0.27        30\n",
      "     group 2       0.51      0.74      0.60        34\n",
      "\n",
      "    accuracy                           0.48        64\n",
      "   macro avg       0.46      0.47      0.43        64\n",
      "weighted avg       0.46      0.48      0.45        64\n",
      "\n",
      "Random Forest\n",
      "AUC:  0.4406862745098039\n",
      "              precision    recall  f1-score   support\n",
      "\n",
      "     group 1       0.40      0.40      0.40        30\n",
      "     group 2       0.47      0.47      0.47        34\n",
      "\n",
      "    accuracy                           0.44        64\n",
      "   macro avg       0.44      0.44      0.44        64\n",
      "weighted avg       0.44      0.44      0.44        64\n",
      "\n",
      "Neural Net\n",
      "AUC:  0.5245098039215687\n",
      "              precision    recall  f1-score   support\n",
      "\n",
      "     group 1       0.43      0.20      0.27        30\n",
      "     group 2       0.52      0.76      0.62        34\n",
      "\n",
      "    accuracy                           0.50        64\n",
      "   macro avg       0.47      0.48      0.45        64\n",
      "weighted avg       0.48      0.50      0.46        64\n",
      "\n",
      "AdaBoost\n",
      "AUC:  0.7205882352941178\n",
      "              precision    recall  f1-score   support\n",
      "\n",
      "     group 1       0.49      0.97      0.65        30\n",
      "     group 2       0.80      0.12      0.21        34\n",
      "\n",
      "    accuracy                           0.52        64\n",
      "   macro avg       0.65      0.54      0.43        64\n",
      "weighted avg       0.66      0.52      0.41        64\n",
      "\n",
      "Naive Bayes\n",
      "AUC:  0.5656862745098039\n",
      "              precision    recall  f1-score   support\n",
      "\n",
      "     group 1       0.38      0.10      0.16        30\n",
      "     group 2       0.52      0.85      0.64        34\n",
      "\n",
      "    accuracy                           0.50        64\n",
      "   macro avg       0.45      0.48      0.40        64\n",
      "weighted avg       0.45      0.50      0.42        64\n",
      "\n",
      "QDA\n",
      "AUC:  0.4911764705882353\n",
      "              precision    recall  f1-score   support\n",
      "\n",
      "     group 1       0.17      0.03      0.06        30\n",
      "     group 2       0.50      0.85      0.63        34\n",
      "\n",
      "    accuracy                           0.47        64\n",
      "   macro avg       0.33      0.44      0.34        64\n",
      "weighted avg       0.34      0.47      0.36        64\n",
      "\n"
     ]
    },
    {
     "data": {
      "image/png": "[encoded data removed]",
      "text/plain": [
       "<Figure size 1944x648 with 2 Axes>"
      ]
     },
     "metadata": {
      "needs_background": "light"
     },
     "output_type": "display_data"
    }
   ],
   "source": [
    "figure = plt.figure(figsize=(27, 9))\n",
    "i = 1\n",
    "\n",
    "# preprocess dataset, split into training and test part\n",
    "X = StandardScaler().fit_transform(X)\n",
    "X_train, X_test, y_train, y_test = train_test_split(X, y, test_size=.5, random_state=42)\n",
    "\n",
    "x_min, x_max = X[:, 0].min() - .5, X[:, 0].max() + .5\n",
    "y_min, y_max = X[:, 1].min() - .5, X[:, 1].max() + .5\n",
    "xx, yy = np.meshgrid(np.arange(x_min, x_max, h),\n",
    "                     np.arange(y_min, y_max, h))\n",
    "\n",
    "# just plot the dataset first\n",
    "cm = plt.cm.RdBu\n",
    "cm_bright = ListedColormap(['#FF0000', '#0000FF'])\n",
    "ax = plt.subplot(1, len(classifiers) + 1, i)\n",
    "ax.set_title(\"Input data\")\n",
    "# Plot the training points\n",
    "ax.scatter(X_train[:, 0], X_train[:, 1], c=y_train, cmap=cm_bright,\n",
    "           edgecolors='k')\n",
    "# Plot the testing points\n",
    "ax.scatter(X_test[:, 0], X_test[:, 1], c=y_test, cmap=cm_bright, alpha=0.6,\n",
    "           edgecolors='k')\n",
    "ax.set_xlim(xx.min(), xx.max())\n",
    "ax.set_ylim(yy.min(), yy.max())\n",
    "ax.set_xticks(())\n",
    "ax.set_yticks(())\n",
    "i += 1\n",
    "\n",
    "# iterate over classifiers\n",
    "for name, clf in zip(names, classifiers):\n",
    "    ax = plt.subplot(1, len(classifiers) + 1, i)\n",
    "    clf.fit(X_train, y_train)\n",
    "    score = clf.score(X_test, y_test)\n",
    "    y_pred = clf.predict(X_test)\n",
    "    \n",
    "    \n",
    "    if hasattr(clf, \"decision_function\"):\n",
    "        y_score = clf.decision_function(X_test)\n",
    "    else:\n",
    "        y_score = clf.predict_proba(X_test)[:, 1]\n",
    "        \n",
    "    \n",
    "    thresh = 0.6\n",
    "\n",
    "    pred = []\n",
    "    for v in y_score:\n",
    "        if v > thresh:\n",
    "            pred.append(1)\n",
    "        else:\n",
    "            pred.append(0)\n",
    "    \n",
    "\n",
    "    print(name)\n",
    "    print(\"AUC: \", roc_auc_score(y_test, y_score))\n",
    "    target_names = ['group 1', 'group 2']\n",
    "    print(classification_report(y_test, pred, target_names=target_names))\n",
    "\n",
    "    # Plot the decision boundary. For that, we will assign a color to each\n",
    "    # point in the mesh [x_min, x_max]x[y_min, y_max].\n",
    "#     if hasattr(clf, \"decision_function\"):\n",
    "#         Z = clf.decision_function(np.c_[xx.ravel(), yy.ravel()])\n",
    "#     else:\n",
    "#         Z = clf.predict_proba(np.c_[xx.ravel(), yy.ravel()])[:, 1]\n",
    "\n",
    "#     # Put the result into a color plot\n",
    "#     Z = Z.reshape(xx.shape)\n",
    "#     ax.contourf(xx, yy, Z, cmap=cm, alpha=.8)\n",
    "\n",
    "#     # Plot the training points\n",
    "#     ax.scatter(X_train[:, 0], X_train[:, 1], c=y_train, cmap=cm_bright,\n",
    "#                edgecolors='k')\n",
    "#     # Plot the testing points\n",
    "#     ax.scatter(X_test[:, 0], X_test[:, 1], c=y_test, cmap=cm_bright,\n",
    "#                edgecolors='k', alpha=0.6)\n",
    "\n",
    "#     ax.set_xlim(xx.min(), xx.max())\n",
    "#     ax.set_ylim(yy.min(), yy.max())\n",
    "#     ax.set_xticks(())\n",
    "#     ax.set_yticks(())\n",
    "#     ax.set_title(name)\n",
    "#     ax.text(xx.max() - .3, yy.min() + .3, ('%.2f' % score).lstrip('0'),\n",
    "#             size=15, horizontalalignment='right')\n",
    "#     i += 1\n",
    "\n",
    "plt.tight_layout()\n",
    "plt.show()"
   ]
  },
  {
   "cell_type": "code",
   "execution_count": null,
   "metadata": {},
   "outputs": [],
   "source": []
  },
  {
   "cell_type": "code",
   "execution_count": null,
   "metadata": {},
   "outputs": [],
   "source": [
    "a = [[1,3,4,5,6,2,1,3,5,2,3,1],[1,2,3,1,2,3,4,5,3,2,2,3]]\n",
    "\n",
    "a = StandardScaler().fit_transform(a)"
   ]
  }
 ],
 "metadata": {
  "kernelspec": {
   "display_name": "Python 3",
   "language": "python",
   "name": "python3"
  },
  "language_info": {
   "codemirror_mode": {
    "name": "ipython",
    "version": 3
   },
   "file_extension": ".py",
   "mimetype": "text/x-python",
   "name": "python",
   "nbconvert_exporter": "python",
   "pygments_lexer": "ipython3",
   "version": "3.6.10"
  }
 },
 "nbformat": 4,
 "nbformat_minor": 4
}
