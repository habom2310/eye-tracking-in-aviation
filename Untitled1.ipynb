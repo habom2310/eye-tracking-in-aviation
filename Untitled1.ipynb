{
 "cells": [
  {
   "cell_type": "markdown",
   "metadata": {},
   "source": [
    "# Import"
   ]
  },
  {
   "cell_type": "code",
   "execution_count": 14,
   "metadata": {},
   "outputs": [],
   "source": [
    "import pandas as pd\n",
    "import numpy as np\n",
    "import pygaze\n",
    "import matplotlib.pyplot as plt\n",
    "import matplotlib.image as mpimg\n",
    "import seaborn as sns\n",
    "import scipy\n",
    "import glob\n",
    "from tqdm import tqdm\n",
    "from sklearn.cluster import DBSCAN\n",
    "import detectors\n",
    "import gazeplotter\n",
    "from collections import defaultdict"
   ]
  },
  {
   "cell_type": "markdown",
   "metadata": {},
   "source": [
    "# function"
   ]
  },
  {
   "cell_type": "code",
   "execution_count": 2,
   "metadata": {},
   "outputs": [],
   "source": [
    "def get_center(clustering, data):\n",
    "    center = []\n",
    "    for i in range(len(set(clustering.labels_)) - 1):\n",
    "        xi = data[np.where(clustering.labels_ == i)]\n",
    "        cx = sum(xi.T[0])/len(xi)\n",
    "        cy = sum(xi.T[1])/len(xi)\n",
    "        center.append((cx,cy))\n",
    "    return center\n",
    "\n",
    "# cluster_center = get_center(clustering,X)"
   ]
  },
  {
   "cell_type": "code",
   "execution_count": 3,
   "metadata": {},
   "outputs": [],
   "source": [
    "def transition_matrix(transitions):\n",
    "    n = 1+ max(transitions) #number of states\n",
    "\n",
    "    M = [[0]*n for _ in range(n)]\n",
    "\n",
    "    for (i,j) in zip(transitions,transitions[1:]):\n",
    "        M[i][j] += 1\n",
    "\n",
    "    #now convert to probabilities:\n",
    "    for row in M:\n",
    "        s = sum(row)\n",
    "        if s > 0:\n",
    "            row[:] = [f/s for f in row]\n",
    "    return M\n"
   ]
  },
  {
   "cell_type": "code",
   "execution_count": 4,
   "metadata": {},
   "outputs": [],
   "source": [
    "def distance(x,y):\n",
    "    return ((x[0]-y[0])**2 + (x[1]-y[1])**2)**0.5\n",
    "\n",
    "def dbscan_predict(cluster_center, X_new, min_dist = 50, metric=distance):\n",
    "    # Result is noise by default\n",
    "    y_new = np.ones(shape=len(X_new), dtype=int)*-1 \n",
    "\n",
    "    # Iterate all input samples for a label\n",
    "    for j, x_new in enumerate(X_new):\n",
    "        # Find a core sample closer than EPS\n",
    "        for i, x_core in enumerate(cluster_center): \n",
    "            if metric(x_new, x_core) < min_dist:\n",
    "                # Assign label of x_core to x_new\n",
    "                y_new[j] = i\n",
    "                break\n",
    "\n",
    "    return y_new"
   ]
  },
  {
   "cell_type": "code",
   "execution_count": 53,
   "metadata": {},
   "outputs": [],
   "source": [
    "def run_all(csv):\n",
    "    df_data = pd.read_csv(csv)\n",
    "    df_data.fillna(0.0, inplace=True)\n",
    "\n",
    "    X = np.array(df_data['X Pos'].tolist())\n",
    "    Y = np.array(df_data['Y Pos'].tolist())\n",
    "    time = np.array(df_data['Start Time (secs)'].tolist())*1000\n",
    "    \n",
    "    # detect blink, fixation and saccade\n",
    "    Sblk, Eblk = detectors.blink_detection(X,Y,time,minlen=6)\n",
    "    Sfix, Efix = detectors.fixation_detection(X,Y,time,maxdist=10,mindur=50)\n",
    "    Ssac, Esac = detectors.saccade_detection(X,Y,time,minlen=5,maxvel=40,maxacc=340)\n",
    "    \n",
    "    # clustering\n",
    "    X = np.array(Efix).T[3:].T\n",
    "    clustering = DBSCAN(eps=20, min_samples=3).fit(X)\n",
    "    cluster_center = get_center(clustering,X)\n",
    "    pred = dbscan_predict(cluster_center, np.array(Efix).T[3:].T)\n",
    "    transitions = pred[np.where(pred!=-1)]\n",
    "    \n",
    "    # transition matrix and GTE, SGE\n",
    "    trans_matrix = transition_matrix(transitions)\n",
    "    pA = [len(np.where(np.array(transitions)==i)[0])/len(transitions) for i in range(len(set(transitions)))]\n",
    "    Ht = 0\n",
    "    Hs = 0\n",
    "    for i in range(len(pA)):\n",
    "        Hs += -1 * np.nan_to_num(pA[i]*np.log2(pA[i]))\n",
    "        t = np.nan_to_num(trans_matrix[i]*np.log2(trans_matrix[i]))\n",
    "        Ht += -sum(pA[i]*(t))\n",
    "    \n",
    "    total_time = time[-1] - time[0]\n",
    "        \n",
    "    return Eblk, Efix, Esac, trans_matrix, Hs, Ht, total_time\n",
    "    "
   ]
  },
  {
   "cell_type": "markdown",
   "metadata": {},
   "source": [
    "# import data"
   ]
  },
  {
   "cell_type": "code",
   "execution_count": 6,
   "metadata": {},
   "outputs": [],
   "source": [
    "csv_files = glob.glob(\"data/*.csv\")"
   ]
  },
  {
   "cell_type": "code",
   "execution_count": 7,
   "metadata": {},
   "outputs": [],
   "source": [
    "csv_files_one = [v for v in csv_files if \"One Gaze-Left\" in v]\n",
    "csv_files_two = [v for v in csv_files if \"Two Gaze-Left\" in v]\n",
    "csv_files_three = [v for v in csv_files if \"Three Go-Around Gaze-Left\" in v]"
   ]
  },
  {
   "cell_type": "code",
   "execution_count": 11,
   "metadata": {},
   "outputs": [
    {
     "data": {
      "text/plain": [
       "[['032', '027', '031', '028', '004', '008', '010', '029', '003', '007', '023'],\n",
       " ['021',\n",
       "  '006',\n",
       "  '019',\n",
       "  '022',\n",
       "  '015',\n",
       "  '016',\n",
       "  '014',\n",
       "  '005',\n",
       "  '025',\n",
       "  '002',\n",
       "  '001',\n",
       "  '020',\n",
       "  '011',\n",
       "  '017']]"
      ]
     },
     "execution_count": 11,
     "metadata": {},
     "output_type": "execute_result"
    }
   ],
   "source": [
    "df_par = pd.read_csv(\"participant.csv\")\n",
    "group = [df_par[df_par['Group'].str.contains(\"1\")]['ID'].tolist(), df_par[df_par['Group'].str.contains(\"2\")][\"ID\"].tolist()]\n",
    "group = [[i[-3:] for i in v] for v in group]\n",
    "group"
   ]
  },
  {
   "cell_type": "code",
   "execution_count": 54,
   "metadata": {},
   "outputs": [
    {
     "name": "stderr",
     "output_type": "stream",
     "text": [
      "  0%|                                                                                            | 0/2 [00:00<?, ?it/s]c:\\users\\khanhhanguyen\\appdata\\local\\continuum\\anaconda3\\envs\\kia\\lib\\site-packages\\ipykernel_launcher.py:28: RuntimeWarning: divide by zero encountered in log2\n",
      "c:\\users\\khanhhanguyen\\appdata\\local\\continuum\\anaconda3\\envs\\kia\\lib\\site-packages\\ipykernel_launcher.py:28: RuntimeWarning: invalid value encountered in multiply\n",
      "c:\\users\\khanhhanguyen\\appdata\\local\\continuum\\anaconda3\\envs\\kia\\lib\\site-packages\\ipykernel_launcher.py:28: RuntimeWarning: divide by zero encountered in log2\n",
      "c:\\users\\khanhhanguyen\\appdata\\local\\continuum\\anaconda3\\envs\\kia\\lib\\site-packages\\ipykernel_launcher.py:28: RuntimeWarning: invalid value encountered in multiply\n",
      "c:\\users\\khanhhanguyen\\appdata\\local\\continuum\\anaconda3\\envs\\kia\\lib\\site-packages\\ipykernel_launcher.py:28: RuntimeWarning: divide by zero encountered in log2\n",
      "c:\\users\\khanhhanguyen\\appdata\\local\\continuum\\anaconda3\\envs\\kia\\lib\\site-packages\\ipykernel_launcher.py:28: RuntimeWarning: invalid value encountered in multiply\n",
      "c:\\users\\khanhhanguyen\\appdata\\local\\continuum\\anaconda3\\envs\\kia\\lib\\site-packages\\ipykernel_launcher.py:28: RuntimeWarning: divide by zero encountered in log2\n",
      "c:\\users\\khanhhanguyen\\appdata\\local\\continuum\\anaconda3\\envs\\kia\\lib\\site-packages\\ipykernel_launcher.py:28: RuntimeWarning: invalid value encountered in multiply\n",
      "c:\\users\\khanhhanguyen\\appdata\\local\\continuum\\anaconda3\\envs\\kia\\lib\\site-packages\\ipykernel_launcher.py:28: RuntimeWarning: divide by zero encountered in log2\n",
      "c:\\users\\khanhhanguyen\\appdata\\local\\continuum\\anaconda3\\envs\\kia\\lib\\site-packages\\ipykernel_launcher.py:28: RuntimeWarning: invalid value encountered in multiply\n",
      "c:\\users\\khanhhanguyen\\appdata\\local\\continuum\\anaconda3\\envs\\kia\\lib\\site-packages\\ipykernel_launcher.py:28: RuntimeWarning: divide by zero encountered in log2\n",
      "c:\\users\\khanhhanguyen\\appdata\\local\\continuum\\anaconda3\\envs\\kia\\lib\\site-packages\\ipykernel_launcher.py:28: RuntimeWarning: invalid value encountered in multiply\n",
      "c:\\users\\khanhhanguyen\\appdata\\local\\continuum\\anaconda3\\envs\\kia\\lib\\site-packages\\ipykernel_launcher.py:28: RuntimeWarning: divide by zero encountered in log2\n",
      "c:\\users\\khanhhanguyen\\appdata\\local\\continuum\\anaconda3\\envs\\kia\\lib\\site-packages\\ipykernel_launcher.py:28: RuntimeWarning: invalid value encountered in multiply\n",
      "c:\\users\\khanhhanguyen\\appdata\\local\\continuum\\anaconda3\\envs\\kia\\lib\\site-packages\\ipykernel_launcher.py:28: RuntimeWarning: divide by zero encountered in log2\n",
      "c:\\users\\khanhhanguyen\\appdata\\local\\continuum\\anaconda3\\envs\\kia\\lib\\site-packages\\ipykernel_launcher.py:28: RuntimeWarning: invalid value encountered in multiply\n",
      "c:\\users\\khanhhanguyen\\appdata\\local\\continuum\\anaconda3\\envs\\kia\\lib\\site-packages\\ipykernel_launcher.py:28: RuntimeWarning: divide by zero encountered in log2\n",
      "c:\\users\\khanhhanguyen\\appdata\\local\\continuum\\anaconda3\\envs\\kia\\lib\\site-packages\\ipykernel_launcher.py:28: RuntimeWarning: invalid value encountered in multiply\n",
      "c:\\users\\khanhhanguyen\\appdata\\local\\continuum\\anaconda3\\envs\\kia\\lib\\site-packages\\ipykernel_launcher.py:28: RuntimeWarning: divide by zero encountered in log2\n",
      "c:\\users\\khanhhanguyen\\appdata\\local\\continuum\\anaconda3\\envs\\kia\\lib\\site-packages\\ipykernel_launcher.py:28: RuntimeWarning: invalid value encountered in multiply\n",
      "c:\\users\\khanhhanguyen\\appdata\\local\\continuum\\anaconda3\\envs\\kia\\lib\\site-packages\\ipykernel_launcher.py:28: RuntimeWarning: divide by zero encountered in log2\n",
      "c:\\users\\khanhhanguyen\\appdata\\local\\continuum\\anaconda3\\envs\\kia\\lib\\site-packages\\ipykernel_launcher.py:28: RuntimeWarning: invalid value encountered in multiply\n",
      "c:\\users\\khanhhanguyen\\appdata\\local\\continuum\\anaconda3\\envs\\kia\\lib\\site-packages\\ipykernel_launcher.py:28: RuntimeWarning: divide by zero encountered in log2\n",
      "c:\\users\\khanhhanguyen\\appdata\\local\\continuum\\anaconda3\\envs\\kia\\lib\\site-packages\\ipykernel_launcher.py:28: RuntimeWarning: invalid value encountered in multiply\n",
      "c:\\users\\khanhhanguyen\\appdata\\local\\continuum\\anaconda3\\envs\\kia\\lib\\site-packages\\ipykernel_launcher.py:28: RuntimeWarning: divide by zero encountered in log2\n",
      "c:\\users\\khanhhanguyen\\appdata\\local\\continuum\\anaconda3\\envs\\kia\\lib\\site-packages\\ipykernel_launcher.py:28: RuntimeWarning: invalid value encountered in multiply\n",
      "c:\\users\\khanhhanguyen\\appdata\\local\\continuum\\anaconda3\\envs\\kia\\lib\\site-packages\\ipykernel_launcher.py:28: RuntimeWarning: divide by zero encountered in log2\n",
      "c:\\users\\khanhhanguyen\\appdata\\local\\continuum\\anaconda3\\envs\\kia\\lib\\site-packages\\ipykernel_launcher.py:28: RuntimeWarning: invalid value encountered in multiply\n",
      "c:\\users\\khanhhanguyen\\appdata\\local\\continuum\\anaconda3\\envs\\kia\\lib\\site-packages\\ipykernel_launcher.py:28: RuntimeWarning: divide by zero encountered in log2\n",
      "c:\\users\\khanhhanguyen\\appdata\\local\\continuum\\anaconda3\\envs\\kia\\lib\\site-packages\\ipykernel_launcher.py:28: RuntimeWarning: invalid value encountered in multiply\n",
      "c:\\users\\khanhhanguyen\\appdata\\local\\continuum\\anaconda3\\envs\\kia\\lib\\site-packages\\ipykernel_launcher.py:28: RuntimeWarning: divide by zero encountered in log2\n",
      "c:\\users\\khanhhanguyen\\appdata\\local\\continuum\\anaconda3\\envs\\kia\\lib\\site-packages\\ipykernel_launcher.py:28: RuntimeWarning: invalid value encountered in multiply\n",
      "c:\\users\\khanhhanguyen\\appdata\\local\\continuum\\anaconda3\\envs\\kia\\lib\\site-packages\\ipykernel_launcher.py:28: RuntimeWarning: divide by zero encountered in log2\n",
      "c:\\users\\khanhhanguyen\\appdata\\local\\continuum\\anaconda3\\envs\\kia\\lib\\site-packages\\ipykernel_launcher.py:28: RuntimeWarning: invalid value encountered in multiply\n",
      "c:\\users\\khanhhanguyen\\appdata\\local\\continuum\\anaconda3\\envs\\kia\\lib\\site-packages\\ipykernel_launcher.py:28: RuntimeWarning: divide by zero encountered in log2\n",
      "c:\\users\\khanhhanguyen\\appdata\\local\\continuum\\anaconda3\\envs\\kia\\lib\\site-packages\\ipykernel_launcher.py:28: RuntimeWarning: invalid value encountered in multiply\n",
      "c:\\users\\khanhhanguyen\\appdata\\local\\continuum\\anaconda3\\envs\\kia\\lib\\site-packages\\ipykernel_launcher.py:28: RuntimeWarning: divide by zero encountered in log2\n",
      "c:\\users\\khanhhanguyen\\appdata\\local\\continuum\\anaconda3\\envs\\kia\\lib\\site-packages\\ipykernel_launcher.py:28: RuntimeWarning: invalid value encountered in multiply\n",
      "c:\\users\\khanhhanguyen\\appdata\\local\\continuum\\anaconda3\\envs\\kia\\lib\\site-packages\\ipykernel_launcher.py:28: RuntimeWarning: divide by zero encountered in log2\n",
      "c:\\users\\khanhhanguyen\\appdata\\local\\continuum\\anaconda3\\envs\\kia\\lib\\site-packages\\ipykernel_launcher.py:28: RuntimeWarning: invalid value encountered in multiply\n",
      "c:\\users\\khanhhanguyen\\appdata\\local\\continuum\\anaconda3\\envs\\kia\\lib\\site-packages\\ipykernel_launcher.py:28: RuntimeWarning: divide by zero encountered in log2\n",
      "c:\\users\\khanhhanguyen\\appdata\\local\\continuum\\anaconda3\\envs\\kia\\lib\\site-packages\\ipykernel_launcher.py:28: RuntimeWarning: invalid value encountered in multiply\n",
      "c:\\users\\khanhhanguyen\\appdata\\local\\continuum\\anaconda3\\envs\\kia\\lib\\site-packages\\ipykernel_launcher.py:28: RuntimeWarning: divide by zero encountered in log2\n",
      "c:\\users\\khanhhanguyen\\appdata\\local\\continuum\\anaconda3\\envs\\kia\\lib\\site-packages\\ipykernel_launcher.py:28: RuntimeWarning: invalid value encountered in multiply\n",
      "c:\\users\\khanhhanguyen\\appdata\\local\\continuum\\anaconda3\\envs\\kia\\lib\\site-packages\\ipykernel_launcher.py:28: RuntimeWarning: divide by zero encountered in log2\n",
      "c:\\users\\khanhhanguyen\\appdata\\local\\continuum\\anaconda3\\envs\\kia\\lib\\site-packages\\ipykernel_launcher.py:28: RuntimeWarning: invalid value encountered in multiply\n",
      "c:\\users\\khanhhanguyen\\appdata\\local\\continuum\\anaconda3\\envs\\kia\\lib\\site-packages\\ipykernel_launcher.py:28: RuntimeWarning: divide by zero encountered in log2\n",
      "c:\\users\\khanhhanguyen\\appdata\\local\\continuum\\anaconda3\\envs\\kia\\lib\\site-packages\\ipykernel_launcher.py:28: RuntimeWarning: invalid value encountered in multiply\n",
      "c:\\users\\khanhhanguyen\\appdata\\local\\continuum\\anaconda3\\envs\\kia\\lib\\site-packages\\ipykernel_launcher.py:28: RuntimeWarning: divide by zero encountered in log2\n",
      "c:\\users\\khanhhanguyen\\appdata\\local\\continuum\\anaconda3\\envs\\kia\\lib\\site-packages\\ipykernel_launcher.py:28: RuntimeWarning: invalid value encountered in multiply\n",
      "c:\\users\\khanhhanguyen\\appdata\\local\\continuum\\anaconda3\\envs\\kia\\lib\\site-packages\\ipykernel_launcher.py:28: RuntimeWarning: divide by zero encountered in log2\n",
      "c:\\users\\khanhhanguyen\\appdata\\local\\continuum\\anaconda3\\envs\\kia\\lib\\site-packages\\ipykernel_launcher.py:28: RuntimeWarning: invalid value encountered in multiply\n",
      "c:\\users\\khanhhanguyen\\appdata\\local\\continuum\\anaconda3\\envs\\kia\\lib\\site-packages\\ipykernel_launcher.py:28: RuntimeWarning: divide by zero encountered in log2\n",
      "c:\\users\\khanhhanguyen\\appdata\\local\\continuum\\anaconda3\\envs\\kia\\lib\\site-packages\\ipykernel_launcher.py:28: RuntimeWarning: invalid value encountered in multiply\n",
      "c:\\users\\khanhhanguyen\\appdata\\local\\continuum\\anaconda3\\envs\\kia\\lib\\site-packages\\ipykernel_launcher.py:28: RuntimeWarning: divide by zero encountered in log2\n",
      "c:\\users\\khanhhanguyen\\appdata\\local\\continuum\\anaconda3\\envs\\kia\\lib\\site-packages\\ipykernel_launcher.py:28: RuntimeWarning: invalid value encountered in multiply\n",
      "c:\\users\\khanhhanguyen\\appdata\\local\\continuum\\anaconda3\\envs\\kia\\lib\\site-packages\\ipykernel_launcher.py:28: RuntimeWarning: divide by zero encountered in log2\n"
     ]
    },
    {
     "name": "stderr",
     "output_type": "stream",
     "text": [
      "c:\\users\\khanhhanguyen\\appdata\\local\\continuum\\anaconda3\\envs\\kia\\lib\\site-packages\\ipykernel_launcher.py:28: RuntimeWarning: invalid value encountered in multiply\n",
      " 50%|██████████████████████████████████████████                                          | 1/2 [00:02<00:02,  2.35s/it]c:\\users\\khanhhanguyen\\appdata\\local\\continuum\\anaconda3\\envs\\kia\\lib\\site-packages\\ipykernel_launcher.py:28: RuntimeWarning: divide by zero encountered in log2\n",
      "c:\\users\\khanhhanguyen\\appdata\\local\\continuum\\anaconda3\\envs\\kia\\lib\\site-packages\\ipykernel_launcher.py:28: RuntimeWarning: invalid value encountered in multiply\n",
      "c:\\users\\khanhhanguyen\\appdata\\local\\continuum\\anaconda3\\envs\\kia\\lib\\site-packages\\ipykernel_launcher.py:28: RuntimeWarning: divide by zero encountered in log2\n",
      "c:\\users\\khanhhanguyen\\appdata\\local\\continuum\\anaconda3\\envs\\kia\\lib\\site-packages\\ipykernel_launcher.py:28: RuntimeWarning: invalid value encountered in multiply\n",
      "c:\\users\\khanhhanguyen\\appdata\\local\\continuum\\anaconda3\\envs\\kia\\lib\\site-packages\\ipykernel_launcher.py:28: RuntimeWarning: divide by zero encountered in log2\n",
      "c:\\users\\khanhhanguyen\\appdata\\local\\continuum\\anaconda3\\envs\\kia\\lib\\site-packages\\ipykernel_launcher.py:28: RuntimeWarning: invalid value encountered in multiply\n",
      "c:\\users\\khanhhanguyen\\appdata\\local\\continuum\\anaconda3\\envs\\kia\\lib\\site-packages\\ipykernel_launcher.py:28: RuntimeWarning: divide by zero encountered in log2\n",
      "c:\\users\\khanhhanguyen\\appdata\\local\\continuum\\anaconda3\\envs\\kia\\lib\\site-packages\\ipykernel_launcher.py:28: RuntimeWarning: invalid value encountered in multiply\n",
      "c:\\users\\khanhhanguyen\\appdata\\local\\continuum\\anaconda3\\envs\\kia\\lib\\site-packages\\ipykernel_launcher.py:28: RuntimeWarning: divide by zero encountered in log2\n",
      "c:\\users\\khanhhanguyen\\appdata\\local\\continuum\\anaconda3\\envs\\kia\\lib\\site-packages\\ipykernel_launcher.py:28: RuntimeWarning: invalid value encountered in multiply\n",
      "c:\\users\\khanhhanguyen\\appdata\\local\\continuum\\anaconda3\\envs\\kia\\lib\\site-packages\\ipykernel_launcher.py:28: RuntimeWarning: divide by zero encountered in log2\n",
      "c:\\users\\khanhhanguyen\\appdata\\local\\continuum\\anaconda3\\envs\\kia\\lib\\site-packages\\ipykernel_launcher.py:28: RuntimeWarning: invalid value encountered in multiply\n",
      "c:\\users\\khanhhanguyen\\appdata\\local\\continuum\\anaconda3\\envs\\kia\\lib\\site-packages\\ipykernel_launcher.py:28: RuntimeWarning: divide by zero encountered in log2\n",
      "c:\\users\\khanhhanguyen\\appdata\\local\\continuum\\anaconda3\\envs\\kia\\lib\\site-packages\\ipykernel_launcher.py:28: RuntimeWarning: invalid value encountered in multiply\n",
      "c:\\users\\khanhhanguyen\\appdata\\local\\continuum\\anaconda3\\envs\\kia\\lib\\site-packages\\ipykernel_launcher.py:28: RuntimeWarning: divide by zero encountered in log2\n",
      "c:\\users\\khanhhanguyen\\appdata\\local\\continuum\\anaconda3\\envs\\kia\\lib\\site-packages\\ipykernel_launcher.py:28: RuntimeWarning: invalid value encountered in multiply\n",
      "c:\\users\\khanhhanguyen\\appdata\\local\\continuum\\anaconda3\\envs\\kia\\lib\\site-packages\\ipykernel_launcher.py:28: RuntimeWarning: divide by zero encountered in log2\n",
      "c:\\users\\khanhhanguyen\\appdata\\local\\continuum\\anaconda3\\envs\\kia\\lib\\site-packages\\ipykernel_launcher.py:28: RuntimeWarning: invalid value encountered in multiply\n",
      "c:\\users\\khanhhanguyen\\appdata\\local\\continuum\\anaconda3\\envs\\kia\\lib\\site-packages\\ipykernel_launcher.py:28: RuntimeWarning: divide by zero encountered in log2\n",
      "c:\\users\\khanhhanguyen\\appdata\\local\\continuum\\anaconda3\\envs\\kia\\lib\\site-packages\\ipykernel_launcher.py:28: RuntimeWarning: invalid value encountered in multiply\n",
      "c:\\users\\khanhhanguyen\\appdata\\local\\continuum\\anaconda3\\envs\\kia\\lib\\site-packages\\ipykernel_launcher.py:28: RuntimeWarning: divide by zero encountered in log2\n",
      "c:\\users\\khanhhanguyen\\appdata\\local\\continuum\\anaconda3\\envs\\kia\\lib\\site-packages\\ipykernel_launcher.py:28: RuntimeWarning: invalid value encountered in multiply\n",
      "c:\\users\\khanhhanguyen\\appdata\\local\\continuum\\anaconda3\\envs\\kia\\lib\\site-packages\\ipykernel_launcher.py:28: RuntimeWarning: divide by zero encountered in log2\n",
      "c:\\users\\khanhhanguyen\\appdata\\local\\continuum\\anaconda3\\envs\\kia\\lib\\site-packages\\ipykernel_launcher.py:28: RuntimeWarning: invalid value encountered in multiply\n",
      "c:\\users\\khanhhanguyen\\appdata\\local\\continuum\\anaconda3\\envs\\kia\\lib\\site-packages\\ipykernel_launcher.py:28: RuntimeWarning: divide by zero encountered in log2\n",
      "c:\\users\\khanhhanguyen\\appdata\\local\\continuum\\anaconda3\\envs\\kia\\lib\\site-packages\\ipykernel_launcher.py:28: RuntimeWarning: invalid value encountered in multiply\n",
      "c:\\users\\khanhhanguyen\\appdata\\local\\continuum\\anaconda3\\envs\\kia\\lib\\site-packages\\ipykernel_launcher.py:28: RuntimeWarning: divide by zero encountered in log2\n",
      "c:\\users\\khanhhanguyen\\appdata\\local\\continuum\\anaconda3\\envs\\kia\\lib\\site-packages\\ipykernel_launcher.py:28: RuntimeWarning: invalid value encountered in multiply\n",
      "c:\\users\\khanhhanguyen\\appdata\\local\\continuum\\anaconda3\\envs\\kia\\lib\\site-packages\\ipykernel_launcher.py:28: RuntimeWarning: divide by zero encountered in log2\n",
      "c:\\users\\khanhhanguyen\\appdata\\local\\continuum\\anaconda3\\envs\\kia\\lib\\site-packages\\ipykernel_launcher.py:28: RuntimeWarning: invalid value encountered in multiply\n",
      "c:\\users\\khanhhanguyen\\appdata\\local\\continuum\\anaconda3\\envs\\kia\\lib\\site-packages\\ipykernel_launcher.py:28: RuntimeWarning: divide by zero encountered in log2\n",
      "c:\\users\\khanhhanguyen\\appdata\\local\\continuum\\anaconda3\\envs\\kia\\lib\\site-packages\\ipykernel_launcher.py:28: RuntimeWarning: invalid value encountered in multiply\n",
      "c:\\users\\khanhhanguyen\\appdata\\local\\continuum\\anaconda3\\envs\\kia\\lib\\site-packages\\ipykernel_launcher.py:28: RuntimeWarning: divide by zero encountered in log2\n",
      "c:\\users\\khanhhanguyen\\appdata\\local\\continuum\\anaconda3\\envs\\kia\\lib\\site-packages\\ipykernel_launcher.py:28: RuntimeWarning: invalid value encountered in multiply\n",
      "c:\\users\\khanhhanguyen\\appdata\\local\\continuum\\anaconda3\\envs\\kia\\lib\\site-packages\\ipykernel_launcher.py:28: RuntimeWarning: divide by zero encountered in log2\n",
      "c:\\users\\khanhhanguyen\\appdata\\local\\continuum\\anaconda3\\envs\\kia\\lib\\site-packages\\ipykernel_launcher.py:28: RuntimeWarning: invalid value encountered in multiply\n",
      "c:\\users\\khanhhanguyen\\appdata\\local\\continuum\\anaconda3\\envs\\kia\\lib\\site-packages\\ipykernel_launcher.py:28: RuntimeWarning: divide by zero encountered in log2\n",
      "c:\\users\\khanhhanguyen\\appdata\\local\\continuum\\anaconda3\\envs\\kia\\lib\\site-packages\\ipykernel_launcher.py:28: RuntimeWarning: invalid value encountered in multiply\n",
      "c:\\users\\khanhhanguyen\\appdata\\local\\continuum\\anaconda3\\envs\\kia\\lib\\site-packages\\ipykernel_launcher.py:28: RuntimeWarning: divide by zero encountered in log2\n",
      "c:\\users\\khanhhanguyen\\appdata\\local\\continuum\\anaconda3\\envs\\kia\\lib\\site-packages\\ipykernel_launcher.py:28: RuntimeWarning: invalid value encountered in multiply\n",
      "c:\\users\\khanhhanguyen\\appdata\\local\\continuum\\anaconda3\\envs\\kia\\lib\\site-packages\\ipykernel_launcher.py:28: RuntimeWarning: divide by zero encountered in log2\n",
      "c:\\users\\khanhhanguyen\\appdata\\local\\continuum\\anaconda3\\envs\\kia\\lib\\site-packages\\ipykernel_launcher.py:28: RuntimeWarning: invalid value encountered in multiply\n",
      "c:\\users\\khanhhanguyen\\appdata\\local\\continuum\\anaconda3\\envs\\kia\\lib\\site-packages\\ipykernel_launcher.py:28: RuntimeWarning: divide by zero encountered in log2\n",
      "c:\\users\\khanhhanguyen\\appdata\\local\\continuum\\anaconda3\\envs\\kia\\lib\\site-packages\\ipykernel_launcher.py:28: RuntimeWarning: invalid value encountered in multiply\n",
      "c:\\users\\khanhhanguyen\\appdata\\local\\continuum\\anaconda3\\envs\\kia\\lib\\site-packages\\ipykernel_launcher.py:28: RuntimeWarning: divide by zero encountered in log2\n",
      "c:\\users\\khanhhanguyen\\appdata\\local\\continuum\\anaconda3\\envs\\kia\\lib\\site-packages\\ipykernel_launcher.py:28: RuntimeWarning: invalid value encountered in multiply\n",
      "c:\\users\\khanhhanguyen\\appdata\\local\\continuum\\anaconda3\\envs\\kia\\lib\\site-packages\\ipykernel_launcher.py:28: RuntimeWarning: divide by zero encountered in log2\n",
      "c:\\users\\khanhhanguyen\\appdata\\local\\continuum\\anaconda3\\envs\\kia\\lib\\site-packages\\ipykernel_launcher.py:28: RuntimeWarning: invalid value encountered in multiply\n",
      "c:\\users\\khanhhanguyen\\appdata\\local\\continuum\\anaconda3\\envs\\kia\\lib\\site-packages\\ipykernel_launcher.py:28: RuntimeWarning: divide by zero encountered in log2\n",
      "c:\\users\\khanhhanguyen\\appdata\\local\\continuum\\anaconda3\\envs\\kia\\lib\\site-packages\\ipykernel_launcher.py:28: RuntimeWarning: invalid value encountered in multiply\n",
      "c:\\users\\khanhhanguyen\\appdata\\local\\continuum\\anaconda3\\envs\\kia\\lib\\site-packages\\ipykernel_launcher.py:28: RuntimeWarning: divide by zero encountered in log2\n",
      "c:\\users\\khanhhanguyen\\appdata\\local\\continuum\\anaconda3\\envs\\kia\\lib\\site-packages\\ipykernel_launcher.py:28: RuntimeWarning: invalid value encountered in multiply\n",
      "c:\\users\\khanhhanguyen\\appdata\\local\\continuum\\anaconda3\\envs\\kia\\lib\\site-packages\\ipykernel_launcher.py:28: RuntimeWarning: divide by zero encountered in log2\n",
      "c:\\users\\khanhhanguyen\\appdata\\local\\continuum\\anaconda3\\envs\\kia\\lib\\site-packages\\ipykernel_launcher.py:28: RuntimeWarning: invalid value encountered in multiply\n",
      "c:\\users\\khanhhanguyen\\appdata\\local\\continuum\\anaconda3\\envs\\kia\\lib\\site-packages\\ipykernel_launcher.py:28: RuntimeWarning: divide by zero encountered in log2\n",
      "c:\\users\\khanhhanguyen\\appdata\\local\\continuum\\anaconda3\\envs\\kia\\lib\\site-packages\\ipykernel_launcher.py:28: RuntimeWarning: invalid value encountered in multiply\n",
      "c:\\users\\khanhhanguyen\\appdata\\local\\continuum\\anaconda3\\envs\\kia\\lib\\site-packages\\ipykernel_launcher.py:28: RuntimeWarning: divide by zero encountered in log2\n",
      "c:\\users\\khanhhanguyen\\appdata\\local\\continuum\\anaconda3\\envs\\kia\\lib\\site-packages\\ipykernel_launcher.py:28: RuntimeWarning: invalid value encountered in multiply\n",
      "c:\\users\\khanhhanguyen\\appdata\\local\\continuum\\anaconda3\\envs\\kia\\lib\\site-packages\\ipykernel_launcher.py:27: RuntimeWarning: divide by zero encountered in log2\n",
      "c:\\users\\khanhhanguyen\\appdata\\local\\continuum\\anaconda3\\envs\\kia\\lib\\site-packages\\ipykernel_launcher.py:27: RuntimeWarning: invalid value encountered in double_scalars\n",
      "c:\\users\\khanhhanguyen\\appdata\\local\\continuum\\anaconda3\\envs\\kia\\lib\\site-packages\\ipykernel_launcher.py:28: RuntimeWarning: divide by zero encountered in log2\n",
      "c:\\users\\khanhhanguyen\\appdata\\local\\continuum\\anaconda3\\envs\\kia\\lib\\site-packages\\ipykernel_launcher.py:28: RuntimeWarning: invalid value encountered in multiply\n",
      "c:\\users\\khanhhanguyen\\appdata\\local\\continuum\\anaconda3\\envs\\kia\\lib\\site-packages\\ipykernel_launcher.py:28: RuntimeWarning: divide by zero encountered in log2\n",
      "c:\\users\\khanhhanguyen\\appdata\\local\\continuum\\anaconda3\\envs\\kia\\lib\\site-packages\\ipykernel_launcher.py:28: RuntimeWarning: invalid value encountered in multiply\n",
      "c:\\users\\khanhhanguyen\\appdata\\local\\continuum\\anaconda3\\envs\\kia\\lib\\site-packages\\ipykernel_launcher.py:28: RuntimeWarning: divide by zero encountered in log2\n",
      "c:\\users\\khanhhanguyen\\appdata\\local\\continuum\\anaconda3\\envs\\kia\\lib\\site-packages\\ipykernel_launcher.py:28: RuntimeWarning: invalid value encountered in multiply\n"
     ]
    },
    {
     "name": "stderr",
     "output_type": "stream",
     "text": [
      "c:\\users\\khanhhanguyen\\appdata\\local\\continuum\\anaconda3\\envs\\kia\\lib\\site-packages\\ipykernel_launcher.py:28: RuntimeWarning: divide by zero encountered in log2\n",
      "c:\\users\\khanhhanguyen\\appdata\\local\\continuum\\anaconda3\\envs\\kia\\lib\\site-packages\\ipykernel_launcher.py:28: RuntimeWarning: invalid value encountered in multiply\n",
      "c:\\users\\khanhhanguyen\\appdata\\local\\continuum\\anaconda3\\envs\\kia\\lib\\site-packages\\ipykernel_launcher.py:28: RuntimeWarning: divide by zero encountered in log2\n",
      "c:\\users\\khanhhanguyen\\appdata\\local\\continuum\\anaconda3\\envs\\kia\\lib\\site-packages\\ipykernel_launcher.py:28: RuntimeWarning: invalid value encountered in multiply\n",
      "c:\\users\\khanhhanguyen\\appdata\\local\\continuum\\anaconda3\\envs\\kia\\lib\\site-packages\\ipykernel_launcher.py:28: RuntimeWarning: divide by zero encountered in log2\n",
      "c:\\users\\khanhhanguyen\\appdata\\local\\continuum\\anaconda3\\envs\\kia\\lib\\site-packages\\ipykernel_launcher.py:28: RuntimeWarning: invalid value encountered in multiply\n",
      "c:\\users\\khanhhanguyen\\appdata\\local\\continuum\\anaconda3\\envs\\kia\\lib\\site-packages\\ipykernel_launcher.py:28: RuntimeWarning: divide by zero encountered in log2\n",
      "c:\\users\\khanhhanguyen\\appdata\\local\\continuum\\anaconda3\\envs\\kia\\lib\\site-packages\\ipykernel_launcher.py:28: RuntimeWarning: invalid value encountered in multiply\n",
      "c:\\users\\khanhhanguyen\\appdata\\local\\continuum\\anaconda3\\envs\\kia\\lib\\site-packages\\ipykernel_launcher.py:28: RuntimeWarning: divide by zero encountered in log2\n",
      "c:\\users\\khanhhanguyen\\appdata\\local\\continuum\\anaconda3\\envs\\kia\\lib\\site-packages\\ipykernel_launcher.py:28: RuntimeWarning: invalid value encountered in multiply\n",
      "c:\\users\\khanhhanguyen\\appdata\\local\\continuum\\anaconda3\\envs\\kia\\lib\\site-packages\\ipykernel_launcher.py:28: RuntimeWarning: divide by zero encountered in log2\n",
      "c:\\users\\khanhhanguyen\\appdata\\local\\continuum\\anaconda3\\envs\\kia\\lib\\site-packages\\ipykernel_launcher.py:28: RuntimeWarning: invalid value encountered in multiply\n",
      "100%|████████████████████████████████████████████████████████████████████████████████████| 2/2 [00:06<00:00,  3.01s/it]\n"
     ]
    }
   ],
   "source": [
    "feature_groups = []\n",
    "for g in tqdm(group):\n",
    "    trials = []\n",
    "    for csv_files in [csv_files_one, csv_files_two, csv_files_three]:\n",
    "        ret = defaultdict(list)\n",
    "        for csv in csv_files:\n",
    "            par_id = csv[14:17]\n",
    "            if par_id not in g:\n",
    "                continue\n",
    "            Eblk, Efix, Esac, trans_matrix, Hs, Ht, total_time = run_all(csv)\n",
    "            ret[\"Eblk\"].append(Eblk)\n",
    "            ret[\"Efix\"].append(Efix)\n",
    "            ret[\"Esac\"].append(Esac)\n",
    "            ret[\"trans_matrix\"].append(trans_matrix)\n",
    "            ret[\"Hs\"].append(Hs)\n",
    "            ret[\"Ht\"].append(Ht)\n",
    "            ret[\"total_time\"].append(total_time)\n",
    "        trials.append(ret)\n",
    "    feature_groups.append(trials)"
   ]
  },
  {
   "cell_type": "markdown",
   "metadata": {},
   "source": [
    "# hypothesis test"
   ]
  },
  {
   "cell_type": "code",
   "execution_count": 19,
   "metadata": {},
   "outputs": [],
   "source": [
    "# standardized effect size - cohen's d \n",
    "def effect_size(a, b):\n",
    "    es = np.abs(np.mean(a) - np.mean(b))\n",
    "    sd_pooled = np.sqrt((((len(a)-1)*(np.std(a)**2) + (len(b)-1)*(np.std(b)**2)) / (len(a) + len(b) - 2)))\n",
    "    d = es/sd_pooled\n",
    "    \n",
    "    return d"
   ]
  },
  {
   "cell_type": "code",
   "execution_count": 25,
   "metadata": {},
   "outputs": [],
   "source": [
    "def statistic(g):\n",
    "    print(\"GROUP 1\")\n",
    "    print(\"mean trial 1:\", np.mean(g[0][0]))\n",
    "    print(\"mean trial 2:\", np.mean(g[0][1]))\n",
    "    print(\"mean trial 3:\", np.mean(g[0][2]))\n",
    "\n",
    "    print(\"\\nstd trial 1:\", np.std(g[0][0]))\n",
    "    print(  \"std trial 2:\", np.std(g[0][1]))\n",
    "    print(  \"std trial 3:\", np.std(g[0][2]))\n",
    "\n",
    "    print(\"--------------------------\")\n",
    "    print(\"GROUP 2\")\n",
    "    print(\"mean trial 1:\", np.mean(g[1][0]))\n",
    "    print(\"mean trial 2:\", np.mean(g[1][1]))\n",
    "    print(\"mean trial 3:\", np.mean(g[1][2]))\n",
    "\n",
    "    print(\"\\nstd trial 1:\", np.std(g[1][0]))\n",
    "    print(  \"std trial 2:\", np.std(g[1][1]))\n",
    "    print(  \"std trial 3:\", np.std(g[1][2]))"
   ]
  },
  {
   "cell_type": "markdown",
   "metadata": {},
   "source": [
    "## fixation count"
   ]
  },
  {
   "cell_type": "code",
   "execution_count": 75,
   "metadata": {},
   "outputs": [],
   "source": [
    "g = []\n",
    "for v in feature_groups:\n",
    "    x = np.array([len(v) for v in v[0]['Efix']])/np.array(v[0]['total_time'])*1000\n",
    "    y = np.array([len(v) for v in v[1]['Efix']])/np.array(v[1]['total_time'])*1000\n",
    "    z = np.array([len(v) for v in v[2]['Efix']])/np.array(v[2]['total_time'])*1000\n",
    "\n",
    "    g.append([x,y,z])"
   ]
  },
  {
   "cell_type": "code",
   "execution_count": 76,
   "metadata": {},
   "outputs": [
    {
     "name": "stdout",
     "output_type": "stream",
     "text": [
      "GROUP 1\n",
      "mean trial 1: 2.5341624659854247\n",
      "mean trial 2: 2.787380311075475\n",
      "mean trial 3: 2.632076457334475\n",
      "\n",
      "std trial 1: 0.648067211716558\n",
      "std trial 2: 0.2579959704868572\n",
      "std trial 3: 0.33681306005581\n",
      "--------------------------\n",
      "GROUP 2\n",
      "mean trial 1: 2.819582132646579\n",
      "mean trial 2: 2.8548615129938297\n",
      "mean trial 3: 2.8306069973099026\n",
      "\n",
      "std trial 1: 0.3144658869610738\n",
      "std trial 2: 0.24493859619843417\n",
      "std trial 3: 0.25892061357044466\n"
     ]
    }
   ],
   "source": [
    "statistic(g)"
   ]
  },
  {
   "cell_type": "code",
   "execution_count": 77,
   "metadata": {},
   "outputs": [
    {
     "data": {
      "text/plain": [
       "Ttest_indResult(statistic=-1.4896529681039306, pvalue=0.1557453116041762)"
      ]
     },
     "execution_count": 77,
     "metadata": {},
     "output_type": "execute_result"
    }
   ],
   "source": [
    "scipy.stats.ttest_ind(g[0][2], g[1][2], equal_var = False)"
   ]
  },
  {
   "cell_type": "code",
   "execution_count": 78,
   "metadata": {},
   "outputs": [
    {
     "data": {
      "text/plain": [
       "0.6768930439711685"
      ]
     },
     "execution_count": 78,
     "metadata": {},
     "output_type": "execute_result"
    }
   ],
   "source": [
    "effect_size(g[0][2],g[1][2])"
   ]
  },
  {
   "cell_type": "markdown",
   "metadata": {},
   "source": [
    "## fixation duration"
   ]
  },
  {
   "cell_type": "code",
   "execution_count": 79,
   "metadata": {},
   "outputs": [],
   "source": [
    "g = []\n",
    "for v in feature_groups:\n",
    "    x = np.array([])\n",
    "    for i, p in enumerate(v[0]['Efix']):\n",
    "        x = np.append(x,np.array(p).T[2])\n",
    "\n",
    "    y = []\n",
    "    for i, p in enumerate(v[1]['Efix']):\n",
    "        y = np.append(y,np.array(p).T[2])\n",
    "\n",
    "    z = []\n",
    "    for i, p in enumerate(v[2]['Efix']):\n",
    "        z = np.append(z,np.array(p).T[2])\n",
    "        \n",
    "    g.append([x,y,z])\n",
    "    "
   ]
  },
  {
   "cell_type": "code",
   "execution_count": 80,
   "metadata": {},
   "outputs": [
    {
     "name": "stdout",
     "output_type": "stream",
     "text": [
      "GROUP 1\n",
      "mean trial 1: 204.40369556977026\n",
      "mean trial 2: 204.2687406858598\n",
      "mean trial 3: 205.45100911161882\n",
      "\n",
      "std trial 1: 199.9427968851456\n",
      "std trial 2: 191.52683624893587\n",
      "std trial 3: 182.2572849996305\n",
      "--------------------------\n",
      "GROUP 2\n",
      "mean trial 1: 203.9062511033328\n",
      "mean trial 2: 216.55536761778345\n",
      "mean trial 3: 198.14541759112814\n",
      "\n",
      "std trial 1: 190.51646988803185\n",
      "std trial 2: 202.51649652261278\n",
      "std trial 3: 175.01682092024961\n"
     ]
    }
   ],
   "source": [
    "statistic(g)"
   ]
  },
  {
   "cell_type": "code",
   "execution_count": 85,
   "metadata": {},
   "outputs": [
    {
     "data": {
      "text/plain": [
       "Ttest_indResult(statistic=0.9265604330095188, pvalue=0.35427651172364394)"
      ]
     },
     "execution_count": 85,
     "metadata": {},
     "output_type": "execute_result"
    }
   ],
   "source": [
    "scipy.stats.ttest_ind(g[0][2], g[1][2], equal_var = False)"
   ]
  },
  {
   "cell_type": "code",
   "execution_count": 86,
   "metadata": {},
   "outputs": [
    {
     "data": {
      "text/plain": [
       "0.04103747092721051"
      ]
     },
     "execution_count": 86,
     "metadata": {},
     "output_type": "execute_result"
    }
   ],
   "source": [
    "effect_size(g[0][2],g[1][2])"
   ]
  },
  {
   "cell_type": "markdown",
   "metadata": {},
   "source": [
    "## SGE"
   ]
  },
  {
   "cell_type": "code",
   "execution_count": 87,
   "metadata": {},
   "outputs": [],
   "source": [
    "g = []\n",
    "for v in feature_groups:\n",
    "    x = np.array(v[0]['Hs'])\n",
    "    y = np.array(v[1]['Hs'])\n",
    "    z = np.array(v[2]['Hs'])\n",
    "\n",
    "    g.append([x,y,z])"
   ]
  },
  {
   "cell_type": "code",
   "execution_count": 88,
   "metadata": {},
   "outputs": [
    {
     "name": "stdout",
     "output_type": "stream",
     "text": [
      "GROUP 1\n",
      "mean trial 1: 1.5103813694222759\n",
      "mean trial 2: 1.479482047175015\n",
      "mean trial 3: 2.0081675255562677\n",
      "\n",
      "std trial 1: 0.25151702414687976\n",
      "std trial 2: 0.2668253793957232\n",
      "std trial 3: 0.34328910777172555\n",
      "--------------------------\n",
      "GROUP 2\n",
      "mean trial 1: 1.6450024252579145\n",
      "mean trial 2: 1.535543248954841\n",
      "mean trial 3: 1.8706108051834711\n",
      "\n",
      "std trial 1: 0.34501697574742524\n",
      "std trial 2: 0.3241505774938866\n",
      "std trial 3: 0.6010248360862738\n"
     ]
    }
   ],
   "source": [
    "statistic(g)"
   ]
  },
  {
   "cell_type": "code",
   "execution_count": 93,
   "metadata": {},
   "outputs": [
    {
     "data": {
      "text/plain": [
       "Ttest_indResult(statistic=-0.4546840456434708, pvalue=0.6536183806385925)"
      ]
     },
     "execution_count": 93,
     "metadata": {},
     "output_type": "execute_result"
    }
   ],
   "source": [
    "scipy.stats.ttest_ind(g[0][1], g[1][1], equal_var = False)"
   ]
  },
  {
   "cell_type": "code",
   "execution_count": 94,
   "metadata": {},
   "outputs": [
    {
     "data": {
      "text/plain": [
       "0.1865144462445202"
      ]
     },
     "execution_count": 94,
     "metadata": {},
     "output_type": "execute_result"
    }
   ],
   "source": [
    "effect_size(g[0][1],g[1][1])"
   ]
  },
  {
   "cell_type": "markdown",
   "metadata": {},
   "source": [
    "## GTE"
   ]
  },
  {
   "cell_type": "code",
   "execution_count": 95,
   "metadata": {},
   "outputs": [],
   "source": [
    "g = []\n",
    "for v in feature_groups:\n",
    "    x = np.array(v[0]['Ht'])\n",
    "    y = np.array(v[1]['Ht'])\n",
    "    z = np.array(v[2]['Ht'])\n",
    "\n",
    "    g.append([x,y,z])"
   ]
  },
  {
   "cell_type": "code",
   "execution_count": 96,
   "metadata": {},
   "outputs": [
    {
     "name": "stdout",
     "output_type": "stream",
     "text": [
      "GROUP 1\n",
      "mean trial 1: 1.0807025587639763\n",
      "mean trial 2: 1.0610754681499375\n",
      "mean trial 3: 1.3984240110388713\n",
      "\n",
      "std trial 1: 0.16860950410030703\n",
      "std trial 2: 0.23836251794453747\n",
      "std trial 3: 0.20814554351550482\n",
      "--------------------------\n",
      "GROUP 2\n",
      "mean trial 1: 1.1909855713734065\n",
      "mean trial 2: 1.132499987256989\n",
      "mean trial 3: 1.34530484547176\n",
      "\n",
      "std trial 1: 0.2614571330355321\n",
      "std trial 2: 0.2705067583257731\n",
      "std trial 3: 0.4641994181425891\n"
     ]
    }
   ],
   "source": [
    "statistic(g)"
   ]
  },
  {
   "cell_type": "code",
   "execution_count": 106,
   "metadata": {},
   "outputs": [
    {
     "data": {
      "text/plain": [
       "Ttest_indResult(statistic=0.3632058680936936, pvalue=0.720399526349748)"
      ]
     },
     "execution_count": 106,
     "metadata": {},
     "output_type": "execute_result"
    }
   ],
   "source": [
    "scipy.stats.ttest_ind(g[0][2], g[1][2], equal_var = False)"
   ]
  },
  {
   "cell_type": "code",
   "execution_count": 107,
   "metadata": {},
   "outputs": [
    {
     "data": {
      "text/plain": [
       "0.13947207002765363"
      ]
     },
     "execution_count": 107,
     "metadata": {},
     "output_type": "execute_result"
    }
   ],
   "source": [
    "effect_size(g[0][2],g[1][2])"
   ]
  },
  {
   "cell_type": "code",
   "execution_count": null,
   "metadata": {},
   "outputs": [],
   "source": []
  }
 ],
 "metadata": {
  "kernelspec": {
   "display_name": "Python 3",
   "language": "python",
   "name": "python3"
  },
  "language_info": {
   "codemirror_mode": {
    "name": "ipython",
    "version": 3
   },
   "file_extension": ".py",
   "mimetype": "text/x-python",
   "name": "python",
   "nbconvert_exporter": "python",
   "pygments_lexer": "ipython3",
   "version": "3.6.10"
  }
 },
 "nbformat": 4,
 "nbformat_minor": 4
}
