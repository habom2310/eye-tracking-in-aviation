{
 "cells": [
  {
   "cell_type": "markdown",
   "metadata": {},
   "source": [
    "# Import"
   ]
  },
  {
   "cell_type": "code",
   "execution_count": 1,
   "metadata": {},
   "outputs": [],
   "source": [
    "import pandas as pd\n",
    "import numpy as np\n",
    "import pygaze\n",
    "import matplotlib.pyplot as plt\n",
    "import matplotlib.image as mpimg\n",
    "import seaborn as sns\n",
    "import scipy\n",
    "import glob\n",
    "from tqdm import tqdm\n",
    "from sklearn.cluster import DBSCAN\n",
    "import detectors\n",
    "import gazeplotter\n",
    "from collections import defaultdict\n",
    "# import local lib\n",
    "import eye_metrics_utils\n",
    "import data_utils\n",
    "import gaze_entropy"
   ]
  },
  {
   "cell_type": "code",
   "execution_count": 2,
   "metadata": {},
   "outputs": [],
   "source": [
    "import warnings\n",
    "# warnings.filterwarnings(action='once')\n",
    "warnings.filterwarnings('ignore')"
   ]
  },
  {
   "cell_type": "code",
   "execution_count": 3,
   "metadata": {},
   "outputs": [],
   "source": [
    "csv_files = glob.glob(\"data/*.csv\")"
   ]
  },
  {
   "cell_type": "code",
   "execution_count": 4,
   "metadata": {},
   "outputs": [],
   "source": [
    "csv_files_one = [v for v in csv_files if \"One Gaze-Vergence\" in v]\n",
    "csv_files_two = [v for v in csv_files if \"Two Gaze-Vergence\" in v]\n",
    "csv_files_three = [v for v in csv_files if \"Three Go-Around Gaze-Vergence\" in v]"
   ]
  },
  {
   "cell_type": "code",
   "execution_count": 5,
   "metadata": {},
   "outputs": [
    {
     "data": {
      "text/plain": [
       "[['032', '027', '031', '028', '004', '008', '010', '029', '003', '007', '023'],\n",
       " ['021',\n",
       "  '006',\n",
       "  '019',\n",
       "  '022',\n",
       "  '015',\n",
       "  '016',\n",
       "  '014',\n",
       "  '005',\n",
       "  '025',\n",
       "  '002',\n",
       "  '001',\n",
       "  '020',\n",
       "  '011',\n",
       "  '017']]"
      ]
     },
     "execution_count": 5,
     "metadata": {},
     "output_type": "execute_result"
    }
   ],
   "source": [
    "df_par = pd.read_csv(\"participant.csv\")\n",
    "group = [df_par[df_par['Group'].str.contains(\"1\")]['ID'].tolist(), df_par[df_par['Group'].str.contains(\"2\")][\"ID\"].tolist()]\n",
    "group = [[i[-3:] for i in v] for v in group]\n",
    "group"
   ]
  },
  {
   "cell_type": "code",
   "execution_count": 6,
   "metadata": {},
   "outputs": [],
   "source": [
    "def run_all(df_data):\n",
    "    df_x = df_data.copy()\n",
    "    if (data_utils.check_percentage_null(df_x) < 0.5): # if missing value > 50%, remove\n",
    "        return None\n",
    "    \n",
    "    time = np.array(df_data['Start Time (secs)'].tolist())\n",
    "\n",
    "    Efix = eye_metrics_utils.detect_fixations(df_x)\n",
    "#     print(Efix)\n",
    "    X = np.array(Efix).T[3:].T\n",
    "    Hs, Ht = gaze_entropy.entropy(X)\n",
    "    total_time = time[-1] - time[0]\n",
    "    \n",
    "    return Efix, Hs, Ht, total_time\n",
    "    "
   ]
  },
  {
   "cell_type": "code",
   "execution_count": 7,
   "metadata": {},
   "outputs": [
    {
     "name": "stdout",
     "output_type": "stream",
     "text": [
      "data\\PISSS_ID_003_Approach One Gaze-Vergence.csv\n",
      "9122\n",
      "data\\PISSS_ID_004_Approach One Gaze-Vergence.csv\n",
      "9307\n",
      "data\\PISSS_ID_007_Approach One Gaze-Vergence.csv\n",
      "9492\n",
      "data\\PISSS_ID_008_Approach One Gaze-Vergence.csv\n",
      "9736\n",
      "data\\PISSS_ID_010_Approach One Gaze-Vergence.csv\n",
      "9554\n",
      "data\\PISSS_ID_023_Approach One Gaze-Vergence.csv\n",
      "9369\n",
      "data\\PISSS_ID_027_Approach One Gaze-Vergence.csv\n",
      "9060\n",
      "data\\PISSS_ID_028_Approach One Gaze-Vergence.csv\n",
      "8999\n",
      "data\\PISSS_ID_029_Approach One Gaze-Vergence.csv\n",
      "9862\n",
      "data\\PISSS_ID_031_Approach One Gaze-Vergence.csv\n",
      "9677\n",
      "data\\PISSS_ID_032_Approach One Gaze-Vergence.csv\n",
      "8629\n",
      "data\\PISSS_ID_003_Approach Two Gaze-Vergence.csv\n",
      "9368\n",
      "data\\PISSS_ID_004_Approach Two Gaze-Vergence.csv\n",
      "9862\n",
      "data\\PISSS_ID_007_Approach Two Gaze-Vergence.csv\n",
      "9677\n",
      "data\\PISSS_ID_008_Approach Two Gaze-Vergence.csv\n",
      "9923\n",
      "data\\PISSS_ID_010_Approach Two Gaze-Vergence.csv\n",
      "9923\n",
      "data\\PISSS_ID_023_Approach Two Gaze-Vergence.csv\n",
      "9677\n",
      "data\\PISSS_ID_027_Approach Two Gaze-Vergence.csv\n",
      "8568\n",
      "data\\PISSS_ID_028_Approach Two Gaze-Vergence.csv\n",
      "9554\n",
      "data\\PISSS_ID_029_Approach Two Gaze-Vergence.csv\n",
      "10232\n",
      "data\\PISSS_ID_031_Approach Two Gaze-Vergence.csv\n",
      "9923\n",
      "data\\PISSS_ID_032_Approach Two Gaze-Vergence.csv\n",
      "8011\n",
      "data\\PISSS_ID_003_Approach Three Go-Around Gaze-Vergence.csv\n",
      "2157\n",
      "data\\PISSS_ID_004_Approach Three Go-Around Gaze-Vergence.csv\n",
      "1849\n",
      "data\\PISSS_ID_007_Approach Three Go-Around Gaze-Vergence.csv\n",
      "2096\n",
      "data\\PISSS_ID_010_Approach Three Go-Around Gaze-Vergence.csv\n",
      "2589\n",
      "data\\PISSS_ID_023_Approach Three Go-Around Gaze-Vergence.csv\n",
      "1849\n",
      "data\\PISSS_ID_027_Approach Three Go-Around Gaze-Vergence.csv\n",
      "2280\n",
      "data\\PISSS_ID_028_Approach Three Go-Around Gaze-Vergence.csv\n",
      "2157\n",
      "data\\PISSS_ID_029_Approach Three Go-Around Gaze-Vergence.csv\n",
      "1725\n",
      "data\\PISSS_ID_031_Approach Three Go-Around Gaze-Vergence.csv\n",
      "1849\n",
      "data\\PISSS_ID_032_Approach Three Go-Around Gaze-Vergence.csv\n",
      "1911\n",
      "data\\PISSS_ID_001_Approach One Gaze-Vergence.csv\n",
      "9307\n",
      "data\\PISSS_ID_002_Approach One Gaze-Vergence.csv\n",
      "9184\n",
      "data\\PISSS_ID_005_Approach One Gaze-Vergence.csv\n",
      "8567\n",
      "data\\PISSS_ID_006_Approach One Gaze-Vergence.csv\n",
      "9985\n",
      "data\\PISSS_ID_011_Approach One Gaze-Vergence.csv\n",
      "9492\n",
      "data\\PISSS_ID_014_Approach One Gaze-Vergence.csv\n",
      "9369\n",
      "data\\PISSS_ID_015_Approach One Gaze-Vergence.csv\n",
      "27978\n",
      "data\\PISSS_ID_016_Approach One Gaze-Vergence.csv\n",
      "8259\n",
      "data\\PISSS_ID_017_Approach One Gaze-Vergence.csv\n",
      "10046\n",
      "data\\PISSS_ID_019_Approach One Gaze-Vergence.csv\n",
      "9615\n",
      "data\\PISSS_ID_020_Approach One Gaze-Vergence.csv\n",
      "9800\n",
      "data\\PISSS_ID_021_Approach One Gaze-Vergence.csv\n",
      "9492\n",
      "data\\PISSS_ID_022_Approach One Gaze-Vergence.csv\n",
      "9615\n",
      "data\\PISSS_ID_025_Approach One Gaze-Vergence.csv\n",
      "8382\n",
      "data\\PISSS_ID_001_Approach Two Gaze-Vergence.csv\n",
      "9554\n",
      "data\\PISSS_ID_002_Approach Two Gaze-Vergence.csv\n",
      "9430\n",
      "data\\PISSS_ID_005_Approach Two Gaze-Vergence.csv\n",
      "9245\n",
      "data\\PISSS_ID_006_Approach Two Gaze-Vergence.csv\n",
      "9739\n",
      "data\\PISSS_ID_011_Approach Two Gaze-Vergence.csv\n",
      "9492\n",
      "data\\PISSS_ID_014_Approach Two Gaze-Vergence.csv\n",
      "9307\n",
      "data\\PISSS_ID_015_Approach Two Gaze-Vergence.csv\n",
      "8812\n",
      "data\\PISSS_ID_016_Approach Two Gaze-Vergence.csv\n",
      "8259\n",
      "data\\PISSS_ID_017_Approach Two Gaze-Vergence.csv\n",
      "9184\n",
      "data\\PISSS_ID_019_Approach Two Gaze-Vergence.csv\n",
      "9615\n",
      "data\\PISSS_ID_020_Approach Two Gaze-Vergence.csv\n",
      "9923\n",
      "data\\PISSS_ID_021_Approach Two Gaze-Vergence.csv\n",
      "9369\n",
      "data\\PISSS_ID_022_Approach Two Gaze-Vergence.csv\n",
      "9307\n",
      "data\\PISSS_ID_025_Approach Two Gaze-Vergence.csv\n",
      "8937\n",
      "data\\PISSS_ID_001_Approach Three Go-Around Gaze-Vergence.csv\n",
      "2465\n",
      "data\\PISSS_ID_002_Approach Three Go-Around Gaze-Vergence.csv\n",
      "616\n",
      "data\\PISSS_ID_005_Approach Three Go-Around Gaze-Vergence.csv\n",
      "2230\n",
      "data\\PISSS_ID_006_Approach Three Go-Around Gaze-Vergence.csv\n",
      "2033\n",
      "data\\PISSS_ID_011_Approach Three Go-Around Gaze-Vergence.csv\n",
      "2157\n",
      "data\\PISSS_ID_014_Approach Three Go-Around Gaze-Vergence.csv\n",
      "2096\n",
      "data\\PISSS_ID_015_Approach Three Go-Around Gaze-Vergence.csv\n",
      "2033\n",
      "data\\PISSS_ID_016_Approach Three Go-Around Gaze-Vergence.csv\n",
      "2219\n",
      "data\\PISSS_ID_017_Approach Three Go-Around Gaze-Vergence.csv\n",
      "2650\n",
      "data\\PISSS_ID_019_Approach Three Go-Around Gaze-Vergence.csv\n",
      "1541\n",
      "data\\PISSS_ID_020_Approach Three Go-Around Gaze-Vergence.csv\n",
      "1665\n",
      "data\\PISSS_ID_021_Approach Three Go-Around Gaze-Vergence.csv\n",
      "1726\n",
      "data\\PISSS_ID_022_Approach Three Go-Around Gaze-Vergence.csv\n",
      "1972\n",
      "data\\PISSS_ID_025_Approach Three Go-Around Gaze-Vergence.csv\n",
      "2342\n"
     ]
    }
   ],
   "source": [
    "feature_groups = []\n",
    "for g in group:\n",
    "    trials = []\n",
    "    for csv_files in [csv_files_one, csv_files_two, csv_files_three]:\n",
    "        ret = defaultdict(list)\n",
    "        for csv in csv_files:\n",
    "            par_id = csv[14:17]\n",
    "            if par_id not in g:\n",
    "                continue\n",
    "                \n",
    "            print(csv)\n",
    "            df_data = pd.read_csv(csv)\n",
    "            print(len(df_data))\n",
    "            for v in data_utils.data_slicing(df_data):\n",
    "                r = run_all(v)\n",
    "                if r != None:\n",
    "                    Efix, Hs, Ht, total_time = r\n",
    "#                     ret[\"Eblk\"].append(Eblk)\n",
    "                    ret[\"Efix\"].append(Efix)\n",
    "#                     ret[\"Esac\"].append(Esac)\n",
    "#                     ret[\"trans_matrix\"].append(trans_matrix)\n",
    "                    ret[\"Hs\"].append(Hs)\n",
    "                    ret[\"Ht\"].append(Ht)\n",
    "                    ret[\"total_time\"].append(total_time)\n",
    "        trials.append(ret)\n",
    "    feature_groups.append(trials)"
   ]
  },
  {
   "cell_type": "code",
   "execution_count": null,
   "metadata": {},
   "outputs": [],
   "source": []
  },
  {
   "cell_type": "code",
   "execution_count": null,
   "metadata": {},
   "outputs": [],
   "source": []
  },
  {
   "cell_type": "code",
   "execution_count": null,
   "metadata": {},
   "outputs": [],
   "source": []
  },
  {
   "cell_type": "markdown",
   "metadata": {},
   "source": [
    "# function"
   ]
  },
  {
   "cell_type": "code",
   "execution_count": null,
   "metadata": {},
   "outputs": [],
   "source": [
    "def get_center(clustering, data):\n",
    "    center = []\n",
    "    for i in range(len(set(clustering.labels_)) - 1):\n",
    "        xi = data[np.where(clustering.labels_ == i)]\n",
    "        cx = sum(xi.T[0])/len(xi)\n",
    "        cy = sum(xi.T[1])/len(xi)\n",
    "        center.append((cx,cy))\n",
    "    return center\n",
    "\n",
    "# cluster_center = get_center(clustering,X)"
   ]
  },
  {
   "cell_type": "code",
   "execution_count": null,
   "metadata": {},
   "outputs": [],
   "source": [
    "def transition_matrix(transitions):\n",
    "    if len(transitions) == 0:\n",
    "        return 0\n",
    "    n = 1+ max(transitions) #number of states\n",
    "\n",
    "    M = [[0]*n for _ in range(n)]\n",
    "\n",
    "    for (i,j) in zip(transitions,transitions[1:]):\n",
    "        M[i][j] += 1\n",
    "\n",
    "    #now convert to probabilities:\n",
    "    for row in M:\n",
    "        s = sum(row)\n",
    "        if s > 0:\n",
    "            row[:] = [f/s for f in row]\n",
    "    return M\n"
   ]
  },
  {
   "cell_type": "code",
   "execution_count": null,
   "metadata": {},
   "outputs": [],
   "source": [
    "def distance(x,y):\n",
    "    return ((x[0]-y[0])**2 + (x[1]-y[1])**2)**0.5\n",
    "\n",
    "def dbscan_predict(cluster_center, X_new, min_dist = 50, metric=distance):\n",
    "    # Result is noise by default\n",
    "    y_new = np.ones(shape=len(X_new), dtype=int)*-1 \n",
    "\n",
    "    # Iterate all input samples for a label\n",
    "    for j, x_new in enumerate(X_new):\n",
    "        # Find a core sample closer than EPS\n",
    "        for i, x_core in enumerate(cluster_center): \n",
    "            if metric(x_new, x_core) < min_dist:\n",
    "                # Assign label of x_core to x_new\n",
    "                y_new[j] = i\n",
    "                break\n",
    "\n",
    "    return y_new\n",
    "\n",
    "\n",
    "def dbscan_predict2(cluster_center, X_new, min_dist = 50, metric=distance):\n",
    "    # Result is noise by default\n",
    "    y_new = np.ones(shape=len(X_new), dtype=int)*-1 \n",
    "\n",
    "    # Iterate all input samples for a label\n",
    "    for j, x_new in enumerate(X_new):\n",
    "        # Find a core sample closer than EPS\n",
    "        dist = [metric(x_new, v) for v in cluster_center]\n",
    "#         print(\"dist\", dist)\n",
    "#         print(\"argmin\", np.argmin(dist))\n",
    "        if len(dist) == 0:\n",
    "            continue\n",
    "        y_new[j] = np.argmin(dist)\n",
    "\n",
    "    return y_new"
   ]
  },
  {
   "cell_type": "code",
   "execution_count": null,
   "metadata": {},
   "outputs": [],
   "source": [
    "def data_slicing(df_data, window_length = 1200, stride = 300):\n",
    "    L = len(df_data)\n",
    "    for i in range(L//stride):\n",
    "        df_slice = df_data.iloc[i*stride:i*stride+window_length].copy()\n",
    "        if len(df_slice) < 600:\n",
    "            return\n",
    "        else:\n",
    "            yield df_slice"
   ]
  },
  {
   "cell_type": "code",
   "execution_count": null,
   "metadata": {},
   "outputs": [],
   "source": [
    "def check_percentage_null(df_data, missing = 0.0):\n",
    "    return len(df_data[df_data[\"X Pos\"] != 0])/len(df_data)"
   ]
  },
  {
   "cell_type": "code",
   "execution_count": null,
   "metadata": {},
   "outputs": [],
   "source": [
    "def run_all(df_data):\n",
    "    df_data.fillna(0.0, inplace=True)\n",
    "    if (check_percentage_null(df_data) < 0.5): # if missing value > 50%, remove\n",
    "        return None\n",
    "\n",
    "    x = np.array(df_data['X Pos'].tolist())\n",
    "    y = np.array(df_data['Y Pos'].tolist())\n",
    "    time = np.array(df_data['Start Time (secs)'].tolist())*1000\n",
    "    \n",
    "    # detect blink, fixation and saccade\n",
    "    Sblk, Eblk = detectors.blink_detection(x,y,time,minlen=6)\n",
    "    Sfix, Efix = detectors.fixation_detection(x,y,time,maxdist=5,mindur=50)\n",
    "    Ssac, Esac = detectors.saccade_detection(x,y,time,minlen=5,maxvel=40,maxacc=340)\n",
    "    \n",
    "    # clustering\n",
    "    X = np.array(Efix).T[3:].T\n",
    "    clustering = DBSCAN(eps=20, min_samples=3, metric = distance).fit(X)\n",
    "    cluster_center = get_center(clustering,X)\n",
    "    pred = dbscan_predict2(cluster_center, np.array(Efix).T[3:].T)\n",
    "    transitions = pred[np.where(pred!=-1)]\n",
    "    \n",
    "    # transition matrix and GTE, SGE\n",
    "    trans_matrix = transition_matrix(transitions)\n",
    "    Ht = 0\n",
    "    Hs = 0\n",
    "    if trans_matrix != 0:\n",
    "        pA = [len(np.where(np.array(transitions)==i)[0])/len(transitions) for i in range(len(set(transitions)))]\n",
    "        for i in range(len(pA)):\n",
    "            Hs += -1 * np.nan_to_num(pA[i]*np.log2(pA[i]))\n",
    "            t = np.nan_to_num(trans_matrix[i]*np.log2(trans_matrix[i]))\n",
    "            Ht += -sum(pA[i]*(t))\n",
    "    \n",
    "    total_time = time[-1] - time[0]\n",
    "        \n",
    "    return Eblk, Efix, Esac, trans_matrix, Hs, Ht, total_time\n",
    "    "
   ]
  },
  {
   "cell_type": "markdown",
   "metadata": {},
   "source": [
    "# import data"
   ]
  },
  {
   "cell_type": "code",
   "execution_count": null,
   "metadata": {},
   "outputs": [],
   "source": [
    "csv_files = glob.glob(\"data/*.csv\")"
   ]
  },
  {
   "cell_type": "code",
   "execution_count": null,
   "metadata": {},
   "outputs": [],
   "source": [
    "csv_files_one = [v for v in csv_files if \"One Gaze-Left\" in v]\n",
    "csv_files_two = [v for v in csv_files if \"Two Gaze-Left\" in v]\n",
    "csv_files_three = [v for v in csv_files if \"Three Go-Around Gaze-Left\" in v]"
   ]
  },
  {
   "cell_type": "code",
   "execution_count": null,
   "metadata": {},
   "outputs": [],
   "source": [
    "df_par = pd.read_csv(\"participant.csv\")\n",
    "group = [df_par[df_par['Group'].str.contains(\"1\")]['ID'].tolist(), df_par[df_par['Group'].str.contains(\"2\")][\"ID\"].tolist()]\n",
    "group = [[i[-3:] for i in v] for v in group]\n",
    "group"
   ]
  },
  {
   "cell_type": "code",
   "execution_count": null,
   "metadata": {},
   "outputs": [],
   "source": []
  },
  {
   "cell_type": "code",
   "execution_count": null,
   "metadata": {},
   "outputs": [],
   "source": [
    "feature_groups = []\n",
    "for g in group:\n",
    "    trials = []\n",
    "    for csv_files in [csv_files_one, csv_files_two, csv_files_three]:\n",
    "        ret = defaultdict(list)\n",
    "        for csv in csv_files:\n",
    "            par_id = csv[14:17]\n",
    "            if par_id not in g:\n",
    "                continue\n",
    "                \n",
    "            print(csv)\n",
    "            df_data = pd.read_csv(csv)\n",
    "            print(len(df_data))\n",
    "            for v in data_slicing(df_data):\n",
    "                r = run_all(v)\n",
    "                if r != None:\n",
    "                    Eblk, Efix, Esac, trans_matrix, Hs, Ht, total_time = r\n",
    "                    ret[\"Eblk\"].append(Eblk)\n",
    "                    ret[\"Efix\"].append(Efix)\n",
    "                    ret[\"Esac\"].append(Esac)\n",
    "                    ret[\"trans_matrix\"].append(trans_matrix)\n",
    "                    ret[\"Hs\"].append(Hs)\n",
    "                    ret[\"Ht\"].append(Ht)\n",
    "                    ret[\"total_time\"].append(total_time)\n",
    "        trials.append(ret)\n",
    "    feature_groups.append(trials)"
   ]
  },
  {
   "cell_type": "code",
   "execution_count": null,
   "metadata": {},
   "outputs": [],
   "source": [
    "df_data = pd.read_csv(\"data\\PISSS_ID_004_Approach Two Gaze-Left.csv\")\n",
    "df_slice = df_data.iloc[0:3000].copy()\n",
    "\n",
    "df_slice.fillna(0.0, inplace=True)\n",
    "print(check_percentage_null(df_slice))\n",
    "\n",
    "x = np.array(df_slice['X Pos'].tolist())\n",
    "y = np.array(df_slice['Y Pos'].tolist())\n",
    "time = np.array(df_slice['Start Time (secs)'].tolist())*1000\n",
    "\n",
    "# detect blink, fixation and saccade\n",
    "Sblk, Eblk = detectors.blink_detection(x,y,time,minlen=6)\n",
    "Sfix, Efix = detectors.fixation_detection(x,y,time,maxdist=10,mindur=50)\n",
    "Ssac, Esac = detectors.saccade_detection(x,y,time,minlen=5,maxvel=40,maxacc=340)\n"
   ]
  },
  {
   "cell_type": "code",
   "execution_count": null,
   "metadata": {},
   "outputs": [],
   "source": [
    "feature_groups[1][2]['trans_matrix']"
   ]
  },
  {
   "cell_type": "markdown",
   "metadata": {},
   "source": [
    "# hypothesis test"
   ]
  },
  {
   "cell_type": "code",
   "execution_count": 8,
   "metadata": {},
   "outputs": [],
   "source": [
    "# standardized effect size - cohen's d \n",
    "def effect_size(a, b):\n",
    "    es = np.abs(np.mean(a) - np.mean(b))\n",
    "    sd_pooled = np.sqrt((((len(a)-1)*(np.std(a)**2) + (len(b)-1)*(np.std(b)**2)) / (len(a) + len(b) - 2)))\n",
    "    d = es/sd_pooled\n",
    "    \n",
    "    \n",
    "    return d"
   ]
  },
  {
   "cell_type": "code",
   "execution_count": 9,
   "metadata": {},
   "outputs": [],
   "source": [
    "def statistic(g):\n",
    "    print(\"GROUP 1\")\n",
    "    print(\"mean trial 1:\", np.mean(g[0][0]))\n",
    "    print(\"mean trial 2:\", np.mean(g[0][1]))\n",
    "    print(\"mean trial 3:\", np.mean(g[0][2]))\n",
    "\n",
    "    print(\"\\nstd trial 1:\", np.std(g[0][0]))\n",
    "    print(  \"std trial 2:\", np.std(g[0][1]))\n",
    "    print(  \"std trial 3:\", np.std(g[0][2]))\n",
    "\n",
    "    print(\"--------------------------\")\n",
    "    print(\"GROUP 2\")\n",
    "    print(\"mean trial 1:\", np.mean(g[1][0]))\n",
    "    print(\"mean trial 2:\", np.mean(g[1][1]))\n",
    "    print(\"mean trial 3:\", np.mean(g[1][2]))\n",
    "\n",
    "    print(\"\\nstd trial 1:\", np.std(g[1][0]))\n",
    "    print(  \"std trial 2:\", np.std(g[1][1]))\n",
    "    print(  \"std trial 3:\", np.std(g[1][2]))"
   ]
  },
  {
   "cell_type": "code",
   "execution_count": 66,
   "metadata": {},
   "outputs": [],
   "source": [
    "def statistic2(g):\n",
    "    m = np.array([[np.mean(v) for v in u] for u in g]).reshape(-1)\n",
    "    std = np.array([[np.std(v) for v in u] for u in g]).reshape(-1)\n",
    "    group = [1,1,1,2,2,2]\n",
    "    trial = [1,2,3,1,2,3]\n",
    "    df = pd.DataFrame(zip(group,trial,m,std), columns=['group',\"trial\",\"mean\",\"std\"])\n",
    "    return df"
   ]
  },
  {
   "cell_type": "code",
   "execution_count": 154,
   "metadata": {},
   "outputs": [],
   "source": [
    "def test(g):\n",
    "    t = []\n",
    "    p = []\n",
    "    e = []\n",
    "    for i in range(3):\n",
    "        x = scipy.stats.ttest_ind(g[0][i], g[1][i], equal_var = False)\n",
    "        t.append(x[0])\n",
    "        p.append(x[1])\n",
    "        e.append(effect_size(g[0][i],g[1][i]))\n",
    "        \n",
    "    return t,p,e"
   ]
  },
  {
   "cell_type": "markdown",
   "metadata": {},
   "source": [
    "## fixation count"
   ]
  },
  {
   "cell_type": "code",
   "execution_count": 160,
   "metadata": {},
   "outputs": [],
   "source": [
    "def fixation_rate():\n",
    "    g = []\n",
    "    for v in feature_groups:\n",
    "        x = np.array([len(v) for v in v[0]['Efix']])/np.array(v[0]['total_time'])\n",
    "        y = np.array([len(v) for v in v[1]['Efix']])/np.array(v[1]['total_time'])\n",
    "        z = np.array([len(v) for v in v[2]['Efix']])/np.array(v[2]['total_time'])\n",
    "\n",
    "        g.append([x,y,z])\n",
    "    return g\n",
    "g = fixation_rate()"
   ]
  },
  {
   "cell_type": "code",
   "execution_count": 161,
   "metadata": {},
   "outputs": [
    {
     "data": {
      "text/html": [
       "<div>\n",
       "<style scoped>\n",
       "    .dataframe tbody tr th:only-of-type {\n",
       "        vertical-align: middle;\n",
       "    }\n",
       "\n",
       "    .dataframe tbody tr th {\n",
       "        vertical-align: top;\n",
       "    }\n",
       "\n",
       "    .dataframe thead th {\n",
       "        text-align: right;\n",
       "    }\n",
       "</style>\n",
       "<table border=\"1\" class=\"dataframe\">\n",
       "  <thead>\n",
       "    <tr style=\"text-align: right;\">\n",
       "      <th></th>\n",
       "      <th>group</th>\n",
       "      <th>trial</th>\n",
       "      <th>mean</th>\n",
       "      <th>std</th>\n",
       "    </tr>\n",
       "  </thead>\n",
       "  <tbody>\n",
       "    <tr>\n",
       "      <th>0</th>\n",
       "      <td>1</td>\n",
       "      <td>1</td>\n",
       "      <td>1.365731</td>\n",
       "      <td>0.367258</td>\n",
       "    </tr>\n",
       "    <tr>\n",
       "      <th>1</th>\n",
       "      <td>1</td>\n",
       "      <td>2</td>\n",
       "      <td>1.352569</td>\n",
       "      <td>0.392210</td>\n",
       "    </tr>\n",
       "    <tr>\n",
       "      <th>2</th>\n",
       "      <td>1</td>\n",
       "      <td>3</td>\n",
       "      <td>1.519482</td>\n",
       "      <td>0.253945</td>\n",
       "    </tr>\n",
       "    <tr>\n",
       "      <th>3</th>\n",
       "      <td>2</td>\n",
       "      <td>1</td>\n",
       "      <td>1.377188</td>\n",
       "      <td>0.338079</td>\n",
       "    </tr>\n",
       "    <tr>\n",
       "      <th>4</th>\n",
       "      <td>2</td>\n",
       "      <td>2</td>\n",
       "      <td>1.361705</td>\n",
       "      <td>0.385604</td>\n",
       "    </tr>\n",
       "    <tr>\n",
       "      <th>5</th>\n",
       "      <td>2</td>\n",
       "      <td>3</td>\n",
       "      <td>1.733203</td>\n",
       "      <td>0.356156</td>\n",
       "    </tr>\n",
       "  </tbody>\n",
       "</table>\n",
       "</div>"
      ],
      "text/plain": [
       "   group  trial      mean       std\n",
       "0      1      1  1.365731  0.367258\n",
       "1      1      2  1.352569  0.392210\n",
       "2      1      3  1.519482  0.253945\n",
       "3      2      1  1.377188  0.338079\n",
       "4      2      2  1.361705  0.385604\n",
       "5      2      3  1.733203  0.356156"
      ]
     },
     "execution_count": 161,
     "metadata": {},
     "output_type": "execute_result"
    }
   ],
   "source": [
    "statistic2(g)"
   ]
  },
  {
   "cell_type": "code",
   "execution_count": 162,
   "metadata": {},
   "outputs": [
    {
     "data": {
      "text/plain": [
       "Ttest_indResult(statistic=-3.8833554014938945, pvalue=0.00016744525389689624)"
      ]
     },
     "execution_count": 162,
     "metadata": {},
     "output_type": "execute_result"
    }
   ],
   "source": [
    "scipy.stats.ttest_ind(g[0][2], g[1][2], equal_var = False)"
   ]
  },
  {
   "cell_type": "code",
   "execution_count": 163,
   "metadata": {},
   "outputs": [
    {
     "data": {
      "text/plain": [
       "0.032781345831858946"
      ]
     },
     "execution_count": 163,
     "metadata": {},
     "output_type": "execute_result"
    }
   ],
   "source": [
    "effect_size(g[0][0],g[1][0])"
   ]
  },
  {
   "cell_type": "markdown",
   "metadata": {},
   "source": [
    "## fixation duration"
   ]
  },
  {
   "cell_type": "code",
   "execution_count": 165,
   "metadata": {},
   "outputs": [],
   "source": [
    "def fixation_duration():\n",
    "\n",
    "    g = []\n",
    "    for v in feature_groups:\n",
    "        x = np.array([])\n",
    "        for i, p in enumerate(v[0]['Efix']):\n",
    "            x = np.append(x,np.array(p).T[2])\n",
    "\n",
    "        y = []\n",
    "        for i, p in enumerate(v[1]['Efix']):\n",
    "            y = np.append(y,np.array(p).T[2])\n",
    "\n",
    "        z = []\n",
    "        for i, p in enumerate(v[2]['Efix']):\n",
    "            z = np.append(z,np.array(p).T[2])\n",
    "\n",
    "        g.append([x,y,z])\n",
    "        \n",
    "    return g \n",
    "g= fixation_duration()"
   ]
  },
  {
   "cell_type": "code",
   "execution_count": 166,
   "metadata": {},
   "outputs": [
    {
     "data": {
      "text/html": [
       "<div>\n",
       "<style scoped>\n",
       "    .dataframe tbody tr th:only-of-type {\n",
       "        vertical-align: middle;\n",
       "    }\n",
       "\n",
       "    .dataframe tbody tr th {\n",
       "        vertical-align: top;\n",
       "    }\n",
       "\n",
       "    .dataframe thead th {\n",
       "        text-align: right;\n",
       "    }\n",
       "</style>\n",
       "<table border=\"1\" class=\"dataframe\">\n",
       "  <thead>\n",
       "    <tr style=\"text-align: right;\">\n",
       "      <th></th>\n",
       "      <th>group</th>\n",
       "      <th>trial</th>\n",
       "      <th>mean</th>\n",
       "      <th>std</th>\n",
       "    </tr>\n",
       "  </thead>\n",
       "  <tbody>\n",
       "    <tr>\n",
       "      <th>0</th>\n",
       "      <td>1</td>\n",
       "      <td>1</td>\n",
       "      <td>0.459195</td>\n",
       "      <td>0.573703</td>\n",
       "    </tr>\n",
       "    <tr>\n",
       "      <th>1</th>\n",
       "      <td>1</td>\n",
       "      <td>2</td>\n",
       "      <td>0.467804</td>\n",
       "      <td>0.589109</td>\n",
       "    </tr>\n",
       "    <tr>\n",
       "      <th>2</th>\n",
       "      <td>1</td>\n",
       "      <td>3</td>\n",
       "      <td>0.430915</td>\n",
       "      <td>0.403759</td>\n",
       "    </tr>\n",
       "    <tr>\n",
       "      <th>3</th>\n",
       "      <td>2</td>\n",
       "      <td>1</td>\n",
       "      <td>0.450095</td>\n",
       "      <td>0.524439</td>\n",
       "    </tr>\n",
       "    <tr>\n",
       "      <th>4</th>\n",
       "      <td>2</td>\n",
       "      <td>2</td>\n",
       "      <td>0.509107</td>\n",
       "      <td>0.631378</td>\n",
       "    </tr>\n",
       "    <tr>\n",
       "      <th>5</th>\n",
       "      <td>2</td>\n",
       "      <td>3</td>\n",
       "      <td>0.347214</td>\n",
       "      <td>0.304077</td>\n",
       "    </tr>\n",
       "  </tbody>\n",
       "</table>\n",
       "</div>"
      ],
      "text/plain": [
       "   group  trial      mean       std\n",
       "0      1      1  0.459195  0.573703\n",
       "1      1      2  0.467804  0.589109\n",
       "2      1      3  0.430915  0.403759\n",
       "3      2      1  0.450095  0.524439\n",
       "4      2      2  0.509107  0.631378\n",
       "5      2      3  0.347214  0.304077"
      ]
     },
     "execution_count": 166,
     "metadata": {},
     "output_type": "execute_result"
    }
   ],
   "source": [
    "statistic2(g)"
   ]
  },
  {
   "cell_type": "code",
   "execution_count": 167,
   "metadata": {},
   "outputs": [
    {
     "data": {
      "text/plain": [
       "Ttest_indResult(statistic=-4.668203642323796, pvalue=3.05970619950258e-06)"
      ]
     },
     "execution_count": 167,
     "metadata": {},
     "output_type": "execute_result"
    }
   ],
   "source": [
    "scipy.stats.ttest_ind(g[0][1], g[1][1], equal_var = False)"
   ]
  },
  {
   "cell_type": "code",
   "execution_count": 168,
   "metadata": {},
   "outputs": [
    {
     "data": {
      "text/plain": [
       "0.06734800591613645"
      ]
     },
     "execution_count": 168,
     "metadata": {},
     "output_type": "execute_result"
    }
   ],
   "source": [
    "effect_size(g[0][1],g[1][1])"
   ]
  },
  {
   "cell_type": "markdown",
   "metadata": {},
   "source": [
    "## SGE"
   ]
  },
  {
   "cell_type": "code",
   "execution_count": 170,
   "metadata": {},
   "outputs": [],
   "source": [
    "def sge():\n",
    "\n",
    "    g = []\n",
    "    for v in feature_groups:\n",
    "        x = np.array(v[0]['Hs'])\n",
    "        x=x[x!=0]\n",
    "\n",
    "        y = np.array(v[1]['Hs'])\n",
    "        y=y[y!=0]\n",
    "\n",
    "        z = np.array(v[2]['Hs'])\n",
    "        z=z[z!=0]\n",
    "\n",
    "        g.append([x,y,z])\n",
    "        \n",
    "    return g\n",
    "\n",
    "g = sge()"
   ]
  },
  {
   "cell_type": "code",
   "execution_count": 171,
   "metadata": {},
   "outputs": [
    {
     "data": {
      "text/html": [
       "<div>\n",
       "<style scoped>\n",
       "    .dataframe tbody tr th:only-of-type {\n",
       "        vertical-align: middle;\n",
       "    }\n",
       "\n",
       "    .dataframe tbody tr th {\n",
       "        vertical-align: top;\n",
       "    }\n",
       "\n",
       "    .dataframe thead th {\n",
       "        text-align: right;\n",
       "    }\n",
       "</style>\n",
       "<table border=\"1\" class=\"dataframe\">\n",
       "  <thead>\n",
       "    <tr style=\"text-align: right;\">\n",
       "      <th></th>\n",
       "      <th>group</th>\n",
       "      <th>trial</th>\n",
       "      <th>mean</th>\n",
       "      <th>std</th>\n",
       "    </tr>\n",
       "  </thead>\n",
       "  <tbody>\n",
       "    <tr>\n",
       "      <th>0</th>\n",
       "      <td>1</td>\n",
       "      <td>1</td>\n",
       "      <td>1.470392</td>\n",
       "      <td>0.430294</td>\n",
       "    </tr>\n",
       "    <tr>\n",
       "      <th>1</th>\n",
       "      <td>1</td>\n",
       "      <td>2</td>\n",
       "      <td>1.436761</td>\n",
       "      <td>0.449737</td>\n",
       "    </tr>\n",
       "    <tr>\n",
       "      <th>2</th>\n",
       "      <td>1</td>\n",
       "      <td>3</td>\n",
       "      <td>1.465232</td>\n",
       "      <td>0.420626</td>\n",
       "    </tr>\n",
       "    <tr>\n",
       "      <th>3</th>\n",
       "      <td>2</td>\n",
       "      <td>1</td>\n",
       "      <td>1.509409</td>\n",
       "      <td>0.470570</td>\n",
       "    </tr>\n",
       "    <tr>\n",
       "      <th>4</th>\n",
       "      <td>2</td>\n",
       "      <td>2</td>\n",
       "      <td>1.375990</td>\n",
       "      <td>0.461782</td>\n",
       "    </tr>\n",
       "    <tr>\n",
       "      <th>5</th>\n",
       "      <td>2</td>\n",
       "      <td>3</td>\n",
       "      <td>1.754212</td>\n",
       "      <td>0.417250</td>\n",
       "    </tr>\n",
       "  </tbody>\n",
       "</table>\n",
       "</div>"
      ],
      "text/plain": [
       "   group  trial      mean       std\n",
       "0      1      1  1.470392  0.430294\n",
       "1      1      2  1.436761  0.449737\n",
       "2      1      3  1.465232  0.420626\n",
       "3      2      1  1.509409  0.470570\n",
       "4      2      2  1.375990  0.461782\n",
       "5      2      3  1.754212  0.417250"
      ]
     },
     "execution_count": 171,
     "metadata": {},
     "output_type": "execute_result"
    }
   ],
   "source": [
    "statistic2(g)"
   ]
  },
  {
   "cell_type": "code",
   "execution_count": 107,
   "metadata": {},
   "outputs": [
    {
     "data": {
      "text/plain": [
       "Ttest_indResult(statistic=1.683529535643731, pvalue=0.09280117135004161)"
      ]
     },
     "execution_count": 107,
     "metadata": {},
     "output_type": "execute_result"
    }
   ],
   "source": [
    "scipy.stats.ttest_ind(g[0][1], g[1][1], equal_var = False)"
   ]
  },
  {
   "cell_type": "code",
   "execution_count": 108,
   "metadata": {},
   "outputs": [
    {
     "data": {
      "text/plain": [
       "0.13301919936490914"
      ]
     },
     "execution_count": 108,
     "metadata": {},
     "output_type": "execute_result"
    }
   ],
   "source": [
    "effect_size(g[0][1],g[1][1])"
   ]
  },
  {
   "cell_type": "markdown",
   "metadata": {},
   "source": [
    "## GTE"
   ]
  },
  {
   "cell_type": "code",
   "execution_count": 172,
   "metadata": {},
   "outputs": [],
   "source": [
    "def gte():\n",
    "    g = []\n",
    "    for v in feature_groups:\n",
    "        x = np.array(v[0]['Ht'])\n",
    "        x=x[x!=0]\n",
    "\n",
    "        y = np.array(v[1]['Ht'])\n",
    "        y=y[y!=0]\n",
    "\n",
    "        z = np.array(v[2]['Ht'])\n",
    "        z=z[z!=0]\n",
    "\n",
    "        g.append([x,y,z])\n",
    "        \n",
    "    return g\n",
    "\n",
    "g= gte()"
   ]
  },
  {
   "cell_type": "code",
   "execution_count": 116,
   "metadata": {},
   "outputs": [
    {
     "data": {
      "text/html": [
       "<div>\n",
       "<style scoped>\n",
       "    .dataframe tbody tr th:only-of-type {\n",
       "        vertical-align: middle;\n",
       "    }\n",
       "\n",
       "    .dataframe tbody tr th {\n",
       "        vertical-align: top;\n",
       "    }\n",
       "\n",
       "    .dataframe thead th {\n",
       "        text-align: right;\n",
       "    }\n",
       "</style>\n",
       "<table border=\"1\" class=\"dataframe\">\n",
       "  <thead>\n",
       "    <tr style=\"text-align: right;\">\n",
       "      <th></th>\n",
       "      <th>group</th>\n",
       "      <th>trial</th>\n",
       "      <th>mean</th>\n",
       "      <th>std</th>\n",
       "    </tr>\n",
       "  </thead>\n",
       "  <tbody>\n",
       "    <tr>\n",
       "      <th>0</th>\n",
       "      <td>1</td>\n",
       "      <td>1</td>\n",
       "      <td>1.189392</td>\n",
       "      <td>0.285081</td>\n",
       "    </tr>\n",
       "    <tr>\n",
       "      <th>1</th>\n",
       "      <td>1</td>\n",
       "      <td>2</td>\n",
       "      <td>1.176678</td>\n",
       "      <td>0.327412</td>\n",
       "    </tr>\n",
       "    <tr>\n",
       "      <th>2</th>\n",
       "      <td>1</td>\n",
       "      <td>3</td>\n",
       "      <td>1.199061</td>\n",
       "      <td>0.297187</td>\n",
       "    </tr>\n",
       "    <tr>\n",
       "      <th>3</th>\n",
       "      <td>2</td>\n",
       "      <td>1</td>\n",
       "      <td>1.206099</td>\n",
       "      <td>0.322813</td>\n",
       "    </tr>\n",
       "    <tr>\n",
       "      <th>4</th>\n",
       "      <td>2</td>\n",
       "      <td>2</td>\n",
       "      <td>1.127057</td>\n",
       "      <td>0.336034</td>\n",
       "    </tr>\n",
       "    <tr>\n",
       "      <th>5</th>\n",
       "      <td>2</td>\n",
       "      <td>3</td>\n",
       "      <td>1.357890</td>\n",
       "      <td>0.256590</td>\n",
       "    </tr>\n",
       "  </tbody>\n",
       "</table>\n",
       "</div>"
      ],
      "text/plain": [
       "   group  trial      mean       std\n",
       "0      1      1  1.189392  0.285081\n",
       "1      1      2  1.176678  0.327412\n",
       "2      1      3  1.199061  0.297187\n",
       "3      2      1  1.206099  0.322813\n",
       "4      2      2  1.127057  0.336034\n",
       "5      2      3  1.357890  0.256590"
      ]
     },
     "execution_count": 116,
     "metadata": {},
     "output_type": "execute_result"
    }
   ],
   "source": [
    "statistic2(g)"
   ]
  },
  {
   "cell_type": "code",
   "execution_count": 113,
   "metadata": {},
   "outputs": [
    {
     "data": {
      "text/plain": [
       "Ttest_indResult(statistic=-3.0015896333874283, pvalue=0.0034201852814666083)"
      ]
     },
     "execution_count": 113,
     "metadata": {},
     "output_type": "execute_result"
    }
   ],
   "source": [
    "scipy.stats.ttest_ind(g[0][2], g[1][2], equal_var = False)"
   ]
  },
  {
   "cell_type": "code",
   "execution_count": 114,
   "metadata": {},
   "outputs": [
    {
     "data": {
      "text/plain": [
       "0.1492332516643208"
      ]
     },
     "execution_count": 114,
     "metadata": {},
     "output_type": "execute_result"
    }
   ],
   "source": [
    "effect_size(g[0][1],g[1][1])"
   ]
  },
  {
   "cell_type": "code",
   "execution_count": null,
   "metadata": {},
   "outputs": [],
   "source": []
  },
  {
   "cell_type": "code",
   "execution_count": 155,
   "metadata": {},
   "outputs": [
    {
     "data": {
      "text/html": [
       "<div>\n",
       "<style scoped>\n",
       "    .dataframe tbody tr th:only-of-type {\n",
       "        vertical-align: middle;\n",
       "    }\n",
       "\n",
       "    .dataframe tbody tr th {\n",
       "        vertical-align: top;\n",
       "    }\n",
       "\n",
       "    .dataframe thead th {\n",
       "        text-align: right;\n",
       "    }\n",
       "</style>\n",
       "<table border=\"1\" class=\"dataframe\">\n",
       "  <thead>\n",
       "    <tr style=\"text-align: right;\">\n",
       "      <th></th>\n",
       "      <th>trial</th>\n",
       "      <th>group 1 (mean±std)</th>\n",
       "      <th>group 2 (mean±std)</th>\n",
       "    </tr>\n",
       "  </thead>\n",
       "  <tbody>\n",
       "    <tr>\n",
       "      <th>0</th>\n",
       "      <td>1</td>\n",
       "      <td>1.37±0.37</td>\n",
       "      <td>1.38±0.34</td>\n",
       "    </tr>\n",
       "    <tr>\n",
       "      <th>1</th>\n",
       "      <td>2</td>\n",
       "      <td>1.35±0.39</td>\n",
       "      <td>1.36±0.39</td>\n",
       "    </tr>\n",
       "    <tr>\n",
       "      <th>2</th>\n",
       "      <td>3</td>\n",
       "      <td>1.52±0.25</td>\n",
       "      <td>1.73±0.36</td>\n",
       "    </tr>\n",
       "  </tbody>\n",
       "</table>\n",
       "</div>"
      ],
      "text/plain": [
       "   trial group 1 (mean±std) group 2 (mean±std)\n",
       "0      1          1.37±0.37          1.38±0.34\n",
       "1      2          1.35±0.39          1.36±0.39\n",
       "2      3          1.52±0.25          1.73±0.36"
      ]
     },
     "execution_count": 155,
     "metadata": {},
     "output_type": "execute_result"
    }
   ],
   "source": []
  },
  {
   "cell_type": "code",
   "execution_count": 180,
   "metadata": {},
   "outputs": [],
   "source": [
    "# g = fixation_rate()\n",
    "# g = fixation_duration()\n",
    "# g = sge()\n",
    "g = gte()"
   ]
  },
  {
   "cell_type": "code",
   "execution_count": 181,
   "metadata": {},
   "outputs": [
    {
     "data": {
      "text/html": [
       "<div>\n",
       "<style scoped>\n",
       "    .dataframe tbody tr th:only-of-type {\n",
       "        vertical-align: middle;\n",
       "    }\n",
       "\n",
       "    .dataframe tbody tr th {\n",
       "        vertical-align: top;\n",
       "    }\n",
       "\n",
       "    .dataframe thead th {\n",
       "        text-align: right;\n",
       "    }\n",
       "</style>\n",
       "<table border=\"1\" class=\"dataframe\">\n",
       "  <thead>\n",
       "    <tr style=\"text-align: right;\">\n",
       "      <th></th>\n",
       "      <th>trial</th>\n",
       "      <th>group 1 (mean±std)</th>\n",
       "      <th>group 2 (mean±std)</th>\n",
       "      <th>t</th>\n",
       "      <th>p</th>\n",
       "      <th>effect size</th>\n",
       "    </tr>\n",
       "  </thead>\n",
       "  <tbody>\n",
       "    <tr>\n",
       "      <th>0</th>\n",
       "      <td>1</td>\n",
       "      <td>1.19±0.29</td>\n",
       "      <td>1.21±0.32</td>\n",
       "      <td>-0.678230</td>\n",
       "      <td>0.497919</td>\n",
       "      <td>0.053970</td>\n",
       "    </tr>\n",
       "    <tr>\n",
       "      <th>1</th>\n",
       "      <td>2</td>\n",
       "      <td>1.18±0.33</td>\n",
       "      <td>1.13±0.34</td>\n",
       "      <td>1.888595</td>\n",
       "      <td>0.059436</td>\n",
       "      <td>0.149233</td>\n",
       "    </tr>\n",
       "    <tr>\n",
       "      <th>2</th>\n",
       "      <td>3</td>\n",
       "      <td>1.2±0.3</td>\n",
       "      <td>1.36±0.26</td>\n",
       "      <td>-3.001590</td>\n",
       "      <td>0.003420</td>\n",
       "      <td>0.578355</td>\n",
       "    </tr>\n",
       "  </tbody>\n",
       "</table>\n",
       "</div>"
      ],
      "text/plain": [
       "   trial group 1 (mean±std) group 2 (mean±std)         t         p  \\\n",
       "0      1          1.19±0.29          1.21±0.32 -0.678230  0.497919   \n",
       "1      2          1.18±0.33          1.13±0.34  1.888595  0.059436   \n",
       "2      3            1.2±0.3          1.36±0.26 -3.001590  0.003420   \n",
       "\n",
       "   effect size  \n",
       "0     0.053970  \n",
       "1     0.149233  \n",
       "2     0.578355  "
      ]
     },
     "execution_count": 181,
     "metadata": {},
     "output_type": "execute_result"
    }
   ],
   "source": [
    "m = np.array([[np.mean(v) for v in u] for u in g])\n",
    "std = np.array([[np.std(v) for v in u] for u in g])\n",
    "# group = [[1,1,1],[2,2,2]]\n",
    "trial = [1,2,3]\n",
    "m0 = [(str(round(v[0], 2)) + \"±\" + str(round(v[1], 2))) for v in zip(m[0],std[0])]\n",
    "m1 = [(str(round(v[0], 2)) + \"±\" + str(round(v[1], 2))) for v in zip(m[1],std[1])]\n",
    "\n",
    "df = pd.DataFrame(zip(trial,m0,m1,), columns=[\"trial\",\"group 1 (mean±std)\",\"group 2 (mean±std)\"])\n",
    "\n",
    "t, p, e = test(g)\n",
    "\n",
    "df[\"t\"] = t\n",
    "df['p'] = p\n",
    "df['effect size'] = e\n",
    "df"
   ]
  },
  {
   "cell_type": "code",
   "execution_count": null,
   "metadata": {},
   "outputs": [],
   "source": []
  },
  {
   "cell_type": "code",
   "execution_count": null,
   "metadata": {},
   "outputs": [],
   "source": []
  }
 ],
 "metadata": {
  "kernelspec": {
   "display_name": "Python 3",
   "language": "python",
   "name": "python3"
  },
  "language_info": {
   "codemirror_mode": {
    "name": "ipython",
    "version": 3
   },
   "file_extension": ".py",
   "mimetype": "text/x-python",
   "name": "python",
   "nbconvert_exporter": "python",
   "pygments_lexer": "ipython3",
   "version": "3.6.10"
  }
 },
 "nbformat": 4,
 "nbformat_minor": 4
}
