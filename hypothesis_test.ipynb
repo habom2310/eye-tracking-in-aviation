{
 "cells": [
  {
   "cell_type": "markdown",
   "metadata": {},
   "source": [
    "# Import"
   ]
  },
  {
   "cell_type": "code",
   "execution_count": 1,
   "metadata": {},
   "outputs": [],
   "source": [
    "import pandas as pd\n",
    "import numpy as np\n",
    "import pygaze\n",
    "import matplotlib.pyplot as plt\n",
    "import matplotlib.image as mpimg\n",
    "import seaborn as sns\n",
    "import scipy\n",
    "import glob\n",
    "from tqdm import tqdm\n",
    "from sklearn.cluster import DBSCAN\n",
    "import detectors\n",
    "import gazeplotter\n",
    "from collections import defaultdict\n",
    "# import local lib\n",
    "import eye_metrics_utils\n",
    "import data_utils\n",
    "import gaze_entropy"
   ]
  },
  {
   "cell_type": "code",
   "execution_count": 2,
   "metadata": {},
   "outputs": [],
   "source": [
    "import warnings\n",
    "# warnings.filterwarnings(action='once')\n",
    "warnings.filterwarnings('ignore')"
   ]
  },
  {
   "cell_type": "code",
   "execution_count": 3,
   "metadata": {},
   "outputs": [],
   "source": [
    "csv_files = glob.glob(\"data/*.csv\")"
   ]
  },
  {
   "cell_type": "code",
   "execution_count": 4,
   "metadata": {},
   "outputs": [],
   "source": [
    "csv_files_one = [v for v in csv_files if \"One Gaze-Vergence\" in v]\n",
    "csv_files_two = [v for v in csv_files if \"Two Gaze-Vergence\" in v]\n",
    "csv_files_three = [v for v in csv_files if \"Three Go-Around Gaze-Vergence\" in v]"
   ]
  },
  {
   "cell_type": "code",
   "execution_count": 5,
   "metadata": {},
   "outputs": [
    {
     "data": {
      "text/plain": [
       "[['032', '027', '031', '028', '004', '008', '010', '029', '003', '007', '023'],\n",
       " ['021',\n",
       "  '006',\n",
       "  '019',\n",
       "  '022',\n",
       "  '015',\n",
       "  '016',\n",
       "  '014',\n",
       "  '005',\n",
       "  '025',\n",
       "  '002',\n",
       "  '001',\n",
       "  '020',\n",
       "  '011',\n",
       "  '017']]"
      ]
     },
     "execution_count": 5,
     "metadata": {},
     "output_type": "execute_result"
    }
   ],
   "source": [
    "df_par = pd.read_csv(\"participant.csv\")\n",
    "group = [df_par[df_par['Group'].str.contains(\"1\")]['ID'].tolist(), df_par[df_par['Group'].str.contains(\"2\")][\"ID\"].tolist()]\n",
    "group = [[i[-3:] for i in v] for v in group]\n",
    "group"
   ]
  },
  {
   "cell_type": "code",
   "execution_count": 6,
   "metadata": {},
   "outputs": [],
   "source": [
    "def run_all(df_data):\n",
    "    df_x = df_data.copy()\n",
    "    if (data_utils.check_percentage_null(df_x) < 0.5): # if missing value > 50%, remove\n",
    "        return None\n",
    "    \n",
    "    time = np.array(df_data['Start Time (secs)'].tolist())\n",
    "\n",
    "    Efix = eye_metrics_utils.detect_fixations(df_x)\n",
    "    Eblk = eye_metrics_utils.detect_blinks(df_x)\n",
    "    Esac = eye_metrics_utils.detect_saccades(df_x)\n",
    "    Emsac = eye_metrics_utils.detect_microsaccades(df_x)\n",
    "#     print(Efix)\n",
    "    X = np.array(Efix).T[3:].T\n",
    "    Hs, Ht = gaze_entropy.entropy(X)\n",
    "    total_time = time[-1] - time[0]\n",
    "    \n",
    "    return Efix, Hs, Ht, total_time, Eblk, Esac, Emsac\n",
    "    "
   ]
  },
  {
   "cell_type": "code",
   "execution_count": 7,
   "metadata": {},
   "outputs": [
    {
     "name": "stdout",
     "output_type": "stream",
     "text": [
      "data\\PISSS_ID_003_Approach One Gaze-Vergence.csv\n",
      "9122\n",
      "data\\PISSS_ID_004_Approach One Gaze-Vergence.csv\n",
      "9307\n",
      "data\\PISSS_ID_007_Approach One Gaze-Vergence.csv\n",
      "9492\n",
      "data\\PISSS_ID_008_Approach One Gaze-Vergence.csv\n",
      "9736\n",
      "data\\PISSS_ID_010_Approach One Gaze-Vergence.csv\n",
      "9554\n",
      "data\\PISSS_ID_023_Approach One Gaze-Vergence.csv\n",
      "9369\n",
      "data\\PISSS_ID_027_Approach One Gaze-Vergence.csv\n",
      "9060\n",
      "data\\PISSS_ID_028_Approach One Gaze-Vergence.csv\n",
      "8999\n",
      "data\\PISSS_ID_029_Approach One Gaze-Vergence.csv\n",
      "9862\n",
      "data\\PISSS_ID_031_Approach One Gaze-Vergence.csv\n",
      "9677\n",
      "data\\PISSS_ID_032_Approach One Gaze-Vergence.csv\n",
      "8629\n",
      "data\\PISSS_ID_003_Approach Two Gaze-Vergence.csv\n",
      "9368\n",
      "data\\PISSS_ID_004_Approach Two Gaze-Vergence.csv\n",
      "9862\n",
      "data\\PISSS_ID_007_Approach Two Gaze-Vergence.csv\n",
      "9677\n",
      "data\\PISSS_ID_008_Approach Two Gaze-Vergence.csv\n",
      "9923\n",
      "data\\PISSS_ID_010_Approach Two Gaze-Vergence.csv\n",
      "9923\n",
      "data\\PISSS_ID_023_Approach Two Gaze-Vergence.csv\n",
      "9677\n",
      "data\\PISSS_ID_027_Approach Two Gaze-Vergence.csv\n",
      "8568\n",
      "data\\PISSS_ID_028_Approach Two Gaze-Vergence.csv\n",
      "9554\n",
      "data\\PISSS_ID_029_Approach Two Gaze-Vergence.csv\n",
      "10232\n",
      "data\\PISSS_ID_031_Approach Two Gaze-Vergence.csv\n",
      "9923\n",
      "data\\PISSS_ID_032_Approach Two Gaze-Vergence.csv\n",
      "8011\n",
      "data\\PISSS_ID_003_Approach Three Go-Around Gaze-Vergence.csv\n",
      "2157\n",
      "data\\PISSS_ID_004_Approach Three Go-Around Gaze-Vergence.csv\n",
      "1849\n",
      "data\\PISSS_ID_007_Approach Three Go-Around Gaze-Vergence.csv\n",
      "2096\n",
      "data\\PISSS_ID_010_Approach Three Go-Around Gaze-Vergence.csv\n",
      "2589\n",
      "data\\PISSS_ID_023_Approach Three Go-Around Gaze-Vergence.csv\n",
      "1849\n",
      "data\\PISSS_ID_027_Approach Three Go-Around Gaze-Vergence.csv\n",
      "2280\n",
      "data\\PISSS_ID_028_Approach Three Go-Around Gaze-Vergence.csv\n",
      "2157\n",
      "data\\PISSS_ID_029_Approach Three Go-Around Gaze-Vergence.csv\n",
      "1725\n",
      "data\\PISSS_ID_031_Approach Three Go-Around Gaze-Vergence.csv\n",
      "1849\n",
      "data\\PISSS_ID_032_Approach Three Go-Around Gaze-Vergence.csv\n",
      "1911\n",
      "data\\PISSS_ID_001_Approach One Gaze-Vergence.csv\n",
      "9307\n",
      "data\\PISSS_ID_002_Approach One Gaze-Vergence.csv\n",
      "9184\n",
      "data\\PISSS_ID_005_Approach One Gaze-Vergence.csv\n",
      "8567\n",
      "data\\PISSS_ID_006_Approach One Gaze-Vergence.csv\n",
      "9985\n",
      "data\\PISSS_ID_011_Approach One Gaze-Vergence.csv\n",
      "9492\n",
      "data\\PISSS_ID_014_Approach One Gaze-Vergence.csv\n",
      "9369\n",
      "data\\PISSS_ID_015_Approach One Gaze-Vergence.csv\n",
      "27978\n",
      "data\\PISSS_ID_016_Approach One Gaze-Vergence.csv\n",
      "8259\n",
      "data\\PISSS_ID_017_Approach One Gaze-Vergence.csv\n",
      "10046\n",
      "data\\PISSS_ID_019_Approach One Gaze-Vergence.csv\n",
      "9615\n",
      "data\\PISSS_ID_020_Approach One Gaze-Vergence.csv\n",
      "9800\n",
      "data\\PISSS_ID_021_Approach One Gaze-Vergence.csv\n",
      "9492\n",
      "data\\PISSS_ID_022_Approach One Gaze-Vergence.csv\n",
      "9615\n",
      "data\\PISSS_ID_025_Approach One Gaze-Vergence.csv\n",
      "8382\n",
      "data\\PISSS_ID_001_Approach Two Gaze-Vergence.csv\n",
      "9554\n",
      "data\\PISSS_ID_002_Approach Two Gaze-Vergence.csv\n",
      "9430\n",
      "data\\PISSS_ID_005_Approach Two Gaze-Vergence.csv\n",
      "9245\n",
      "data\\PISSS_ID_006_Approach Two Gaze-Vergence.csv\n",
      "9739\n",
      "data\\PISSS_ID_011_Approach Two Gaze-Vergence.csv\n",
      "9492\n",
      "data\\PISSS_ID_014_Approach Two Gaze-Vergence.csv\n",
      "9307\n",
      "data\\PISSS_ID_015_Approach Two Gaze-Vergence.csv\n",
      "8812\n",
      "data\\PISSS_ID_016_Approach Two Gaze-Vergence.csv\n",
      "8259\n",
      "data\\PISSS_ID_017_Approach Two Gaze-Vergence.csv\n",
      "9184\n",
      "data\\PISSS_ID_019_Approach Two Gaze-Vergence.csv\n",
      "9615\n",
      "data\\PISSS_ID_020_Approach Two Gaze-Vergence.csv\n",
      "9923\n",
      "data\\PISSS_ID_021_Approach Two Gaze-Vergence.csv\n",
      "9369\n",
      "data\\PISSS_ID_022_Approach Two Gaze-Vergence.csv\n",
      "9307\n",
      "data\\PISSS_ID_025_Approach Two Gaze-Vergence.csv\n",
      "8937\n",
      "data\\PISSS_ID_001_Approach Three Go-Around Gaze-Vergence.csv\n",
      "2465\n",
      "data\\PISSS_ID_002_Approach Three Go-Around Gaze-Vergence.csv\n",
      "616\n",
      "data\\PISSS_ID_005_Approach Three Go-Around Gaze-Vergence.csv\n",
      "2230\n",
      "data\\PISSS_ID_006_Approach Three Go-Around Gaze-Vergence.csv\n",
      "2033\n",
      "data\\PISSS_ID_011_Approach Three Go-Around Gaze-Vergence.csv\n",
      "2157\n",
      "data\\PISSS_ID_014_Approach Three Go-Around Gaze-Vergence.csv\n",
      "2096\n",
      "data\\PISSS_ID_015_Approach Three Go-Around Gaze-Vergence.csv\n",
      "2033\n",
      "data\\PISSS_ID_016_Approach Three Go-Around Gaze-Vergence.csv\n",
      "2219\n",
      "data\\PISSS_ID_017_Approach Three Go-Around Gaze-Vergence.csv\n",
      "2650\n",
      "data\\PISSS_ID_019_Approach Three Go-Around Gaze-Vergence.csv\n",
      "1541\n",
      "data\\PISSS_ID_020_Approach Three Go-Around Gaze-Vergence.csv\n",
      "1665\n",
      "data\\PISSS_ID_021_Approach Three Go-Around Gaze-Vergence.csv\n",
      "1726\n",
      "data\\PISSS_ID_022_Approach Three Go-Around Gaze-Vergence.csv\n",
      "1972\n",
      "data\\PISSS_ID_025_Approach Three Go-Around Gaze-Vergence.csv\n",
      "2342\n"
     ]
    }
   ],
   "source": [
    "feature_groups = []\n",
    "for g in group:\n",
    "    trials = []\n",
    "    for csv_files in [csv_files_one, csv_files_two, csv_files_three]:\n",
    "        ret = defaultdict(list)\n",
    "        for csv in csv_files:\n",
    "            par_id = csv[14:17]\n",
    "            if par_id not in g:\n",
    "                continue\n",
    "                \n",
    "            print(csv)\n",
    "            df_data = pd.read_csv(csv)\n",
    "            print(len(df_data))\n",
    "            for v in data_utils.data_slicing(df_data, window_length = 2400, stride = 2400):\n",
    "                r = run_all(v)\n",
    "                if r != None:\n",
    "                    Efix, Hs, Ht, total_time, Eblk, Esac, Emsac = r\n",
    "                    ret[\"Eblk\"].append(Eblk)\n",
    "                    ret[\"Efix\"].append(Efix)\n",
    "                    ret[\"Esac\"].append(Esac)\n",
    "                    ret[\"Emsac\"].append(Emsac)\n",
    "#                     ret[\"trans_matrix\"].append(trans_matrix)\n",
    "                    ret[\"Hs\"].append(Hs)\n",
    "                    ret[\"Ht\"].append(Ht)\n",
    "                    ret[\"total_time\"].append(total_time)\n",
    "        trials.append(ret)\n",
    "    feature_groups.append(trials)"
   ]
  },
  {
   "cell_type": "code",
   "execution_count": null,
   "metadata": {},
   "outputs": [],
   "source": []
  },
  {
   "cell_type": "code",
   "execution_count": null,
   "metadata": {},
   "outputs": [],
   "source": []
  },
  {
   "cell_type": "code",
   "execution_count": null,
   "metadata": {},
   "outputs": [],
   "source": []
  },
  {
   "cell_type": "markdown",
   "metadata": {},
   "source": [
    "# function"
   ]
  },
  {
   "cell_type": "code",
   "execution_count": 8,
   "metadata": {},
   "outputs": [],
   "source": [
    "def get_center(clustering, data):\n",
    "    center = []\n",
    "    for i in range(len(set(clustering.labels_)) - 1):\n",
    "        xi = data[np.where(clustering.labels_ == i)]\n",
    "        cx = sum(xi.T[0])/len(xi)\n",
    "        cy = sum(xi.T[1])/len(xi)\n",
    "        center.append((cx,cy))\n",
    "    return center\n",
    "\n",
    "# cluster_center = get_center(clustering,X)"
   ]
  },
  {
   "cell_type": "code",
   "execution_count": 9,
   "metadata": {},
   "outputs": [],
   "source": [
    "def transition_matrix(transitions):\n",
    "    if len(transitions) == 0:\n",
    "        return 0\n",
    "    n = 1+ max(transitions) #number of states\n",
    "\n",
    "    M = [[0]*n for _ in range(n)]\n",
    "\n",
    "    for (i,j) in zip(transitions,transitions[1:]):\n",
    "        M[i][j] += 1\n",
    "\n",
    "    #now convert to probabilities:\n",
    "    for row in M:\n",
    "        s = sum(row)\n",
    "        if s > 0:\n",
    "            row[:] = [f/s for f in row]\n",
    "    return M\n"
   ]
  },
  {
   "cell_type": "code",
   "execution_count": 10,
   "metadata": {},
   "outputs": [],
   "source": [
    "def distance(x,y):\n",
    "    return ((x[0]-y[0])**2 + (x[1]-y[1])**2)**0.5\n",
    "\n",
    "def dbscan_predict(cluster_center, X_new, min_dist = 50, metric=distance):\n",
    "    # Result is noise by default\n",
    "    y_new = np.ones(shape=len(X_new), dtype=int)*-1 \n",
    "\n",
    "    # Iterate all input samples for a label\n",
    "    for j, x_new in enumerate(X_new):\n",
    "        # Find a core sample closer than EPS\n",
    "        for i, x_core in enumerate(cluster_center): \n",
    "            if metric(x_new, x_core) < min_dist:\n",
    "                # Assign label of x_core to x_new\n",
    "                y_new[j] = i\n",
    "                break\n",
    "\n",
    "    return y_new\n",
    "\n",
    "\n",
    "def dbscan_predict2(cluster_center, X_new, min_dist = 50, metric=distance):\n",
    "    # Result is noise by default\n",
    "    y_new = np.ones(shape=len(X_new), dtype=int)*-1 \n",
    "\n",
    "    # Iterate all input samples for a label\n",
    "    for j, x_new in enumerate(X_new):\n",
    "        # Find a core sample closer than EPS\n",
    "        dist = [metric(x_new, v) for v in cluster_center]\n",
    "#         print(\"dist\", dist)\n",
    "#         print(\"argmin\", np.argmin(dist))\n",
    "        if len(dist) == 0:\n",
    "            continue\n",
    "        y_new[j] = np.argmin(dist)\n",
    "\n",
    "    return y_new"
   ]
  },
  {
   "cell_type": "code",
   "execution_count": 11,
   "metadata": {},
   "outputs": [],
   "source": [
    "def data_slicing(df_data, window_length = 1200, stride = 300):\n",
    "    L = len(df_data)\n",
    "    for i in range(L//stride):\n",
    "        df_slice = df_data.iloc[i*stride:i*stride+window_length].copy()\n",
    "        if len(df_slice) < 600:\n",
    "            return\n",
    "        else:\n",
    "            yield df_slice"
   ]
  },
  {
   "cell_type": "code",
   "execution_count": 12,
   "metadata": {},
   "outputs": [],
   "source": [
    "def check_percentage_null(df_data, missing = 0.0):\n",
    "    return len(df_data[df_data[\"X Pos\"] != 0])/len(df_data)"
   ]
  },
  {
   "cell_type": "code",
   "execution_count": 13,
   "metadata": {},
   "outputs": [],
   "source": [
    "def run_all(df_data):\n",
    "    df_data.fillna(0.0, inplace=True)\n",
    "    if (check_percentage_null(df_data) < 0.5): # if missing value > 50%, remove\n",
    "        return None\n",
    "\n",
    "    x = np.array(df_data['X Pos'].tolist())\n",
    "    y = np.array(df_data['Y Pos'].tolist())\n",
    "    time = np.array(df_data['Start Time (secs)'].tolist())*1000\n",
    "    \n",
    "    # detect blink, fixation and saccade\n",
    "    Sblk, Eblk = detectors.blink_detection(x,y,time,minlen=6)\n",
    "    Sfix, Efix = detectors.fixation_detection(x,y,time,maxdist=5,mindur=50)\n",
    "    Ssac, Esac = detectors.saccade_detection(x,y,time,minlen=5,maxvel=40,maxacc=340)\n",
    "    \n",
    "    # clustering\n",
    "    X = np.array(Efix).T[3:].T\n",
    "    clustering = DBSCAN(eps=20, min_samples=3, metric = distance).fit(X)\n",
    "    cluster_center = get_center(clustering,X)\n",
    "    pred = dbscan_predict2(cluster_center, np.array(Efix).T[3:].T)\n",
    "    transitions = pred[np.where(pred!=-1)]\n",
    "    \n",
    "    # transition matrix and GTE, SGE\n",
    "    trans_matrix = transition_matrix(transitions)\n",
    "    Ht = 0\n",
    "    Hs = 0\n",
    "    if trans_matrix != 0:\n",
    "        pA = [len(np.where(np.array(transitions)==i)[0])/len(transitions) for i in range(len(set(transitions)))]\n",
    "        for i in range(len(pA)):\n",
    "            Hs += -1 * np.nan_to_num(pA[i]*np.log2(pA[i]))\n",
    "            t = np.nan_to_num(trans_matrix[i]*np.log2(trans_matrix[i]))\n",
    "            Ht += -sum(pA[i]*(t))\n",
    "    \n",
    "    total_time = time[-1] - time[0]\n",
    "        \n",
    "    return Eblk, Efix, Esac, trans_matrix, Hs, Ht, total_time\n",
    "    "
   ]
  },
  {
   "cell_type": "markdown",
   "metadata": {},
   "source": [
    "# import data"
   ]
  },
  {
   "cell_type": "code",
   "execution_count": null,
   "metadata": {},
   "outputs": [],
   "source": [
    "csv_files = glob.glob(\"data/*.csv\")"
   ]
  },
  {
   "cell_type": "code",
   "execution_count": null,
   "metadata": {},
   "outputs": [],
   "source": [
    "csv_files_one = [v for v in csv_files if \"One Gaze-Left\" in v]\n",
    "csv_files_two = [v for v in csv_files if \"Two Gaze-Left\" in v]\n",
    "csv_files_three = [v for v in csv_files if \"Three Go-Around Gaze-Left\" in v]"
   ]
  },
  {
   "cell_type": "code",
   "execution_count": null,
   "metadata": {},
   "outputs": [],
   "source": [
    "df_par = pd.read_csv(\"participant.csv\")\n",
    "group = [df_par[df_par['Group'].str.contains(\"1\")]['ID'].tolist(), df_par[df_par['Group'].str.contains(\"2\")][\"ID\"].tolist()]\n",
    "group = [[i[-3:] for i in v] for v in group]\n",
    "group"
   ]
  },
  {
   "cell_type": "code",
   "execution_count": null,
   "metadata": {},
   "outputs": [],
   "source": []
  },
  {
   "cell_type": "code",
   "execution_count": null,
   "metadata": {},
   "outputs": [],
   "source": [
    "feature_groups = []\n",
    "for g in group:\n",
    "    trials = []\n",
    "    for csv_files in [csv_files_one, csv_files_two, csv_files_three]:\n",
    "        ret = defaultdict(list)\n",
    "        for csv in csv_files:\n",
    "            par_id = csv[14:17]\n",
    "            if par_id not in g:\n",
    "                continue\n",
    "                \n",
    "            print(csv)\n",
    "            df_data = pd.read_csv(csv)\n",
    "            print(len(df_data))\n",
    "            for v in data_slicing(df_data):\n",
    "                r = run_all(v)\n",
    "                if r != None:\n",
    "                    Eblk, Efix, Esac, trans_matrix, Hs, Ht, total_time = r\n",
    "                    ret[\"Eblk\"].append(Eblk)\n",
    "                    ret[\"Efix\"].append(Efix)\n",
    "                    ret[\"Esac\"].append(Esac)\n",
    "                    ret[\"trans_matrix\"].append(trans_matrix)\n",
    "                    ret[\"Hs\"].append(Hs)\n",
    "                    ret[\"Ht\"].append(Ht)\n",
    "                    ret[\"total_time\"].append(total_time)\n",
    "        trials.append(ret)\n",
    "    feature_groups.append(trials)"
   ]
  },
  {
   "cell_type": "code",
   "execution_count": null,
   "metadata": {},
   "outputs": [],
   "source": [
    "df_data = pd.read_csv(\"data\\PISSS_ID_004_Approach Two Gaze-Left.csv\")\n",
    "df_slice = df_data.iloc[0:3000].copy()\n",
    "\n",
    "df_slice.fillna(0.0, inplace=True)\n",
    "print(check_percentage_null(df_slice))\n",
    "\n",
    "x = np.array(df_slice['X Pos'].tolist())\n",
    "y = np.array(df_slice['Y Pos'].tolist())\n",
    "time = np.array(df_slice['Start Time (secs)'].tolist())*1000\n",
    "\n",
    "# detect blink, fixation and saccade\n",
    "Sblk, Eblk = detectors.blink_detection(x,y,time,minlen=6)\n",
    "Sfix, Efix = detectors.fixation_detection(x,y,time,maxdist=10,mindur=50)\n",
    "Ssac, Esac = detectors.saccade_detection(x,y,time,minlen=5,maxvel=40,maxacc=340)\n"
   ]
  },
  {
   "cell_type": "code",
   "execution_count": 67,
   "metadata": {},
   "outputs": [
    {
     "data": {
      "text/plain": [
       "[1.6398434025011959,\n",
       " 1.5805701015520255,\n",
       " 1.3102966864819996,\n",
       " 1.550397052661859,\n",
       " 1.7146810082685429,\n",
       " 1.733488119658769,\n",
       " 1.703674947551767,\n",
       " 1.8213769662085535,\n",
       " 0.9706397086778134,\n",
       " 1.2883306159845944,\n",
       " 1.411699874607322,\n",
       " 0.9054922390470446,\n",
       " 0.575196474871425,\n",
       " 1.6126204008974787,\n",
       " 1.6243385638102594,\n",
       " 1.3223740167362614,\n",
       " 1.7243601312041377,\n",
       " 1.3120864315771419,\n",
       " 1.5347861101829314,\n",
       " 0.9712236077151672,\n",
       " 1.884196795961587,\n",
       " 1.4196432066351092,\n",
       " 0.9754979033265575,\n",
       " 1.6681116287582543,\n",
       " 2.117453485445392,\n",
       " 1.6658648437125765,\n",
       " 1.536587934711609,\n",
       " 1.275970636253763,\n",
       " 1.2347547131307393,\n",
       " 1.394875565232226,\n",
       " 1.2301361822550603]"
      ]
     },
     "execution_count": 67,
     "metadata": {},
     "output_type": "execute_result"
    }
   ],
   "source": [
    "feature_groups[0][0]['Ht']"
   ]
  },
  {
   "cell_type": "markdown",
   "metadata": {},
   "source": [
    "# hypothesis test"
   ]
  },
  {
   "cell_type": "code",
   "execution_count": 14,
   "metadata": {},
   "outputs": [],
   "source": [
    "# standardized effect size - cohen's d \n",
    "def effect_size(a, b):\n",
    "    es = np.abs(np.mean(a) - np.mean(b))\n",
    "    sd_pooled = np.sqrt((((len(a)-1)*(np.std(a)**2) + (len(b)-1)*(np.std(b)**2)) / (len(a) + len(b) - 2)))\n",
    "    d = es/sd_pooled\n",
    "    \n",
    "    \n",
    "    return d"
   ]
  },
  {
   "cell_type": "code",
   "execution_count": 15,
   "metadata": {},
   "outputs": [],
   "source": [
    "def statistic(g):\n",
    "    print(\"GROUP 1\")\n",
    "    print(\"mean trial 1:\", np.mean(g[0][0]))\n",
    "    print(\"mean trial 2:\", np.mean(g[0][1]))\n",
    "    print(\"mean trial 3:\", np.mean(g[0][2]))\n",
    "\n",
    "    print(\"\\nstd trial 1:\", np.std(g[0][0]))\n",
    "    print(  \"std trial 2:\", np.std(g[0][1]))\n",
    "    print(  \"std trial 3:\", np.std(g[0][2]))\n",
    "\n",
    "    print(\"--------------------------\")\n",
    "    print(\"GROUP 2\")\n",
    "    print(\"mean trial 1:\", np.mean(g[1][0]))\n",
    "    print(\"mean trial 2:\", np.mean(g[1][1]))\n",
    "    print(\"mean trial 3:\", np.mean(g[1][2]))\n",
    "\n",
    "    print(\"\\nstd trial 1:\", np.std(g[1][0]))\n",
    "    print(  \"std trial 2:\", np.std(g[1][1]))\n",
    "    print(  \"std trial 3:\", np.std(g[1][2]))"
   ]
  },
  {
   "cell_type": "code",
   "execution_count": 16,
   "metadata": {},
   "outputs": [],
   "source": [
    "def statistic2(g):\n",
    "    m = np.array([[np.mean(v) for v in u] for u in g]).reshape(-1)\n",
    "    std = np.array([[np.std(v) for v in u] for u in g]).reshape(-1)\n",
    "    group = [1,1,1,2,2,2]\n",
    "    trial = [1,2,3,1,2,3]\n",
    "    df = pd.DataFrame(zip(group,trial,m,std), columns=['group',\"trial\",\"mean\",\"std\"])\n",
    "    return df"
   ]
  },
  {
   "cell_type": "code",
   "execution_count": 17,
   "metadata": {},
   "outputs": [],
   "source": [
    "def test(g):\n",
    "    t = []\n",
    "    p = []\n",
    "    e = []\n",
    "    for i in range(3):\n",
    "        x = scipy.stats.ttest_ind(g[0][i], g[1][i], equal_var = False)\n",
    "        t.append(x[0])\n",
    "        p.append(x[1])\n",
    "        e.append(effect_size(g[0][i],g[1][i]))\n",
    "        \n",
    "    return t,p,e"
   ]
  },
  {
   "cell_type": "markdown",
   "metadata": {},
   "source": [
    "## fixation count"
   ]
  },
  {
   "cell_type": "code",
   "execution_count": 18,
   "metadata": {},
   "outputs": [],
   "source": [
    "def fixation_rate():\n",
    "    g = []\n",
    "    for v in feature_groups:\n",
    "        x = np.array([len(v) for v in v[0]['Efix']])/np.array(v[0]['total_time'])\n",
    "        y = np.array([len(v) for v in v[1]['Efix']])/np.array(v[1]['total_time'])\n",
    "        z = np.array([len(v) for v in v[2]['Efix']])/np.array(v[2]['total_time'])\n",
    "\n",
    "        g.append([x,y,z])\n",
    "    return g\n",
    "g = fixation_rate()"
   ]
  },
  {
   "cell_type": "code",
   "execution_count": 19,
   "metadata": {},
   "outputs": [
    {
     "data": {
      "text/html": [
       "<div>\n",
       "<style scoped>\n",
       "    .dataframe tbody tr th:only-of-type {\n",
       "        vertical-align: middle;\n",
       "    }\n",
       "\n",
       "    .dataframe tbody tr th {\n",
       "        vertical-align: top;\n",
       "    }\n",
       "\n",
       "    .dataframe thead th {\n",
       "        text-align: right;\n",
       "    }\n",
       "</style>\n",
       "<table border=\"1\" class=\"dataframe\">\n",
       "  <thead>\n",
       "    <tr style=\"text-align: right;\">\n",
       "      <th></th>\n",
       "      <th>group</th>\n",
       "      <th>trial</th>\n",
       "      <th>mean</th>\n",
       "      <th>std</th>\n",
       "    </tr>\n",
       "  </thead>\n",
       "  <tbody>\n",
       "    <tr>\n",
       "      <th>0</th>\n",
       "      <td>1</td>\n",
       "      <td>1</td>\n",
       "      <td>1.365808</td>\n",
       "      <td>0.319615</td>\n",
       "    </tr>\n",
       "    <tr>\n",
       "      <th>1</th>\n",
       "      <td>1</td>\n",
       "      <td>2</td>\n",
       "      <td>1.356372</td>\n",
       "      <td>0.354896</td>\n",
       "    </tr>\n",
       "    <tr>\n",
       "      <th>2</th>\n",
       "      <td>1</td>\n",
       "      <td>3</td>\n",
       "      <td>1.541424</td>\n",
       "      <td>0.000000</td>\n",
       "    </tr>\n",
       "    <tr>\n",
       "      <th>3</th>\n",
       "      <td>2</td>\n",
       "      <td>1</td>\n",
       "      <td>1.382459</td>\n",
       "      <td>0.279841</td>\n",
       "    </tr>\n",
       "    <tr>\n",
       "      <th>4</th>\n",
       "      <td>2</td>\n",
       "      <td>2</td>\n",
       "      <td>1.388468</td>\n",
       "      <td>0.332714</td>\n",
       "    </tr>\n",
       "    <tr>\n",
       "      <th>5</th>\n",
       "      <td>2</td>\n",
       "      <td>3</td>\n",
       "      <td>1.464312</td>\n",
       "      <td>0.385446</td>\n",
       "    </tr>\n",
       "  </tbody>\n",
       "</table>\n",
       "</div>"
      ],
      "text/plain": [
       "   group  trial      mean       std\n",
       "0      1      1  1.365808  0.319615\n",
       "1      1      2  1.356372  0.354896\n",
       "2      1      3  1.541424  0.000000\n",
       "3      2      1  1.382459  0.279841\n",
       "4      2      2  1.388468  0.332714\n",
       "5      2      3  1.464312  0.385446"
      ]
     },
     "execution_count": 19,
     "metadata": {},
     "output_type": "execute_result"
    }
   ],
   "source": [
    "statistic2(g)"
   ]
  },
  {
   "cell_type": "code",
   "execution_count": 20,
   "metadata": {},
   "outputs": [
    {
     "data": {
      "text/plain": [
       "Ttest_indResult(statistic=-0.42033766130011824, pvalue=0.6753869920332292)"
      ]
     },
     "execution_count": 20,
     "metadata": {},
     "output_type": "execute_result"
    }
   ],
   "source": [
    "scipy.stats.ttest_ind(g[0][1], g[1][1], equal_var = False)"
   ]
  },
  {
   "cell_type": "code",
   "execution_count": 21,
   "metadata": {},
   "outputs": [
    {
     "data": {
      "text/plain": [
       "0.05644092762465057"
      ]
     },
     "execution_count": 21,
     "metadata": {},
     "output_type": "execute_result"
    }
   ],
   "source": [
    "effect_size(g[0][0],g[1][0])"
   ]
  },
  {
   "cell_type": "markdown",
   "metadata": {},
   "source": [
    "## fixation duration"
   ]
  },
  {
   "cell_type": "code",
   "execution_count": 22,
   "metadata": {},
   "outputs": [],
   "source": [
    "def fixation_duration():\n",
    "\n",
    "    g = []\n",
    "    for v in feature_groups:\n",
    "        x = np.array([])\n",
    "        for i, p in enumerate(v[0]['Efix']):\n",
    "            x = np.append(x,np.array(p).T[2])\n",
    "\n",
    "        y = []\n",
    "        for i, p in enumerate(v[1]['Efix']):\n",
    "            y = np.append(y,np.array(p).T[2])\n",
    "\n",
    "        z = []\n",
    "        for i, p in enumerate(v[2]['Efix']):\n",
    "            z = np.append(z,np.array(p).T[2])\n",
    "\n",
    "        g.append([x,y,z])\n",
    "        \n",
    "    return g \n",
    "g= fixation_duration()"
   ]
  },
  {
   "cell_type": "code",
   "execution_count": 23,
   "metadata": {},
   "outputs": [
    {
     "data": {
      "text/html": [
       "<div>\n",
       "<style scoped>\n",
       "    .dataframe tbody tr th:only-of-type {\n",
       "        vertical-align: middle;\n",
       "    }\n",
       "\n",
       "    .dataframe tbody tr th {\n",
       "        vertical-align: top;\n",
       "    }\n",
       "\n",
       "    .dataframe thead th {\n",
       "        text-align: right;\n",
       "    }\n",
       "</style>\n",
       "<table border=\"1\" class=\"dataframe\">\n",
       "  <thead>\n",
       "    <tr style=\"text-align: right;\">\n",
       "      <th></th>\n",
       "      <th>group</th>\n",
       "      <th>trial</th>\n",
       "      <th>mean</th>\n",
       "      <th>std</th>\n",
       "    </tr>\n",
       "  </thead>\n",
       "  <tbody>\n",
       "    <tr>\n",
       "      <th>0</th>\n",
       "      <td>1</td>\n",
       "      <td>1</td>\n",
       "      <td>0.448595</td>\n",
       "      <td>0.528280</td>\n",
       "    </tr>\n",
       "    <tr>\n",
       "      <th>1</th>\n",
       "      <td>1</td>\n",
       "      <td>2</td>\n",
       "      <td>0.463275</td>\n",
       "      <td>0.568367</td>\n",
       "    </tr>\n",
       "    <tr>\n",
       "      <th>2</th>\n",
       "      <td>1</td>\n",
       "      <td>3</td>\n",
       "      <td>0.502812</td>\n",
       "      <td>0.448552</td>\n",
       "    </tr>\n",
       "    <tr>\n",
       "      <th>3</th>\n",
       "      <td>2</td>\n",
       "      <td>1</td>\n",
       "      <td>0.437502</td>\n",
       "      <td>0.485347</td>\n",
       "    </tr>\n",
       "    <tr>\n",
       "      <th>4</th>\n",
       "      <td>2</td>\n",
       "      <td>2</td>\n",
       "      <td>0.490621</td>\n",
       "      <td>0.582826</td>\n",
       "    </tr>\n",
       "    <tr>\n",
       "      <th>5</th>\n",
       "      <td>2</td>\n",
       "      <td>3</td>\n",
       "      <td>0.301272</td>\n",
       "      <td>0.233830</td>\n",
       "    </tr>\n",
       "  </tbody>\n",
       "</table>\n",
       "</div>"
      ],
      "text/plain": [
       "   group  trial      mean       std\n",
       "0      1      1  0.448595  0.528280\n",
       "1      1      2  0.463275  0.568367\n",
       "2      1      3  0.502812  0.448552\n",
       "3      2      1  0.437502  0.485347\n",
       "4      2      2  0.490621  0.582826\n",
       "5      2      3  0.301272  0.233830"
      ]
     },
     "execution_count": 23,
     "metadata": {},
     "output_type": "execute_result"
    }
   ],
   "source": [
    "statistic2(g)"
   ]
  },
  {
   "cell_type": "code",
   "execution_count": 24,
   "metadata": {},
   "outputs": [
    {
     "data": {
      "text/plain": [
       "Ttest_indResult(statistic=-1.5875969972630277, pvalue=0.11244933925890782)"
      ]
     },
     "execution_count": 24,
     "metadata": {},
     "output_type": "execute_result"
    }
   ],
   "source": [
    "scipy.stats.ttest_ind(g[0][1], g[1][1], equal_var = False)"
   ]
  },
  {
   "cell_type": "code",
   "execution_count": 25,
   "metadata": {},
   "outputs": [
    {
     "data": {
      "text/plain": [
       "0.0474562683978811"
      ]
     },
     "execution_count": 25,
     "metadata": {},
     "output_type": "execute_result"
    }
   ],
   "source": [
    "effect_size(g[0][1],g[1][1])"
   ]
  },
  {
   "cell_type": "markdown",
   "metadata": {},
   "source": [
    "# Blink"
   ]
  },
  {
   "cell_type": "code",
   "execution_count": 26,
   "metadata": {},
   "outputs": [],
   "source": [
    "def blink_rate():\n",
    "    g = []\n",
    "    for v in feature_groups:\n",
    "        x = np.array([len(v) for v in v[0]['Eblk']])/np.array(v[0]['total_time'])\n",
    "        y = np.array([len(v) for v in v[1]['Eblk']])/np.array(v[1]['total_time'])\n",
    "        z = np.array([len(v) for v in v[2]['Eblk']])/np.array(v[2]['total_time'])\n",
    "\n",
    "        g.append([x,y,z])\n",
    "    return g\n",
    "g = blink_rate()"
   ]
  },
  {
   "cell_type": "code",
   "execution_count": 27,
   "metadata": {},
   "outputs": [
    {
     "data": {
      "text/html": [
       "<div>\n",
       "<style scoped>\n",
       "    .dataframe tbody tr th:only-of-type {\n",
       "        vertical-align: middle;\n",
       "    }\n",
       "\n",
       "    .dataframe tbody tr th {\n",
       "        vertical-align: top;\n",
       "    }\n",
       "\n",
       "    .dataframe thead th {\n",
       "        text-align: right;\n",
       "    }\n",
       "</style>\n",
       "<table border=\"1\" class=\"dataframe\">\n",
       "  <thead>\n",
       "    <tr style=\"text-align: right;\">\n",
       "      <th></th>\n",
       "      <th>group</th>\n",
       "      <th>trial</th>\n",
       "      <th>mean</th>\n",
       "      <th>std</th>\n",
       "    </tr>\n",
       "  </thead>\n",
       "  <tbody>\n",
       "    <tr>\n",
       "      <th>0</th>\n",
       "      <td>1</td>\n",
       "      <td>1</td>\n",
       "      <td>0.193103</td>\n",
       "      <td>0.174716</td>\n",
       "    </tr>\n",
       "    <tr>\n",
       "      <th>1</th>\n",
       "      <td>1</td>\n",
       "      <td>2</td>\n",
       "      <td>0.229910</td>\n",
       "      <td>0.178378</td>\n",
       "    </tr>\n",
       "    <tr>\n",
       "      <th>2</th>\n",
       "      <td>1</td>\n",
       "      <td>3</td>\n",
       "      <td>0.000000</td>\n",
       "      <td>0.000000</td>\n",
       "    </tr>\n",
       "    <tr>\n",
       "      <th>3</th>\n",
       "      <td>2</td>\n",
       "      <td>1</td>\n",
       "      <td>0.207466</td>\n",
       "      <td>0.146595</td>\n",
       "    </tr>\n",
       "    <tr>\n",
       "      <th>4</th>\n",
       "      <td>2</td>\n",
       "      <td>2</td>\n",
       "      <td>0.170704</td>\n",
       "      <td>0.122336</td>\n",
       "    </tr>\n",
       "    <tr>\n",
       "      <th>5</th>\n",
       "      <td>2</td>\n",
       "      <td>3</td>\n",
       "      <td>0.154137</td>\n",
       "      <td>0.025701</td>\n",
       "    </tr>\n",
       "  </tbody>\n",
       "</table>\n",
       "</div>"
      ],
      "text/plain": [
       "   group  trial      mean       std\n",
       "0      1      1  0.193103  0.174716\n",
       "1      1      2  0.229910  0.178378\n",
       "2      1      3  0.000000  0.000000\n",
       "3      2      1  0.207466  0.146595\n",
       "4      2      2  0.170704  0.122336\n",
       "5      2      3  0.154137  0.025701"
      ]
     },
     "execution_count": 27,
     "metadata": {},
     "output_type": "execute_result"
    }
   ],
   "source": [
    "statistic2(g)"
   ]
  },
  {
   "cell_type": "code",
   "execution_count": 28,
   "metadata": {},
   "outputs": [
    {
     "data": {
      "text/plain": [
       "Ttest_indResult(statistic=1.7253979764457643, pvalue=0.08915187096008524)"
      ]
     },
     "execution_count": 28,
     "metadata": {},
     "output_type": "execute_result"
    }
   ],
   "source": [
    "scipy.stats.ttest_ind(g[0][1], g[1][1], equal_var = False)"
   ]
  },
  {
   "cell_type": "code",
   "execution_count": 29,
   "metadata": {},
   "outputs": [
    {
     "data": {
      "text/plain": [
       "0.39230827605511503"
      ]
     },
     "execution_count": 29,
     "metadata": {},
     "output_type": "execute_result"
    }
   ],
   "source": [
    "effect_size(g[0][1],g[1][1])"
   ]
  },
  {
   "cell_type": "markdown",
   "metadata": {},
   "source": [
    "# Saccade rate"
   ]
  },
  {
   "cell_type": "code",
   "execution_count": 30,
   "metadata": {},
   "outputs": [],
   "source": [
    "def saccade_rate():\n",
    "    g = []\n",
    "    for v in feature_groups:\n",
    "        x = np.array([len(v) for v in v[0]['Esac']])/np.array(v[0]['total_time'])\n",
    "        y = np.array([len(v) for v in v[1]['Esac']])/np.array(v[1]['total_time'])\n",
    "        z = np.array([len(v) for v in v[2]['Esac']])/np.array(v[2]['total_time'])\n",
    "\n",
    "        g.append([x,y,z])\n",
    "    return g\n",
    "g = saccade_rate()"
   ]
  },
  {
   "cell_type": "code",
   "execution_count": 31,
   "metadata": {},
   "outputs": [
    {
     "data": {
      "text/html": [
       "<div>\n",
       "<style scoped>\n",
       "    .dataframe tbody tr th:only-of-type {\n",
       "        vertical-align: middle;\n",
       "    }\n",
       "\n",
       "    .dataframe tbody tr th {\n",
       "        vertical-align: top;\n",
       "    }\n",
       "\n",
       "    .dataframe thead th {\n",
       "        text-align: right;\n",
       "    }\n",
       "</style>\n",
       "<table border=\"1\" class=\"dataframe\">\n",
       "  <thead>\n",
       "    <tr style=\"text-align: right;\">\n",
       "      <th></th>\n",
       "      <th>group</th>\n",
       "      <th>trial</th>\n",
       "      <th>mean</th>\n",
       "      <th>std</th>\n",
       "    </tr>\n",
       "  </thead>\n",
       "  <tbody>\n",
       "    <tr>\n",
       "      <th>0</th>\n",
       "      <td>1</td>\n",
       "      <td>1</td>\n",
       "      <td>1.205865</td>\n",
       "      <td>0.550632</td>\n",
       "    </tr>\n",
       "    <tr>\n",
       "      <th>1</th>\n",
       "      <td>1</td>\n",
       "      <td>2</td>\n",
       "      <td>1.056649</td>\n",
       "      <td>0.488892</td>\n",
       "    </tr>\n",
       "    <tr>\n",
       "      <th>2</th>\n",
       "      <td>1</td>\n",
       "      <td>3</td>\n",
       "      <td>0.924854</td>\n",
       "      <td>0.000000</td>\n",
       "    </tr>\n",
       "    <tr>\n",
       "      <th>3</th>\n",
       "      <td>2</td>\n",
       "      <td>1</td>\n",
       "      <td>0.916631</td>\n",
       "      <td>0.242750</td>\n",
       "    </tr>\n",
       "    <tr>\n",
       "      <th>4</th>\n",
       "      <td>2</td>\n",
       "      <td>2</td>\n",
       "      <td>0.926029</td>\n",
       "      <td>0.229214</td>\n",
       "    </tr>\n",
       "    <tr>\n",
       "      <th>5</th>\n",
       "      <td>2</td>\n",
       "      <td>3</td>\n",
       "      <td>1.130353</td>\n",
       "      <td>0.385422</td>\n",
       "    </tr>\n",
       "  </tbody>\n",
       "</table>\n",
       "</div>"
      ],
      "text/plain": [
       "   group  trial      mean       std\n",
       "0      1      1  1.205865  0.550632\n",
       "1      1      2  1.056649  0.488892\n",
       "2      1      3  0.924854  0.000000\n",
       "3      2      1  0.916631  0.242750\n",
       "4      2      2  0.926029  0.229214\n",
       "5      2      3  1.130353  0.385422"
      ]
     },
     "execution_count": 31,
     "metadata": {},
     "output_type": "execute_result"
    }
   ],
   "source": [
    "statistic2(g)"
   ]
  },
  {
   "cell_type": "code",
   "execution_count": 32,
   "metadata": {},
   "outputs": [
    {
     "data": {
      "text/plain": [
       "LeveneResult(statistic=8.53178568094892, pvalue=0.004506441779367775)"
      ]
     },
     "execution_count": 32,
     "metadata": {},
     "output_type": "execute_result"
    }
   ],
   "source": [
    "scipy.stats.levene(g[0][1], g[1][1], center= \"mean\")"
   ]
  },
  {
   "cell_type": "code",
   "execution_count": 33,
   "metadata": {},
   "outputs": [
    {
     "data": {
      "text/plain": [
       "Ttest_indResult(statistic=1.5098854649142264, pvalue=0.13710559652238571)"
      ]
     },
     "execution_count": 33,
     "metadata": {},
     "output_type": "execute_result"
    }
   ],
   "source": [
    "scipy.stats.ttest_ind(g[0][1], g[1][1], equal_var = False)"
   ]
  },
  {
   "cell_type": "code",
   "execution_count": 34,
   "metadata": {},
   "outputs": [
    {
     "data": {
      "text/plain": [
       "0.35040668659487595"
      ]
     },
     "execution_count": 34,
     "metadata": {},
     "output_type": "execute_result"
    }
   ],
   "source": [
    "effect_size(g[0][1],g[1][1])"
   ]
  },
  {
   "cell_type": "markdown",
   "metadata": {},
   "source": [
    "# Saccade peak"
   ]
  },
  {
   "cell_type": "code",
   "execution_count": 35,
   "metadata": {},
   "outputs": [],
   "source": [
    "def saccade_peak():\n",
    "\n",
    "    g = []\n",
    "    for v in feature_groups:\n",
    "        x = np.array([])\n",
    "        for i, p in enumerate(v[0]['Esac']):\n",
    "            x = np.append(x,np.array(p).T[2])\n",
    "\n",
    "        y = []\n",
    "        for i, p in enumerate(v[1]['Esac']):\n",
    "            y = np.append(y,np.array(p).T[2])\n",
    "\n",
    "        z = []\n",
    "        for i, p in enumerate(v[2]['Esac']):\n",
    "            z = np.append(z,np.array(p).T[2])\n",
    "\n",
    "        g.append([x,y,z])\n",
    "        \n",
    "    return g\n",
    "g= saccade_peak()"
   ]
  },
  {
   "cell_type": "code",
   "execution_count": 36,
   "metadata": {},
   "outputs": [
    {
     "data": {
      "text/html": [
       "<div>\n",
       "<style scoped>\n",
       "    .dataframe tbody tr th:only-of-type {\n",
       "        vertical-align: middle;\n",
       "    }\n",
       "\n",
       "    .dataframe tbody tr th {\n",
       "        vertical-align: top;\n",
       "    }\n",
       "\n",
       "    .dataframe thead th {\n",
       "        text-align: right;\n",
       "    }\n",
       "</style>\n",
       "<table border=\"1\" class=\"dataframe\">\n",
       "  <thead>\n",
       "    <tr style=\"text-align: right;\">\n",
       "      <th></th>\n",
       "      <th>group</th>\n",
       "      <th>trial</th>\n",
       "      <th>mean</th>\n",
       "      <th>std</th>\n",
       "    </tr>\n",
       "  </thead>\n",
       "  <tbody>\n",
       "    <tr>\n",
       "      <th>0</th>\n",
       "      <td>1</td>\n",
       "      <td>1</td>\n",
       "      <td>0.122057</td>\n",
       "      <td>0.042030</td>\n",
       "    </tr>\n",
       "    <tr>\n",
       "      <th>1</th>\n",
       "      <td>1</td>\n",
       "      <td>2</td>\n",
       "      <td>0.123503</td>\n",
       "      <td>0.041214</td>\n",
       "    </tr>\n",
       "    <tr>\n",
       "      <th>2</th>\n",
       "      <td>1</td>\n",
       "      <td>3</td>\n",
       "      <td>0.120419</td>\n",
       "      <td>0.021798</td>\n",
       "    </tr>\n",
       "    <tr>\n",
       "      <th>3</th>\n",
       "      <td>2</td>\n",
       "      <td>1</td>\n",
       "      <td>0.126187</td>\n",
       "      <td>0.036093</td>\n",
       "    </tr>\n",
       "    <tr>\n",
       "      <th>4</th>\n",
       "      <td>2</td>\n",
       "      <td>2</td>\n",
       "      <td>0.128550</td>\n",
       "      <td>0.034790</td>\n",
       "    </tr>\n",
       "    <tr>\n",
       "      <th>5</th>\n",
       "      <td>2</td>\n",
       "      <td>3</td>\n",
       "      <td>0.111379</td>\n",
       "      <td>0.034709</td>\n",
       "    </tr>\n",
       "  </tbody>\n",
       "</table>\n",
       "</div>"
      ],
      "text/plain": [
       "   group  trial      mean       std\n",
       "0      1      1  0.122057  0.042030\n",
       "1      1      2  0.123503  0.041214\n",
       "2      1      3  0.120419  0.021798\n",
       "3      2      1  0.126187  0.036093\n",
       "4      2      2  0.128550  0.034790\n",
       "5      2      3  0.111379  0.034709"
      ]
     },
     "execution_count": 36,
     "metadata": {},
     "output_type": "execute_result"
    }
   ],
   "source": [
    "statistic2(g)"
   ]
  },
  {
   "cell_type": "code",
   "execution_count": 37,
   "metadata": {},
   "outputs": [
    {
     "data": {
      "text/plain": [
       "Ttest_indResult(statistic=-3.7552473594484366, pvalue=0.00017632758984188908)"
      ]
     },
     "execution_count": 37,
     "metadata": {},
     "output_type": "execute_result"
    }
   ],
   "source": [
    "scipy.stats.ttest_ind(g[0][1], g[1][1], equal_var = False)"
   ]
  },
  {
   "cell_type": "code",
   "execution_count": 38,
   "metadata": {},
   "outputs": [
    {
     "data": {
      "text/plain": [
       "0.1323990198498"
      ]
     },
     "execution_count": 38,
     "metadata": {},
     "output_type": "execute_result"
    }
   ],
   "source": [
    "effect_size(g[0][1],g[1][1])"
   ]
  },
  {
   "cell_type": "markdown",
   "metadata": {},
   "source": [
    "# Microsaccades"
   ]
  },
  {
   "cell_type": "code",
   "execution_count": 39,
   "metadata": {},
   "outputs": [],
   "source": [
    "def msaccade_rate():\n",
    "    g = []\n",
    "    for v in feature_groups:\n",
    "        x = np.array([len(v) for v in v[0]['Emsac']])/np.array(v[0]['total_time'])\n",
    "        y = np.array([len(v) for v in v[1]['Emsac']])/np.array(v[1]['total_time'])\n",
    "        z = np.array([len(v) for v in v[2]['Emsac']])/np.array(v[2]['total_time'])\n",
    "\n",
    "        g.append([x,y,z])\n",
    "    return g\n",
    "g = msaccade_rate()"
   ]
  },
  {
   "cell_type": "code",
   "execution_count": 40,
   "metadata": {},
   "outputs": [
    {
     "data": {
      "text/html": [
       "<div>\n",
       "<style scoped>\n",
       "    .dataframe tbody tr th:only-of-type {\n",
       "        vertical-align: middle;\n",
       "    }\n",
       "\n",
       "    .dataframe tbody tr th {\n",
       "        vertical-align: top;\n",
       "    }\n",
       "\n",
       "    .dataframe thead th {\n",
       "        text-align: right;\n",
       "    }\n",
       "</style>\n",
       "<table border=\"1\" class=\"dataframe\">\n",
       "  <thead>\n",
       "    <tr style=\"text-align: right;\">\n",
       "      <th></th>\n",
       "      <th>group</th>\n",
       "      <th>trial</th>\n",
       "      <th>mean</th>\n",
       "      <th>std</th>\n",
       "    </tr>\n",
       "  </thead>\n",
       "  <tbody>\n",
       "    <tr>\n",
       "      <th>0</th>\n",
       "      <td>1</td>\n",
       "      <td>1</td>\n",
       "      <td>2.850970</td>\n",
       "      <td>1.610601</td>\n",
       "    </tr>\n",
       "    <tr>\n",
       "      <th>1</th>\n",
       "      <td>1</td>\n",
       "      <td>2</td>\n",
       "      <td>2.774702</td>\n",
       "      <td>1.615711</td>\n",
       "    </tr>\n",
       "    <tr>\n",
       "      <th>2</th>\n",
       "      <td>1</td>\n",
       "      <td>3</td>\n",
       "      <td>2.466278</td>\n",
       "      <td>0.000000</td>\n",
       "    </tr>\n",
       "    <tr>\n",
       "      <th>3</th>\n",
       "      <td>2</td>\n",
       "      <td>1</td>\n",
       "      <td>2.429472</td>\n",
       "      <td>0.870610</td>\n",
       "    </tr>\n",
       "    <tr>\n",
       "      <th>4</th>\n",
       "      <td>2</td>\n",
       "      <td>2</td>\n",
       "      <td>2.192312</td>\n",
       "      <td>0.754168</td>\n",
       "    </tr>\n",
       "    <tr>\n",
       "      <th>5</th>\n",
       "      <td>2</td>\n",
       "      <td>3</td>\n",
       "      <td>3.018532</td>\n",
       "      <td>0.706677</td>\n",
       "    </tr>\n",
       "  </tbody>\n",
       "</table>\n",
       "</div>"
      ],
      "text/plain": [
       "   group  trial      mean       std\n",
       "0      1      1  2.850970  1.610601\n",
       "1      1      2  2.774702  1.615711\n",
       "2      1      3  2.466278  0.000000\n",
       "3      2      1  2.429472  0.870610\n",
       "4      2      2  2.192312  0.754168\n",
       "5      2      3  3.018532  0.706677"
      ]
     },
     "execution_count": 40,
     "metadata": {},
     "output_type": "execute_result"
    }
   ],
   "source": [
    "statistic2(g)"
   ]
  },
  {
   "cell_type": "code",
   "execution_count": 41,
   "metadata": {},
   "outputs": [
    {
     "data": {
      "text/plain": [
       "Ttest_indResult(statistic=2.0384687069281777, pvalue=0.046597572974411076)"
      ]
     },
     "execution_count": 41,
     "metadata": {},
     "output_type": "execute_result"
    }
   ],
   "source": [
    "scipy.stats.ttest_ind(g[0][1], g[1][1], equal_var = False)"
   ]
  },
  {
   "cell_type": "code",
   "execution_count": 42,
   "metadata": {},
   "outputs": [
    {
     "data": {
      "text/plain": [
       "0.4731682655091028"
      ]
     },
     "execution_count": 42,
     "metadata": {},
     "output_type": "execute_result"
    }
   ],
   "source": [
    "effect_size(g[0][1],g[1][1])"
   ]
  },
  {
   "cell_type": "markdown",
   "metadata": {},
   "source": [
    "## SGE"
   ]
  },
  {
   "cell_type": "code",
   "execution_count": 43,
   "metadata": {},
   "outputs": [],
   "source": [
    "def sge():\n",
    "\n",
    "    g = []\n",
    "    for v in feature_groups:\n",
    "        x = np.array(v[0]['Hs'])\n",
    "        x=x[x!=0]\n",
    "\n",
    "        y = np.array(v[1]['Hs'])\n",
    "        y=y[y!=0]\n",
    "\n",
    "        z = np.array(v[2]['Hs'])\n",
    "        z=z[z!=0]\n",
    "\n",
    "        g.append([x,y,z])\n",
    "        \n",
    "    return g\n",
    "\n",
    "g = sge()"
   ]
  },
  {
   "cell_type": "code",
   "execution_count": 44,
   "metadata": {},
   "outputs": [
    {
     "data": {
      "text/html": [
       "<div>\n",
       "<style scoped>\n",
       "    .dataframe tbody tr th:only-of-type {\n",
       "        vertical-align: middle;\n",
       "    }\n",
       "\n",
       "    .dataframe tbody tr th {\n",
       "        vertical-align: top;\n",
       "    }\n",
       "\n",
       "    .dataframe thead th {\n",
       "        text-align: right;\n",
       "    }\n",
       "</style>\n",
       "<table border=\"1\" class=\"dataframe\">\n",
       "  <thead>\n",
       "    <tr style=\"text-align: right;\">\n",
       "      <th></th>\n",
       "      <th>group</th>\n",
       "      <th>trial</th>\n",
       "      <th>mean</th>\n",
       "      <th>std</th>\n",
       "    </tr>\n",
       "  </thead>\n",
       "  <tbody>\n",
       "    <tr>\n",
       "      <th>0</th>\n",
       "      <td>1</td>\n",
       "      <td>1</td>\n",
       "      <td>1.741419</td>\n",
       "      <td>0.480330</td>\n",
       "    </tr>\n",
       "    <tr>\n",
       "      <th>1</th>\n",
       "      <td>1</td>\n",
       "      <td>2</td>\n",
       "      <td>1.798354</td>\n",
       "      <td>0.412941</td>\n",
       "    </tr>\n",
       "    <tr>\n",
       "      <th>2</th>\n",
       "      <td>1</td>\n",
       "      <td>3</td>\n",
       "      <td>2.736146</td>\n",
       "      <td>0.000000</td>\n",
       "    </tr>\n",
       "    <tr>\n",
       "      <th>3</th>\n",
       "      <td>2</td>\n",
       "      <td>1</td>\n",
       "      <td>1.898783</td>\n",
       "      <td>0.597857</td>\n",
       "    </tr>\n",
       "    <tr>\n",
       "      <th>4</th>\n",
       "      <td>2</td>\n",
       "      <td>2</td>\n",
       "      <td>1.807851</td>\n",
       "      <td>0.454962</td>\n",
       "    </tr>\n",
       "    <tr>\n",
       "      <th>5</th>\n",
       "      <td>2</td>\n",
       "      <td>3</td>\n",
       "      <td>2.180708</td>\n",
       "      <td>0.373570</td>\n",
       "    </tr>\n",
       "  </tbody>\n",
       "</table>\n",
       "</div>"
      ],
      "text/plain": [
       "   group  trial      mean       std\n",
       "0      1      1  1.741419  0.480330\n",
       "1      1      2  1.798354  0.412941\n",
       "2      1      3  2.736146  0.000000\n",
       "3      2      1  1.898783  0.597857\n",
       "4      2      2  1.807851  0.454962\n",
       "5      2      3  2.180708  0.373570"
      ]
     },
     "execution_count": 44,
     "metadata": {},
     "output_type": "execute_result"
    }
   ],
   "source": [
    "statistic2(g)"
   ]
  },
  {
   "cell_type": "code",
   "execution_count": 45,
   "metadata": {},
   "outputs": [
    {
     "data": {
      "text/plain": [
       "Ttest_indResult(statistic=-0.09905572688970882, pvalue=0.9213363770207129)"
      ]
     },
     "execution_count": 45,
     "metadata": {},
     "output_type": "execute_result"
    }
   ],
   "source": [
    "scipy.stats.ttest_ind(g[0][1], g[1][1], equal_var = False)"
   ]
  },
  {
   "cell_type": "code",
   "execution_count": 46,
   "metadata": {},
   "outputs": [
    {
     "data": {
      "text/plain": [
       "0.021782032512491084"
      ]
     },
     "execution_count": 46,
     "metadata": {},
     "output_type": "execute_result"
    }
   ],
   "source": [
    "effect_size(g[0][1],g[1][1])"
   ]
  },
  {
   "cell_type": "markdown",
   "metadata": {},
   "source": [
    "## GTE"
   ]
  },
  {
   "cell_type": "code",
   "execution_count": 47,
   "metadata": {},
   "outputs": [],
   "source": [
    "def gte():\n",
    "    g = []\n",
    "    for v in feature_groups:\n",
    "        x = np.array(v[0]['Ht'])\n",
    "        x=x[x!=0]\n",
    "\n",
    "        y = np.array(v[1]['Ht'])\n",
    "        y=y[y!=0]\n",
    "\n",
    "        z = np.array(v[2]['Ht'])\n",
    "        z=z[z!=0]\n",
    "\n",
    "        g.append([x,y,z])\n",
    "        \n",
    "    return g\n",
    "\n",
    "g= gte()"
   ]
  },
  {
   "cell_type": "code",
   "execution_count": 48,
   "metadata": {},
   "outputs": [
    {
     "data": {
      "text/html": [
       "<div>\n",
       "<style scoped>\n",
       "    .dataframe tbody tr th:only-of-type {\n",
       "        vertical-align: middle;\n",
       "    }\n",
       "\n",
       "    .dataframe tbody tr th {\n",
       "        vertical-align: top;\n",
       "    }\n",
       "\n",
       "    .dataframe thead th {\n",
       "        text-align: right;\n",
       "    }\n",
       "</style>\n",
       "<table border=\"1\" class=\"dataframe\">\n",
       "  <thead>\n",
       "    <tr style=\"text-align: right;\">\n",
       "      <th></th>\n",
       "      <th>group</th>\n",
       "      <th>trial</th>\n",
       "      <th>mean</th>\n",
       "      <th>std</th>\n",
       "    </tr>\n",
       "  </thead>\n",
       "  <tbody>\n",
       "    <tr>\n",
       "      <th>0</th>\n",
       "      <td>1</td>\n",
       "      <td>1</td>\n",
       "      <td>1.442276</td>\n",
       "      <td>0.323603</td>\n",
       "    </tr>\n",
       "    <tr>\n",
       "      <th>1</th>\n",
       "      <td>1</td>\n",
       "      <td>2</td>\n",
       "      <td>1.446649</td>\n",
       "      <td>0.335394</td>\n",
       "    </tr>\n",
       "    <tr>\n",
       "      <th>2</th>\n",
       "      <td>1</td>\n",
       "      <td>3</td>\n",
       "      <td>1.692026</td>\n",
       "      <td>0.000000</td>\n",
       "    </tr>\n",
       "    <tr>\n",
       "      <th>3</th>\n",
       "      <td>2</td>\n",
       "      <td>1</td>\n",
       "      <td>1.500653</td>\n",
       "      <td>0.367768</td>\n",
       "    </tr>\n",
       "    <tr>\n",
       "      <th>4</th>\n",
       "      <td>2</td>\n",
       "      <td>2</td>\n",
       "      <td>1.464970</td>\n",
       "      <td>0.296407</td>\n",
       "    </tr>\n",
       "    <tr>\n",
       "      <th>5</th>\n",
       "      <td>2</td>\n",
       "      <td>3</td>\n",
       "      <td>1.629834</td>\n",
       "      <td>0.125166</td>\n",
       "    </tr>\n",
       "  </tbody>\n",
       "</table>\n",
       "</div>"
      ],
      "text/plain": [
       "   group  trial      mean       std\n",
       "0      1      1  1.442276  0.323603\n",
       "1      1      2  1.446649  0.335394\n",
       "2      1      3  1.692026  0.000000\n",
       "3      2      1  1.500653  0.367768\n",
       "4      2      2  1.464970  0.296407\n",
       "5      2      3  1.629834  0.125166"
      ]
     },
     "execution_count": 48,
     "metadata": {},
     "output_type": "execute_result"
    }
   ],
   "source": [
    "statistic2(g)"
   ]
  },
  {
   "cell_type": "code",
   "execution_count": 49,
   "metadata": {},
   "outputs": [
    {
     "data": {
      "text/plain": [
       "Ttest_indResult(statistic=-0.26021733047785145, pvalue=0.7953952946016314)"
      ]
     },
     "execution_count": 49,
     "metadata": {},
     "output_type": "execute_result"
    }
   ],
   "source": [
    "scipy.stats.ttest_ind(g[0][1], g[1][1], equal_var = False)"
   ]
  },
  {
   "cell_type": "code",
   "execution_count": 50,
   "metadata": {},
   "outputs": [
    {
     "data": {
      "text/plain": [
       "0.058147644954676406"
      ]
     },
     "execution_count": 50,
     "metadata": {},
     "output_type": "execute_result"
    }
   ],
   "source": [
    "effect_size(g[0][1],g[1][1])"
   ]
  },
  {
   "cell_type": "code",
   "execution_count": null,
   "metadata": {},
   "outputs": [],
   "source": []
  },
  {
   "cell_type": "code",
   "execution_count": null,
   "metadata": {},
   "outputs": [],
   "source": []
  },
  {
   "cell_type": "code",
   "execution_count": 51,
   "metadata": {},
   "outputs": [],
   "source": [
    "# g = fixation_rate()\n",
    "# g = fixation_duration()\n",
    "# g = sge()\n",
    "# g = gte()\n",
    "# g = blink_rate()\n",
    "g = saccade_rate()\n",
    "# g = msaccade_rate()\n"
   ]
  },
  {
   "cell_type": "code",
   "execution_count": 57,
   "metadata": {},
   "outputs": [
    {
     "name": "stdout",
     "output_type": "stream",
     "text": [
      "[2.7281668793163063, 1.5098854649142264, nan] [0.009700534184449881, 0.13710559652238571, nan] [0.7510820043929965, 0.35040668659487595, 0.5331785772812805]\n"
     ]
    },
    {
     "data": {
      "text/html": [
       "<div>\n",
       "<style scoped>\n",
       "    .dataframe tbody tr th:only-of-type {\n",
       "        vertical-align: middle;\n",
       "    }\n",
       "\n",
       "    .dataframe tbody tr th {\n",
       "        vertical-align: top;\n",
       "    }\n",
       "\n",
       "    .dataframe thead th {\n",
       "        text-align: right;\n",
       "    }\n",
       "</style>\n",
       "<table border=\"1\" class=\"dataframe\">\n",
       "  <thead>\n",
       "    <tr style=\"text-align: right;\">\n",
       "      <th></th>\n",
       "      <th>trial</th>\n",
       "      <th>group 1 (mean±std)</th>\n",
       "      <th>group 2 (mean±std)</th>\n",
       "      <th>t</th>\n",
       "      <th>p</th>\n",
       "      <th>effect size</th>\n",
       "    </tr>\n",
       "  </thead>\n",
       "  <tbody>\n",
       "    <tr>\n",
       "      <th>0</th>\n",
       "      <td>1</td>\n",
       "      <td>1.21±0.55</td>\n",
       "      <td>0.92±0.24</td>\n",
       "      <td>2.728167</td>\n",
       "      <td>0.009701</td>\n",
       "      <td>0.751082</td>\n",
       "    </tr>\n",
       "    <tr>\n",
       "      <th>1</th>\n",
       "      <td>2</td>\n",
       "      <td>1.06±0.49</td>\n",
       "      <td>0.93±0.23</td>\n",
       "      <td>1.509885</td>\n",
       "      <td>0.137106</td>\n",
       "      <td>0.350407</td>\n",
       "    </tr>\n",
       "    <tr>\n",
       "      <th>2</th>\n",
       "      <td>3</td>\n",
       "      <td>0.92±0.0</td>\n",
       "      <td>1.13±0.39</td>\n",
       "      <td>NaN</td>\n",
       "      <td>NaN</td>\n",
       "      <td>0.533179</td>\n",
       "    </tr>\n",
       "  </tbody>\n",
       "</table>\n",
       "</div>"
      ],
      "text/plain": [
       "   trial group 1 (mean±std) group 2 (mean±std)         t         p  \\\n",
       "0      1          1.21±0.55          0.92±0.24  2.728167  0.009701   \n",
       "1      2          1.06±0.49          0.93±0.23  1.509885  0.137106   \n",
       "2      3           0.92±0.0          1.13±0.39       NaN       NaN   \n",
       "\n",
       "   effect size  \n",
       "0     0.751082  \n",
       "1     0.350407  \n",
       "2     0.533179  "
      ]
     },
     "execution_count": 57,
     "metadata": {},
     "output_type": "execute_result"
    }
   ],
   "source": [
    "m = np.array([[np.mean(v) for v in u] for u in g])\n",
    "std = np.array([[np.std(v) for v in u] for u in g])\n",
    "# group = [[1,1,1],[2,2,2]]\n",
    "trial = [1,2,3]\n",
    "m0 = [(str(round(v[0], 2)) + \"±\" + str(round(v[1], 2))) for v in zip(m[0],std[0])]\n",
    "m1 = [(str(round(v[0], 2)) + \"±\" + str(round(v[1], 2))) for v in zip(m[1],std[1])]\n",
    "\n",
    "df = pd.DataFrame(zip(trial,m0,m1,), columns=[\"trial\",\"group 1 (mean±std)\",\"group 2 (mean±std)\"])\n",
    "\n",
    "t, p, e = test(g)\n",
    "print(t, p ,e)\n",
    "\n",
    "df[\"t\"] = t\n",
    "df['p'] = p\n",
    "df['effect size'] = e\n",
    "df"
   ]
  },
  {
   "cell_type": "code",
   "execution_count": null,
   "metadata": {},
   "outputs": [],
   "source": []
  },
  {
   "cell_type": "code",
   "execution_count": null,
   "metadata": {},
   "outputs": [],
   "source": []
  },
  {
   "cell_type": "code",
   "execution_count": null,
   "metadata": {},
   "outputs": [],
   "source": []
  },
  {
   "cell_type": "code",
   "execution_count": null,
   "metadata": {},
   "outputs": [],
   "source": []
  }
 ],
 "metadata": {
  "kernelspec": {
   "display_name": "Python 3",
   "language": "python",
   "name": "python3"
  },
  "language_info": {
   "codemirror_mode": {
    "name": "ipython",
    "version": 3
   },
   "file_extension": ".py",
   "mimetype": "text/x-python",
   "name": "python",
   "nbconvert_exporter": "python",
   "pygments_lexer": "ipython3",
   "version": "3.6.10"
  }
 },
 "nbformat": 4,
 "nbformat_minor": 4
}
