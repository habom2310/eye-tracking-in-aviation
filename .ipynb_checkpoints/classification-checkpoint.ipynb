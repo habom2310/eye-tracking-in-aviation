{
 "cells": [
  {
   "cell_type": "code",
   "execution_count": 1,
   "metadata": {},
   "outputs": [],
   "source": [
    "import pandas as pd\n",
    "import numpy as np\n",
    "import pygaze\n",
    "import matplotlib.pyplot as plt\n",
    "import matplotlib.image as mpimg\n",
    "import seaborn as sns\n",
    "import scipy\n",
    "import glob\n",
    "from tqdm import tqdm\n",
    "from sklearn.cluster import DBSCAN\n",
    "import detectors\n",
    "import gazeplotter\n",
    "from collections import defaultdict\n",
    "# import local lib\n",
    "import eye_metrics_utils\n",
    "import data_utils\n",
    "import gaze_entropy"
   ]
  },
  {
   "cell_type": "code",
   "execution_count": 2,
   "metadata": {},
   "outputs": [],
   "source": [
    "import warnings\n",
    "# warnings.filterwarnings(action='once')\n",
    "warnings.filterwarnings('ignore')"
   ]
  },
  {
   "cell_type": "code",
   "execution_count": 3,
   "metadata": {},
   "outputs": [],
   "source": [
    "def run_all(df_data):\n",
    "    df_x = df_data.copy()\n",
    "    if (data_utils.check_percentage_null(df_x) < 0.5): # if missing value > 50%, remove\n",
    "        return None\n",
    "    \n",
    "    time = np.array(df_data['Start Time (secs)'].tolist())\n",
    "\n",
    "    Efix = eye_metrics_utils.detect_fixations(df_x)\n",
    "#     print(Efix)\n",
    "    X = np.array(Efix).T[3:].T\n",
    "    Hs, Ht = gaze_entropy.entropy(X)\n",
    "    total_time = time[-1] - time[0]\n",
    "    \n",
    "    return Efix, Hs, Ht, total_time\n",
    "    "
   ]
  },
  {
   "cell_type": "code",
   "execution_count": 5,
   "metadata": {},
   "outputs": [],
   "source": [
    "csv_files = glob.glob(\"data/*.csv\")"
   ]
  },
  {
   "cell_type": "code",
   "execution_count": 6,
   "metadata": {},
   "outputs": [],
   "source": [
    "csv_files_one = [v for v in csv_files if \"One Gaze-Vergence\" in v]\n",
    "csv_files_two = [v for v in csv_files if \"Two Gaze-Vergence\" in v]\n",
    "csv_files_three = [v for v in csv_files if \"Three Go-Around Gaze-Vergence\" in v]"
   ]
  },
  {
   "cell_type": "code",
   "execution_count": 7,
   "metadata": {},
   "outputs": [
    {
     "data": {
      "text/plain": [
       "[['032', '027', '031', '028', '004', '008', '010', '029', '003', '007', '023'],\n",
       " ['021',\n",
       "  '006',\n",
       "  '019',\n",
       "  '022',\n",
       "  '015',\n",
       "  '016',\n",
       "  '014',\n",
       "  '005',\n",
       "  '025',\n",
       "  '002',\n",
       "  '001',\n",
       "  '020',\n",
       "  '011',\n",
       "  '017']]"
      ]
     },
     "execution_count": 7,
     "metadata": {},
     "output_type": "execute_result"
    }
   ],
   "source": [
    "df_par = pd.read_csv(\"participant.csv\")\n",
    "group = [df_par[df_par['Group'].str.contains(\"1\")]['ID'].tolist(), df_par[df_par['Group'].str.contains(\"2\")][\"ID\"].tolist()]\n",
    "group = [[i[-3:] for i in v] for v in group]\n",
    "group"
   ]
  },
  {
   "cell_type": "code",
   "execution_count": 9,
   "metadata": {},
   "outputs": [
    {
     "name": "stdout",
     "output_type": "stream",
     "text": [
      "data\\PISSS_ID_003_Approach One Gaze-Vergence.csv\n",
      "9122\n",
      "data\\PISSS_ID_004_Approach One Gaze-Vergence.csv\n",
      "9307\n",
      "data\\PISSS_ID_007_Approach One Gaze-Vergence.csv\n",
      "9492\n",
      "data\\PISSS_ID_008_Approach One Gaze-Vergence.csv\n",
      "9736\n",
      "data\\PISSS_ID_010_Approach One Gaze-Vergence.csv\n",
      "9554\n",
      "data\\PISSS_ID_023_Approach One Gaze-Vergence.csv\n",
      "9369\n",
      "data\\PISSS_ID_027_Approach One Gaze-Vergence.csv\n",
      "9060\n",
      "data\\PISSS_ID_028_Approach One Gaze-Vergence.csv\n",
      "8999\n",
      "data\\PISSS_ID_029_Approach One Gaze-Vergence.csv\n",
      "9862\n",
      "data\\PISSS_ID_031_Approach One Gaze-Vergence.csv\n",
      "9677\n",
      "data\\PISSS_ID_032_Approach One Gaze-Vergence.csv\n",
      "8629\n",
      "data\\PISSS_ID_003_Approach Two Gaze-Vergence.csv\n",
      "9368\n",
      "data\\PISSS_ID_004_Approach Two Gaze-Vergence.csv\n",
      "9862\n",
      "data\\PISSS_ID_007_Approach Two Gaze-Vergence.csv\n",
      "9677\n",
      "data\\PISSS_ID_008_Approach Two Gaze-Vergence.csv\n",
      "9923\n",
      "data\\PISSS_ID_010_Approach Two Gaze-Vergence.csv\n",
      "9923\n",
      "data\\PISSS_ID_023_Approach Two Gaze-Vergence.csv\n",
      "9677\n",
      "data\\PISSS_ID_027_Approach Two Gaze-Vergence.csv\n",
      "8568\n",
      "data\\PISSS_ID_028_Approach Two Gaze-Vergence.csv\n",
      "9554\n",
      "data\\PISSS_ID_029_Approach Two Gaze-Vergence.csv\n",
      "10232\n",
      "data\\PISSS_ID_031_Approach Two Gaze-Vergence.csv\n",
      "9923\n",
      "data\\PISSS_ID_032_Approach Two Gaze-Vergence.csv\n",
      "8011\n",
      "data\\PISSS_ID_003_Approach Three Go-Around Gaze-Vergence.csv\n",
      "2157\n",
      "data\\PISSS_ID_004_Approach Three Go-Around Gaze-Vergence.csv\n",
      "1849\n",
      "data\\PISSS_ID_007_Approach Three Go-Around Gaze-Vergence.csv\n",
      "2096\n",
      "data\\PISSS_ID_010_Approach Three Go-Around Gaze-Vergence.csv\n",
      "2589\n",
      "data\\PISSS_ID_023_Approach Three Go-Around Gaze-Vergence.csv\n",
      "1849\n",
      "data\\PISSS_ID_027_Approach Three Go-Around Gaze-Vergence.csv\n",
      "2280\n",
      "data\\PISSS_ID_028_Approach Three Go-Around Gaze-Vergence.csv\n",
      "2157\n",
      "data\\PISSS_ID_029_Approach Three Go-Around Gaze-Vergence.csv\n",
      "1725\n",
      "data\\PISSS_ID_031_Approach Three Go-Around Gaze-Vergence.csv\n",
      "1849\n",
      "data\\PISSS_ID_032_Approach Three Go-Around Gaze-Vergence.csv\n",
      "1911\n",
      "data\\PISSS_ID_001_Approach One Gaze-Vergence.csv\n",
      "9307\n",
      "data\\PISSS_ID_002_Approach One Gaze-Vergence.csv\n",
      "9184\n",
      "data\\PISSS_ID_005_Approach One Gaze-Vergence.csv\n",
      "8567\n",
      "data\\PISSS_ID_006_Approach One Gaze-Vergence.csv\n",
      "9985\n",
      "data\\PISSS_ID_011_Approach One Gaze-Vergence.csv\n",
      "9492\n",
      "data\\PISSS_ID_014_Approach One Gaze-Vergence.csv\n",
      "9369\n",
      "data\\PISSS_ID_015_Approach One Gaze-Vergence.csv\n",
      "27978\n",
      "data\\PISSS_ID_016_Approach One Gaze-Vergence.csv\n",
      "8259\n",
      "data\\PISSS_ID_017_Approach One Gaze-Vergence.csv\n",
      "10046\n",
      "data\\PISSS_ID_019_Approach One Gaze-Vergence.csv\n",
      "9615\n",
      "data\\PISSS_ID_020_Approach One Gaze-Vergence.csv\n",
      "9800\n",
      "data\\PISSS_ID_021_Approach One Gaze-Vergence.csv\n",
      "9492\n",
      "data\\PISSS_ID_022_Approach One Gaze-Vergence.csv\n",
      "9615\n",
      "data\\PISSS_ID_025_Approach One Gaze-Vergence.csv\n",
      "8382\n",
      "data\\PISSS_ID_001_Approach Two Gaze-Vergence.csv\n",
      "9554\n",
      "data\\PISSS_ID_002_Approach Two Gaze-Vergence.csv\n",
      "9430\n",
      "data\\PISSS_ID_005_Approach Two Gaze-Vergence.csv\n",
      "9245\n",
      "data\\PISSS_ID_006_Approach Two Gaze-Vergence.csv\n",
      "9739\n",
      "data\\PISSS_ID_011_Approach Two Gaze-Vergence.csv\n",
      "9492\n",
      "data\\PISSS_ID_014_Approach Two Gaze-Vergence.csv\n",
      "9307\n",
      "data\\PISSS_ID_015_Approach Two Gaze-Vergence.csv\n",
      "8812\n",
      "data\\PISSS_ID_016_Approach Two Gaze-Vergence.csv\n",
      "8259\n",
      "data\\PISSS_ID_017_Approach Two Gaze-Vergence.csv\n",
      "9184\n",
      "data\\PISSS_ID_019_Approach Two Gaze-Vergence.csv\n",
      "9615\n",
      "data\\PISSS_ID_020_Approach Two Gaze-Vergence.csv\n",
      "9923\n",
      "data\\PISSS_ID_021_Approach Two Gaze-Vergence.csv\n",
      "9369\n",
      "data\\PISSS_ID_022_Approach Two Gaze-Vergence.csv\n",
      "9307\n",
      "data\\PISSS_ID_025_Approach Two Gaze-Vergence.csv\n",
      "8937\n",
      "data\\PISSS_ID_001_Approach Three Go-Around Gaze-Vergence.csv\n",
      "2465\n",
      "data\\PISSS_ID_002_Approach Three Go-Around Gaze-Vergence.csv\n",
      "616\n",
      "data\\PISSS_ID_005_Approach Three Go-Around Gaze-Vergence.csv\n",
      "2230\n",
      "data\\PISSS_ID_006_Approach Three Go-Around Gaze-Vergence.csv\n",
      "2033\n",
      "data\\PISSS_ID_011_Approach Three Go-Around Gaze-Vergence.csv\n",
      "2157\n",
      "data\\PISSS_ID_014_Approach Three Go-Around Gaze-Vergence.csv\n",
      "2096\n",
      "data\\PISSS_ID_015_Approach Three Go-Around Gaze-Vergence.csv\n",
      "2033\n",
      "data\\PISSS_ID_016_Approach Three Go-Around Gaze-Vergence.csv\n",
      "2219\n",
      "data\\PISSS_ID_017_Approach Three Go-Around Gaze-Vergence.csv\n",
      "2650\n",
      "data\\PISSS_ID_019_Approach Three Go-Around Gaze-Vergence.csv\n",
      "1541\n",
      "data\\PISSS_ID_020_Approach Three Go-Around Gaze-Vergence.csv\n",
      "1665\n",
      "data\\PISSS_ID_021_Approach Three Go-Around Gaze-Vergence.csv\n",
      "1726\n",
      "data\\PISSS_ID_022_Approach Three Go-Around Gaze-Vergence.csv\n",
      "1972\n",
      "data\\PISSS_ID_025_Approach Three Go-Around Gaze-Vergence.csv\n",
      "2342\n"
     ]
    }
   ],
   "source": [
    "feature_groups = []\n",
    "for g in group:\n",
    "    trials = []\n",
    "    for csv_files in [csv_files_one, csv_files_two, csv_files_three]:\n",
    "        ret = defaultdict(list)\n",
    "        for csv in csv_files:\n",
    "            par_id = csv[14:17]\n",
    "            if par_id not in g:\n",
    "                continue\n",
    "                \n",
    "            print(csv)\n",
    "            df_data = pd.read_csv(csv)\n",
    "            print(len(df_data))\n",
    "            for v in data_utils.data_slicing(df_data):\n",
    "                r = run_all(v)\n",
    "                if r != None:\n",
    "                    Efix, Hs, Ht, total_time = r\n",
    "#                     ret[\"Eblk\"].append(Eblk)\n",
    "                    ret[\"Efix\"].append(Efix)\n",
    "#                     ret[\"Esac\"].append(Esac)\n",
    "#                     ret[\"trans_matrix\"].append(trans_matrix)\n",
    "                    ret[\"Hs\"].append(Hs)\n",
    "                    ret[\"Ht\"].append(Ht)\n",
    "                    ret[\"total_time\"].append(total_time)\n",
    "        trials.append(ret)\n",
    "    feature_groups.append(trials)"
   ]
  },
  {
   "cell_type": "code",
   "execution_count": null,
   "metadata": {},
   "outputs": [],
   "source": []
  },
  {
   "cell_type": "code",
   "execution_count": null,
   "metadata": {},
   "outputs": [],
   "source": [
    "for i, g in enumerate(feature_groups):\n",
    "    fix_dur = []\n",
    "    for i, p in enumerate(g[1]['Efix']):\n",
    "        fix_dur = np.append(fix_dur,np.array(p).T[2])\n",
    "    Hs = g[1]['Hs']\n",
    "    Ht = g[1]['Ht']\n",
    "    group = i\n",
    "    df = pd.DataFrame(zip([fix_dur, Hs, Ht]))\n",
    "    \n",
    "    "
   ]
  },
  {
   "cell_type": "code",
   "execution_count": 27,
   "metadata": {},
   "outputs": [
    {
     "data": {
      "text/plain": [
       "fix_dur    float64\n",
       "Hs         float64\n",
       "Ht         float64\n",
       "group        int32\n",
       "dtype: object"
      ]
     },
     "execution_count": 27,
     "metadata": {},
     "output_type": "execute_result"
    }
   ],
   "source": [
    "df_x.astype({'group': 'int32'}).dtypes"
   ]
  },
  {
   "cell_type": "code",
   "execution_count": 28,
   "metadata": {},
   "outputs": [],
   "source": [
    "from sklearn.linear_model import LogisticRegression\n",
    "from sklearn.model_selection import train_test_split\n",
    "from sklearn.metrics import classification_report"
   ]
  },
  {
   "cell_type": "code",
   "execution_count": 29,
   "metadata": {},
   "outputs": [
    {
     "data": {
      "text/plain": [
       "0.5523809523809524"
      ]
     },
     "execution_count": 29,
     "metadata": {},
     "output_type": "execute_result"
    }
   ],
   "source": [
    "X = df_x[['fix_dur', 'Hs', 'Ht']].values\n",
    "y = df_x[['group']].values\n",
    "X_train, X_test, y_train, y_test = train_test_split(X, y, test_size=0.3, random_state=42)\n",
    "\n",
    "clf = LogisticRegression(random_state=0).fit(X_train, y_train)\n",
    "# clf.predict(X_test)\n",
    "clf.score(X_test, y_test)"
   ]
  },
  {
   "cell_type": "code",
   "execution_count": 30,
   "metadata": {},
   "outputs": [
    {
     "name": "stdout",
     "output_type": "stream",
     "text": [
      "[0. 1.]\n",
      "[[ 0.0021562   0.4252327  -0.30065683]]\n"
     ]
    }
   ],
   "source": [
    "print(clf.classes_)\n",
    "print(clf.coef_)"
   ]
  },
  {
   "cell_type": "code",
   "execution_count": 31,
   "metadata": {},
   "outputs": [
    {
     "name": "stdout",
     "output_type": "stream",
     "text": [
      "              precision    recall  f1-score   support\n",
      "\n",
      "     group 1       0.61      0.17      0.27       100\n",
      "     group 2       0.54      0.90      0.68       110\n",
      "\n",
      "    accuracy                           0.55       210\n",
      "   macro avg       0.58      0.54      0.47       210\n",
      "weighted avg       0.57      0.55      0.48       210\n",
      "\n"
     ]
    }
   ],
   "source": [
    "y_pred = clf.predict(X_test)\n",
    "target_names = ['group 1', 'group 2']\n",
    "print(classification_report(y_test, y_pred, target_names=target_names))"
   ]
  },
  {
   "cell_type": "code",
   "execution_count": null,
   "metadata": {},
   "outputs": [],
   "source": []
  },
  {
   "cell_type": "code",
   "execution_count": null,
   "metadata": {},
   "outputs": [],
   "source": []
  },
  {
   "cell_type": "code",
   "execution_count": null,
   "metadata": {},
   "outputs": [],
   "source": []
  }
 ],
 "metadata": {
  "kernelspec": {
   "display_name": "Python 3",
   "language": "python",
   "name": "python3"
  },
  "language_info": {
   "codemirror_mode": {
    "name": "ipython",
    "version": 3
   },
   "file_extension": ".py",
   "mimetype": "text/x-python",
   "name": "python",
   "nbconvert_exporter": "python",
   "pygments_lexer": "ipython3",
   "version": "3.6.10"
  }
 },
 "nbformat": 4,
 "nbformat_minor": 4
}
