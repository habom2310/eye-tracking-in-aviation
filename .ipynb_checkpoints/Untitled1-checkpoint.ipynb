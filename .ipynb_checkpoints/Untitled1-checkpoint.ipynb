{
 "cells": [
  {
   "cell_type": "markdown",
   "metadata": {},
   "source": [
    "# Import"
   ]
  },
  {
   "cell_type": "code",
   "execution_count": 14,
   "metadata": {},
   "outputs": [],
   "source": [
    "import pandas as pd\n",
    "import numpy as np\n",
    "import pygaze\n",
    "import matplotlib.pyplot as plt\n",
    "import matplotlib.image as mpimg\n",
    "import seaborn as sns\n",
    "import scipy\n",
    "import glob\n",
    "from tqdm import tqdm\n",
    "from sklearn.cluster import DBSCAN\n",
    "import detectors\n",
    "import gazeplotter\n",
    "from collections import defaultdict"
   ]
  },
  {
   "cell_type": "markdown",
   "metadata": {},
   "source": [
    "# function"
   ]
  },
  {
   "cell_type": "code",
   "execution_count": 2,
   "metadata": {},
   "outputs": [],
   "source": [
    "def get_center(clustering, data):\n",
    "    center = []\n",
    "    for i in range(len(set(clustering.labels_)) - 1):\n",
    "        xi = data[np.where(clustering.labels_ == i)]\n",
    "        cx = sum(xi.T[0])/len(xi)\n",
    "        cy = sum(xi.T[1])/len(xi)\n",
    "        center.append((cx,cy))\n",
    "    return center\n",
    "\n",
    "# cluster_center = get_center(clustering,X)"
   ]
  },
  {
   "cell_type": "code",
   "execution_count": 3,
   "metadata": {},
   "outputs": [],
   "source": [
    "def transition_matrix(transitions):\n",
    "    n = 1+ max(transitions) #number of states\n",
    "\n",
    "    M = [[0]*n for _ in range(n)]\n",
    "\n",
    "    for (i,j) in zip(transitions,transitions[1:]):\n",
    "        M[i][j] += 1\n",
    "\n",
    "    #now convert to probabilities:\n",
    "    for row in M:\n",
    "        s = sum(row)\n",
    "        if s > 0:\n",
    "            row[:] = [f/s for f in row]\n",
    "    return M\n"
   ]
  },
  {
   "cell_type": "code",
   "execution_count": 4,
   "metadata": {},
   "outputs": [],
   "source": [
    "def distance(x,y):\n",
    "    return ((x[0]-y[0])**2 + (x[1]-y[1])**2)**0.5\n",
    "\n",
    "def dbscan_predict(cluster_center, X_new, min_dist = 50, metric=distance):\n",
    "    # Result is noise by default\n",
    "    y_new = np.ones(shape=len(X_new), dtype=int)*-1 \n",
    "\n",
    "    # Iterate all input samples for a label\n",
    "    for j, x_new in enumerate(X_new):\n",
    "        # Find a core sample closer than EPS\n",
    "        for i, x_core in enumerate(cluster_center): \n",
    "            if metric(x_new, x_core) < min_dist:\n",
    "                # Assign label of x_core to x_new\n",
    "                y_new[j] = i\n",
    "                break\n",
    "\n",
    "    return y_new"
   ]
  },
  {
   "cell_type": "code",
   "execution_count": 9,
   "metadata": {},
   "outputs": [],
   "source": [
    "def run_all(csv):\n",
    "    df_data = pd.read_csv(csv)\n",
    "    df_data.fillna(0.0, inplace=True)\n",
    "\n",
    "    X = np.array(df_data['X Pos'].tolist())\n",
    "    Y = np.array(df_data['Y Pos'].tolist())\n",
    "    time = np.array(df_data['Start Time (secs)'].tolist())*1000\n",
    "    \n",
    "    # detect blink, fixation and saccade\n",
    "    Sblk, Eblk = detectors.blink_detection(X,Y,time,minlen=6)\n",
    "    Sfix, Efix = detectors.fixation_detection(X,Y,time,maxdist=10,mindur=50)\n",
    "    Ssac, Esac = detectors.saccade_detection(X,Y,time,minlen=5,maxvel=40,maxacc=340)\n",
    "    \n",
    "    # clustering\n",
    "    X = np.array(Efix).T[3:].T\n",
    "    clustering = DBSCAN(eps=20, min_samples=3).fit(X)\n",
    "    cluster_center = get_center(clustering,X)\n",
    "    pred = dbscan_predict(cluster_center, np.array(Efix).T[3:].T)\n",
    "    transitions = pred[np.where(pred!=-1)]\n",
    "    \n",
    "    # transition matrix and GTE, SGE\n",
    "    trans_matrix = transition_matrix(transitions)\n",
    "    pA = [len(np.where(np.array(transitions)==i)[0])/len(transitions) for i in range(len(set(transitions)))]\n",
    "    Ht = 0\n",
    "    Hs = 0\n",
    "    for i in range(len(pA)):\n",
    "        Hs += pA[i]*np.log2(pA[i])\n",
    "        t = np.nan_to_num(trans_matrix[i]*np.log2(trans_matrix[i]))\n",
    "        Ht += -sum(pA[i]*(t))\n",
    "    \n",
    "    total_time = time[-1] - time[0]\n",
    "        \n",
    "    return Eblk, Efix, Esac, trans_matrix, Hs, Ht, total_time\n",
    "    "
   ]
  },
  {
   "cell_type": "markdown",
   "metadata": {},
   "source": [
    "# import data"
   ]
  },
  {
   "cell_type": "code",
   "execution_count": 6,
   "metadata": {},
   "outputs": [],
   "source": [
    "csv_files = glob.glob(\"data/*.csv\")"
   ]
  },
  {
   "cell_type": "code",
   "execution_count": 7,
   "metadata": {},
   "outputs": [],
   "source": [
    "csv_files_one = [v for v in csv_files if \"One Gaze-Left\" in v]\n",
    "csv_files_two = [v for v in csv_files if \"Two Gaze-Left\" in v]\n",
    "csv_files_three = [v for v in csv_files if \"Three Go-Around Gaze-Left\" in v]"
   ]
  },
  {
   "cell_type": "code",
   "execution_count": 11,
   "metadata": {},
   "outputs": [
    {
     "data": {
      "text/plain": [
       "[['032', '027', '031', '028', '004', '008', '010', '029', '003', '007', '023'],\n",
       " ['021',\n",
       "  '006',\n",
       "  '019',\n",
       "  '022',\n",
       "  '015',\n",
       "  '016',\n",
       "  '014',\n",
       "  '005',\n",
       "  '025',\n",
       "  '002',\n",
       "  '001',\n",
       "  '020',\n",
       "  '011',\n",
       "  '017']]"
      ]
     },
     "execution_count": 11,
     "metadata": {},
     "output_type": "execute_result"
    }
   ],
   "source": [
    "df_par = pd.read_csv(\"participant.csv\")\n",
    "group = [df_par[df_par['Group'].str.contains(\"1\")]['ID'].tolist(), df_par[df_par['Group'].str.contains(\"2\")][\"ID\"].tolist()]\n",
    "group = [[i[-3:] for i in v] for v in group]\n",
    "group"
   ]
  },
  {
   "cell_type": "code",
   "execution_count": 18,
   "metadata": {},
   "outputs": [
    {
     "name": "stderr",
     "output_type": "stream",
     "text": [
      "  0%|                                                                                            | 0/2 [00:00<?, ?it/s]c:\\users\\khanhhanguyen\\appdata\\local\\continuum\\anaconda3\\envs\\kia\\lib\\site-packages\\ipykernel_launcher.py:28: RuntimeWarning: divide by zero encountered in log2\n",
      "c:\\users\\khanhhanguyen\\appdata\\local\\continuum\\anaconda3\\envs\\kia\\lib\\site-packages\\ipykernel_launcher.py:28: RuntimeWarning: invalid value encountered in multiply\n",
      "c:\\users\\khanhhanguyen\\appdata\\local\\continuum\\anaconda3\\envs\\kia\\lib\\site-packages\\ipykernel_launcher.py:28: RuntimeWarning: divide by zero encountered in log2\n",
      "c:\\users\\khanhhanguyen\\appdata\\local\\continuum\\anaconda3\\envs\\kia\\lib\\site-packages\\ipykernel_launcher.py:28: RuntimeWarning: invalid value encountered in multiply\n",
      "c:\\users\\khanhhanguyen\\appdata\\local\\continuum\\anaconda3\\envs\\kia\\lib\\site-packages\\ipykernel_launcher.py:28: RuntimeWarning: divide by zero encountered in log2\n",
      "c:\\users\\khanhhanguyen\\appdata\\local\\continuum\\anaconda3\\envs\\kia\\lib\\site-packages\\ipykernel_launcher.py:28: RuntimeWarning: invalid value encountered in multiply\n",
      "c:\\users\\khanhhanguyen\\appdata\\local\\continuum\\anaconda3\\envs\\kia\\lib\\site-packages\\ipykernel_launcher.py:28: RuntimeWarning: divide by zero encountered in log2\n",
      "c:\\users\\khanhhanguyen\\appdata\\local\\continuum\\anaconda3\\envs\\kia\\lib\\site-packages\\ipykernel_launcher.py:28: RuntimeWarning: invalid value encountered in multiply\n",
      "c:\\users\\khanhhanguyen\\appdata\\local\\continuum\\anaconda3\\envs\\kia\\lib\\site-packages\\ipykernel_launcher.py:28: RuntimeWarning: divide by zero encountered in log2\n",
      "c:\\users\\khanhhanguyen\\appdata\\local\\continuum\\anaconda3\\envs\\kia\\lib\\site-packages\\ipykernel_launcher.py:28: RuntimeWarning: invalid value encountered in multiply\n",
      "c:\\users\\khanhhanguyen\\appdata\\local\\continuum\\anaconda3\\envs\\kia\\lib\\site-packages\\ipykernel_launcher.py:28: RuntimeWarning: divide by zero encountered in log2\n",
      "c:\\users\\khanhhanguyen\\appdata\\local\\continuum\\anaconda3\\envs\\kia\\lib\\site-packages\\ipykernel_launcher.py:28: RuntimeWarning: invalid value encountered in multiply\n",
      "c:\\users\\khanhhanguyen\\appdata\\local\\continuum\\anaconda3\\envs\\kia\\lib\\site-packages\\ipykernel_launcher.py:28: RuntimeWarning: divide by zero encountered in log2\n",
      "c:\\users\\khanhhanguyen\\appdata\\local\\continuum\\anaconda3\\envs\\kia\\lib\\site-packages\\ipykernel_launcher.py:28: RuntimeWarning: invalid value encountered in multiply\n",
      "c:\\users\\khanhhanguyen\\appdata\\local\\continuum\\anaconda3\\envs\\kia\\lib\\site-packages\\ipykernel_launcher.py:28: RuntimeWarning: divide by zero encountered in log2\n",
      "c:\\users\\khanhhanguyen\\appdata\\local\\continuum\\anaconda3\\envs\\kia\\lib\\site-packages\\ipykernel_launcher.py:28: RuntimeWarning: invalid value encountered in multiply\n",
      "c:\\users\\khanhhanguyen\\appdata\\local\\continuum\\anaconda3\\envs\\kia\\lib\\site-packages\\ipykernel_launcher.py:28: RuntimeWarning: divide by zero encountered in log2\n",
      "c:\\users\\khanhhanguyen\\appdata\\local\\continuum\\anaconda3\\envs\\kia\\lib\\site-packages\\ipykernel_launcher.py:28: RuntimeWarning: invalid value encountered in multiply\n",
      "c:\\users\\khanhhanguyen\\appdata\\local\\continuum\\anaconda3\\envs\\kia\\lib\\site-packages\\ipykernel_launcher.py:28: RuntimeWarning: divide by zero encountered in log2\n",
      "c:\\users\\khanhhanguyen\\appdata\\local\\continuum\\anaconda3\\envs\\kia\\lib\\site-packages\\ipykernel_launcher.py:28: RuntimeWarning: invalid value encountered in multiply\n",
      "c:\\users\\khanhhanguyen\\appdata\\local\\continuum\\anaconda3\\envs\\kia\\lib\\site-packages\\ipykernel_launcher.py:28: RuntimeWarning: divide by zero encountered in log2\n",
      "c:\\users\\khanhhanguyen\\appdata\\local\\continuum\\anaconda3\\envs\\kia\\lib\\site-packages\\ipykernel_launcher.py:28: RuntimeWarning: invalid value encountered in multiply\n",
      "c:\\users\\khanhhanguyen\\appdata\\local\\continuum\\anaconda3\\envs\\kia\\lib\\site-packages\\ipykernel_launcher.py:28: RuntimeWarning: divide by zero encountered in log2\n",
      "c:\\users\\khanhhanguyen\\appdata\\local\\continuum\\anaconda3\\envs\\kia\\lib\\site-packages\\ipykernel_launcher.py:28: RuntimeWarning: invalid value encountered in multiply\n",
      "c:\\users\\khanhhanguyen\\appdata\\local\\continuum\\anaconda3\\envs\\kia\\lib\\site-packages\\ipykernel_launcher.py:28: RuntimeWarning: divide by zero encountered in log2\n",
      "c:\\users\\khanhhanguyen\\appdata\\local\\continuum\\anaconda3\\envs\\kia\\lib\\site-packages\\ipykernel_launcher.py:28: RuntimeWarning: invalid value encountered in multiply\n",
      "c:\\users\\khanhhanguyen\\appdata\\local\\continuum\\anaconda3\\envs\\kia\\lib\\site-packages\\ipykernel_launcher.py:28: RuntimeWarning: divide by zero encountered in log2\n",
      "c:\\users\\khanhhanguyen\\appdata\\local\\continuum\\anaconda3\\envs\\kia\\lib\\site-packages\\ipykernel_launcher.py:28: RuntimeWarning: invalid value encountered in multiply\n",
      "c:\\users\\khanhhanguyen\\appdata\\local\\continuum\\anaconda3\\envs\\kia\\lib\\site-packages\\ipykernel_launcher.py:28: RuntimeWarning: divide by zero encountered in log2\n",
      "c:\\users\\khanhhanguyen\\appdata\\local\\continuum\\anaconda3\\envs\\kia\\lib\\site-packages\\ipykernel_launcher.py:28: RuntimeWarning: invalid value encountered in multiply\n",
      "c:\\users\\khanhhanguyen\\appdata\\local\\continuum\\anaconda3\\envs\\kia\\lib\\site-packages\\ipykernel_launcher.py:28: RuntimeWarning: divide by zero encountered in log2\n",
      "c:\\users\\khanhhanguyen\\appdata\\local\\continuum\\anaconda3\\envs\\kia\\lib\\site-packages\\ipykernel_launcher.py:28: RuntimeWarning: invalid value encountered in multiply\n",
      "c:\\users\\khanhhanguyen\\appdata\\local\\continuum\\anaconda3\\envs\\kia\\lib\\site-packages\\ipykernel_launcher.py:28: RuntimeWarning: divide by zero encountered in log2\n",
      "c:\\users\\khanhhanguyen\\appdata\\local\\continuum\\anaconda3\\envs\\kia\\lib\\site-packages\\ipykernel_launcher.py:28: RuntimeWarning: invalid value encountered in multiply\n",
      "c:\\users\\khanhhanguyen\\appdata\\local\\continuum\\anaconda3\\envs\\kia\\lib\\site-packages\\ipykernel_launcher.py:28: RuntimeWarning: divide by zero encountered in log2\n",
      "c:\\users\\khanhhanguyen\\appdata\\local\\continuum\\anaconda3\\envs\\kia\\lib\\site-packages\\ipykernel_launcher.py:28: RuntimeWarning: invalid value encountered in multiply\n",
      "c:\\users\\khanhhanguyen\\appdata\\local\\continuum\\anaconda3\\envs\\kia\\lib\\site-packages\\ipykernel_launcher.py:28: RuntimeWarning: divide by zero encountered in log2\n",
      "c:\\users\\khanhhanguyen\\appdata\\local\\continuum\\anaconda3\\envs\\kia\\lib\\site-packages\\ipykernel_launcher.py:28: RuntimeWarning: invalid value encountered in multiply\n",
      "c:\\users\\khanhhanguyen\\appdata\\local\\continuum\\anaconda3\\envs\\kia\\lib\\site-packages\\ipykernel_launcher.py:28: RuntimeWarning: divide by zero encountered in log2\n",
      "c:\\users\\khanhhanguyen\\appdata\\local\\continuum\\anaconda3\\envs\\kia\\lib\\site-packages\\ipykernel_launcher.py:28: RuntimeWarning: invalid value encountered in multiply\n",
      "c:\\users\\khanhhanguyen\\appdata\\local\\continuum\\anaconda3\\envs\\kia\\lib\\site-packages\\ipykernel_launcher.py:28: RuntimeWarning: divide by zero encountered in log2\n",
      "c:\\users\\khanhhanguyen\\appdata\\local\\continuum\\anaconda3\\envs\\kia\\lib\\site-packages\\ipykernel_launcher.py:28: RuntimeWarning: invalid value encountered in multiply\n",
      "c:\\users\\khanhhanguyen\\appdata\\local\\continuum\\anaconda3\\envs\\kia\\lib\\site-packages\\ipykernel_launcher.py:28: RuntimeWarning: divide by zero encountered in log2\n",
      "c:\\users\\khanhhanguyen\\appdata\\local\\continuum\\anaconda3\\envs\\kia\\lib\\site-packages\\ipykernel_launcher.py:28: RuntimeWarning: invalid value encountered in multiply\n",
      "c:\\users\\khanhhanguyen\\appdata\\local\\continuum\\anaconda3\\envs\\kia\\lib\\site-packages\\ipykernel_launcher.py:28: RuntimeWarning: divide by zero encountered in log2\n",
      "c:\\users\\khanhhanguyen\\appdata\\local\\continuum\\anaconda3\\envs\\kia\\lib\\site-packages\\ipykernel_launcher.py:28: RuntimeWarning: invalid value encountered in multiply\n",
      "c:\\users\\khanhhanguyen\\appdata\\local\\continuum\\anaconda3\\envs\\kia\\lib\\site-packages\\ipykernel_launcher.py:28: RuntimeWarning: divide by zero encountered in log2\n",
      "c:\\users\\khanhhanguyen\\appdata\\local\\continuum\\anaconda3\\envs\\kia\\lib\\site-packages\\ipykernel_launcher.py:28: RuntimeWarning: invalid value encountered in multiply\n",
      "c:\\users\\khanhhanguyen\\appdata\\local\\continuum\\anaconda3\\envs\\kia\\lib\\site-packages\\ipykernel_launcher.py:28: RuntimeWarning: divide by zero encountered in log2\n",
      "c:\\users\\khanhhanguyen\\appdata\\local\\continuum\\anaconda3\\envs\\kia\\lib\\site-packages\\ipykernel_launcher.py:28: RuntimeWarning: invalid value encountered in multiply\n",
      "c:\\users\\khanhhanguyen\\appdata\\local\\continuum\\anaconda3\\envs\\kia\\lib\\site-packages\\ipykernel_launcher.py:28: RuntimeWarning: divide by zero encountered in log2\n",
      "c:\\users\\khanhhanguyen\\appdata\\local\\continuum\\anaconda3\\envs\\kia\\lib\\site-packages\\ipykernel_launcher.py:28: RuntimeWarning: invalid value encountered in multiply\n",
      "c:\\users\\khanhhanguyen\\appdata\\local\\continuum\\anaconda3\\envs\\kia\\lib\\site-packages\\ipykernel_launcher.py:28: RuntimeWarning: divide by zero encountered in log2\n",
      "c:\\users\\khanhhanguyen\\appdata\\local\\continuum\\anaconda3\\envs\\kia\\lib\\site-packages\\ipykernel_launcher.py:28: RuntimeWarning: invalid value encountered in multiply\n",
      "c:\\users\\khanhhanguyen\\appdata\\local\\continuum\\anaconda3\\envs\\kia\\lib\\site-packages\\ipykernel_launcher.py:28: RuntimeWarning: divide by zero encountered in log2\n",
      "c:\\users\\khanhhanguyen\\appdata\\local\\continuum\\anaconda3\\envs\\kia\\lib\\site-packages\\ipykernel_launcher.py:28: RuntimeWarning: invalid value encountered in multiply\n",
      "c:\\users\\khanhhanguyen\\appdata\\local\\continuum\\anaconda3\\envs\\kia\\lib\\site-packages\\ipykernel_launcher.py:28: RuntimeWarning: divide by zero encountered in log2\n",
      "c:\\users\\khanhhanguyen\\appdata\\local\\continuum\\anaconda3\\envs\\kia\\lib\\site-packages\\ipykernel_launcher.py:28: RuntimeWarning: invalid value encountered in multiply\n"
     ]
    },
    {
     "name": "stderr",
     "output_type": "stream",
     "text": [
      " 50%|██████████████████████████████████████████                                          | 1/2 [00:03<00:03,  3.55s/it]c:\\users\\khanhhanguyen\\appdata\\local\\continuum\\anaconda3\\envs\\kia\\lib\\site-packages\\ipykernel_launcher.py:28: RuntimeWarning: divide by zero encountered in log2\n",
      "c:\\users\\khanhhanguyen\\appdata\\local\\continuum\\anaconda3\\envs\\kia\\lib\\site-packages\\ipykernel_launcher.py:28: RuntimeWarning: invalid value encountered in multiply\n",
      "c:\\users\\khanhhanguyen\\appdata\\local\\continuum\\anaconda3\\envs\\kia\\lib\\site-packages\\ipykernel_launcher.py:28: RuntimeWarning: divide by zero encountered in log2\n",
      "c:\\users\\khanhhanguyen\\appdata\\local\\continuum\\anaconda3\\envs\\kia\\lib\\site-packages\\ipykernel_launcher.py:28: RuntimeWarning: invalid value encountered in multiply\n",
      "c:\\users\\khanhhanguyen\\appdata\\local\\continuum\\anaconda3\\envs\\kia\\lib\\site-packages\\ipykernel_launcher.py:28: RuntimeWarning: divide by zero encountered in log2\n",
      "c:\\users\\khanhhanguyen\\appdata\\local\\continuum\\anaconda3\\envs\\kia\\lib\\site-packages\\ipykernel_launcher.py:28: RuntimeWarning: invalid value encountered in multiply\n",
      "c:\\users\\khanhhanguyen\\appdata\\local\\continuum\\anaconda3\\envs\\kia\\lib\\site-packages\\ipykernel_launcher.py:28: RuntimeWarning: divide by zero encountered in log2\n",
      "c:\\users\\khanhhanguyen\\appdata\\local\\continuum\\anaconda3\\envs\\kia\\lib\\site-packages\\ipykernel_launcher.py:28: RuntimeWarning: invalid value encountered in multiply\n",
      "c:\\users\\khanhhanguyen\\appdata\\local\\continuum\\anaconda3\\envs\\kia\\lib\\site-packages\\ipykernel_launcher.py:28: RuntimeWarning: divide by zero encountered in log2\n",
      "c:\\users\\khanhhanguyen\\appdata\\local\\continuum\\anaconda3\\envs\\kia\\lib\\site-packages\\ipykernel_launcher.py:28: RuntimeWarning: invalid value encountered in multiply\n",
      "c:\\users\\khanhhanguyen\\appdata\\local\\continuum\\anaconda3\\envs\\kia\\lib\\site-packages\\ipykernel_launcher.py:28: RuntimeWarning: divide by zero encountered in log2\n",
      "c:\\users\\khanhhanguyen\\appdata\\local\\continuum\\anaconda3\\envs\\kia\\lib\\site-packages\\ipykernel_launcher.py:28: RuntimeWarning: invalid value encountered in multiply\n",
      "c:\\users\\khanhhanguyen\\appdata\\local\\continuum\\anaconda3\\envs\\kia\\lib\\site-packages\\ipykernel_launcher.py:28: RuntimeWarning: divide by zero encountered in log2\n",
      "c:\\users\\khanhhanguyen\\appdata\\local\\continuum\\anaconda3\\envs\\kia\\lib\\site-packages\\ipykernel_launcher.py:28: RuntimeWarning: invalid value encountered in multiply\n",
      "c:\\users\\khanhhanguyen\\appdata\\local\\continuum\\anaconda3\\envs\\kia\\lib\\site-packages\\ipykernel_launcher.py:28: RuntimeWarning: divide by zero encountered in log2\n",
      "c:\\users\\khanhhanguyen\\appdata\\local\\continuum\\anaconda3\\envs\\kia\\lib\\site-packages\\ipykernel_launcher.py:28: RuntimeWarning: invalid value encountered in multiply\n",
      "c:\\users\\khanhhanguyen\\appdata\\local\\continuum\\anaconda3\\envs\\kia\\lib\\site-packages\\ipykernel_launcher.py:28: RuntimeWarning: divide by zero encountered in log2\n",
      "c:\\users\\khanhhanguyen\\appdata\\local\\continuum\\anaconda3\\envs\\kia\\lib\\site-packages\\ipykernel_launcher.py:28: RuntimeWarning: invalid value encountered in multiply\n",
      "c:\\users\\khanhhanguyen\\appdata\\local\\continuum\\anaconda3\\envs\\kia\\lib\\site-packages\\ipykernel_launcher.py:28: RuntimeWarning: divide by zero encountered in log2\n",
      "c:\\users\\khanhhanguyen\\appdata\\local\\continuum\\anaconda3\\envs\\kia\\lib\\site-packages\\ipykernel_launcher.py:28: RuntimeWarning: invalid value encountered in multiply\n",
      "c:\\users\\khanhhanguyen\\appdata\\local\\continuum\\anaconda3\\envs\\kia\\lib\\site-packages\\ipykernel_launcher.py:28: RuntimeWarning: divide by zero encountered in log2\n",
      "c:\\users\\khanhhanguyen\\appdata\\local\\continuum\\anaconda3\\envs\\kia\\lib\\site-packages\\ipykernel_launcher.py:28: RuntimeWarning: invalid value encountered in multiply\n",
      "c:\\users\\khanhhanguyen\\appdata\\local\\continuum\\anaconda3\\envs\\kia\\lib\\site-packages\\ipykernel_launcher.py:28: RuntimeWarning: divide by zero encountered in log2\n",
      "c:\\users\\khanhhanguyen\\appdata\\local\\continuum\\anaconda3\\envs\\kia\\lib\\site-packages\\ipykernel_launcher.py:28: RuntimeWarning: invalid value encountered in multiply\n",
      "c:\\users\\khanhhanguyen\\appdata\\local\\continuum\\anaconda3\\envs\\kia\\lib\\site-packages\\ipykernel_launcher.py:28: RuntimeWarning: divide by zero encountered in log2\n",
      "c:\\users\\khanhhanguyen\\appdata\\local\\continuum\\anaconda3\\envs\\kia\\lib\\site-packages\\ipykernel_launcher.py:28: RuntimeWarning: invalid value encountered in multiply\n",
      "c:\\users\\khanhhanguyen\\appdata\\local\\continuum\\anaconda3\\envs\\kia\\lib\\site-packages\\ipykernel_launcher.py:28: RuntimeWarning: divide by zero encountered in log2\n",
      "c:\\users\\khanhhanguyen\\appdata\\local\\continuum\\anaconda3\\envs\\kia\\lib\\site-packages\\ipykernel_launcher.py:28: RuntimeWarning: invalid value encountered in multiply\n",
      "c:\\users\\khanhhanguyen\\appdata\\local\\continuum\\anaconda3\\envs\\kia\\lib\\site-packages\\ipykernel_launcher.py:28: RuntimeWarning: divide by zero encountered in log2\n",
      "c:\\users\\khanhhanguyen\\appdata\\local\\continuum\\anaconda3\\envs\\kia\\lib\\site-packages\\ipykernel_launcher.py:28: RuntimeWarning: invalid value encountered in multiply\n",
      "c:\\users\\khanhhanguyen\\appdata\\local\\continuum\\anaconda3\\envs\\kia\\lib\\site-packages\\ipykernel_launcher.py:28: RuntimeWarning: divide by zero encountered in log2\n",
      "c:\\users\\khanhhanguyen\\appdata\\local\\continuum\\anaconda3\\envs\\kia\\lib\\site-packages\\ipykernel_launcher.py:28: RuntimeWarning: invalid value encountered in multiply\n",
      "c:\\users\\khanhhanguyen\\appdata\\local\\continuum\\anaconda3\\envs\\kia\\lib\\site-packages\\ipykernel_launcher.py:28: RuntimeWarning: divide by zero encountered in log2\n",
      "c:\\users\\khanhhanguyen\\appdata\\local\\continuum\\anaconda3\\envs\\kia\\lib\\site-packages\\ipykernel_launcher.py:28: RuntimeWarning: invalid value encountered in multiply\n",
      "c:\\users\\khanhhanguyen\\appdata\\local\\continuum\\anaconda3\\envs\\kia\\lib\\site-packages\\ipykernel_launcher.py:28: RuntimeWarning: divide by zero encountered in log2\n",
      "c:\\users\\khanhhanguyen\\appdata\\local\\continuum\\anaconda3\\envs\\kia\\lib\\site-packages\\ipykernel_launcher.py:28: RuntimeWarning: invalid value encountered in multiply\n",
      "c:\\users\\khanhhanguyen\\appdata\\local\\continuum\\anaconda3\\envs\\kia\\lib\\site-packages\\ipykernel_launcher.py:28: RuntimeWarning: divide by zero encountered in log2\n",
      "c:\\users\\khanhhanguyen\\appdata\\local\\continuum\\anaconda3\\envs\\kia\\lib\\site-packages\\ipykernel_launcher.py:28: RuntimeWarning: invalid value encountered in multiply\n",
      "c:\\users\\khanhhanguyen\\appdata\\local\\continuum\\anaconda3\\envs\\kia\\lib\\site-packages\\ipykernel_launcher.py:28: RuntimeWarning: divide by zero encountered in log2\n",
      "c:\\users\\khanhhanguyen\\appdata\\local\\continuum\\anaconda3\\envs\\kia\\lib\\site-packages\\ipykernel_launcher.py:28: RuntimeWarning: invalid value encountered in multiply\n",
      "c:\\users\\khanhhanguyen\\appdata\\local\\continuum\\anaconda3\\envs\\kia\\lib\\site-packages\\ipykernel_launcher.py:28: RuntimeWarning: divide by zero encountered in log2\n",
      "c:\\users\\khanhhanguyen\\appdata\\local\\continuum\\anaconda3\\envs\\kia\\lib\\site-packages\\ipykernel_launcher.py:28: RuntimeWarning: invalid value encountered in multiply\n",
      "c:\\users\\khanhhanguyen\\appdata\\local\\continuum\\anaconda3\\envs\\kia\\lib\\site-packages\\ipykernel_launcher.py:28: RuntimeWarning: divide by zero encountered in log2\n",
      "c:\\users\\khanhhanguyen\\appdata\\local\\continuum\\anaconda3\\envs\\kia\\lib\\site-packages\\ipykernel_launcher.py:28: RuntimeWarning: invalid value encountered in multiply\n",
      "c:\\users\\khanhhanguyen\\appdata\\local\\continuum\\anaconda3\\envs\\kia\\lib\\site-packages\\ipykernel_launcher.py:28: RuntimeWarning: divide by zero encountered in log2\n",
      "c:\\users\\khanhhanguyen\\appdata\\local\\continuum\\anaconda3\\envs\\kia\\lib\\site-packages\\ipykernel_launcher.py:28: RuntimeWarning: invalid value encountered in multiply\n",
      "c:\\users\\khanhhanguyen\\appdata\\local\\continuum\\anaconda3\\envs\\kia\\lib\\site-packages\\ipykernel_launcher.py:28: RuntimeWarning: divide by zero encountered in log2\n",
      "c:\\users\\khanhhanguyen\\appdata\\local\\continuum\\anaconda3\\envs\\kia\\lib\\site-packages\\ipykernel_launcher.py:28: RuntimeWarning: invalid value encountered in multiply\n",
      "c:\\users\\khanhhanguyen\\appdata\\local\\continuum\\anaconda3\\envs\\kia\\lib\\site-packages\\ipykernel_launcher.py:28: RuntimeWarning: divide by zero encountered in log2\n",
      "c:\\users\\khanhhanguyen\\appdata\\local\\continuum\\anaconda3\\envs\\kia\\lib\\site-packages\\ipykernel_launcher.py:28: RuntimeWarning: invalid value encountered in multiply\n",
      "c:\\users\\khanhhanguyen\\appdata\\local\\continuum\\anaconda3\\envs\\kia\\lib\\site-packages\\ipykernel_launcher.py:28: RuntimeWarning: divide by zero encountered in log2\n",
      "c:\\users\\khanhhanguyen\\appdata\\local\\continuum\\anaconda3\\envs\\kia\\lib\\site-packages\\ipykernel_launcher.py:28: RuntimeWarning: invalid value encountered in multiply\n",
      "c:\\users\\khanhhanguyen\\appdata\\local\\continuum\\anaconda3\\envs\\kia\\lib\\site-packages\\ipykernel_launcher.py:28: RuntimeWarning: divide by zero encountered in log2\n",
      "c:\\users\\khanhhanguyen\\appdata\\local\\continuum\\anaconda3\\envs\\kia\\lib\\site-packages\\ipykernel_launcher.py:28: RuntimeWarning: invalid value encountered in multiply\n",
      "c:\\users\\khanhhanguyen\\appdata\\local\\continuum\\anaconda3\\envs\\kia\\lib\\site-packages\\ipykernel_launcher.py:28: RuntimeWarning: divide by zero encountered in log2\n",
      "c:\\users\\khanhhanguyen\\appdata\\local\\continuum\\anaconda3\\envs\\kia\\lib\\site-packages\\ipykernel_launcher.py:28: RuntimeWarning: invalid value encountered in multiply\n",
      "c:\\users\\khanhhanguyen\\appdata\\local\\continuum\\anaconda3\\envs\\kia\\lib\\site-packages\\ipykernel_launcher.py:28: RuntimeWarning: divide by zero encountered in log2\n",
      "c:\\users\\khanhhanguyen\\appdata\\local\\continuum\\anaconda3\\envs\\kia\\lib\\site-packages\\ipykernel_launcher.py:28: RuntimeWarning: invalid value encountered in multiply\n",
      "c:\\users\\khanhhanguyen\\appdata\\local\\continuum\\anaconda3\\envs\\kia\\lib\\site-packages\\ipykernel_launcher.py:27: RuntimeWarning: divide by zero encountered in log2\n",
      "c:\\users\\khanhhanguyen\\appdata\\local\\continuum\\anaconda3\\envs\\kia\\lib\\site-packages\\ipykernel_launcher.py:27: RuntimeWarning: invalid value encountered in double_scalars\n",
      "c:\\users\\khanhhanguyen\\appdata\\local\\continuum\\anaconda3\\envs\\kia\\lib\\site-packages\\ipykernel_launcher.py:28: RuntimeWarning: divide by zero encountered in log2\n",
      "c:\\users\\khanhhanguyen\\appdata\\local\\continuum\\anaconda3\\envs\\kia\\lib\\site-packages\\ipykernel_launcher.py:28: RuntimeWarning: invalid value encountered in multiply\n",
      "c:\\users\\khanhhanguyen\\appdata\\local\\continuum\\anaconda3\\envs\\kia\\lib\\site-packages\\ipykernel_launcher.py:28: RuntimeWarning: divide by zero encountered in log2\n",
      "c:\\users\\khanhhanguyen\\appdata\\local\\continuum\\anaconda3\\envs\\kia\\lib\\site-packages\\ipykernel_launcher.py:28: RuntimeWarning: invalid value encountered in multiply\n",
      "c:\\users\\khanhhanguyen\\appdata\\local\\continuum\\anaconda3\\envs\\kia\\lib\\site-packages\\ipykernel_launcher.py:28: RuntimeWarning: divide by zero encountered in log2\n"
     ]
    },
    {
     "name": "stderr",
     "output_type": "stream",
     "text": [
      "c:\\users\\khanhhanguyen\\appdata\\local\\continuum\\anaconda3\\envs\\kia\\lib\\site-packages\\ipykernel_launcher.py:28: RuntimeWarning: invalid value encountered in multiply\n",
      "c:\\users\\khanhhanguyen\\appdata\\local\\continuum\\anaconda3\\envs\\kia\\lib\\site-packages\\ipykernel_launcher.py:28: RuntimeWarning: divide by zero encountered in log2\n",
      "c:\\users\\khanhhanguyen\\appdata\\local\\continuum\\anaconda3\\envs\\kia\\lib\\site-packages\\ipykernel_launcher.py:28: RuntimeWarning: invalid value encountered in multiply\n",
      "c:\\users\\khanhhanguyen\\appdata\\local\\continuum\\anaconda3\\envs\\kia\\lib\\site-packages\\ipykernel_launcher.py:28: RuntimeWarning: divide by zero encountered in log2\n",
      "c:\\users\\khanhhanguyen\\appdata\\local\\continuum\\anaconda3\\envs\\kia\\lib\\site-packages\\ipykernel_launcher.py:28: RuntimeWarning: invalid value encountered in multiply\n",
      "c:\\users\\khanhhanguyen\\appdata\\local\\continuum\\anaconda3\\envs\\kia\\lib\\site-packages\\ipykernel_launcher.py:28: RuntimeWarning: divide by zero encountered in log2\n",
      "c:\\users\\khanhhanguyen\\appdata\\local\\continuum\\anaconda3\\envs\\kia\\lib\\site-packages\\ipykernel_launcher.py:28: RuntimeWarning: invalid value encountered in multiply\n",
      "c:\\users\\khanhhanguyen\\appdata\\local\\continuum\\anaconda3\\envs\\kia\\lib\\site-packages\\ipykernel_launcher.py:28: RuntimeWarning: divide by zero encountered in log2\n",
      "c:\\users\\khanhhanguyen\\appdata\\local\\continuum\\anaconda3\\envs\\kia\\lib\\site-packages\\ipykernel_launcher.py:28: RuntimeWarning: invalid value encountered in multiply\n",
      "c:\\users\\khanhhanguyen\\appdata\\local\\continuum\\anaconda3\\envs\\kia\\lib\\site-packages\\ipykernel_launcher.py:28: RuntimeWarning: divide by zero encountered in log2\n",
      "c:\\users\\khanhhanguyen\\appdata\\local\\continuum\\anaconda3\\envs\\kia\\lib\\site-packages\\ipykernel_launcher.py:28: RuntimeWarning: invalid value encountered in multiply\n",
      "c:\\users\\khanhhanguyen\\appdata\\local\\continuum\\anaconda3\\envs\\kia\\lib\\site-packages\\ipykernel_launcher.py:28: RuntimeWarning: divide by zero encountered in log2\n",
      "c:\\users\\khanhhanguyen\\appdata\\local\\continuum\\anaconda3\\envs\\kia\\lib\\site-packages\\ipykernel_launcher.py:28: RuntimeWarning: invalid value encountered in multiply\n",
      "100%|████████████████████████████████████████████████████████████████████████████████████| 2/2 [00:08<00:00,  4.15s/it]\n"
     ]
    }
   ],
   "source": [
    "feature_groups = []\n",
    "for g in tqdm(group):\n",
    "    trials = []\n",
    "    for csv_files in [csv_files_one, csv_files_two, csv_files_three]:\n",
    "        ret = defaultdict(list)\n",
    "        for csv in csv_files:\n",
    "            par_id = csv[14:17]\n",
    "            if par_id not in g:\n",
    "                continue\n",
    "            Eblk, Efix, Esac, trans_matrix, Hs, Ht, total_time = run_all(csv)\n",
    "            ret[\"Eblk\"].append(Eblk)\n",
    "            ret[\"Efix\"].append(Efix)\n",
    "            ret[\"Esac\"].append(Esac)\n",
    "            ret[\"trans_matrix\"].append(trans_matrix)\n",
    "            ret[\"Hs\"].append(Hs)\n",
    "            ret[\"Ht\"].append(Ht)\n",
    "            ret[\"total_time\"].append(total_time)\n",
    "        trials.append(ret)\n",
    "    feature_groups.append(trials)"
   ]
  },
  {
   "cell_type": "markdown",
   "metadata": {},
   "source": [
    "# hypothesis test"
   ]
  },
  {
   "cell_type": "code",
   "execution_count": 19,
   "metadata": {},
   "outputs": [],
   "source": [
    "# standardized effect size - cohen's d \n",
    "def effect_size(a, b):\n",
    "    es = np.abs(np.mean(a) - np.mean(b))\n",
    "    sd_pooled = np.sqrt((((len(a)-1)*(np.std(a)**2) + (len(b)-1)*(np.std(b)**2)) / (len(a) + len(b) - 2)))\n",
    "    d = es/sd_pooled\n",
    "    \n",
    "    return d"
   ]
  },
  {
   "cell_type": "code",
   "execution_count": 20,
   "metadata": {},
   "outputs": [],
   "source": [
    "def statistic(g):\n",
    "    print(\"GROUP 1\")\n",
    "    print(\"mean trial 1:\", np.mean(g[0][0]))\n",
    "    print(\"mean trial 2:\", np.mean(g[0][1]))\n",
    "    print(\"mean trial 3:\", np.mean(g[0][2]))\n",
    "\n",
    "    print(\"\\nstd trial 1:\", np.std(g[0][0]))\n",
    "    print(  \"std trial 2:\", np.std(g[0][1]))\n",
    "    print(  \"std trial 3:\", np.std(g[0][2]))\n",
    "\n",
    "    print(\"--------------------------\")\n",
    "    print(\"GROUP 2\")\n",
    "    print(\"mean trial 1:\", np.mean(g[1][0]))\n",
    "    print(\"mean trial 2:\", np.mean(g[1][1]))\n",
    "    print(\"mean trial 3:\", np.mean(g[1][2]))\n",
    "\n",
    "    print(\"\\nstd trial 1:\", np.std(g[1][0]))\n",
    "    print(  \"std trial 2:\", np.std(g[1][1]))\n",
    "    print(  \"std trial 3:\", np.std(g[1][2]))"
   ]
  },
  {
   "cell_type": "markdown",
   "metadata": {},
   "source": [
    "## fixation duration"
   ]
  },
  {
   "cell_type": "code",
   "execution_count": null,
   "metadata": {},
   "outputs": [],
   "source": [
    "x = []\n",
    "for g in groups:\n",
    "    dur_fix1 = np.array([])\n",
    "    mean_fix1 = []\n",
    "    for i, p in enumerate(g[0]['Efix']):\n",
    "        dur_fix1 = np.append(dur_fix1,np.array(p).T[2])\n",
    "        mean_fix1.append(np.mean(np.array(p).T[2])/g[0]['total_time'][i])\n",
    "\n",
    "    dur_fix2 = []\n",
    "    mean_fix2 = []\n",
    "    for i, p in enumerate(g[1]['Efix']):\n",
    "        dur_fix2 = np.append(dur_fix2,np.array(p).T[2])\n",
    "        mean_fix2.append(np.mean(np.array(p).T[2])/g[1]['total_time'][i])\n",
    "\n",
    "    dur_fix3 = []\n",
    "    mean_fix3 = []\n",
    "    for i, p in enumerate(g[2]['Efix']):\n",
    "        dur_fix3 = np.append(dur_fix3,np.array(p).T[2])\n",
    "        mean_fix3.append(np.mean(np.array(p).T[2])/g[2]['total_time'][i])\n",
    "        \n",
    "    dur_fix.append([dur_fix1,dur_fix2,dur_fix3])\n",
    "    "
   ]
  }
 ],
 "metadata": {
  "kernelspec": {
   "display_name": "Python 3",
   "language": "python",
   "name": "python3"
  },
  "language_info": {
   "codemirror_mode": {
    "name": "ipython",
    "version": 3
   },
   "file_extension": ".py",
   "mimetype": "text/x-python",
   "name": "python",
   "nbconvert_exporter": "python",
   "pygments_lexer": "ipython3",
   "version": "3.6.10"
  }
 },
 "nbformat": 4,
 "nbformat_minor": 4
}
