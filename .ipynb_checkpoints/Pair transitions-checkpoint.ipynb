{
 "cells": [
  {
   "cell_type": "code",
   "execution_count": 1,
   "id": "6428d707",
   "metadata": {},
   "outputs": [],
   "source": [
    "import numpy as np\n",
    "import pandas as pd\n",
    "import cv2\n",
    "from matplotlib import pyplot as plt\n",
    "from collections import defaultdict\n",
    "import seaborn as sns\n",
    "from tqdm import tqdm\n",
    "import matplotlib.patches as mpatches\n",
    "from sklearn.cluster import DBSCAN\n",
    "import scipy\n",
    "import re\n",
    "import scipy.fftpack\n",
    "\n",
    "import eye_metrics_utils\n",
    "import data_utils\n",
    "import gaze_entropy\n",
    "import anova"
   ]
  },
  {
   "cell_type": "code",
   "execution_count": 2,
   "id": "6948b699",
   "metadata": {},
   "outputs": [],
   "source": [
    "import glob\n",
    "csv_files = glob.glob(\"data/*.csv\")\n",
    "csv_files_two = [v for v in csv_files if \"Two Gaze-Vergence\" in v]"
   ]
  },
  {
   "cell_type": "code",
   "execution_count": 3,
   "id": "3964353d",
   "metadata": {},
   "outputs": [],
   "source": [
    "img = cv2.imread(\"flight.jpg\")\n",
    "\n",
    "overlay = img.copy()\n",
    "thickness = -1\n",
    "\n",
    "h,w,c = img.shape"
   ]
  },
  {
   "cell_type": "code",
   "execution_count": 4,
   "id": "8016817a",
   "metadata": {},
   "outputs": [],
   "source": [
    "roi_center = {\n",
    "                \"runway\": (850, 170), \n",
    "                \"rpmleft\": (652, 438),\n",
    "                \"asi\": (695, 490), \n",
    "                \"alt\": (820, 490),\n",
    "                \"nrst\": (840, 550),\n",
    "                \"rpmright\": (1050, 438),\n",
    "             }"
   ]
  },
  {
   "cell_type": "code",
   "execution_count": 5,
   "id": "f9ec27ff",
   "metadata": {},
   "outputs": [],
   "source": [
    "# modified ROIs\n",
    "label = {\"runway\": [(0,0), (1280, 350), \"r\"],\n",
    "         \"rpmleft\": [(633, 411), (672, 451), \"r\"],\n",
    "         \"asi\": [(674, 432), (705, 525), \"r\"],\n",
    "         \"alt\": [(797, 428), (852, 523), \"r\"],\n",
    "         \"hsi\": [(742, 556), 45, \"c\"],\n",
    "         \"nrst\": [(792, 534), (876, 554), \"r\"],\n",
    "#          \"RPM_RIGHT\": [(1054, 440), 30, \"c\"]\n",
    "}\n",
    "\n",
    "encode_table = {\n",
    "    \"rpmleft\": \"P\",\n",
    "    \"nrst\": \"Q\",\n",
    "#     \"RPM_RIGHT\": \"R\",\n",
    "    \"asi\": \"B\",\n",
    "    \"hsi\": \"D\",\n",
    "    \"alt\": \"E\",\n",
    "    \"runway\": \"X\",\n",
    "    \"unknown\": \"Z\"\n",
    "}"
   ]
  },
  {
   "cell_type": "code",
   "execution_count": 6,
   "id": "bd9ac924",
   "metadata": {},
   "outputs": [],
   "source": [
    "pdict = defaultdict()\n",
    "for key in label:\n",
    "    if label[key][-1] == \"c\":\n",
    "        mask = np.zeros((h,w), np.uint8)\n",
    "        cv2.circle(mask,label[key][0], label[key][1],255,-1)\n",
    "        points = np.where(mask==255)\n",
    "        pdict[key] = points\n",
    "    elif label[key][-1] == \"r\":\n",
    "        mask = np.zeros((h,w), np.uint8)\n",
    "        cv2.rectangle(mask,label[key][0], label[key][1],255,-1)\n",
    "        points = np.where(mask==255)\n",
    "        pdict[key] = points"
   ]
  },
  {
   "cell_type": "code",
   "execution_count": 7,
   "id": "d212aa9b",
   "metadata": {},
   "outputs": [],
   "source": [
    "def distance(x, y):\n",
    "    return ((x[0]-y[0])**2 + (x[1] - y[1])**2)**0.5"
   ]
  },
  {
   "cell_type": "code",
   "execution_count": 8,
   "id": "f7fa69ef",
   "metadata": {},
   "outputs": [],
   "source": [
    "def calibration(df_fix, roi_center):\n",
    "    diffx = []\n",
    "    diffy = []\n",
    "    idxmin= []\n",
    "    for i in range(len(df_fix)):\n",
    "        x = df_fix.iloc[i]\n",
    "        m = np.argmin(x[-6:])\n",
    "        idxmin.append(m)\n",
    "        mx = list(roi_center.values())[m][0]\n",
    "        my = list(roi_center.values())[m][1]\n",
    "\n",
    "        if m == 0:\n",
    "            w = 0.3\n",
    "        else:\n",
    "            w = 1\n",
    "        diffx.append(w * (x.x - mx))\n",
    "        diffy.append(w * (x.y - my))\n",
    "    offsetx = np.mean(diffx)\n",
    "    offsety = np.mean(diffy)\n",
    "    print(\"offsetx\", offsetx)\n",
    "    print(\"offsety\", offsety)\n",
    "    \n",
    "    return offsetx, offsety"
   ]
  },
  {
   "cell_type": "code",
   "execution_count": 9,
   "id": "31b9fa7d",
   "metadata": {},
   "outputs": [],
   "source": [
    "def merge_consecutive_fixations_in_same_roi(df_fix):\n",
    "    df_fix['value_grp'] = (df_fix.roi != df_fix.roi.shift()).cumsum()\n",
    "\n",
    "    return pd.DataFrame({ 'start' : df_fix.groupby('value_grp').start.first(), \n",
    "                          'end' : df_fix.groupby('value_grp').end.last(),\n",
    "                          'duration' : df_fix.groupby('value_grp').duration.sum(), \n",
    "                          'x' : df_fix.groupby('value_grp').x.mean(),\n",
    "                          'y': df_fix.groupby('value_grp').y.mean(),\n",
    "                          'roi': df_fix.groupby('value_grp').roi.first()\n",
    "                         }).reset_index(drop=True)"
   ]
  },
  {
   "cell_type": "code",
   "execution_count": 10,
   "id": "2f019aee",
   "metadata": {},
   "outputs": [],
   "source": [
    "def get_center(clustering, data):\n",
    "    center = []\n",
    "    for i in range(len(set(clustering.labels_)) - 1):\n",
    "        xi = data[np.where(clustering.labels_ == i)]\n",
    "        cx = sum(xi.T[0])/len(xi)\n",
    "        cy = sum(xi.T[1])/len(xi)\n",
    "        center.append((cx,cy))\n",
    "    return center"
   ]
  },
  {
   "cell_type": "code",
   "execution_count": 11,
   "id": "f259508b",
   "metadata": {},
   "outputs": [],
   "source": [
    "def dist_func(point, v1, v2, type=\"c\"): #between points and rectange/cirle\n",
    "    \"\"\"\n",
    "    point: x, y\n",
    "    v1,v2: topleft,bottomright if type = \"r\"\n",
    "    v1,v2: center (x,y),  if type = \"c\"\n",
    "    \"\"\"    \n",
    "    d = 0\n",
    "    if type == \"r\":\n",
    "        dx = max(v1[0] - point[0], 0, point[0] - v2[0])\n",
    "        dy = max(v1[1] - point[1], 0, point[1] - v2[1])\n",
    "        \n",
    "        d = np.sqrt(dx*dx + dy*dy)\n",
    "    elif type == \"c\":\n",
    "        d = np.sqrt((point[0]-v1[0])**2 + (point[1]-v1[1])**2) - v2\n",
    "        \n",
    "    return d"
   ]
  },
  {
   "cell_type": "code",
   "execution_count": 12,
   "id": "1b0a3050",
   "metadata": {},
   "outputs": [],
   "source": [
    "def encode(lst_transition):\n",
    "    str_transition = \"\"\n",
    "    for v in lst_transition:\n",
    "        str_transition = str_transition + encode_table[v]\n",
    "    return str_transition\n",
    "\n",
    "def decode(str_transition):\n",
    "    lst_transition = []\n",
    "    for v in str_transition:\n",
    "        key_index = list(encode_table.values()).index(v)\n",
    "        lst_transition.append(list(encode_table.keys())[key_index])\n",
    "    return lst_transition"
   ]
  },
  {
   "cell_type": "code",
   "execution_count": 13,
   "id": "4fa4f366",
   "metadata": {},
   "outputs": [],
   "source": [
    "def run_one_data(filename):\n",
    "    print(filename)\n",
    "    df_data = pd.read_csv(filename)\n",
    "\n",
    "    df_data = data_utils.reset_time(df_data)\n",
    "    null_percent = data_utils.check_percentage_null(df_data)\n",
    "    if null_percent > 0.2:\n",
    "        print(\"null percent: {}, exclude ID {}\".format(null_percent, filename[14:17]))\n",
    "        return 0\n",
    "\n",
    "    df_fixation = eye_metrics_utils.detect_fixations(df_data)\n",
    "    df_blink = eye_metrics_utils.detect_blinks(df_data)\n",
    "    df_saccade = eye_metrics_utils.detect_saccades(df_data)\n",
    "\n",
    "    X = df_fixation[[\"x\", \"y\"]].values\n",
    "    clustering = DBSCAN(eps=20, min_samples=5, metric = distance).fit(X)\n",
    "    df_fixation[\"roi\"] = clustering.labels_\n",
    "    df_fixation = merge_consecutive_fixations_in_same_roi(df_fixation)\n",
    "\n",
    "    for k,v in roi_center.items():\n",
    "        df_fixation[\"{}\".format(k)] = df_fixation.apply(lambda x: distance(x[[\"x\",\"y\"]], v), axis=1)\n",
    "        \n",
    "        \n",
    "    X = df_fixation[[\"x\", \"y\"]].values\n",
    "    clustering = DBSCAN(eps=20, min_samples=5, metric = distance).fit(X)\n",
    "\n",
    "    color = clustering.labels_\n",
    "    df_fixation[\"roi\"] = clustering.labels_\n",
    "        \n",
    "#     img = plt.imread(\"flight.jpg\")\n",
    "#     h,w,c = img.shape\n",
    "#     fig=plt.figure(figsize=(15,8))\n",
    "#     ax=fig.add_axes([0,0,1,1])\n",
    "#     # ax.imshow(img, extent=[0, 1600, 0, 900])\n",
    "#     ax.imshow(img)\n",
    "# #     ax.scatter(cluster_center[0], cluster_center[1], s=30, marker = \"x\", c = \"red\")\n",
    "#     ax.scatter(X.T[0],X.T[1], c=color, cmap=\"jet\", alpha = 0.5)\n",
    "\n",
    "#     ax.set_xlabel('x')\n",
    "#     ax.set_ylabel('y')\n",
    "#     ax.set_title('center')\n",
    "\n",
    "    offsetx, offsety = calibration(df_fixation, roi_center)\n",
    "    df_fixation[\"x\"] = df_fixation.x - offsetx\n",
    "    df_fixation[\"y\"] = df_fixation.y - offsety\n",
    "    \n",
    "    return df_fixation"
   ]
  },
  {
   "cell_type": "code",
   "execution_count": 14,
   "id": "c347d42b",
   "metadata": {},
   "outputs": [],
   "source": [
    "def get_fixation_sequences(df_fixation, label = label, threshold = 20):\n",
    "    roi = []\n",
    "    count = 0\n",
    "    for i in range(len(df_fixation)):\n",
    "        x = df_fixation.iloc[i]\n",
    "        point = (x.x, x.y)\n",
    "        d = [dist_func(point, v[0], v[1], v[2]) for k,v in label.items()]\n",
    "        order = np.argsort(d)\n",
    "        if 0.0 not in d: # point is outside ROI\n",
    "            if d[order[0]] > threshold:\n",
    "                key = \"unknown\"\n",
    "            else:\n",
    "                key = list(pdict.keys())[order[0]]\n",
    "        else:# point falls inside a ROI\n",
    "            count += 1\n",
    "            key = list(pdict.keys())[order[0]]\n",
    "    #     print(d, order, key)\n",
    "        roi.append(key)\n",
    "    return roi"
   ]
  },
  {
   "cell_type": "code",
   "execution_count": 15,
   "id": "0dc9c5a6",
   "metadata": {},
   "outputs": [],
   "source": [
    "def create_transition_matrix(transitions):\n",
    "    m = pd.crosstab(pd.Series(list(transitions)[1:], name = \"t+1\"),\n",
    "            pd.Series(list(transitions)[:-1], name = \"t\"),normalize=1)\n",
    "        \n",
    "    return m"
   ]
  },
  {
   "cell_type": "code",
   "execution_count": 16,
   "id": "866eb672",
   "metadata": {},
   "outputs": [],
   "source": [
    "def create_transition_count_matrix(transitions):\n",
    "    m = pd.crosstab(pd.Series(list(transitions)[1:], name = \"t+1\"),\n",
    "            pd.Series(list(transitions)[:-1], name = \"t\"))\n",
    "        \n",
    "    return m"
   ]
  },
  {
   "cell_type": "code",
   "execution_count": null,
   "id": "0c85efb4",
   "metadata": {},
   "outputs": [],
   "source": []
  },
  {
   "cell_type": "code",
   "execution_count": 17,
   "id": "67f4696c",
   "metadata": {
    "scrolled": true
   },
   "outputs": [],
   "source": [
    "# print(create_transition_matrix(transitions))\n",
    "# print(create_transition_count_matrix(transitions))"
   ]
  },
  {
   "cell_type": "code",
   "execution_count": null,
   "id": "d1511d44",
   "metadata": {},
   "outputs": [],
   "source": []
  },
  {
   "cell_type": "code",
   "execution_count": 18,
   "id": "7715500a",
   "metadata": {},
   "outputs": [],
   "source": [
    "def encode_transition(transitions, label_type = \"random\"):\n",
    "    \"\"\"\n",
    "    assign a random letter for each roi\n",
    "    \"\"\"\n",
    "    letters = list(\"ABCDEFGHIJKLMNOPQRSTUVWXYZ\")\n",
    "    L = list(set(transitions))\n",
    "    print(L)\n",
    "    enc_transitions = \"\"\n",
    "    for roi in transitions:\n",
    "        enc_transitions += letters[L.index(roi)]\n",
    "        \n",
    "    return enc_transitions, L\n",
    "\n",
    "def decode_transitions(enc_transitions, list_labels):\n",
    "    letters = list(\"ABCDEFGHIJKLMNOPQRSTUVWXYZ\")\n",
    "    dec_transitions = []\n",
    "    for enc_t in enc_transitions:\n",
    "        dec_transitions.append(list_labels[letters.index(enc_t)])\n",
    "        \n",
    "    return dec_transitions"
   ]
  },
  {
   "cell_type": "code",
   "execution_count": null,
   "id": "46421afc",
   "metadata": {},
   "outputs": [],
   "source": []
  },
  {
   "cell_type": "code",
   "execution_count": 19,
   "id": "ba5706c8",
   "metadata": {},
   "outputs": [
    {
     "data": {
      "text/plain": [
       "[0, 1, 4, 7, 8]"
      ]
     },
     "execution_count": 19,
     "metadata": {},
     "output_type": "execute_result"
    }
   ],
   "source": [
    "def find_all(p, s):\n",
    "    '''Yields all the positions of\n",
    "    the pattern p in the string s.'''\n",
    "    i = s.find(p)\n",
    "    while i != -1:\n",
    "        yield i\n",
    "        i = s.find(p, i+1)\n",
    "        \n",
    "list(find_all(\"BB\", \"BBBABBABBB\"))"
   ]
  },
  {
   "cell_type": "code",
   "execution_count": 20,
   "id": "41d8fb66",
   "metadata": {},
   "outputs": [],
   "source": [
    "def find_index_of_most_subseq(enc_transition, L):\n",
    "    '''\n",
    "    enc_transitions: encoded transitions\n",
    "    '''\n",
    "    length = 2\n",
    "    subseqcount = defaultdict(int)\n",
    "\n",
    "    for i in range(len(enc_transitions)-length + 1):\n",
    "        substring = enc_transitions[i:i+length]\n",
    "        subseqcount[substring] += 1\n",
    "    max_subseq = max(subseqcount, key=subseqcount.get)\n",
    "    max5 = {k:subseqcount.get(k) for k in sorted(subseqcount, key=subseqcount.get, reverse=True)[:5]}\n",
    "    print(\"max 5 subseq:\", max5)\n",
    "    print(\"max_subseq:\", max_subseq)\n",
    "    print(\"max_subseq decode:\", decode_transitions(max_subseq, L))\n",
    "    list_idx_max_subseq = list(find_all(max_subseq, enc_transitions))\n",
    "    \n",
    "    return list_idx_max_subseq"
   ]
  },
  {
   "cell_type": "code",
   "execution_count": 21,
   "id": "022bf06d",
   "metadata": {},
   "outputs": [],
   "source": [
    "def merge_2roi_to_1roi(df_fixation, list_idx):\n",
    "    df_data = df_fixation.copy()\n",
    "    for idx in list_idx:\n",
    "        df_x = df_data.loc[idx:idx + 1]\n",
    "        start = df_x.iloc[0][\"start\"]\n",
    "        end = df_x.iloc[1][\"end\"]\n",
    "        duration = end - start\n",
    "        x = df_x.iloc[0][\"x\"]\n",
    "        y = df_x.iloc[0][\"y\"]\n",
    "        roi = \"{}_{}\".format(df_x.iloc[0]['roi'], df_x.iloc[1]['roi'])\n",
    "        \n",
    "        df_data.loc[idx] = start, end, duration, x, y, roi\n",
    "        if idx + 1 not in list_idx:\n",
    "            df_data = df_data.drop(idx + 1)\n",
    "        \n",
    "    return df_data.reset_index(drop=True)"
   ]
  },
  {
   "cell_type": "code",
   "execution_count": null,
   "id": "0d26348a",
   "metadata": {},
   "outputs": [],
   "source": []
  },
  {
   "cell_type": "code",
   "execution_count": null,
   "id": "4a4372b8",
   "metadata": {},
   "outputs": [],
   "source": []
  },
  {
   "cell_type": "code",
   "execution_count": null,
   "id": "96e333da",
   "metadata": {},
   "outputs": [],
   "source": []
  },
  {
   "cell_type": "code",
   "execution_count": 39,
   "id": "a606a3fc",
   "metadata": {
    "scrolled": false
   },
   "outputs": [],
   "source": [
    "def construct_rect_signal(start, end, signal_end, sr = 1000):\n",
    "    signal = np.zeros(int(signal_end*sr), dtype=int)\n",
    "    for i, s in enumerate(start):\n",
    "        s = int(start[i]*sr)\n",
    "        e = int(end[i]*sr)\n",
    "        signal[s:e] = 1\n",
    "        \n",
    "    return signal\n",
    "\n",
    "\n",
    "def create_rect_signal_from_transitions(df_transition, sr = 1000):\n",
    "    list_signals = {}\n",
    "    signal_end = list(df_transition[\"end\"])[-1]\n",
    "    for roi in list(set(df_transition[\"roi\"])):\n",
    "        df_x = df_transition[df_transition[\"roi\"] == roi]\n",
    "        start = df_x['start'].values\n",
    "        end = df_x['end'].values\n",
    "        signal = construct_rect_signal(start, end, signal_end, sr)\n",
    "        list_signals[roi] = signal\n",
    "        \n",
    "    return list_signals"
   ]
  },
  {
   "cell_type": "code",
   "execution_count": 47,
   "id": "4a57f1f5",
   "metadata": {},
   "outputs": [],
   "source": [
    "def construct_spike_signal(start, signal_end, sr = 1000):\n",
    "    signal = np.zeros(int(signal_end*sr), dtype=int)\n",
    "    \n",
    "    for i, s in enumerate(start):\n",
    "        s = int(start[i]*sr)\n",
    "        signal[s] = 1\n",
    "        \n",
    "    return signal\n",
    "\n",
    "def create_spike_signal_from_transitions(df_transition):\n",
    "    list_signals = {}\n",
    "    signal_end = list(df_transition[\"end\"])[-1]\n",
    "    for roi in list(set(df_transition[\"roi\"])):\n",
    "        df_x = df_transition[df_transition[\"roi\"] == roi]\n",
    "        start = df_x['start'].values\n",
    "        signal = construct_spike_signal(start, signal_end)\n",
    "        list_signals[roi] = signal\n",
    "        \n",
    "    return list_signals"
   ]
  },
  {
   "cell_type": "code",
   "execution_count": 23,
   "id": "d6d68e35",
   "metadata": {},
   "outputs": [],
   "source": [
    "def fft(data_buffer, fps, low, high):   \n",
    "    \"\"\"\n",
    "    calculate fft, return fft frequency in minute\n",
    "    \"\"\"\n",
    "    L = len(data_buffer)\n",
    "    freqs = float(fps) / L * np.arange(L / 2 + 1)\n",
    "    freqs_in_minute = 60. * freqs\n",
    "    raw_fft = np.fft.rfft(data_buffer)\n",
    "    fft = np.abs(raw_fft)**2\n",
    "    interest_idx = np.where((freqs_in_minute > low) & (freqs_in_minute < high))[0]\n",
    "    interest_idx_sub = interest_idx[:-1].copy() #advoid the indexing error\n",
    "    freqs_of_interest = freqs_in_minute[interest_idx_sub]\n",
    "    fft_of_interest = fft[interest_idx_sub]\n",
    "    \n",
    "    return fft_of_interest, freqs_of_interest"
   ]
  },
  {
   "cell_type": "code",
   "execution_count": 24,
   "id": "7f269eb3",
   "metadata": {
    "scrolled": false
   },
   "outputs": [
    {
     "name": "stdout",
     "output_type": "stream",
     "text": [
      "data\\PISSS_ID_005_Approach Two Gaze-Vergence.csv\n",
      "offsetx 13.862342532244185\n",
      "offsety -10.277126934219037\n",
      "level: 0\n",
      "['alt', 'rpmleft', 'unknown', 'nrst', 'asi', 'runway']\n",
      "enc_transitions: ACECBCACAEAFAFACAFAFBAFBDFABAFAFEFBFEAFEFEFBFBFBFAFEFEAFBFEFAFBFEFBFEFEFBFEFEFEFEFEFEF\n",
      "max 5 subseq: {'FE': 16, 'EF': 14, 'AF': 11, 'FB': 10, 'BF': 8}\n",
      "max_subseq: FE\n",
      "max_subseq decode: ['runway', 'asi']\n",
      "[31, 35, 38, 40, 50, 52, 57, 63, 67, 69, 73, 75, 77, 79, 81, 83]\n",
      "num_max_subseq: 16\n",
      "------------------------------------------------------------\n",
      "level: 1\n",
      "['alt', 'runway_asi', 'rpmleft', 'unknown', 'nrst', 'asi', 'runway']\n",
      "enc_transitions: ADFDCDADAFAGAGADAGAGCAGCEGACAGABGCBABBGCGCGCGABBAGCBGAGCBGCBBGCBBBBBBG\n",
      "max 5 subseq: {'GC': 10, 'AG': 8, 'BB': 8, 'GA': 7, 'BG': 6}\n",
      "max_subseq: GC\n",
      "max_subseq decode: ['runway', 'rpmleft']\n",
      "[19, 22, 32, 38, 40, 42, 49, 54, 57, 61]\n",
      "num_max_subseq: 10\n",
      "------------------------------------------------------------\n",
      "level: 2\n",
      "['alt', 'runway_asi', 'rpmleft', 'unknown', 'runway_rpmleft', 'nrst', 'asi', 'runway']\n",
      "enc_transitions: ADGDCDADAGAHAHADAHAEAEFHACAHABEBABBEEEHABBAEBHAEBEBBEBBBBBBH\n",
      "max 5 subseq: {'BB': 8, 'HA': 7, 'EB': 5, 'AH': 4, 'AE': 4}\n",
      "max_subseq: BB\n",
      "max_subseq decode: ['runway_asi', 'runway_asi']\n",
      "[33, 40, 50, 53, 54, 55, 56, 57]\n",
      "num_max_subseq: 8\n",
      "------------------------------------------------------------\n",
      "level: 3\n",
      "['alt', 'runway_asi', 'rpmleft', 'unknown', 'runway_rpmleft', 'nrst', 'asi', 'runway', 'runway_asi_runway_asi']\n",
      "enc_transitions: ADGDCDADAGAHAHADAHAEAEFHACAHABEBAIEEEHAIAEBHAEBEIEIIIIIH\n",
      "max 5 subseq: {'HA': 7, 'AH': 4, 'AE': 4, 'II': 4, 'AD': 3}\n",
      "max_subseq: HA\n",
      "max_subseq decode: ['runway', 'alt']\n",
      "[11, 13, 17, 23, 27, 37, 43]\n",
      "num_max_subseq: 7\n",
      "------------------------------------------------------------\n",
      "level: 4\n",
      "['alt', 'runway_asi', 'runway_alt', 'rpmleft', 'unknown', 'runway_rpmleft', 'nrst', 'asi', 'runway', 'runway_asi_runway_asi']\n",
      "enc_transitions: AEHEDEAEAHACCEACFAFGCDACBFBAJFFFCJAFBCFBFJFJJJJJI\n",
      "max 5 subseq: {'JJ': 4, 'EA': 3, 'AC': 3, 'FB': 3, 'AE': 2}\n",
      "max_subseq: JJ\n",
      "max_subseq decode: ['runway_asi_runway_asi', 'runway_asi_runway_asi']\n",
      "[43, 44, 45, 46]\n",
      "num_max_subseq: 4\n",
      "------------------------------------------------------------\n",
      "level: 5\n",
      "['alt', 'runway_asi', 'runway_asi_runway_asi_runway_asi_runway_asi', 'runway_alt', 'rpmleft', 'unknown', 'runway_rpmleft', 'nrst', 'asi', 'runway', 'runway_asi_runway_asi']\n",
      "enc_transitions: AFIFEFAFAIADDFADGAGHDEADBGBAKGGGDKAGBDGBGKGCCCCJ\n",
      "max 5 subseq: {'FA': 3, 'AD': 3, 'GB': 3, 'CC': 3, 'AF': 2}\n",
      "max_subseq: FA\n",
      "max_subseq decode: ['unknown', 'alt']\n",
      "[5, 7, 13]\n",
      "num_max_subseq: 3\n",
      "------------------------------------------------------------\n"
     ]
    }
   ],
   "source": [
    "df_fixation = run_one_data(csv_files_two[4])\n",
    "roi = get_fixation_sequences(df_fixation)\n",
    "df_fixation[\"roi\"] = roi\n",
    "df_fixation = merge_consecutive_fixations_in_same_roi(df_fixation)\n",
    "transitions = df_fixation[\"roi\"]\n",
    "\n",
    "level = 0\n",
    "num_max_subseq = 100\n",
    "list_df_transition_merged = []\n",
    "list_transitions = []\n",
    "df_transition_merged = df_fixation.copy()\n",
    "list_df_transition_merged.append(df_transition_merged)\n",
    "\n",
    "while num_max_subseq > 3:\n",
    "    print(\"level:\",level)\n",
    "    enc_transitions, L = encode_transition(transitions)\n",
    "    print(\"enc_transitions:\", enc_transitions)\n",
    "    list_idx_max_subseq = find_index_of_most_subseq(enc_transitions, L)\n",
    "    print(list_idx_max_subseq)\n",
    "    num_max_subseq = len(list_idx_max_subseq)\n",
    "    print(\"num_max_subseq:\",num_max_subseq)\n",
    "    df_transition_merged = merge_2roi_to_1roi(df_transition_merged, list_idx_max_subseq)\n",
    "    list_df_transition_merged.append(df_transition_merged)\n",
    "    transitions = df_transition_merged[\"roi\"]\n",
    "    list_transitions.append(transitions)\n",
    "    level += 1\n",
    "    print(\"------------------------------------------------------------\")"
   ]
  },
  {
   "cell_type": "code",
   "execution_count": null,
   "id": "9f4e5421",
   "metadata": {},
   "outputs": [],
   "source": []
  },
  {
   "cell_type": "code",
   "execution_count": 40,
   "id": "5d63d9da",
   "metadata": {},
   "outputs": [
    {
     "data": {
      "text/plain": [
       "{'alt': array([0, 0, 0, ..., 0, 0, 0]),\n",
       " 'rpmleft': array([0, 0, 0, ..., 0, 0, 0]),\n",
       " 'unknown': array([0, 0, 0, ..., 0, 0, 0]),\n",
       " 'nrst': array([0, 0, 0, ..., 0, 0, 0]),\n",
       " 'asi': array([0, 0, 0, ..., 0, 0, 0]),\n",
       " 'runway': array([0, 0, 0, ..., 1, 1, 1])}"
      ]
     },
     "execution_count": 40,
     "metadata": {},
     "output_type": "execute_result"
    }
   ],
   "source": [
    "rect_signals = create_rect_signal_from_transitions(list_df_transition_merged[0])\n",
    "rect_signals"
   ]
  },
  {
   "cell_type": "code",
   "execution_count": 35,
   "id": "c04080c4",
   "metadata": {},
   "outputs": [],
   "source": [
    "data = rect_signals[\"runway\"]\n",
    "L = len(data)\n",
    "end = list_df_transition_merged[0][\"end\"].values[-1]\n",
    "fps = float(L) / end\n",
    "fft_of_interest, freqs_of_interest = fft(data, fps, 1, 50)"
   ]
  },
  {
   "cell_type": "code",
   "execution_count": 36,
   "id": "057534a9",
   "metadata": {},
   "outputs": [
    {
     "data": {
      "text/plain": [
       "[<matplotlib.lines.Line2D at 0x1ee02d16788>]"
      ]
     },
     "execution_count": 36,
     "metadata": {},
     "output_type": "execute_result"
    },
    {
     "data": {
      "image/png": "[encoded data removed]",
      "text/plain": [
       "<Figure size 432x288 with 1 Axes>"
      ]
     },
     "metadata": {
      "needs_background": "light"
     },
     "output_type": "display_data"
    }
   ],
   "source": [
    "plt.plot(data)"
   ]
  },
  {
   "cell_type": "code",
   "execution_count": 37,
   "id": "0010bd47",
   "metadata": {},
   "outputs": [
    {
     "data": {
      "text/plain": [
       "[<matplotlib.lines.Line2D at 0x1ee03280c48>]"
      ]
     },
     "execution_count": 37,
     "metadata": {},
     "output_type": "execute_result"
    },
    {
     "data": {
      "image/png": "[encoded data removed]",
      "text/plain": [
       "<Figure size 432x288 with 1 Axes>"
      ]
     },
     "metadata": {
      "needs_background": "light"
     },
     "output_type": "display_data"
    }
   ],
   "source": [
    "plt.plot(freqs_of_interest, fft_of_interest)"
   ]
  },
  {
   "cell_type": "code",
   "execution_count": 48,
   "id": "d2f826b8",
   "metadata": {},
   "outputs": [
    {
     "data": {
      "text/plain": [
       "{'alt': array([0, 0, 0, ..., 0, 0, 0]),\n",
       " 'rpmleft': array([0, 0, 0, ..., 0, 0, 0]),\n",
       " 'unknown': array([0, 0, 0, ..., 0, 0, 0]),\n",
       " 'nrst': array([0, 0, 0, ..., 0, 0, 0]),\n",
       " 'asi': array([0, 0, 0, ..., 0, 0, 0]),\n",
       " 'runway': array([0, 0, 0, ..., 0, 0, 0])}"
      ]
     },
     "execution_count": 48,
     "metadata": {},
     "output_type": "execute_result"
    }
   ],
   "source": [
    "spike_signals = create_spike_signal_from_transitions(list_df_transition_merged[0])\n",
    "spike_signals"
   ]
  },
  {
   "cell_type": "code",
   "execution_count": 49,
   "id": "98b1f88f",
   "metadata": {},
   "outputs": [],
   "source": [
    "data = spike_signals[\"runway\"]\n",
    "L = len(data)\n",
    "end = list_df_transition_merged[0][\"end\"].values[-1]\n",
    "fps = float(L) / end\n",
    "fft_of_interest, freqs_of_interest = fft(data, fps, 1, 50)"
   ]
  },
  {
   "cell_type": "code",
   "execution_count": 50,
   "id": "c6d03229",
   "metadata": {},
   "outputs": [
    {
     "data": {
      "text/plain": [
       "[<matplotlib.lines.Line2D at 0x1ee06404048>]"
      ]
     },
     "execution_count": 50,
     "metadata": {},
     "output_type": "execute_result"
    },
    {
     "data": {
      "image/png": "[encoded data removed]",
      "text/plain": [
       "<Figure size 1080x576 with 2 Axes>"
      ]
     },
     "metadata": {
      "needs_background": "light"
     },
     "output_type": "display_data"
    }
   ],
   "source": [
    "fig, axs = plt.subplots(ncols=2, figsize=(15,8))\n",
    "axs[0].plot(data)\n",
    "axs[1].plot(freqs_of_interest, fft_of_interest)"
   ]
  },
  {
   "cell_type": "code",
   "execution_count": null,
   "id": "f45ca013",
   "metadata": {},
   "outputs": [],
   "source": []
  },
  {
   "cell_type": "code",
   "execution_count": null,
   "id": "cfac8dbb",
   "metadata": {},
   "outputs": [],
   "source": []
  },
  {
   "cell_type": "code",
   "execution_count": null,
   "id": "f91e9932",
   "metadata": {},
   "outputs": [],
   "source": []
  },
  {
   "cell_type": "code",
   "execution_count": null,
   "id": "453e9ed8",
   "metadata": {},
   "outputs": [],
   "source": []
  },
  {
   "cell_type": "code",
   "execution_count": null,
   "id": "3d3d3962",
   "metadata": {},
   "outputs": [],
   "source": []
  },
  {
   "cell_type": "code",
   "execution_count": 31,
   "id": "fd24a2f6",
   "metadata": {},
   "outputs": [
    {
     "data": {
      "text/plain": [
       "<matplotlib.collections.PathCollection at 0x1ee027fc6c8>"
      ]
     },
     "execution_count": 31,
     "metadata": {},
     "output_type": "execute_result"
    },
    {
     "data": {
      "image/png": "[encoded data removed]",
      "text/plain": [
       "<Figure size 2880x576 with 1 Axes>"
      ]
     },
     "metadata": {
      "needs_background": "light"
     },
     "output_type": "display_data"
    }
   ],
   "source": [
    "# colors = plt.get_cmap('RdYlGn')(np.linspace(0, 1, 6))\n",
    "colors = plt.get_cmap('hsv')(np.linspace(0, 0.9, 7))\n",
    "\n",
    "color_codes = {\n",
    "    \"rpmleft\": colors[0],\n",
    "    \"nrst\": colors[1],\n",
    "    \"asi\": colors[2],\n",
    "    \"hsi\": colors[3],\n",
    "    \"alt\": colors[4],\n",
    "    \"runway\": colors[5],\n",
    "    \"unknown\": colors[6],\n",
    "}\n",
    "\n",
    "# equal width\n",
    "fig, ax = plt.subplots(figsize=(40, 8))\n",
    "x = df_fixation[\"start\"]\n",
    "y = [1] * len(x)\n",
    "cols = [color_codes[v] for v in df_fixation['roi']]\n",
    "ax.scatter(x, y, c=cols)\n"
   ]
  }
 ],
 "metadata": {
  "kernelspec": {
   "display_name": "Python 3 (ipykernel)",
   "language": "python",
   "name": "python3"
  },
  "language_info": {
   "codemirror_mode": {
    "name": "ipython",
    "version": 3
   },
   "file_extension": ".py",
   "mimetype": "text/x-python",
   "name": "python",
   "nbconvert_exporter": "python",
   "pygments_lexer": "ipython3",
   "version": "3.7.11"
  }
 },
 "nbformat": 4,
 "nbformat_minor": 5
}
