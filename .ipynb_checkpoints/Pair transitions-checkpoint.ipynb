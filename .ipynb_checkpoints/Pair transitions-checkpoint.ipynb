{
 "cells": [
  {
   "cell_type": "code",
   "execution_count": 1,
   "id": "6428d707",
   "metadata": {},
   "outputs": [],
   "source": [
    "import numpy as np\n",
    "import pandas as pd\n",
    "import cv2\n",
    "from matplotlib import pyplot as plt\n",
    "from collections import defaultdict\n",
    "import seaborn as sns\n",
    "from tqdm import tqdm\n",
    "import matplotlib.patches as mpatches\n",
    "from sklearn.cluster import DBSCAN\n",
    "import scipy\n",
    "import re\n",
    "import scipy.fftpack\n",
    "import itertools\n",
    "from statsmodels.tsa.stattools import grangercausalitytests, adfuller, kpss\n",
    "from mongo_connection import Mongo_connection\n",
    "\n",
    "import eye_metrics_utils\n",
    "import data_utils\n",
    "import gaze_entropy\n",
    "import anova"
   ]
  },
  {
   "cell_type": "code",
   "execution_count": 2,
   "id": "6948b699",
   "metadata": {},
   "outputs": [],
   "source": [
    "import glob\n",
    "csv_files = glob.glob(\"data/*.csv\")\n",
    "csv_files_one = [v for v in csv_files if \"One Gaze-Vergence\" in v]\n",
    "csv_files_two = [v for v in csv_files if \"Two Gaze-Vergence\" in v]\n",
    "csv_files_three = [v for v in csv_files if \"Three Gaze-Vergence\" in v]\n",
    "csv_files_three_go_around = [v for v in csv_files if \"Three Go-Around Gaze-Vergence\" in v]"
   ]
  },
  {
   "cell_type": "code",
   "execution_count": null,
   "id": "13162d35",
   "metadata": {},
   "outputs": [],
   "source": []
  },
  {
   "cell_type": "code",
   "execution_count": 3,
   "id": "3964353d",
   "metadata": {},
   "outputs": [],
   "source": [
    "img = cv2.imread(\"flight.jpg\")\n",
    "\n",
    "overlay = img.copy()\n",
    "thickness = -1\n",
    "\n",
    "h,w,c = img.shape"
   ]
  },
  {
   "cell_type": "code",
   "execution_count": 4,
   "id": "8016817a",
   "metadata": {},
   "outputs": [],
   "source": [
    "roi_center = {\n",
    "                \"runway\": (850, 170), \n",
    "                \"rpmleft\": (652, 438),\n",
    "                \"asi\": (695, 490), \n",
    "                \"alt\": (820, 490),\n",
    "                \"nrst\": (840, 550),\n",
    "                \"rpmright\": (1050, 438),\n",
    "             }"
   ]
  },
  {
   "cell_type": "code",
   "execution_count": 5,
   "id": "f9ec27ff",
   "metadata": {},
   "outputs": [],
   "source": [
    "# modified ROIs\n",
    "label = {\"runway\": [(0,0), (1280, 350), \"r\"],\n",
    "#          \"rpmleft\": [(633, 411), (672, 451), \"r\"],\n",
    "         \"asi\": [(674, 432), (705, 525), \"r\"],\n",
    "         \"alt\": [(797, 428), (852, 523), \"r\"],\n",
    "#          \"hsi\": [(742, 556), 45, \"c\"],\n",
    "#          \"nrst\": [(792, 534), (876, 554), \"r\"],\n",
    "#          \"RPM_RIGHT\": [(1054, 440), 30, \"c\"]\n",
    "}\n",
    "\n",
    "encode_table = {\n",
    "#     \"rpmleft\": \"P\",\n",
    "#     \"nrst\": \"Q\",\n",
    "#     \"RPM_RIGHT\": \"R\",\n",
    "    \"asi\": \"B\",\n",
    "#     \"hsi\": \"D\",\n",
    "    \"alt\": \"E\",\n",
    "    \"runway\": \"X\",\n",
    "    \"unknown\": \"Z\"\n",
    "}"
   ]
  },
  {
   "cell_type": "code",
   "execution_count": 6,
   "id": "bd9ac924",
   "metadata": {},
   "outputs": [],
   "source": [
    "pdict = defaultdict()\n",
    "for key in label:\n",
    "    if label[key][-1] == \"c\":\n",
    "        mask = np.zeros((h,w), np.uint8)\n",
    "        cv2.circle(mask,label[key][0], label[key][1],255,-1)\n",
    "        points = np.where(mask==255)\n",
    "        pdict[key] = points\n",
    "    elif label[key][-1] == \"r\":\n",
    "        mask = np.zeros((h,w), np.uint8)\n",
    "        cv2.rectangle(mask,label[key][0], label[key][1],255,-1)\n",
    "        points = np.where(mask==255)\n",
    "        pdict[key] = points"
   ]
  },
  {
   "cell_type": "code",
   "execution_count": 7,
   "id": "d212aa9b",
   "metadata": {},
   "outputs": [],
   "source": [
    "def distance(x, y):\n",
    "    return ((x[0]-y[0])**2 + (x[1] - y[1])**2)**0.5"
   ]
  },
  {
   "cell_type": "code",
   "execution_count": 8,
   "id": "f7fa69ef",
   "metadata": {},
   "outputs": [],
   "source": [
    "def calibration(df_fix, roi_center):\n",
    "    diffx = []\n",
    "    diffy = []\n",
    "    idxmin= []\n",
    "    for i in range(len(df_fix)):\n",
    "        x = df_fix.iloc[i]\n",
    "        m = np.argmin(x[-6:])\n",
    "        idxmin.append(m)\n",
    "        mx = list(roi_center.values())[m][0]\n",
    "        my = list(roi_center.values())[m][1]\n",
    "\n",
    "        if m == 0:\n",
    "            w = 0.3\n",
    "        else:\n",
    "            w = 1\n",
    "        diffx.append(w * (x.x - mx))\n",
    "        diffy.append(w * (x.y - my))\n",
    "    offsetx = np.mean(diffx)\n",
    "    offsety = np.mean(diffy)\n",
    "    print(\"offsetx\", offsetx)\n",
    "    print(\"offsety\", offsety)\n",
    "    \n",
    "    return offsetx, offsety"
   ]
  },
  {
   "cell_type": "code",
   "execution_count": 9,
   "id": "31b9fa7d",
   "metadata": {},
   "outputs": [],
   "source": [
    "def merge_consecutive_fixations_in_same_roi(df_fix):\n",
    "    df_fix['value_grp'] = (df_fix.roi != df_fix.roi.shift()).cumsum()\n",
    "\n",
    "    return pd.DataFrame({ 'start' : df_fix.groupby('value_grp').start.first(), \n",
    "                          'end' : df_fix.groupby('value_grp').end.last(),\n",
    "                          'duration' : df_fix.groupby('value_grp').duration.sum(), \n",
    "                          'x' : df_fix.groupby('value_grp').x.mean(),\n",
    "                          'y': df_fix.groupby('value_grp').y.mean(),\n",
    "                          'roi': df_fix.groupby('value_grp').roi.first()\n",
    "                         }).reset_index(drop=True)"
   ]
  },
  {
   "cell_type": "code",
   "execution_count": 10,
   "id": "2f019aee",
   "metadata": {},
   "outputs": [],
   "source": [
    "def get_center(clustering, data):\n",
    "    center = []\n",
    "    for i in range(len(set(clustering.labels_)) - 1):\n",
    "        xi = data[np.where(clustering.labels_ == i)]\n",
    "        cx = sum(xi.T[0])/len(xi)\n",
    "        cy = sum(xi.T[1])/len(xi)\n",
    "        center.append((cx,cy))\n",
    "    return center"
   ]
  },
  {
   "cell_type": "code",
   "execution_count": 11,
   "id": "f259508b",
   "metadata": {},
   "outputs": [],
   "source": [
    "def dist_func(point, v1, v2, type=\"c\"): #between points and rectange/cirle\n",
    "    \"\"\"\n",
    "    point: x, y\n",
    "    v1,v2: topleft,bottomright if type = \"r\"\n",
    "    v1,v2: center (x,y),  if type = \"c\"\n",
    "    \"\"\"    \n",
    "    d = 0\n",
    "    if type == \"r\":\n",
    "        dx = max(v1[0] - point[0], 0, point[0] - v2[0])\n",
    "        dy = max(v1[1] - point[1], 0, point[1] - v2[1])\n",
    "        \n",
    "        d = np.sqrt(dx*dx + dy*dy)\n",
    "    elif type == \"c\":\n",
    "        d = np.sqrt((point[0]-v1[0])**2 + (point[1]-v1[1])**2) - v2\n",
    "        \n",
    "    return d"
   ]
  },
  {
   "cell_type": "code",
   "execution_count": 12,
   "id": "1b0a3050",
   "metadata": {},
   "outputs": [],
   "source": [
    "def encode(lst_transition):\n",
    "    str_transition = \"\"\n",
    "    for v in lst_transition:\n",
    "        str_transition = str_transition + encode_table[v]\n",
    "    return str_transition\n",
    "\n",
    "def decode(str_transition):\n",
    "    lst_transition = []\n",
    "    for v in str_transition:\n",
    "        key_index = list(encode_table.values()).index(v)\n",
    "        lst_transition.append(list(encode_table.keys())[key_index])\n",
    "    return lst_transition"
   ]
  },
  {
   "cell_type": "code",
   "execution_count": 55,
   "id": "4fa4f366",
   "metadata": {},
   "outputs": [],
   "source": [
    "def run_one_data(filename):\n",
    "    print(filename)\n",
    "    df_data = pd.read_csv(filename)\n",
    "\n",
    "    df_data = data_utils.reset_time(df_data)\n",
    "    df_data = eye_metrics_utils.cleanup(df_data)\n",
    "    null_percent = data_utils.check_percentage_null(df_data)\n",
    "    if null_percent > 0.15:\n",
    "        print(\"null percent: {}, exclude ID {}\".format(null_percent, filename[14:17]))\n",
    "        return 0, 0\n",
    "\n",
    "    df_fixation = eye_metrics_utils.detect_fixations(df_data, max_dist = 10, min_dur = 10)\n",
    "    df_blink = eye_metrics_utils.detect_blinks(df_data)\n",
    "    df_saccade = eye_metrics_utils.detect_saccades(df_data)\n",
    "\n",
    "    X = df_fixation[[\"x\", \"y\"]].values\n",
    "    clustering = DBSCAN(eps=20, min_samples=5, metric = distance).fit(X)\n",
    "    df_fixation[\"roi\"] = clustering.labels_\n",
    "    df_fixation = merge_consecutive_fixations_in_same_roi(df_fixation)\n",
    "\n",
    "    for k,v in roi_center.items():\n",
    "        df_fixation[\"{}\".format(k)] = df_fixation.apply(lambda x: distance(x[[\"x\",\"y\"]], v), axis=1)\n",
    "        \n",
    "        \n",
    "    X = df_fixation[[\"x\", \"y\"]].values\n",
    "    clustering = DBSCAN(eps=20, min_samples=5, metric = distance).fit(X)\n",
    "\n",
    "    color = clustering.labels_\n",
    "    df_fixation[\"roi\"] = clustering.labels_\n",
    "        \n",
    "#     img = plt.imread(\"flight.jpg\")\n",
    "#     h,w,c = img.shape\n",
    "#     fig=plt.figure(figsize=(15,8))\n",
    "#     ax=fig.add_axes([0,0,1,1])\n",
    "#     # ax.imshow(img, extent=[0, 1600, 0, 900])\n",
    "#     ax.imshow(img)\n",
    "# #     ax.scatter(cluster_center[0], cluster_center[1], s=30, marker = \"x\", c = \"red\")\n",
    "#     ax.scatter(X.T[0],X.T[1], c=color, cmap=\"jet\", alpha = 0.5)\n",
    "\n",
    "#     ax.set_xlabel('x')\n",
    "#     ax.set_ylabel('y')\n",
    "#     ax.set_title('center')\n",
    "\n",
    "    offsetx, offsety = calibration(df_fixation, roi_center)\n",
    "    df_fixation[\"x\"] = df_fixation.x - offsetx\n",
    "    df_fixation[\"y\"] = df_fixation.y - offsety\n",
    "    \n",
    "    metadata = {\n",
    "        \"filename\":filename,\n",
    "        \"null_percent\":null_percent,\n",
    "        \"offsetx\":offsetx,\n",
    "        \"offsety\":offsety\n",
    "    }\n",
    "    \n",
    "    return df_fixation, metadata"
   ]
  },
  {
   "cell_type": "code",
   "execution_count": 47,
   "id": "c347d42b",
   "metadata": {},
   "outputs": [],
   "source": [
    "def get_fixation_sequences(df_fixation, label = label, threshold = 20):\n",
    "    roi = []\n",
    "    count = 0\n",
    "    for i in range(len(df_fixation)):\n",
    "        x = df_fixation.iloc[i]\n",
    "        point = (x.x, x.y)\n",
    "        d = [dist_func(point, v[0], v[1], v[2]) for k,v in label.items()]\n",
    "        order = np.argsort(d)\n",
    "        if 0.0 not in d: # point is outside ROI\n",
    "            if d[order[0]] > threshold:\n",
    "                key = \"unknown\"\n",
    "            else:\n",
    "                key = list(pdict.keys())[order[0]]\n",
    "        else:# point falls inside a ROI\n",
    "            count += 1\n",
    "            key = list(pdict.keys())[order[0]]\n",
    "    #     print(d, order, key)\n",
    "        roi.append(key)\n",
    "    return roi"
   ]
  },
  {
   "cell_type": "code",
   "execution_count": 15,
   "id": "0dc9c5a6",
   "metadata": {},
   "outputs": [],
   "source": [
    "def create_transition_matrix(transitions):\n",
    "    m = pd.crosstab(pd.Series(list(transitions)[1:], name = \"t+1\"),\n",
    "            pd.Series(list(transitions)[:-1], name = \"t\"),normalize=1)\n",
    "        \n",
    "    return m"
   ]
  },
  {
   "cell_type": "code",
   "execution_count": 16,
   "id": "866eb672",
   "metadata": {},
   "outputs": [],
   "source": [
    "def create_transition_count_matrix(transitions):\n",
    "    m = pd.crosstab(pd.Series(list(transitions)[1:], name = \"t+1\"),\n",
    "            pd.Series(list(transitions)[:-1], name = \"t\"))\n",
    "        \n",
    "    return m"
   ]
  },
  {
   "cell_type": "code",
   "execution_count": null,
   "id": "0c85efb4",
   "metadata": {},
   "outputs": [],
   "source": []
  },
  {
   "cell_type": "code",
   "execution_count": 17,
   "id": "67f4696c",
   "metadata": {
    "scrolled": true
   },
   "outputs": [],
   "source": [
    "# print(create_transition_matrix(transitions))\n",
    "# print(create_transition_count_matrix(transitions))"
   ]
  },
  {
   "cell_type": "code",
   "execution_count": null,
   "id": "d1511d44",
   "metadata": {},
   "outputs": [],
   "source": []
  },
  {
   "cell_type": "code",
   "execution_count": 18,
   "id": "7715500a",
   "metadata": {},
   "outputs": [],
   "source": [
    "def encode_transition(transitions, label_type = \"random\"):\n",
    "    \"\"\"\n",
    "    assign a random letter for each roi\n",
    "    \"\"\"\n",
    "    letters = list(\"ABCDEFGHIJKLMNOPQRSTUVWXYZ\")\n",
    "    L = list(set(transitions))\n",
    "    print(L)\n",
    "    enc_transitions = \"\"\n",
    "    for roi in transitions:\n",
    "        enc_transitions += letters[L.index(roi)]\n",
    "        \n",
    "    return enc_transitions, L\n",
    "\n",
    "def decode_transitions(enc_transitions, list_labels):\n",
    "    letters = list(\"ABCDEFGHIJKLMNOPQRSTUVWXYZ\")\n",
    "    dec_transitions = []\n",
    "    for enc_t in enc_transitions:\n",
    "        dec_transitions.append(list_labels[letters.index(enc_t)])\n",
    "        \n",
    "    return dec_transitions"
   ]
  },
  {
   "cell_type": "code",
   "execution_count": null,
   "id": "46421afc",
   "metadata": {},
   "outputs": [],
   "source": []
  },
  {
   "cell_type": "code",
   "execution_count": 19,
   "id": "ba5706c8",
   "metadata": {},
   "outputs": [
    {
     "data": {
      "text/plain": [
       "[0, 1, 4, 7, 8]"
      ]
     },
     "execution_count": 19,
     "metadata": {},
     "output_type": "execute_result"
    }
   ],
   "source": [
    "def find_all(p, s):\n",
    "    '''Yields all the positions of\n",
    "    the pattern p in the string s.'''\n",
    "    i = s.find(p)\n",
    "    while i != -1:\n",
    "        yield i\n",
    "        i = s.find(p, i+1)\n",
    "        \n",
    "list(find_all(\"BB\", \"BBBABBABBB\"))"
   ]
  },
  {
   "cell_type": "code",
   "execution_count": 20,
   "id": "41d8fb66",
   "metadata": {},
   "outputs": [],
   "source": [
    "def find_index_of_most_subseq(enc_transition, L):\n",
    "    '''\n",
    "    enc_transitions: encoded transitions\n",
    "    '''\n",
    "    length = 2\n",
    "    subseqcount = defaultdict(int)\n",
    "\n",
    "    for i in range(len(enc_transitions)-length + 1):\n",
    "        substring = enc_transitions[i:i+length]\n",
    "        subseqcount[substring] += 1\n",
    "    max_subseq = max(subseqcount, key=subseqcount.get)\n",
    "    max5 = {k:subseqcount.get(k) for k in sorted(subseqcount, key=subseqcount.get, reverse=True)[:5]}\n",
    "    print(\"max 5 subseq:\", max5)\n",
    "    print(\"max_subseq:\", max_subseq)\n",
    "    print(\"max_subseq decode:\", decode_transitions(max_subseq, L))\n",
    "    list_idx_max_subseq = list(find_all(max_subseq, enc_transitions))\n",
    "    \n",
    "    return list_idx_max_subseq"
   ]
  },
  {
   "cell_type": "code",
   "execution_count": 21,
   "id": "022bf06d",
   "metadata": {},
   "outputs": [],
   "source": [
    "def merge_2roi_to_1roi(df_fixation, list_idx):\n",
    "    df_data = df_fixation.copy()\n",
    "    for idx in list_idx:\n",
    "        df_x = df_data.loc[idx:idx + 1]\n",
    "        start = df_x.iloc[0][\"start\"]\n",
    "        end = df_x.iloc[1][\"end\"]\n",
    "        duration = end - start\n",
    "        x = df_x.iloc[0][\"x\"]\n",
    "        y = df_x.iloc[0][\"y\"]\n",
    "        roi = \"{}_{}\".format(df_x.iloc[0]['roi'], df_x.iloc[1]['roi'])\n",
    "        \n",
    "        df_data.loc[idx] = start, end, duration, x, y, roi\n",
    "        if idx + 1 not in list_idx:\n",
    "            df_data = df_data.drop(idx + 1)\n",
    "        \n",
    "    return df_data.reset_index(drop=True)"
   ]
  },
  {
   "cell_type": "code",
   "execution_count": null,
   "id": "0d26348a",
   "metadata": {},
   "outputs": [],
   "source": []
  },
  {
   "cell_type": "code",
   "execution_count": null,
   "id": "4a4372b8",
   "metadata": {},
   "outputs": [],
   "source": []
  },
  {
   "cell_type": "code",
   "execution_count": null,
   "id": "96e333da",
   "metadata": {},
   "outputs": [],
   "source": []
  },
  {
   "cell_type": "code",
   "execution_count": 22,
   "id": "a606a3fc",
   "metadata": {
    "scrolled": false
   },
   "outputs": [],
   "source": [
    "def construct_rect_signal(start, end, signal_end, sr = 1000):\n",
    "    signal = np.zeros(int(signal_end*sr), dtype=int)\n",
    "    for i, s in enumerate(start):\n",
    "        s = int(start[i]*sr)\n",
    "        e = int(end[i]*sr)\n",
    "        signal[s:e] = 1\n",
    "        \n",
    "    return signal\n",
    "\n",
    "\n",
    "def create_rect_signal_from_transitions(df_transition, sr = 1000):\n",
    "    list_signals = {}\n",
    "    signal_end = list(df_transition[\"end\"])[-1]\n",
    "    for roi in list(set(df_transition[\"roi\"])):\n",
    "        df_x = df_transition[df_transition[\"roi\"] == roi]\n",
    "        start = df_x['start'].values\n",
    "        end = df_x['end'].values\n",
    "        signal = construct_rect_signal(start, end, signal_end, sr)\n",
    "        list_signals[roi] = signal\n",
    "        \n",
    "    return list_signals"
   ]
  },
  {
   "cell_type": "code",
   "execution_count": 23,
   "id": "2c2f0a31",
   "metadata": {},
   "outputs": [],
   "source": [
    "def construct_spike_signal(start, signal_end, sr = 1000):\n",
    "    signal = np.zeros(int(signal_end*sr), dtype=int)\n",
    "    \n",
    "    for i, s in enumerate(start):\n",
    "        s = int(start[i]*sr)\n",
    "        signal[s] = 1\n",
    "        \n",
    "    return signal\n",
    "\n",
    "def create_spike_signal_from_transitions(df_transition, sr = 1000):\n",
    "    list_signals = {}\n",
    "    signal_end = list(df_transition[\"end\"])[-1]\n",
    "    for roi in list(set(df_transition[\"roi\"])):\n",
    "        df_x = df_transition[df_transition[\"roi\"] == roi]\n",
    "        start = df_x['start'].values\n",
    "        signal = construct_spike_signal(start, signal_end, sr)\n",
    "        list_signals[roi] = signal\n",
    "        \n",
    "    return list_signals"
   ]
  },
  {
   "cell_type": "code",
   "execution_count": 24,
   "id": "d6d68e35",
   "metadata": {},
   "outputs": [],
   "source": [
    "def fft(data_buffer, fps, low, high):   \n",
    "    \"\"\"\n",
    "    calculate fft, return fft frequency in minute\n",
    "    \"\"\"\n",
    "    L = len(data_buffer)\n",
    "    freqs = float(fps) / L * np.arange(L / 2 + 1)\n",
    "    freqs_in_minute = 60. * freqs\n",
    "    raw_fft = np.fft.rfft(data_buffer)\n",
    "    fft = np.abs(raw_fft)**2\n",
    "    interest_idx = np.where((freqs_in_minute > low) & (freqs_in_minute < high))[0]\n",
    "    interest_idx_sub = interest_idx[:-1].copy() #advoid the indexing error\n",
    "    freqs_of_interest = freqs_in_minute[interest_idx_sub]\n",
    "    fft_of_interest = fft[interest_idx_sub]\n",
    "    \n",
    "    return fft_of_interest, freqs_of_interest"
   ]
  },
  {
   "cell_type": "code",
   "execution_count": 27,
   "id": "7f269eb3",
   "metadata": {
    "scrolled": false
   },
   "outputs": [
    {
     "name": "stdout",
     "output_type": "stream",
     "text": [
      "data\\PISSS_ID_011_Approach Two Gaze-Vergence.csv\n",
      "offsetx 7.027159978913913\n",
      "offsety -4.553936195791921\n"
     ]
    },
    {
     "ename": "AttributeError",
     "evalue": "'tuple' object has no attribute 'iloc'",
     "output_type": "error",
     "traceback": [
      "\u001b[1;31m---------------------------------------------------------------------------\u001b[0m",
      "\u001b[1;31mAttributeError\u001b[0m                            Traceback (most recent call last)",
      "\u001b[1;32m~\\AppData\\Local\\Temp/ipykernel_1272/2600967239.py\u001b[0m in \u001b[0;36m<module>\u001b[1;34m\u001b[0m\n\u001b[0;32m      1\u001b[0m \u001b[0mfilename\u001b[0m \u001b[1;33m=\u001b[0m \u001b[0mcsv_files_two\u001b[0m\u001b[1;33m[\u001b[0m\u001b[1;36m10\u001b[0m\u001b[1;33m]\u001b[0m\u001b[1;33m\u001b[0m\u001b[1;33m\u001b[0m\u001b[0m\n\u001b[0;32m      2\u001b[0m \u001b[0mdf_fixation\u001b[0m \u001b[1;33m=\u001b[0m \u001b[0mrun_one_data\u001b[0m\u001b[1;33m(\u001b[0m\u001b[0mfilename\u001b[0m\u001b[1;33m)\u001b[0m\u001b[1;33m\u001b[0m\u001b[1;33m\u001b[0m\u001b[0m\n\u001b[1;32m----> 3\u001b[1;33m \u001b[0mroi\u001b[0m \u001b[1;33m=\u001b[0m \u001b[0mget_fixation_sequences\u001b[0m\u001b[1;33m(\u001b[0m\u001b[0mdf_fixation\u001b[0m\u001b[1;33m)\u001b[0m\u001b[1;33m\u001b[0m\u001b[1;33m\u001b[0m\u001b[0m\n\u001b[0m\u001b[0;32m      4\u001b[0m \u001b[0mdf_fixation\u001b[0m\u001b[1;33m[\u001b[0m\u001b[1;34m\"roi\"\u001b[0m\u001b[1;33m]\u001b[0m \u001b[1;33m=\u001b[0m \u001b[0mroi\u001b[0m\u001b[1;33m\u001b[0m\u001b[1;33m\u001b[0m\u001b[0m\n\u001b[0;32m      5\u001b[0m \u001b[0mdf_fixation\u001b[0m \u001b[1;33m=\u001b[0m \u001b[0mmerge_consecutive_fixations_in_same_roi\u001b[0m\u001b[1;33m(\u001b[0m\u001b[0mdf_fixation\u001b[0m\u001b[1;33m)\u001b[0m\u001b[1;33m\u001b[0m\u001b[1;33m\u001b[0m\u001b[0m\n",
      "\u001b[1;32m~\\AppData\\Local\\Temp/ipykernel_1272/1775475099.py\u001b[0m in \u001b[0;36mget_fixation_sequences\u001b[1;34m(df_fixation, label, threshold)\u001b[0m\n\u001b[0;32m      3\u001b[0m     \u001b[0mcount\u001b[0m \u001b[1;33m=\u001b[0m \u001b[1;36m0\u001b[0m\u001b[1;33m\u001b[0m\u001b[1;33m\u001b[0m\u001b[0m\n\u001b[0;32m      4\u001b[0m     \u001b[1;32mfor\u001b[0m \u001b[0mi\u001b[0m \u001b[1;32min\u001b[0m \u001b[0mrange\u001b[0m\u001b[1;33m(\u001b[0m\u001b[0mlen\u001b[0m\u001b[1;33m(\u001b[0m\u001b[0mdf_fixation\u001b[0m\u001b[1;33m)\u001b[0m\u001b[1;33m)\u001b[0m\u001b[1;33m:\u001b[0m\u001b[1;33m\u001b[0m\u001b[1;33m\u001b[0m\u001b[0m\n\u001b[1;32m----> 5\u001b[1;33m         \u001b[0mx\u001b[0m \u001b[1;33m=\u001b[0m \u001b[0mdf_fixation\u001b[0m\u001b[1;33m.\u001b[0m\u001b[0miloc\u001b[0m\u001b[1;33m[\u001b[0m\u001b[0mi\u001b[0m\u001b[1;33m]\u001b[0m\u001b[1;33m\u001b[0m\u001b[1;33m\u001b[0m\u001b[0m\n\u001b[0m\u001b[0;32m      6\u001b[0m         \u001b[0mpoint\u001b[0m \u001b[1;33m=\u001b[0m \u001b[1;33m(\u001b[0m\u001b[0mx\u001b[0m\u001b[1;33m.\u001b[0m\u001b[0mx\u001b[0m\u001b[1;33m,\u001b[0m \u001b[0mx\u001b[0m\u001b[1;33m.\u001b[0m\u001b[0my\u001b[0m\u001b[1;33m)\u001b[0m\u001b[1;33m\u001b[0m\u001b[1;33m\u001b[0m\u001b[0m\n\u001b[0;32m      7\u001b[0m         \u001b[0md\u001b[0m \u001b[1;33m=\u001b[0m \u001b[1;33m[\u001b[0m\u001b[0mdist_func\u001b[0m\u001b[1;33m(\u001b[0m\u001b[0mpoint\u001b[0m\u001b[1;33m,\u001b[0m \u001b[0mv\u001b[0m\u001b[1;33m[\u001b[0m\u001b[1;36m0\u001b[0m\u001b[1;33m]\u001b[0m\u001b[1;33m,\u001b[0m \u001b[0mv\u001b[0m\u001b[1;33m[\u001b[0m\u001b[1;36m1\u001b[0m\u001b[1;33m]\u001b[0m\u001b[1;33m,\u001b[0m \u001b[0mv\u001b[0m\u001b[1;33m[\u001b[0m\u001b[1;36m2\u001b[0m\u001b[1;33m]\u001b[0m\u001b[1;33m)\u001b[0m \u001b[1;32mfor\u001b[0m \u001b[0mk\u001b[0m\u001b[1;33m,\u001b[0m\u001b[0mv\u001b[0m \u001b[1;32min\u001b[0m \u001b[0mlabel\u001b[0m\u001b[1;33m.\u001b[0m\u001b[0mitems\u001b[0m\u001b[1;33m(\u001b[0m\u001b[1;33m)\u001b[0m\u001b[1;33m]\u001b[0m\u001b[1;33m\u001b[0m\u001b[1;33m\u001b[0m\u001b[0m\n",
      "\u001b[1;31mAttributeError\u001b[0m: 'tuple' object has no attribute 'iloc'"
     ]
    }
   ],
   "source": [
    "filename = csv_files_two[10]\n",
    "df_fixation = run_one_data(filename)\n",
    "roi = get_fixation_sequences(df_fixation)\n",
    "df_fixation[\"roi\"] = roi\n",
    "df_fixation = merge_consecutive_fixations_in_same_roi(df_fixation)\n",
    "transitions = df_fixation[\"roi\"]\n",
    "\n",
    "level = 0\n",
    "num_max_subseq = 100\n",
    "list_df_transition_merged = []\n",
    "list_transitions = []\n",
    "df_transition_merged = df_fixation.copy()\n",
    "list_df_transition_merged.append(df_transition_merged)\n",
    "\n",
    "while num_max_subseq > 3:\n",
    "    print(\"level:\",level)\n",
    "    enc_transitions, L = encode_transition(transitions)\n",
    "    print(\"enc_transitions:\", enc_transitions)\n",
    "    list_idx_max_subseq = find_index_of_most_subseq(enc_transitions, L)\n",
    "    print(list_idx_max_subseq)\n",
    "    num_max_subseq = len(list_idx_max_subseq)\n",
    "    print(\"num_max_subseq:\",num_max_subseq)\n",
    "    df_transition_merged = merge_2roi_to_1roi(df_transition_merged, list_idx_max_subseq)\n",
    "    list_df_transition_merged.append(df_transition_merged)\n",
    "    transitions = df_transition_merged[\"roi\"]\n",
    "    list_transitions.append(transitions)\n",
    "    level += 1\n",
    "    print(\"------------------------------------------------------------\")"
   ]
  },
  {
   "cell_type": "code",
   "execution_count": null,
   "id": "2fe7f369",
   "metadata": {},
   "outputs": [],
   "source": [
    "df_transitions = list_df_transition_merged[1]\n",
    "sr = 100\n",
    "roi = \"asi_runway\""
   ]
  },
  {
   "cell_type": "markdown",
   "id": "55607e43",
   "metadata": {},
   "source": [
    "## Rect signal"
   ]
  },
  {
   "cell_type": "code",
   "execution_count": null,
   "id": "5d63d9da",
   "metadata": {},
   "outputs": [],
   "source": [
    "rect_signals = create_rect_signal_from_transitions(df_transitions, sr)\n",
    "rect_signals"
   ]
  },
  {
   "cell_type": "code",
   "execution_count": null,
   "id": "6bceb7b2",
   "metadata": {},
   "outputs": [],
   "source": []
  },
  {
   "cell_type": "code",
   "execution_count": null,
   "id": "c04080c4",
   "metadata": {},
   "outputs": [],
   "source": [
    "data = rect_signals[roi]\n",
    "L = len(data)\n",
    "end = df_transitions[\"end\"].values[-1]\n",
    "fps = float(L) / end\n",
    "print(fps)\n",
    "fft_of_interest, freqs_of_interest = fft(data, fps, 1, 60)"
   ]
  },
  {
   "cell_type": "code",
   "execution_count": null,
   "id": "a736291c",
   "metadata": {},
   "outputs": [],
   "source": [
    "# s = np.fft.ifft(fft_of_interest)\n",
    "# plt.plot(np.arange(len(s)), s.real, label='real')"
   ]
  },
  {
   "cell_type": "code",
   "execution_count": null,
   "id": "0010bd47",
   "metadata": {},
   "outputs": [],
   "source": [
    "fig, axs = plt.subplots(ncols=2, figsize=(15,8))\n",
    "axs[0].plot(data)\n",
    "axs[0].set_xlabel(f\"time (sampling rate = {sr} Hz)\")\n",
    "\n",
    "axs[1].plot(freqs_of_interest, fft_of_interest)\n",
    "axs[1].set_ylabel(\"magnitude\")\n",
    "axs[1].set_xlabel(\"freq (per minute)\")\n",
    "fig.suptitle(f\"filename: {filename}, roi: {roi}\" )"
   ]
  },
  {
   "cell_type": "markdown",
   "id": "50bc70b8",
   "metadata": {},
   "source": [
    "## Spike signal"
   ]
  },
  {
   "cell_type": "code",
   "execution_count": null,
   "id": "e97672e6",
   "metadata": {},
   "outputs": [],
   "source": [
    "spike_signals = create_spike_signal_from_transitions(df_transitions, sr)\n",
    "spike_signals"
   ]
  },
  {
   "cell_type": "code",
   "execution_count": null,
   "id": "98b1f88f",
   "metadata": {},
   "outputs": [],
   "source": [
    "data = spike_signals[roi]\n",
    "L = len(data)\n",
    "end = df_transitions[\"end\"].values[-1]\n",
    "fps = float(L) / end\n",
    "print(fps)\n",
    "fft_of_interest, freqs_of_interest = fft(data, fps, 1, 60)"
   ]
  },
  {
   "cell_type": "code",
   "execution_count": null,
   "id": "38bf8ef1",
   "metadata": {},
   "outputs": [],
   "source": [
    "fig, axs = plt.subplots(ncols=2, figsize=(15,8))\n",
    "axs[0].plot(data)\n",
    "axs[0].set_xlabel(f\"time (sampling rate = {sr} Hz)\")\n",
    "\n",
    "axs[1].plot(freqs_of_interest, fft_of_interest)\n",
    "axs[1].set_ylabel(\"magnitude\")\n",
    "axs[1].set_xlabel(\"freq (per minute)\")\n",
    "fig.suptitle(f\"filename: {filename}, roi: {roi}\" )"
   ]
  },
  {
   "cell_type": "code",
   "execution_count": null,
   "id": "aba180e9",
   "metadata": {},
   "outputs": [],
   "source": []
  },
  {
   "cell_type": "code",
   "execution_count": null,
   "id": "65e2c5b1",
   "metadata": {},
   "outputs": [],
   "source": []
  },
  {
   "cell_type": "code",
   "execution_count": null,
   "id": "f86f88da",
   "metadata": {},
   "outputs": [],
   "source": []
  },
  {
   "cell_type": "code",
   "execution_count": null,
   "id": "caec566d",
   "metadata": {},
   "outputs": [],
   "source": []
  },
  {
   "cell_type": "code",
   "execution_count": null,
   "id": "432f62ff",
   "metadata": {},
   "outputs": [],
   "source": [
    "rois = list(rect_signals.keys())\n",
    "list_perm = list(itertools.permutations(rois, 2))"
   ]
  },
  {
   "cell_type": "code",
   "execution_count": null,
   "id": "fc6cc7d9",
   "metadata": {},
   "outputs": [],
   "source": [
    "list(list_perm[0])"
   ]
  },
  {
   "cell_type": "code",
   "execution_count": null,
   "id": "0334d111",
   "metadata": {},
   "outputs": [],
   "source": [
    "df_granger = pd.DataFrame(columns = [\"roi1\", \"roi2\", \"lag\", \"pval\"])\n",
    "for perm in list_perm:\n",
    "    data = pd.DataFrame(rect_signals)[list(perm)]\n",
    "    maxlag = 4\n",
    "    x = grangercausalitytests(data, maxlag=maxlag, verbose=False)\n",
    "    lroi1 = [perm[0]] * maxlag\n",
    "    lroi2 = [perm[1]] * maxlag\n",
    "    llag = np.arange(maxlag)\n",
    "    lpval = []\n",
    "    for i in range(1, maxlag + 1):\n",
    "        p_val = x[i][0][\"ssr_ftest\"][1]\n",
    "        lpval.append(p_val)\n",
    "        \n",
    "    df_x = pd.DataFrame({\"roi1\": lroi1,\n",
    "                        \"roi2\": lroi2,\n",
    "                        \"lag\": llag,\n",
    "                        \"pval\": lpval})\n",
    "    df_granger = pd.concat([df_granger, df_x], ignore_index=True)\n",
    "    "
   ]
  },
  {
   "cell_type": "code",
   "execution_count": null,
   "id": "5737c62f",
   "metadata": {},
   "outputs": [],
   "source": [
    "df_granger[df_granger[\"pval\"] < 0.05]"
   ]
  },
  {
   "cell_type": "code",
   "execution_count": null,
   "id": "5728354a",
   "metadata": {},
   "outputs": [],
   "source": [
    "data = pd.DataFrame(rect_signals)"
   ]
  },
  {
   "cell_type": "code",
   "execution_count": null,
   "id": "0b93ceaa",
   "metadata": {},
   "outputs": [],
   "source": [
    "data"
   ]
  },
  {
   "cell_type": "code",
   "execution_count": null,
   "id": "d70878c3",
   "metadata": {},
   "outputs": [],
   "source": [
    "def adf_test(df):\n",
    "    result = adfuller(df.values)\n",
    "    print('ADF Statistics: %f' % result[0])\n",
    "    print('p-value: %f' % result[1])\n",
    "    print('Critical values:')\n",
    "    for key, value in result[4].items():\n",
    "        print('\\t%s: %.3f' % (key, value))\n",
    "\n",
    "def kpss_test(df):    \n",
    "    statistic, p_value, n_lags, critical_values = kpss(df.values)\n",
    "    \n",
    "    print(f'KPSS Statistic: {statistic}')\n",
    "    print(f'p-value: {p_value}')\n",
    "    print(f'num lags: {n_lags}')\n",
    "    print('Critial Values:')\n",
    "    for key, value in critical_values.items():\n",
    "        print(f'   {key} : {value}')"
   ]
  },
  {
   "cell_type": "code",
   "execution_count": null,
   "id": "9c95ecce",
   "metadata": {},
   "outputs": [],
   "source": [
    "adf_test(data['runway'])"
   ]
  },
  {
   "cell_type": "code",
   "execution_count": null,
   "id": "5f7c0217",
   "metadata": {},
   "outputs": [],
   "source": [
    "kpss_test(data['runway'])"
   ]
  },
  {
   "cell_type": "code",
   "execution_count": null,
   "id": "bf0fd189",
   "metadata": {},
   "outputs": [],
   "source": [
    "data = pd.DataFrame(rect_signals)\n",
    "a = grangercausalitytests(data, maxlag=4)"
   ]
  },
  {
   "cell_type": "code",
   "execution_count": null,
   "id": "cc108467",
   "metadata": {},
   "outputs": [],
   "source": [
    "a[4][0]"
   ]
  },
  {
   "cell_type": "code",
   "execution_count": null,
   "id": "47a94938",
   "metadata": {},
   "outputs": [],
   "source": []
  },
  {
   "cell_type": "code",
   "execution_count": 66,
   "id": "707f76f5",
   "metadata": {},
   "outputs": [
    {
     "name": "stdout",
     "output_type": "stream",
     "text": [
      "data\\PISSS_ID_001_Approach One Gaze-Vergence.csv\n",
      "offsetx 8.383497919748276\n",
      "offsety 4.523585198298139\n"
     ]
    }
   ],
   "source": [
    "\n",
    "df_fixation, _ = run_one_data(csv_files_one[0])\n",
    "roi = get_fixation_sequences(df_fixation)\n",
    "df_fixation[\"roi\"] = roi\n",
    "df_fixation = merge_consecutive_fixations_in_same_roi(df_fixation)\n",
    "transitions = df_fixation[\"roi\"]"
   ]
  },
  {
   "cell_type": "code",
   "execution_count": 67,
   "id": "dbdeffd7",
   "metadata": {},
   "outputs": [
    {
     "data": {
      "text/html": [
       "<div>\n",
       "<style scoped>\n",
       "    .dataframe tbody tr th:only-of-type {\n",
       "        vertical-align: middle;\n",
       "    }\n",
       "\n",
       "    .dataframe tbody tr th {\n",
       "        vertical-align: top;\n",
       "    }\n",
       "\n",
       "    .dataframe thead th {\n",
       "        text-align: right;\n",
       "    }\n",
       "</style>\n",
       "<table border=\"1\" class=\"dataframe\">\n",
       "  <thead>\n",
       "    <tr style=\"text-align: right;\">\n",
       "      <th></th>\n",
       "      <th>start</th>\n",
       "      <th>end</th>\n",
       "      <th>duration</th>\n",
       "      <th>x</th>\n",
       "      <th>y</th>\n",
       "      <th>roi</th>\n",
       "    </tr>\n",
       "  </thead>\n",
       "  <tbody>\n",
       "    <tr>\n",
       "      <th>0</th>\n",
       "      <td>0.326986</td>\n",
       "      <td>0.877015</td>\n",
       "      <td>0.471983</td>\n",
       "      <td>667.655544</td>\n",
       "      <td>482.378054</td>\n",
       "      <td>asi</td>\n",
       "    </tr>\n",
       "    <tr>\n",
       "      <th>1</th>\n",
       "      <td>1.073025</td>\n",
       "      <td>1.333038</td>\n",
       "      <td>0.260013</td>\n",
       "      <td>914.973108</td>\n",
       "      <td>187.129884</td>\n",
       "      <td>runway</td>\n",
       "    </tr>\n",
       "    <tr>\n",
       "      <th>2</th>\n",
       "      <td>1.511048</td>\n",
       "      <td>1.919086</td>\n",
       "      <td>0.408038</td>\n",
       "      <td>651.106030</td>\n",
       "      <td>463.007715</td>\n",
       "      <td>unknown</td>\n",
       "    </tr>\n",
       "    <tr>\n",
       "      <th>3</th>\n",
       "      <td>2.061077</td>\n",
       "      <td>2.470159</td>\n",
       "      <td>0.409082</td>\n",
       "      <td>819.600670</td>\n",
       "      <td>496.667035</td>\n",
       "      <td>alt</td>\n",
       "    </tr>\n",
       "    <tr>\n",
       "      <th>4</th>\n",
       "      <td>2.616174</td>\n",
       "      <td>2.922137</td>\n",
       "      <td>0.305963</td>\n",
       "      <td>646.910155</td>\n",
       "      <td>458.695599</td>\n",
       "      <td>unknown</td>\n",
       "    </tr>\n",
       "    <tr>\n",
       "      <th>...</th>\n",
       "      <td>...</td>\n",
       "      <td>...</td>\n",
       "      <td>...</td>\n",
       "      <td>...</td>\n",
       "      <td>...</td>\n",
       "      <td>...</td>\n",
       "    </tr>\n",
       "    <tr>\n",
       "      <th>109</th>\n",
       "      <td>138.427047</td>\n",
       "      <td>139.725124</td>\n",
       "      <td>0.712016</td>\n",
       "      <td>901.544568</td>\n",
       "      <td>197.588426</td>\n",
       "      <td>runway</td>\n",
       "    </tr>\n",
       "    <tr>\n",
       "      <th>110</th>\n",
       "      <td>139.905106</td>\n",
       "      <td>140.149128</td>\n",
       "      <td>0.244022</td>\n",
       "      <td>675.020275</td>\n",
       "      <td>473.449541</td>\n",
       "      <td>asi</td>\n",
       "    </tr>\n",
       "    <tr>\n",
       "      <th>111</th>\n",
       "      <td>140.391130</td>\n",
       "      <td>141.933226</td>\n",
       "      <td>1.399121</td>\n",
       "      <td>902.587253</td>\n",
       "      <td>139.111193</td>\n",
       "      <td>runway</td>\n",
       "    </tr>\n",
       "    <tr>\n",
       "      <th>112</th>\n",
       "      <td>142.127219</td>\n",
       "      <td>142.452234</td>\n",
       "      <td>0.325015</td>\n",
       "      <td>668.934027</td>\n",
       "      <td>487.600935</td>\n",
       "      <td>asi</td>\n",
       "    </tr>\n",
       "    <tr>\n",
       "      <th>113</th>\n",
       "      <td>142.665266</td>\n",
       "      <td>150.856667</td>\n",
       "      <td>8.009366</td>\n",
       "      <td>906.081387</td>\n",
       "      <td>201.763989</td>\n",
       "      <td>runway</td>\n",
       "    </tr>\n",
       "  </tbody>\n",
       "</table>\n",
       "<p>114 rows × 6 columns</p>\n",
       "</div>"
      ],
      "text/plain": [
       "          start         end  duration           x           y      roi\n",
       "0      0.326986    0.877015  0.471983  667.655544  482.378054      asi\n",
       "1      1.073025    1.333038  0.260013  914.973108  187.129884   runway\n",
       "2      1.511048    1.919086  0.408038  651.106030  463.007715  unknown\n",
       "3      2.061077    2.470159  0.409082  819.600670  496.667035      alt\n",
       "4      2.616174    2.922137  0.305963  646.910155  458.695599  unknown\n",
       "..          ...         ...       ...         ...         ...      ...\n",
       "109  138.427047  139.725124  0.712016  901.544568  197.588426   runway\n",
       "110  139.905106  140.149128  0.244022  675.020275  473.449541      asi\n",
       "111  140.391130  141.933226  1.399121  902.587253  139.111193   runway\n",
       "112  142.127219  142.452234  0.325015  668.934027  487.600935      asi\n",
       "113  142.665266  150.856667  8.009366  906.081387  201.763989   runway\n",
       "\n",
       "[114 rows x 6 columns]"
      ]
     },
     "execution_count": 67,
     "metadata": {},
     "output_type": "execute_result"
    }
   ],
   "source": [
    "df_fixation"
   ]
  },
  {
   "cell_type": "code",
   "execution_count": null,
   "id": "ec9c83ec",
   "metadata": {},
   "outputs": [],
   "source": []
  },
  {
   "cell_type": "code",
   "execution_count": 30,
   "id": "cbe58095",
   "metadata": {},
   "outputs": [
    {
     "data": {
      "text/html": [
       "<div>\n",
       "<style scoped>\n",
       "    .dataframe tbody tr th:only-of-type {\n",
       "        vertical-align: middle;\n",
       "    }\n",
       "\n",
       "    .dataframe tbody tr th {\n",
       "        vertical-align: top;\n",
       "    }\n",
       "\n",
       "    .dataframe thead th {\n",
       "        text-align: right;\n",
       "    }\n",
       "</style>\n",
       "<table border=\"1\" class=\"dataframe\">\n",
       "  <thead>\n",
       "    <tr style=\"text-align: right;\">\n",
       "      <th></th>\n",
       "      <th>start</th>\n",
       "      <th>end</th>\n",
       "      <th>duration</th>\n",
       "      <th>x</th>\n",
       "      <th>y</th>\n",
       "      <th>roi</th>\n",
       "    </tr>\n",
       "  </thead>\n",
       "  <tbody>\n",
       "    <tr>\n",
       "      <th>0</th>\n",
       "      <td>0.326986</td>\n",
       "      <td>0.877015</td>\n",
       "      <td>0.471983</td>\n",
       "      <td>667.655544</td>\n",
       "      <td>482.378054</td>\n",
       "      <td>asi</td>\n",
       "    </tr>\n",
       "    <tr>\n",
       "      <th>1</th>\n",
       "      <td>1.073025</td>\n",
       "      <td>1.333038</td>\n",
       "      <td>0.260013</td>\n",
       "      <td>914.973108</td>\n",
       "      <td>187.129884</td>\n",
       "      <td>runway</td>\n",
       "    </tr>\n",
       "    <tr>\n",
       "      <th>2</th>\n",
       "      <td>1.511048</td>\n",
       "      <td>1.919086</td>\n",
       "      <td>0.408038</td>\n",
       "      <td>651.106030</td>\n",
       "      <td>463.007715</td>\n",
       "      <td>rpmleft</td>\n",
       "    </tr>\n",
       "    <tr>\n",
       "      <th>3</th>\n",
       "      <td>2.061077</td>\n",
       "      <td>2.470159</td>\n",
       "      <td>0.409082</td>\n",
       "      <td>819.600670</td>\n",
       "      <td>496.667035</td>\n",
       "      <td>alt</td>\n",
       "    </tr>\n",
       "    <tr>\n",
       "      <th>4</th>\n",
       "      <td>2.616174</td>\n",
       "      <td>2.922137</td>\n",
       "      <td>0.305963</td>\n",
       "      <td>646.910155</td>\n",
       "      <td>458.695599</td>\n",
       "      <td>rpmleft</td>\n",
       "    </tr>\n",
       "    <tr>\n",
       "      <th>...</th>\n",
       "      <td>...</td>\n",
       "      <td>...</td>\n",
       "      <td>...</td>\n",
       "      <td>...</td>\n",
       "      <td>...</td>\n",
       "      <td>...</td>\n",
       "    </tr>\n",
       "    <tr>\n",
       "      <th>111</th>\n",
       "      <td>138.427047</td>\n",
       "      <td>139.725124</td>\n",
       "      <td>0.712016</td>\n",
       "      <td>901.544568</td>\n",
       "      <td>197.588426</td>\n",
       "      <td>runway</td>\n",
       "    </tr>\n",
       "    <tr>\n",
       "      <th>112</th>\n",
       "      <td>139.905106</td>\n",
       "      <td>140.149128</td>\n",
       "      <td>0.244022</td>\n",
       "      <td>675.020275</td>\n",
       "      <td>473.449541</td>\n",
       "      <td>asi</td>\n",
       "    </tr>\n",
       "    <tr>\n",
       "      <th>113</th>\n",
       "      <td>140.391130</td>\n",
       "      <td>141.933226</td>\n",
       "      <td>1.399121</td>\n",
       "      <td>902.587253</td>\n",
       "      <td>139.111193</td>\n",
       "      <td>runway</td>\n",
       "    </tr>\n",
       "    <tr>\n",
       "      <th>114</th>\n",
       "      <td>142.127219</td>\n",
       "      <td>142.452234</td>\n",
       "      <td>0.325015</td>\n",
       "      <td>668.934027</td>\n",
       "      <td>487.600935</td>\n",
       "      <td>asi</td>\n",
       "    </tr>\n",
       "    <tr>\n",
       "      <th>115</th>\n",
       "      <td>142.665266</td>\n",
       "      <td>150.856667</td>\n",
       "      <td>8.009366</td>\n",
       "      <td>906.081387</td>\n",
       "      <td>201.763989</td>\n",
       "      <td>runway</td>\n",
       "    </tr>\n",
       "  </tbody>\n",
       "</table>\n",
       "<p>116 rows × 6 columns</p>\n",
       "</div>"
      ],
      "text/plain": [
       "          start         end  duration           x           y      roi\n",
       "0      0.326986    0.877015  0.471983  667.655544  482.378054      asi\n",
       "1      1.073025    1.333038  0.260013  914.973108  187.129884   runway\n",
       "2      1.511048    1.919086  0.408038  651.106030  463.007715  rpmleft\n",
       "3      2.061077    2.470159  0.409082  819.600670  496.667035      alt\n",
       "4      2.616174    2.922137  0.305963  646.910155  458.695599  rpmleft\n",
       "..          ...         ...       ...         ...         ...      ...\n",
       "111  138.427047  139.725124  0.712016  901.544568  197.588426   runway\n",
       "112  139.905106  140.149128  0.244022  675.020275  473.449541      asi\n",
       "113  140.391130  141.933226  1.399121  902.587253  139.111193   runway\n",
       "114  142.127219  142.452234  0.325015  668.934027  487.600935      asi\n",
       "115  142.665266  150.856667  8.009366  906.081387  201.763989   runway\n",
       "\n",
       "[116 rows x 6 columns]"
      ]
     },
     "execution_count": 30,
     "metadata": {},
     "output_type": "execute_result"
    }
   ],
   "source": [
    "df_fixation"
   ]
  },
  {
   "cell_type": "markdown",
   "id": "6f58dfc4",
   "metadata": {},
   "source": [
    "# save to mongo"
   ]
  },
  {
   "cell_type": "code",
   "execution_count": 56,
   "id": "e0cfe8c2",
   "metadata": {},
   "outputs": [],
   "source": [
    "df_par = pd.read_csv(\"participant.csv\")\n",
    "group = [df_par[df_par['Group'].str.contains(\"1\")]['ID'].tolist(), df_par[df_par['Group'].str.contains(\"2\")][\"ID\"].tolist()]\n",
    "group = [[i[-3:] for i in v] for v in group]"
   ]
  },
  {
   "cell_type": "code",
   "execution_count": 57,
   "id": "6c209218",
   "metadata": {},
   "outputs": [
    {
     "name": "stderr",
     "output_type": "stream",
     "text": [
      "c:\\users\\work\\anaconda3\\envs\\kia\\lib\\site-packages\\ipykernel_launcher.py:3: SettingWithCopyWarning: \n",
      "A value is trying to be set on a copy of a slice from a DataFrame.\n",
      "Try using .loc[row_indexer,col_indexer] = value instead\n",
      "\n",
      "See the caveats in the documentation: https://pandas.pydata.org/pandas-docs/stable/user_guide/indexing.html#returning-a-view-versus-a-copy\n",
      "  This is separate from the ipykernel package so we can avoid doing imports until\n"
     ]
    }
   ],
   "source": [
    "df_rating = pd.read_csv(\"Performance rating.csv\")\n",
    "df_label = df_rating[[\"PID\", \"Group\", \"Trial\", \"Rating_num\"]]\n",
    "df_label[\"PID\"] = [str(v).zfill(3) for v in df_label[\"PID\"]]\n",
    "df_label=df_label.dropna()\n",
    "df_label[\"Rating_num\"] = df_label[\"Rating_num\"].astype(\"int\")"
   ]
  },
  {
   "cell_type": "code",
   "execution_count": null,
   "id": "95022991",
   "metadata": {},
   "outputs": [],
   "source": []
  },
  {
   "cell_type": "code",
   "execution_count": 58,
   "id": "70fa1523",
   "metadata": {},
   "outputs": [],
   "source": [
    "def df_to_mongo_dict(df_fixation, metadata, trial = 1):\n",
    "    d_data = {}\n",
    "#     d_data[\"origin_start\"] = list(df_fixation[\"origin_start\"].values)\n",
    "    d_data[\"start\"] = list(df_fixation[\"start\"].values)\n",
    "    d_data[\"end\"] = list(df_fixation[\"end\"].values)\n",
    "    d_data[\"duration\"] = list(df_fixation[\"duration\"].values)\n",
    "    d_data[\"x\"] = list(df_fixation[\"x\"].values)\n",
    "    d_data[\"y\"] = list(df_fixation[\"y\"].values)\n",
    "    d_data[\"roi\"] = list(df_fixation[\"roi\"].values)\n",
    "    \n",
    "    filename = metadata['filename']\n",
    "    null_percent = metadata['null_percent']\n",
    "    offsetx = metadata['offsetx']\n",
    "    offsety = metadata['offsety']\n",
    "\n",
    "    d_res = {}\n",
    "    pID = re.findall(r'\\d+', filename)[0]\n",
    "    d_res[\"pID\"] = pID\n",
    "    if pID in group[0]:\n",
    "        g = 1\n",
    "    elif pID in group[1]:\n",
    "        g = 2\n",
    "    d_res[\"null_percent\"] = null_percent\n",
    "    d_res[\"calibration\"] = {\n",
    "        \"offsetx\":offsetx,\n",
    "        \"offsety\":offsety\n",
    "    }\n",
    "    if trial in [1, 2]:\n",
    "        rating = df_label[(df_label[\"PID\"] == pID) & (df_label[\"Trial\"]==trial)][\"Rating_num\"].values[0]\n",
    "    else:\n",
    "        rating = -1\n",
    "    \n",
    "    \n",
    "    d_res[\"group\"] = g\n",
    "    d_res[\"data\"] = d_data\n",
    "    d_res[\"trial\"] = trial\n",
    "    d_res[\"rating\"] = int(rating)\n",
    "    \n",
    "    return d_res"
   ]
  },
  {
   "cell_type": "code",
   "execution_count": 59,
   "id": "abae89a7",
   "metadata": {},
   "outputs": [
    {
     "name": "stdout",
     "output_type": "stream",
     "text": [
      "[INFO] Created a mongodb instance.\n",
      "[INFO] Currently connected to eye_tracking_db/fixation_sequences.\n",
      "[INFO] Found 45 documents.\n"
     ]
    }
   ],
   "source": [
    "mongo = Mongo_connection()\n",
    "mongo.connect()\n",
    "documents = mongo.find_all()"
   ]
  },
  {
   "cell_type": "code",
   "execution_count": 60,
   "id": "67758a4b",
   "metadata": {},
   "outputs": [
    {
     "name": "stdout",
     "output_type": "stream",
     "text": [
      "[INFO] delete status:  True\n"
     ]
    }
   ],
   "source": [
    "mongo.delete_all()"
   ]
  },
  {
   "cell_type": "code",
   "execution_count": 62,
   "id": "c0c81061",
   "metadata": {},
   "outputs": [
    {
     "name": "stdout",
     "output_type": "stream",
     "text": [
      "data\\PISSS_ID_001_Approach Two Gaze-Vergence.csv\n",
      "offsetx 9.86256171242728\n",
      "offsety 3.0368895641540834\n",
      "[INFO] insert status:  True\n",
      "data\\PISSS_ID_002_Approach Two Gaze-Vergence.csv\n",
      "offsetx 11.951966471784651\n",
      "offsety 5.080971793123726\n",
      "[INFO] insert status:  True\n",
      "data\\PISSS_ID_003_Approach Two Gaze-Vergence.csv\n",
      "offsetx 21.818066115241436\n",
      "offsety 9.84677159968888\n",
      "[INFO] insert status:  True\n",
      "data\\PISSS_ID_004_Approach Two Gaze-Vergence.csv\n",
      "offsetx 18.66095592665126\n",
      "offsety 1.518515296301551\n",
      "[INFO] insert status:  True\n",
      "data\\PISSS_ID_005_Approach Two Gaze-Vergence.csv\n",
      "offsetx 14.33550726216351\n",
      "offsety -9.111728309497408\n",
      "[INFO] insert status:  True\n",
      "data\\PISSS_ID_006_Approach Two Gaze-Vergence.csv\n",
      "offsetx 9.668407433464678\n",
      "offsety 2.8700529587965917\n",
      "[INFO] insert status:  True\n",
      "data\\PISSS_ID_007_Approach Two Gaze-Vergence.csv\n",
      "offsetx 14.120771254895095\n",
      "offsety -8.505619999783075\n",
      "[INFO] insert status:  True\n",
      "data\\PISSS_ID_008_Approach Two Gaze-Vergence.csv\n",
      "offsetx 12.754685295725885\n",
      "offsety 3.3110550840404405\n",
      "[INFO] insert status:  True\n",
      "data\\PISSS_ID_009_Approach Two Gaze-Vergence.csv\n",
      "null percent: 0.19852861625013524, exclude ID 009\n",
      "data\\PISSS_ID_010_Approach Two Gaze-Vergence.csv\n",
      "offsetx 14.369464935417032\n",
      "offsety 4.645942553154721\n",
      "[INFO] insert status:  True\n",
      "data\\PISSS_ID_011_Approach Two Gaze-Vergence.csv\n",
      "offsetx 9.843058740589152\n",
      "offsety -8.276629876302888\n",
      "[INFO] insert status:  True\n",
      "data\\PISSS_ID_012_Approach Two Gaze-Vergence.csv\n",
      "null percent: 0.6544374933729191, exclude ID 012\n",
      "data\\PISSS_ID_013_Approach Two Gaze-Vergence.csv\n",
      "null percent: 0.6779426993441491, exclude ID 013\n",
      "data\\PISSS_ID_014_Approach Two Gaze-Vergence.csv\n",
      "offsetx 11.834182429879002\n",
      "offsety -4.550020119236887\n",
      "[INFO] insert status:  True\n",
      "data\\PISSS_ID_015_Approach Two Gaze-Vergence.csv\n",
      "null percent: 0.15024965955515207, exclude ID 015\n",
      "data\\PISSS_ID_016_Approach Two Gaze-Vergence.csv\n",
      "offsetx 17.558033447260303\n",
      "offsety -3.1517495933659165\n",
      "[INFO] insert status:  True\n",
      "data\\PISSS_ID_017_Approach Two Gaze-Vergence.csv\n",
      "null percent: 0.1600609756097561, exclude ID 017\n",
      "data\\PISSS_ID_018_Approach Two Gaze-Vergence.csv\n",
      "null percent: 0.3728320465480586, exclude ID 018\n",
      "data\\PISSS_ID_019_Approach Two Gaze-Vergence.csv\n",
      "offsetx 19.60812502454933\n",
      "offsety 3.3221765455172996\n",
      "[INFO] insert status:  True\n",
      "data\\PISSS_ID_020_Approach Two Gaze-Vergence.csv\n",
      "offsetx 25.167967874090536\n",
      "offsety 14.187318396923335\n",
      "[INFO] insert status:  True\n",
      "data\\PISSS_ID_021_Approach Two Gaze-Vergence.csv\n",
      "offsetx 29.592269134807314\n",
      "offsety -8.144430125967315\n",
      "[INFO] insert status:  True\n",
      "data\\PISSS_ID_022_Approach Two Gaze-Vergence.csv\n",
      "offsetx 22.634681493080137\n",
      "offsety 7.121971145266413\n",
      "[INFO] insert status:  True\n",
      "data\\PISSS_ID_023_Approach Two Gaze-Vergence.csv\n",
      "offsetx 23.71432255831068\n",
      "offsety 10.182102254729985\n",
      "[INFO] insert status:  True\n",
      "data\\PISSS_ID_024_Approach Two Gaze-Vergence.csv\n",
      "null percent: 0.4736220049425164, exclude ID 024\n",
      "data\\PISSS_ID_025_Approach Two Gaze-Vergence.csv\n",
      "offsetx 10.797517499106808\n",
      "offsety 0.06461171459737547\n",
      "[INFO] insert status:  True\n",
      "data\\PISSS_ID_026_Approach Two Gaze-Vergence.csv\n",
      "null percent: 0.3240101707228478, exclude ID 026\n",
      "data\\PISSS_ID_027_Approach Two Gaze-Vergence.csv\n",
      "offsetx 36.612640237156654\n",
      "offsety -8.207667302429238\n",
      "[INFO] insert status:  True\n",
      "data\\PISSS_ID_028_Approach Two Gaze-Vergence.csv\n",
      "null percent: 0.3034331170190496, exclude ID 028\n",
      "data\\PISSS_ID_029_Approach Two Gaze-Vergence.csv\n",
      "offsetx 23.28522298170274\n",
      "offsety 8.6494589621532\n",
      "[INFO] insert status:  True\n",
      "data\\PISSS_ID_031_Approach Two Gaze-Vergence.csv\n",
      "null percent: 0.2325909503174443, exclude ID 031\n",
      "data\\PISSS_ID_032_Approach Two Gaze-Vergence.csv\n",
      "offsetx 24.857320202335355\n",
      "offsety 3.8223673711780815\n",
      "[INFO] insert status:  True\n",
      "data\\PISSS_ID_033_Approach Two Gaze-Vergence.csv\n",
      "null percent: 0.733802055164954, exclude ID 033\n"
     ]
    }
   ],
   "source": [
    "for filename in csv_files_two:\n",
    "    trial = 2\n",
    "    df_fixation, metadata = run_one_data(filename)\n",
    "    if type(df_fixation) == int:\n",
    "        continue\n",
    "    roi = get_fixation_sequences(df_fixation)\n",
    "    df_fixation[\"roi\"] = roi\n",
    "#     df_fixation = merge_consecutive_fixations_in_same_roi(df_fixation)\n",
    "    transitions = df_fixation[\"roi\"]\n",
    "    \n",
    "    d_res = df_to_mongo_dict(df_fixation, metadata, trial)\n",
    "    mongo.insert(d_res)"
   ]
  },
  {
   "cell_type": "code",
   "execution_count": null,
   "id": "e3770e2f",
   "metadata": {},
   "outputs": [],
   "source": [
    "for filename in csv_files_one:\n",
    "    df_fixation = run_one_data(filename)"
   ]
  },
  {
   "cell_type": "code",
   "execution_count": null,
   "id": "2944e179",
   "metadata": {},
   "outputs": [],
   "source": []
  },
  {
   "cell_type": "code",
   "execution_count": 3,
   "id": "47d1e440",
   "metadata": {},
   "outputs": [],
   "source": [
    "import pair_transition_analysis"
   ]
  },
  {
   "cell_type": "code",
   "execution_count": null,
   "id": "ebc2df17",
   "metadata": {},
   "outputs": [],
   "source": [
    "import granger_causation_test\n",
    "\n",
    "from mongo_connection import Mongo_connection\n",
    "\n",
    "mongo = Mongo_connection()\n",
    "mongo.connect()\n",
    "document = mongo.find_one({\"pID\": \"001\", \"trial\": 2})\n",
    "\n",
    "d_data = document[\"data\"]\n",
    "df_data = pd.DataFrame(d_data)\n",
    "\n",
    "signal = create_signal_from_transitions(df_data)\n",
    "\n",
    "df_granger = granger_causality_test(signal)\n",
    "\n",
    "print(df_granger[df_granger[\"pval\"] < 0.05])"
   ]
  },
  {
   "cell_type": "code",
   "execution_count": null,
   "id": "fd24a2f6",
   "metadata": {},
   "outputs": [],
   "source": [
    "# colors = plt.get_cmap('RdYlGn')(np.linspace(0, 1, 6))\n",
    "colors = plt.get_cmap('hsv')(np.linspace(0, 0.9, 7))\n",
    "\n",
    "color_codes = {\n",
    "    \"rpmleft\": colors[0],\n",
    "    \"nrst\": colors[1],\n",
    "    \"asi\": colors[2],\n",
    "    \"hsi\": colors[3],\n",
    "    \"alt\": colors[4],\n",
    "    \"runway\": colors[5],\n",
    "    \"unknown\": colors[6],\n",
    "}\n",
    "\n",
    "# equal width\n",
    "fig, ax = plt.subplots(figsize=(40, 8))\n",
    "x = df_fixation[\"start\"]\n",
    "y = [1] * len(x)\n",
    "cols = [color_codes[v] for v in df_fixation['roi']]\n",
    "ax.scatter(x, y, c=cols)\n"
   ]
  }
 ],
 "metadata": {
  "kernelspec": {
   "display_name": "Python 3 (ipykernel)",
   "language": "python",
   "name": "python3"
  },
  "language_info": {
   "codemirror_mode": {
    "name": "ipython",
    "version": 3
   },
   "file_extension": ".py",
   "mimetype": "text/x-python",
   "name": "python",
   "nbconvert_exporter": "python",
   "pygments_lexer": "ipython3",
   "version": "3.7.11"
  }
 },
 "nbformat": 4,
 "nbformat_minor": 5
}
