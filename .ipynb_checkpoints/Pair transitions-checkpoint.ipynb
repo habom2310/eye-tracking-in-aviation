{
 "cells": [
  {
   "cell_type": "code",
   "execution_count": 44,
   "id": "6428d707",
   "metadata": {},
   "outputs": [],
   "source": [
    "import numpy as np\n",
    "import pandas as pd\n",
    "import cv2\n",
    "from matplotlib import pyplot as plt\n",
    "from collections import defaultdict\n",
    "import seaborn as sns\n",
    "from tqdm import tqdm\n",
    "import matplotlib.patches as mpatches\n",
    "from sklearn.cluster import DBSCAN\n",
    "import scipy\n",
    "import re\n",
    "import scipy.fftpack\n",
    "import itertools\n",
    "from statsmodels.tsa.stattools import grangercausalitytests, adfuller, kpss\n",
    "\n",
    "import eye_metrics_utils\n",
    "import data_utils\n",
    "import gaze_entropy\n",
    "import anova"
   ]
  },
  {
   "cell_type": "code",
   "execution_count": 2,
   "id": "6948b699",
   "metadata": {},
   "outputs": [],
   "source": [
    "import glob\n",
    "csv_files = glob.glob(\"data/*.csv\")\n",
    "csv_files_one = [v for v in csv_files if \"One Gaze-Vergence\" in v]\n",
    "csv_files_two = [v for v in csv_files if \"Two Gaze-Vergence\" in v]\n",
    "csv_files_three = [v for v in csv_files if \"Three Go-Around Gaze-Vergence\" in v]"
   ]
  },
  {
   "cell_type": "code",
   "execution_count": 3,
   "id": "3964353d",
   "metadata": {},
   "outputs": [],
   "source": [
    "img = cv2.imread(\"flight.jpg\")\n",
    "\n",
    "overlay = img.copy()\n",
    "thickness = -1\n",
    "\n",
    "h,w,c = img.shape"
   ]
  },
  {
   "cell_type": "code",
   "execution_count": 4,
   "id": "8016817a",
   "metadata": {},
   "outputs": [],
   "source": [
    "roi_center = {\n",
    "                \"runway\": (850, 170), \n",
    "                \"rpmleft\": (652, 438),\n",
    "                \"asi\": (695, 490), \n",
    "                \"alt\": (820, 490),\n",
    "                \"nrst\": (840, 550),\n",
    "                \"rpmright\": (1050, 438),\n",
    "             }"
   ]
  },
  {
   "cell_type": "code",
   "execution_count": 5,
   "id": "f9ec27ff",
   "metadata": {},
   "outputs": [],
   "source": [
    "# modified ROIs\n",
    "label = {\"runway\": [(0,0), (1280, 350), \"r\"],\n",
    "         \"rpmleft\": [(633, 411), (672, 451), \"r\"],\n",
    "         \"asi\": [(674, 432), (705, 525), \"r\"],\n",
    "         \"alt\": [(797, 428), (852, 523), \"r\"],\n",
    "         \"hsi\": [(742, 556), 45, \"c\"],\n",
    "         \"nrst\": [(792, 534), (876, 554), \"r\"],\n",
    "#          \"RPM_RIGHT\": [(1054, 440), 30, \"c\"]\n",
    "}\n",
    "\n",
    "encode_table = {\n",
    "    \"rpmleft\": \"P\",\n",
    "    \"nrst\": \"Q\",\n",
    "#     \"RPM_RIGHT\": \"R\",\n",
    "    \"asi\": \"B\",\n",
    "    \"hsi\": \"D\",\n",
    "    \"alt\": \"E\",\n",
    "    \"runway\": \"X\",\n",
    "    \"unknown\": \"Z\"\n",
    "}"
   ]
  },
  {
   "cell_type": "code",
   "execution_count": 6,
   "id": "bd9ac924",
   "metadata": {},
   "outputs": [],
   "source": [
    "pdict = defaultdict()\n",
    "for key in label:\n",
    "    if label[key][-1] == \"c\":\n",
    "        mask = np.zeros((h,w), np.uint8)\n",
    "        cv2.circle(mask,label[key][0], label[key][1],255,-1)\n",
    "        points = np.where(mask==255)\n",
    "        pdict[key] = points\n",
    "    elif label[key][-1] == \"r\":\n",
    "        mask = np.zeros((h,w), np.uint8)\n",
    "        cv2.rectangle(mask,label[key][0], label[key][1],255,-1)\n",
    "        points = np.where(mask==255)\n",
    "        pdict[key] = points"
   ]
  },
  {
   "cell_type": "code",
   "execution_count": 7,
   "id": "d212aa9b",
   "metadata": {},
   "outputs": [],
   "source": [
    "def distance(x, y):\n",
    "    return ((x[0]-y[0])**2 + (x[1] - y[1])**2)**0.5"
   ]
  },
  {
   "cell_type": "code",
   "execution_count": 8,
   "id": "f7fa69ef",
   "metadata": {},
   "outputs": [],
   "source": [
    "def calibration(df_fix, roi_center):\n",
    "    diffx = []\n",
    "    diffy = []\n",
    "    idxmin= []\n",
    "    for i in range(len(df_fix)):\n",
    "        x = df_fix.iloc[i]\n",
    "        m = np.argmin(x[-6:])\n",
    "        idxmin.append(m)\n",
    "        mx = list(roi_center.values())[m][0]\n",
    "        my = list(roi_center.values())[m][1]\n",
    "\n",
    "        if m == 0:\n",
    "            w = 0.3\n",
    "        else:\n",
    "            w = 1\n",
    "        diffx.append(w * (x.x - mx))\n",
    "        diffy.append(w * (x.y - my))\n",
    "    offsetx = np.mean(diffx)\n",
    "    offsety = np.mean(diffy)\n",
    "    print(\"offsetx\", offsetx)\n",
    "    print(\"offsety\", offsety)\n",
    "    \n",
    "    return offsetx, offsety"
   ]
  },
  {
   "cell_type": "code",
   "execution_count": 9,
   "id": "31b9fa7d",
   "metadata": {},
   "outputs": [],
   "source": [
    "def merge_consecutive_fixations_in_same_roi(df_fix):\n",
    "    df_fix['value_grp'] = (df_fix.roi != df_fix.roi.shift()).cumsum()\n",
    "\n",
    "    return pd.DataFrame({ 'start' : df_fix.groupby('value_grp').start.first(), \n",
    "                          'end' : df_fix.groupby('value_grp').end.last(),\n",
    "                          'duration' : df_fix.groupby('value_grp').duration.sum(), \n",
    "                          'x' : df_fix.groupby('value_grp').x.mean(),\n",
    "                          'y': df_fix.groupby('value_grp').y.mean(),\n",
    "                          'roi': df_fix.groupby('value_grp').roi.first()\n",
    "                         }).reset_index(drop=True)"
   ]
  },
  {
   "cell_type": "code",
   "execution_count": 10,
   "id": "2f019aee",
   "metadata": {},
   "outputs": [],
   "source": [
    "def get_center(clustering, data):\n",
    "    center = []\n",
    "    for i in range(len(set(clustering.labels_)) - 1):\n",
    "        xi = data[np.where(clustering.labels_ == i)]\n",
    "        cx = sum(xi.T[0])/len(xi)\n",
    "        cy = sum(xi.T[1])/len(xi)\n",
    "        center.append((cx,cy))\n",
    "    return center"
   ]
  },
  {
   "cell_type": "code",
   "execution_count": 11,
   "id": "f259508b",
   "metadata": {},
   "outputs": [],
   "source": [
    "def dist_func(point, v1, v2, type=\"c\"): #between points and rectange/cirle\n",
    "    \"\"\"\n",
    "    point: x, y\n",
    "    v1,v2: topleft,bottomright if type = \"r\"\n",
    "    v1,v2: center (x,y),  if type = \"c\"\n",
    "    \"\"\"    \n",
    "    d = 0\n",
    "    if type == \"r\":\n",
    "        dx = max(v1[0] - point[0], 0, point[0] - v2[0])\n",
    "        dy = max(v1[1] - point[1], 0, point[1] - v2[1])\n",
    "        \n",
    "        d = np.sqrt(dx*dx + dy*dy)\n",
    "    elif type == \"c\":\n",
    "        d = np.sqrt((point[0]-v1[0])**2 + (point[1]-v1[1])**2) - v2\n",
    "        \n",
    "    return d"
   ]
  },
  {
   "cell_type": "code",
   "execution_count": 12,
   "id": "1b0a3050",
   "metadata": {},
   "outputs": [],
   "source": [
    "def encode(lst_transition):\n",
    "    str_transition = \"\"\n",
    "    for v in lst_transition:\n",
    "        str_transition = str_transition + encode_table[v]\n",
    "    return str_transition\n",
    "\n",
    "def decode(str_transition):\n",
    "    lst_transition = []\n",
    "    for v in str_transition:\n",
    "        key_index = list(encode_table.values()).index(v)\n",
    "        lst_transition.append(list(encode_table.keys())[key_index])\n",
    "    return lst_transition"
   ]
  },
  {
   "cell_type": "code",
   "execution_count": 13,
   "id": "4fa4f366",
   "metadata": {},
   "outputs": [],
   "source": [
    "def run_one_data(filename):\n",
    "    print(filename)\n",
    "    df_data = pd.read_csv(filename)\n",
    "\n",
    "    df_data = data_utils.reset_time(df_data)\n",
    "    null_percent = data_utils.check_percentage_null(df_data)\n",
    "    if null_percent > 0.2:\n",
    "        print(\"null percent: {}, exclude ID {}\".format(null_percent, filename[14:17]))\n",
    "        return 0\n",
    "\n",
    "    df_fixation = eye_metrics_utils.detect_fixations(df_data)\n",
    "    df_blink = eye_metrics_utils.detect_blinks(df_data)\n",
    "    df_saccade = eye_metrics_utils.detect_saccades(df_data)\n",
    "\n",
    "    X = df_fixation[[\"x\", \"y\"]].values\n",
    "    clustering = DBSCAN(eps=20, min_samples=5, metric = distance).fit(X)\n",
    "    df_fixation[\"roi\"] = clustering.labels_\n",
    "    df_fixation = merge_consecutive_fixations_in_same_roi(df_fixation)\n",
    "\n",
    "    for k,v in roi_center.items():\n",
    "        df_fixation[\"{}\".format(k)] = df_fixation.apply(lambda x: distance(x[[\"x\",\"y\"]], v), axis=1)\n",
    "        \n",
    "        \n",
    "    X = df_fixation[[\"x\", \"y\"]].values\n",
    "    clustering = DBSCAN(eps=20, min_samples=5, metric = distance).fit(X)\n",
    "\n",
    "    color = clustering.labels_\n",
    "    df_fixation[\"roi\"] = clustering.labels_\n",
    "        \n",
    "#     img = plt.imread(\"flight.jpg\")\n",
    "#     h,w,c = img.shape\n",
    "#     fig=plt.figure(figsize=(15,8))\n",
    "#     ax=fig.add_axes([0,0,1,1])\n",
    "#     # ax.imshow(img, extent=[0, 1600, 0, 900])\n",
    "#     ax.imshow(img)\n",
    "# #     ax.scatter(cluster_center[0], cluster_center[1], s=30, marker = \"x\", c = \"red\")\n",
    "#     ax.scatter(X.T[0],X.T[1], c=color, cmap=\"jet\", alpha = 0.5)\n",
    "\n",
    "#     ax.set_xlabel('x')\n",
    "#     ax.set_ylabel('y')\n",
    "#     ax.set_title('center')\n",
    "\n",
    "    offsetx, offsety = calibration(df_fixation, roi_center)\n",
    "    df_fixation[\"x\"] = df_fixation.x - offsetx\n",
    "    df_fixation[\"y\"] = df_fixation.y - offsety\n",
    "    \n",
    "    return df_fixation"
   ]
  },
  {
   "cell_type": "code",
   "execution_count": 14,
   "id": "c347d42b",
   "metadata": {},
   "outputs": [],
   "source": [
    "def get_fixation_sequences(df_fixation, label = label, threshold = 20):\n",
    "    roi = []\n",
    "    count = 0\n",
    "    for i in range(len(df_fixation)):\n",
    "        x = df_fixation.iloc[i]\n",
    "        point = (x.x, x.y)\n",
    "        d = [dist_func(point, v[0], v[1], v[2]) for k,v in label.items()]\n",
    "        order = np.argsort(d)\n",
    "        if 0.0 not in d: # point is outside ROI\n",
    "            if d[order[0]] > threshold:\n",
    "                key = \"unknown\"\n",
    "            else:\n",
    "                key = list(pdict.keys())[order[0]]\n",
    "        else:# point falls inside a ROI\n",
    "            count += 1\n",
    "            key = list(pdict.keys())[order[0]]\n",
    "    #     print(d, order, key)\n",
    "        roi.append(key)\n",
    "    return roi"
   ]
  },
  {
   "cell_type": "code",
   "execution_count": 15,
   "id": "0dc9c5a6",
   "metadata": {},
   "outputs": [],
   "source": [
    "def create_transition_matrix(transitions):\n",
    "    m = pd.crosstab(pd.Series(list(transitions)[1:], name = \"t+1\"),\n",
    "            pd.Series(list(transitions)[:-1], name = \"t\"),normalize=1)\n",
    "        \n",
    "    return m"
   ]
  },
  {
   "cell_type": "code",
   "execution_count": 16,
   "id": "866eb672",
   "metadata": {},
   "outputs": [],
   "source": [
    "def create_transition_count_matrix(transitions):\n",
    "    m = pd.crosstab(pd.Series(list(transitions)[1:], name = \"t+1\"),\n",
    "            pd.Series(list(transitions)[:-1], name = \"t\"))\n",
    "        \n",
    "    return m"
   ]
  },
  {
   "cell_type": "code",
   "execution_count": null,
   "id": "0c85efb4",
   "metadata": {},
   "outputs": [],
   "source": []
  },
  {
   "cell_type": "code",
   "execution_count": 17,
   "id": "67f4696c",
   "metadata": {
    "scrolled": true
   },
   "outputs": [],
   "source": [
    "# print(create_transition_matrix(transitions))\n",
    "# print(create_transition_count_matrix(transitions))"
   ]
  },
  {
   "cell_type": "code",
   "execution_count": null,
   "id": "d1511d44",
   "metadata": {},
   "outputs": [],
   "source": []
  },
  {
   "cell_type": "code",
   "execution_count": 18,
   "id": "7715500a",
   "metadata": {},
   "outputs": [],
   "source": [
    "def encode_transition(transitions, label_type = \"random\"):\n",
    "    \"\"\"\n",
    "    assign a random letter for each roi\n",
    "    \"\"\"\n",
    "    letters = list(\"ABCDEFGHIJKLMNOPQRSTUVWXYZ\")\n",
    "    L = list(set(transitions))\n",
    "    print(L)\n",
    "    enc_transitions = \"\"\n",
    "    for roi in transitions:\n",
    "        enc_transitions += letters[L.index(roi)]\n",
    "        \n",
    "    return enc_transitions, L\n",
    "\n",
    "def decode_transitions(enc_transitions, list_labels):\n",
    "    letters = list(\"ABCDEFGHIJKLMNOPQRSTUVWXYZ\")\n",
    "    dec_transitions = []\n",
    "    for enc_t in enc_transitions:\n",
    "        dec_transitions.append(list_labels[letters.index(enc_t)])\n",
    "        \n",
    "    return dec_transitions"
   ]
  },
  {
   "cell_type": "code",
   "execution_count": null,
   "id": "46421afc",
   "metadata": {},
   "outputs": [],
   "source": []
  },
  {
   "cell_type": "code",
   "execution_count": 19,
   "id": "ba5706c8",
   "metadata": {},
   "outputs": [
    {
     "data": {
      "text/plain": [
       "[0, 1, 4, 7, 8]"
      ]
     },
     "execution_count": 19,
     "metadata": {},
     "output_type": "execute_result"
    }
   ],
   "source": [
    "def find_all(p, s):\n",
    "    '''Yields all the positions of\n",
    "    the pattern p in the string s.'''\n",
    "    i = s.find(p)\n",
    "    while i != -1:\n",
    "        yield i\n",
    "        i = s.find(p, i+1)\n",
    "        \n",
    "list(find_all(\"BB\", \"BBBABBABBB\"))"
   ]
  },
  {
   "cell_type": "code",
   "execution_count": 20,
   "id": "41d8fb66",
   "metadata": {},
   "outputs": [],
   "source": [
    "def find_index_of_most_subseq(enc_transition, L):\n",
    "    '''\n",
    "    enc_transitions: encoded transitions\n",
    "    '''\n",
    "    length = 2\n",
    "    subseqcount = defaultdict(int)\n",
    "\n",
    "    for i in range(len(enc_transitions)-length + 1):\n",
    "        substring = enc_transitions[i:i+length]\n",
    "        subseqcount[substring] += 1\n",
    "    max_subseq = max(subseqcount, key=subseqcount.get)\n",
    "    max5 = {k:subseqcount.get(k) for k in sorted(subseqcount, key=subseqcount.get, reverse=True)[:5]}\n",
    "    print(\"max 5 subseq:\", max5)\n",
    "    print(\"max_subseq:\", max_subseq)\n",
    "    print(\"max_subseq decode:\", decode_transitions(max_subseq, L))\n",
    "    list_idx_max_subseq = list(find_all(max_subseq, enc_transitions))\n",
    "    \n",
    "    return list_idx_max_subseq"
   ]
  },
  {
   "cell_type": "code",
   "execution_count": 21,
   "id": "022bf06d",
   "metadata": {},
   "outputs": [],
   "source": [
    "def merge_2roi_to_1roi(df_fixation, list_idx):\n",
    "    df_data = df_fixation.copy()\n",
    "    for idx in list_idx:\n",
    "        df_x = df_data.loc[idx:idx + 1]\n",
    "        start = df_x.iloc[0][\"start\"]\n",
    "        end = df_x.iloc[1][\"end\"]\n",
    "        duration = end - start\n",
    "        x = df_x.iloc[0][\"x\"]\n",
    "        y = df_x.iloc[0][\"y\"]\n",
    "        roi = \"{}_{}\".format(df_x.iloc[0]['roi'], df_x.iloc[1]['roi'])\n",
    "        \n",
    "        df_data.loc[idx] = start, end, duration, x, y, roi\n",
    "        if idx + 1 not in list_idx:\n",
    "            df_data = df_data.drop(idx + 1)\n",
    "        \n",
    "    return df_data.reset_index(drop=True)"
   ]
  },
  {
   "cell_type": "code",
   "execution_count": null,
   "id": "0d26348a",
   "metadata": {},
   "outputs": [],
   "source": []
  },
  {
   "cell_type": "code",
   "execution_count": null,
   "id": "4a4372b8",
   "metadata": {},
   "outputs": [],
   "source": []
  },
  {
   "cell_type": "code",
   "execution_count": null,
   "id": "96e333da",
   "metadata": {},
   "outputs": [],
   "source": []
  },
  {
   "cell_type": "code",
   "execution_count": 22,
   "id": "a606a3fc",
   "metadata": {
    "scrolled": false
   },
   "outputs": [],
   "source": [
    "def construct_rect_signal(start, end, signal_end, sr = 1000):\n",
    "    signal = np.zeros(int(signal_end*sr), dtype=int)\n",
    "    for i, s in enumerate(start):\n",
    "        s = int(start[i]*sr)\n",
    "        e = int(end[i]*sr)\n",
    "        signal[s:e] = 1\n",
    "        \n",
    "    return signal\n",
    "\n",
    "\n",
    "def create_rect_signal_from_transitions(df_transition, sr = 1000):\n",
    "    list_signals = {}\n",
    "    signal_end = list(df_transition[\"end\"])[-1]\n",
    "    for roi in list(set(df_transition[\"roi\"])):\n",
    "        df_x = df_transition[df_transition[\"roi\"] == roi]\n",
    "        start = df_x['start'].values\n",
    "        end = df_x['end'].values\n",
    "        signal = construct_rect_signal(start, end, signal_end, sr)\n",
    "        list_signals[roi] = signal\n",
    "        \n",
    "    return list_signals"
   ]
  },
  {
   "cell_type": "code",
   "execution_count": 23,
   "id": "2c2f0a31",
   "metadata": {},
   "outputs": [],
   "source": [
    "def construct_spike_signal(start, signal_end, sr = 1000):\n",
    "    signal = np.zeros(int(signal_end*sr), dtype=int)\n",
    "    \n",
    "    for i, s in enumerate(start):\n",
    "        s = int(start[i]*sr)\n",
    "        signal[s] = 1\n",
    "        \n",
    "    return signal\n",
    "\n",
    "def create_spike_signal_from_transitions(df_transition, sr = 1000):\n",
    "    list_signals = {}\n",
    "    signal_end = list(df_transition[\"end\"])[-1]\n",
    "    for roi in list(set(df_transition[\"roi\"])):\n",
    "        df_x = df_transition[df_transition[\"roi\"] == roi]\n",
    "        start = df_x['start'].values\n",
    "        signal = construct_spike_signal(start, signal_end, sr)\n",
    "        list_signals[roi] = signal\n",
    "        \n",
    "    return list_signals"
   ]
  },
  {
   "cell_type": "code",
   "execution_count": 24,
   "id": "d6d68e35",
   "metadata": {},
   "outputs": [],
   "source": [
    "def fft(data_buffer, fps, low, high):   \n",
    "    \"\"\"\n",
    "    calculate fft, return fft frequency in minute\n",
    "    \"\"\"\n",
    "    L = len(data_buffer)\n",
    "    freqs = float(fps) / L * np.arange(L / 2 + 1)\n",
    "    freqs_in_minute = 60. * freqs\n",
    "    raw_fft = np.fft.rfft(data_buffer)\n",
    "    fft = np.abs(raw_fft)**2\n",
    "    interest_idx = np.where((freqs_in_minute > low) & (freqs_in_minute < high))[0]\n",
    "    interest_idx_sub = interest_idx[:-1].copy() #advoid the indexing error\n",
    "    freqs_of_interest = freqs_in_minute[interest_idx_sub]\n",
    "    fft_of_interest = fft[interest_idx_sub]\n",
    "    \n",
    "    return fft_of_interest, freqs_of_interest"
   ]
  },
  {
   "cell_type": "code",
   "execution_count": 25,
   "id": "7f269eb3",
   "metadata": {
    "scrolled": false
   },
   "outputs": [
    {
     "name": "stdout",
     "output_type": "stream",
     "text": [
      "data\\PISSS_ID_011_Approach Two Gaze-Vergence.csv\n",
      "offsetx 7.027159978913913\n",
      "offsety -4.553936195791921\n",
      "level: 0\n",
      "['unknown', 'hsi', 'runway', 'alt', 'asi', 'nrst']\n",
      "enc_transitions: CDECDBCEACACDBECADFCACDFECDAECECEAECECECECECECECDCEDCEDECDCECECECECEC\n",
      "max 5 subseq: {'EC': 18, 'CE': 16, 'CD': 7, 'AC': 3, 'CA': 3}\n",
      "max_subseq: EC\n",
      "max_subseq decode: ['asi', 'runway']\n",
      "[2, 14, 24, 28, 30, 34, 36, 38, 40, 42, 44, 46, 55, 59, 61, 63, 65, 67]\n",
      "num_max_subseq: 18\n",
      "------------------------------------------------------------\n",
      "level: 1\n",
      "['unknown', 'asi_runway', 'hsi', 'runway', 'alt', 'asi', 'nrst']\n",
      "enc_transitions: DEBECDFADADECBAEGDADEGBEABBFABBBBBBBEDFEDFEBEDBBBBB\n",
      "max 5 subseq: {'BB': 11, 'BE': 4, 'DE': 3, 'DF': 3, 'AD': 3}\n",
      "max_subseq: BB\n",
      "max_subseq decode: ['asi_runway', 'asi_runway']\n",
      "[25, 29, 30, 31, 32, 33, 34, 46, 47, 48, 49]\n",
      "num_max_subseq: 11\n",
      "------------------------------------------------------------\n",
      "level: 2\n",
      "['unknown', 'asi_runway', 'asi_runway_asi_runway', 'hsi', 'runway', 'alt', 'asi', 'nrst']\n",
      "enc_transitions: EFBFDEGAEAEFDBAFHEAEFHBFACGACCCCCCFEGFEGFBFECCCC\n",
      "max 5 subseq: {'CC': 8, 'EF': 3, 'BF': 3, 'EG': 3, 'AE': 3}\n",
      "max_subseq: CC\n",
      "max_subseq decode: ['asi_runway_asi_runway', 'asi_runway_asi_runway']\n",
      "[28, 29, 30, 31, 32, 44, 45, 46]\n",
      "num_max_subseq: 8\n",
      "------------------------------------------------------------\n",
      "level: 3\n",
      "['unknown', 'asi_runway', 'asi_runway_asi_runway', 'hsi', 'runway', 'asi_runway_asi_runway_asi_runway_asi_runway', 'alt', 'asi', 'nrst']\n",
      "enc_transitions: EGBGDEHAEAEGDBAGIEAEGIBGACHAFFFFFGEHGEHGBGEFFF\n",
      "max 5 subseq: {'FF': 6, 'EG': 3, 'BG': 3, 'EH': 3, 'AE': 3}\n",
      "max_subseq: FF\n",
      "max_subseq decode: ['asi_runway_asi_runway_asi_runway_asi_runway', 'asi_runway_asi_runway_asi_runway_asi_runway']\n",
      "[28, 29, 30, 31, 43, 44]\n",
      "num_max_subseq: 6\n",
      "------------------------------------------------------------\n",
      "level: 4\n",
      "['unknown', 'asi_runway', 'asi_runway_asi_runway', 'asi_runway_asi_runway_asi_runway_asi_runway_asi_runway_asi_runway_asi_runway_asi_runway', 'hsi', 'runway', 'alt', 'asi', 'nrst']\n",
      "enc_transitions: FGBGEFHAFAFGEBAGIFAFGIBGACHADDDDGFHGFHGBGFDD\n",
      "max 5 subseq: {'DD': 4, 'FG': 3, 'BG': 3, 'FH': 3, 'AF': 3}\n",
      "max_subseq: DD\n",
      "max_subseq decode: ['asi_runway_asi_runway_asi_runway_asi_runway_asi_runway_asi_runway_asi_runway_asi_runway', 'asi_runway_asi_runway_asi_runway_asi_runway_asi_runway_asi_runway_asi_runway_asi_runway']\n",
      "[28, 29, 30, 42]\n",
      "num_max_subseq: 4\n",
      "------------------------------------------------------------\n",
      "level: 5\n",
      "['unknown', 'asi_runway', 'asi_runway_asi_runway', 'hsi', 'runway', 'alt', 'asi', 'nrst', 'asi_runway_asi_runway_asi_runway_asi_runway_asi_runway_asi_runway_asi_runway_asi_runway_asi_runway_asi_runway_asi_runway_asi_runway_asi_runway_asi_runway_asi_runway_asi_runway']\n",
      "enc_transitions: EFBFDEGAEAEFDBAFHEAEFHBFACGAIIIFEGFEGFBFEI\n",
      "max 5 subseq: {'EF': 3, 'BF': 3, 'EG': 3, 'AE': 3, 'FE': 3}\n",
      "max_subseq: EF\n",
      "max_subseq decode: ['runway', 'alt']\n",
      "[0, 10, 19]\n",
      "num_max_subseq: 3\n",
      "------------------------------------------------------------\n"
     ]
    }
   ],
   "source": [
    "filename = csv_files_two[10]\n",
    "df_fixation = run_one_data(filename)\n",
    "roi = get_fixation_sequences(df_fixation)\n",
    "df_fixation[\"roi\"] = roi\n",
    "df_fixation = merge_consecutive_fixations_in_same_roi(df_fixation)\n",
    "transitions = df_fixation[\"roi\"]\n",
    "\n",
    "level = 0\n",
    "num_max_subseq = 100\n",
    "list_df_transition_merged = []\n",
    "list_transitions = []\n",
    "df_transition_merged = df_fixation.copy()\n",
    "list_df_transition_merged.append(df_transition_merged)\n",
    "\n",
    "while num_max_subseq > 3:\n",
    "    print(\"level:\",level)\n",
    "    enc_transitions, L = encode_transition(transitions)\n",
    "    print(\"enc_transitions:\", enc_transitions)\n",
    "    list_idx_max_subseq = find_index_of_most_subseq(enc_transitions, L)\n",
    "    print(list_idx_max_subseq)\n",
    "    num_max_subseq = len(list_idx_max_subseq)\n",
    "    print(\"num_max_subseq:\",num_max_subseq)\n",
    "    df_transition_merged = merge_2roi_to_1roi(df_transition_merged, list_idx_max_subseq)\n",
    "    list_df_transition_merged.append(df_transition_merged)\n",
    "    transitions = df_transition_merged[\"roi\"]\n",
    "    list_transitions.append(transitions)\n",
    "    level += 1\n",
    "    print(\"------------------------------------------------------------\")"
   ]
  },
  {
   "cell_type": "code",
   "execution_count": 26,
   "id": "2fe7f369",
   "metadata": {},
   "outputs": [],
   "source": [
    "df_transitions = list_df_transition_merged[1]\n",
    "sr = 100\n",
    "roi = \"asi_runway\""
   ]
  },
  {
   "cell_type": "markdown",
   "id": "55607e43",
   "metadata": {},
   "source": [
    "## Rect signal"
   ]
  },
  {
   "cell_type": "code",
   "execution_count": 27,
   "id": "5d63d9da",
   "metadata": {},
   "outputs": [
    {
     "data": {
      "text/plain": [
       "{'unknown': array([0, 0, 0, ..., 0, 0, 0]),\n",
       " 'asi_runway': array([0, 0, 0, ..., 1, 1, 1]),\n",
       " 'hsi': array([0, 0, 0, ..., 0, 0, 0]),\n",
       " 'runway': array([0, 0, 0, ..., 0, 0, 0]),\n",
       " 'alt': array([0, 0, 0, ..., 0, 0, 0]),\n",
       " 'asi': array([0, 0, 0, ..., 0, 0, 0]),\n",
       " 'nrst': array([0, 0, 0, ..., 0, 0, 0])}"
      ]
     },
     "execution_count": 27,
     "metadata": {},
     "output_type": "execute_result"
    }
   ],
   "source": [
    "rect_signals = create_rect_signal_from_transitions(df_transitions, sr)\n",
    "rect_signals"
   ]
  },
  {
   "cell_type": "code",
   "execution_count": null,
   "id": "6bceb7b2",
   "metadata": {},
   "outputs": [],
   "source": []
  },
  {
   "cell_type": "code",
   "execution_count": 28,
   "id": "c04080c4",
   "metadata": {},
   "outputs": [
    {
     "name": "stdout",
     "output_type": "stream",
     "text": [
      "99.99619055946343\n"
     ]
    }
   ],
   "source": [
    "data = rect_signals[roi]\n",
    "L = len(data)\n",
    "end = df_transitions[\"end\"].values[-1]\n",
    "fps = float(L) / end\n",
    "print(fps)\n",
    "fft_of_interest, freqs_of_interest = fft(data, fps, 1, 60)"
   ]
  },
  {
   "cell_type": "code",
   "execution_count": 29,
   "id": "a736291c",
   "metadata": {},
   "outputs": [],
   "source": [
    "# s = np.fft.ifft(fft_of_interest)\n",
    "# plt.plot(np.arange(len(s)), s.real, label='real')"
   ]
  },
  {
   "cell_type": "code",
   "execution_count": 30,
   "id": "0010bd47",
   "metadata": {},
   "outputs": [
    {
     "data": {
      "text/plain": [
       "Text(0.5, 0.98, 'filename: data\\\\PISSS_ID_011_Approach Two Gaze-Vergence.csv, roi: asi_runway')"
      ]
     },
     "execution_count": 30,
     "metadata": {},
     "output_type": "execute_result"
    },
    {
     "data": {
      "image/png": "[encoded data removed]",
      "text/plain": [
       "<Figure size 1080x576 with 2 Axes>"
      ]
     },
     "metadata": {
      "needs_background": "light"
     },
     "output_type": "display_data"
    }
   ],
   "source": [
    "fig, axs = plt.subplots(ncols=2, figsize=(15,8))\n",
    "axs[0].plot(data)\n",
    "axs[0].set_xlabel(f\"time (sampling rate = {sr} Hz)\")\n",
    "\n",
    "axs[1].plot(freqs_of_interest, fft_of_interest)\n",
    "axs[1].set_ylabel(\"magnitude\")\n",
    "axs[1].set_xlabel(\"freq (per minute)\")\n",
    "fig.suptitle(f\"filename: {filename}, roi: {roi}\" )"
   ]
  },
  {
   "cell_type": "markdown",
   "id": "50bc70b8",
   "metadata": {},
   "source": [
    "## Spike signal"
   ]
  },
  {
   "cell_type": "code",
   "execution_count": 31,
   "id": "e97672e6",
   "metadata": {},
   "outputs": [
    {
     "data": {
      "text/plain": [
       "{'unknown': array([0, 0, 0, ..., 0, 0, 0]),\n",
       " 'asi_runway': array([0, 0, 0, ..., 0, 0, 0]),\n",
       " 'hsi': array([0, 0, 0, ..., 0, 0, 0]),\n",
       " 'runway': array([0, 0, 0, ..., 0, 0, 0]),\n",
       " 'alt': array([0, 0, 0, ..., 0, 0, 0]),\n",
       " 'asi': array([0, 0, 0, ..., 0, 0, 0]),\n",
       " 'nrst': array([0, 0, 0, ..., 0, 0, 0])}"
      ]
     },
     "execution_count": 31,
     "metadata": {},
     "output_type": "execute_result"
    }
   ],
   "source": [
    "spike_signals = create_spike_signal_from_transitions(df_transitions, sr)\n",
    "spike_signals"
   ]
  },
  {
   "cell_type": "code",
   "execution_count": 32,
   "id": "98b1f88f",
   "metadata": {},
   "outputs": [
    {
     "name": "stdout",
     "output_type": "stream",
     "text": [
      "99.99619055946343\n"
     ]
    }
   ],
   "source": [
    "data = spike_signals[roi]\n",
    "L = len(data)\n",
    "end = df_transitions[\"end\"].values[-1]\n",
    "fps = float(L) / end\n",
    "print(fps)\n",
    "fft_of_interest, freqs_of_interest = fft(data, fps, 1, 60)"
   ]
  },
  {
   "cell_type": "code",
   "execution_count": 33,
   "id": "38bf8ef1",
   "metadata": {},
   "outputs": [
    {
     "data": {
      "text/plain": [
       "Text(0.5, 0.98, 'filename: data\\\\PISSS_ID_011_Approach Two Gaze-Vergence.csv, roi: asi_runway')"
      ]
     },
     "execution_count": 33,
     "metadata": {},
     "output_type": "execute_result"
    },
    {
     "data": {
      "image/png": "[encoded data removed]",
      "text/plain": [
       "<Figure size 1080x576 with 2 Axes>"
      ]
     },
     "metadata": {
      "needs_background": "light"
     },
     "output_type": "display_data"
    }
   ],
   "source": [
    "fig, axs = plt.subplots(ncols=2, figsize=(15,8))\n",
    "axs[0].plot(data)\n",
    "axs[0].set_xlabel(f\"time (sampling rate = {sr} Hz)\")\n",
    "\n",
    "axs[1].plot(freqs_of_interest, fft_of_interest)\n",
    "axs[1].set_ylabel(\"magnitude\")\n",
    "axs[1].set_xlabel(\"freq (per minute)\")\n",
    "fig.suptitle(f\"filename: {filename}, roi: {roi}\" )"
   ]
  },
  {
   "cell_type": "code",
   "execution_count": null,
   "id": "aba180e9",
   "metadata": {},
   "outputs": [],
   "source": []
  },
  {
   "cell_type": "code",
   "execution_count": null,
   "id": "65e2c5b1",
   "metadata": {},
   "outputs": [],
   "source": []
  },
  {
   "cell_type": "code",
   "execution_count": null,
   "id": "f86f88da",
   "metadata": {},
   "outputs": [],
   "source": []
  },
  {
   "cell_type": "code",
   "execution_count": 34,
   "id": "caec566d",
   "metadata": {},
   "outputs": [
    {
     "data": {
      "text/plain": [
       "['unknown', 'asi_runway', 'hsi', 'runway', 'alt', 'asi', 'nrst']"
      ]
     },
     "execution_count": 34,
     "metadata": {},
     "output_type": "execute_result"
    }
   ],
   "source": [
    "rois = list(rect_signals.keys())\n",
    "rois"
   ]
  },
  {
   "cell_type": "code",
   "execution_count": 35,
   "id": "432f62ff",
   "metadata": {},
   "outputs": [],
   "source": [
    "list_perm = list(itertools.permutations(rois, 2))"
   ]
  },
  {
   "cell_type": "code",
   "execution_count": 36,
   "id": "fc6cc7d9",
   "metadata": {},
   "outputs": [
    {
     "data": {
      "text/plain": [
       "['unknown', 'asi_runway']"
      ]
     },
     "execution_count": 36,
     "metadata": {},
     "output_type": "execute_result"
    }
   ],
   "source": [
    "list(list_perm[0])"
   ]
  },
  {
   "cell_type": "code",
   "execution_count": 37,
   "id": "0334d111",
   "metadata": {},
   "outputs": [],
   "source": [
    "df_granger = pd.DataFrame(columns = [\"roi1\", \"roi2\", \"lag\", \"pval\"])\n",
    "for perm in list_perm:\n",
    "    data = pd.DataFrame(rect_signals)[list(perm)]\n",
    "    maxlag = 4\n",
    "    x = grangercausalitytests(data, maxlag=maxlag, verbose=False)\n",
    "    lroi1 = [perm[0]] * maxlag\n",
    "    lroi2 = [perm[1]] * maxlag\n",
    "    llag = np.arange(maxlag)\n",
    "    lpval = []\n",
    "    for i in range(1, maxlag + 1):\n",
    "        p_val = x[i][0][\"ssr_ftest\"][1]\n",
    "        lpval.append(p_val)\n",
    "        \n",
    "    df_x = pd.DataFrame({\"roi1\": lroi1,\n",
    "                        \"roi2\": lroi2,\n",
    "                        \"lag\": llag,\n",
    "                        \"pval\": lpval})\n",
    "    df_granger = pd.concat([df_granger, df_x], ignore_index=True)\n",
    "    "
   ]
  },
  {
   "cell_type": "code",
   "execution_count": 38,
   "id": "5737c62f",
   "metadata": {},
   "outputs": [
    {
     "data": {
      "text/html": [
       "<div>\n",
       "<style scoped>\n",
       "    .dataframe tbody tr th:only-of-type {\n",
       "        vertical-align: middle;\n",
       "    }\n",
       "\n",
       "    .dataframe tbody tr th {\n",
       "        vertical-align: top;\n",
       "    }\n",
       "\n",
       "    .dataframe thead th {\n",
       "        text-align: right;\n",
       "    }\n",
       "</style>\n",
       "<table border=\"1\" class=\"dataframe\">\n",
       "  <thead>\n",
       "    <tr style=\"text-align: right;\">\n",
       "      <th></th>\n",
       "      <th>roi1</th>\n",
       "      <th>roi2</th>\n",
       "      <th>lag</th>\n",
       "      <th>pval</th>\n",
       "    </tr>\n",
       "  </thead>\n",
       "  <tbody>\n",
       "    <tr>\n",
       "      <th>0</th>\n",
       "      <td>unknown</td>\n",
       "      <td>asi_runway</td>\n",
       "      <td>0</td>\n",
       "      <td>0.005034</td>\n",
       "    </tr>\n",
       "    <tr>\n",
       "      <th>1</th>\n",
       "      <td>unknown</td>\n",
       "      <td>asi_runway</td>\n",
       "      <td>1</td>\n",
       "      <td>0.017937</td>\n",
       "    </tr>\n",
       "    <tr>\n",
       "      <th>2</th>\n",
       "      <td>unknown</td>\n",
       "      <td>asi_runway</td>\n",
       "      <td>2</td>\n",
       "      <td>0.041641</td>\n",
       "    </tr>\n",
       "    <tr>\n",
       "      <th>32</th>\n",
       "      <td>asi_runway</td>\n",
       "      <td>runway</td>\n",
       "      <td>0</td>\n",
       "      <td>0.000322</td>\n",
       "    </tr>\n",
       "    <tr>\n",
       "      <th>33</th>\n",
       "      <td>asi_runway</td>\n",
       "      <td>runway</td>\n",
       "      <td>1</td>\n",
       "      <td>0.001445</td>\n",
       "    </tr>\n",
       "    <tr>\n",
       "      <th>34</th>\n",
       "      <td>asi_runway</td>\n",
       "      <td>runway</td>\n",
       "      <td>2</td>\n",
       "      <td>0.004174</td>\n",
       "    </tr>\n",
       "    <tr>\n",
       "      <th>35</th>\n",
       "      <td>asi_runway</td>\n",
       "      <td>runway</td>\n",
       "      <td>3</td>\n",
       "      <td>0.009590</td>\n",
       "    </tr>\n",
       "    <tr>\n",
       "      <th>36</th>\n",
       "      <td>asi_runway</td>\n",
       "      <td>alt</td>\n",
       "      <td>0</td>\n",
       "      <td>0.023918</td>\n",
       "    </tr>\n",
       "    <tr>\n",
       "      <th>40</th>\n",
       "      <td>asi_runway</td>\n",
       "      <td>asi</td>\n",
       "      <td>0</td>\n",
       "      <td>0.042707</td>\n",
       "    </tr>\n",
       "    <tr>\n",
       "      <th>76</th>\n",
       "      <td>runway</td>\n",
       "      <td>asi_runway</td>\n",
       "      <td>0</td>\n",
       "      <td>0.000048</td>\n",
       "    </tr>\n",
       "    <tr>\n",
       "      <th>77</th>\n",
       "      <td>runway</td>\n",
       "      <td>asi_runway</td>\n",
       "      <td>1</td>\n",
       "      <td>0.000235</td>\n",
       "    </tr>\n",
       "    <tr>\n",
       "      <th>78</th>\n",
       "      <td>runway</td>\n",
       "      <td>asi_runway</td>\n",
       "      <td>2</td>\n",
       "      <td>0.000736</td>\n",
       "    </tr>\n",
       "    <tr>\n",
       "      <th>79</th>\n",
       "      <td>runway</td>\n",
       "      <td>asi_runway</td>\n",
       "      <td>3</td>\n",
       "      <td>0.001832</td>\n",
       "    </tr>\n",
       "    <tr>\n",
       "      <th>100</th>\n",
       "      <td>alt</td>\n",
       "      <td>asi_runway</td>\n",
       "      <td>0</td>\n",
       "      <td>0.000145</td>\n",
       "    </tr>\n",
       "    <tr>\n",
       "      <th>101</th>\n",
       "      <td>alt</td>\n",
       "      <td>asi_runway</td>\n",
       "      <td>1</td>\n",
       "      <td>0.000632</td>\n",
       "    </tr>\n",
       "    <tr>\n",
       "      <th>102</th>\n",
       "      <td>alt</td>\n",
       "      <td>asi_runway</td>\n",
       "      <td>2</td>\n",
       "      <td>0.001786</td>\n",
       "    </tr>\n",
       "    <tr>\n",
       "      <th>103</th>\n",
       "      <td>alt</td>\n",
       "      <td>asi_runway</td>\n",
       "      <td>3</td>\n",
       "      <td>0.004028</td>\n",
       "    </tr>\n",
       "    <tr>\n",
       "      <th>124</th>\n",
       "      <td>asi</td>\n",
       "      <td>asi_runway</td>\n",
       "      <td>0</td>\n",
       "      <td>0.018490</td>\n",
       "    </tr>\n",
       "  </tbody>\n",
       "</table>\n",
       "</div>"
      ],
      "text/plain": [
       "           roi1        roi2 lag      pval\n",
       "0       unknown  asi_runway   0  0.005034\n",
       "1       unknown  asi_runway   1  0.017937\n",
       "2       unknown  asi_runway   2  0.041641\n",
       "32   asi_runway      runway   0  0.000322\n",
       "33   asi_runway      runway   1  0.001445\n",
       "34   asi_runway      runway   2  0.004174\n",
       "35   asi_runway      runway   3  0.009590\n",
       "36   asi_runway         alt   0  0.023918\n",
       "40   asi_runway         asi   0  0.042707\n",
       "76       runway  asi_runway   0  0.000048\n",
       "77       runway  asi_runway   1  0.000235\n",
       "78       runway  asi_runway   2  0.000736\n",
       "79       runway  asi_runway   3  0.001832\n",
       "100         alt  asi_runway   0  0.000145\n",
       "101         alt  asi_runway   1  0.000632\n",
       "102         alt  asi_runway   2  0.001786\n",
       "103         alt  asi_runway   3  0.004028\n",
       "124         asi  asi_runway   0  0.018490"
      ]
     },
     "execution_count": 38,
     "metadata": {},
     "output_type": "execute_result"
    }
   ],
   "source": [
    "df_granger[df_granger[\"pval\"] < 0.05]"
   ]
  },
  {
   "cell_type": "code",
   "execution_count": 39,
   "id": "5728354a",
   "metadata": {},
   "outputs": [],
   "source": [
    "data = pd.DataFrame(rect_signals)"
   ]
  },
  {
   "cell_type": "code",
   "execution_count": 40,
   "id": "c4c90f10",
   "metadata": {},
   "outputs": [
    {
     "data": {
      "text/html": [
       "<div>\n",
       "<style scoped>\n",
       "    .dataframe tbody tr th:only-of-type {\n",
       "        vertical-align: middle;\n",
       "    }\n",
       "\n",
       "    .dataframe tbody tr th {\n",
       "        vertical-align: top;\n",
       "    }\n",
       "\n",
       "    .dataframe thead th {\n",
       "        text-align: right;\n",
       "    }\n",
       "</style>\n",
       "<table border=\"1\" class=\"dataframe\">\n",
       "  <thead>\n",
       "    <tr style=\"text-align: right;\">\n",
       "      <th></th>\n",
       "      <th>unknown</th>\n",
       "      <th>asi_runway</th>\n",
       "      <th>hsi</th>\n",
       "      <th>runway</th>\n",
       "      <th>alt</th>\n",
       "      <th>asi</th>\n",
       "      <th>nrst</th>\n",
       "    </tr>\n",
       "  </thead>\n",
       "  <tbody>\n",
       "    <tr>\n",
       "      <th>0</th>\n",
       "      <td>0</td>\n",
       "      <td>0</td>\n",
       "      <td>0</td>\n",
       "      <td>0</td>\n",
       "      <td>0</td>\n",
       "      <td>0</td>\n",
       "      <td>0</td>\n",
       "    </tr>\n",
       "    <tr>\n",
       "      <th>1</th>\n",
       "      <td>0</td>\n",
       "      <td>0</td>\n",
       "      <td>0</td>\n",
       "      <td>0</td>\n",
       "      <td>0</td>\n",
       "      <td>0</td>\n",
       "      <td>0</td>\n",
       "    </tr>\n",
       "    <tr>\n",
       "      <th>2</th>\n",
       "      <td>0</td>\n",
       "      <td>0</td>\n",
       "      <td>0</td>\n",
       "      <td>0</td>\n",
       "      <td>0</td>\n",
       "      <td>0</td>\n",
       "      <td>0</td>\n",
       "    </tr>\n",
       "    <tr>\n",
       "      <th>3</th>\n",
       "      <td>0</td>\n",
       "      <td>0</td>\n",
       "      <td>0</td>\n",
       "      <td>0</td>\n",
       "      <td>0</td>\n",
       "      <td>0</td>\n",
       "      <td>0</td>\n",
       "    </tr>\n",
       "    <tr>\n",
       "      <th>4</th>\n",
       "      <td>0</td>\n",
       "      <td>0</td>\n",
       "      <td>0</td>\n",
       "      <td>0</td>\n",
       "      <td>0</td>\n",
       "      <td>0</td>\n",
       "      <td>0</td>\n",
       "    </tr>\n",
       "    <tr>\n",
       "      <th>...</th>\n",
       "      <td>...</td>\n",
       "      <td>...</td>\n",
       "      <td>...</td>\n",
       "      <td>...</td>\n",
       "      <td>...</td>\n",
       "      <td>...</td>\n",
       "      <td>...</td>\n",
       "    </tr>\n",
       "    <tr>\n",
       "      <th>15393</th>\n",
       "      <td>0</td>\n",
       "      <td>1</td>\n",
       "      <td>0</td>\n",
       "      <td>0</td>\n",
       "      <td>0</td>\n",
       "      <td>0</td>\n",
       "      <td>0</td>\n",
       "    </tr>\n",
       "    <tr>\n",
       "      <th>15394</th>\n",
       "      <td>0</td>\n",
       "      <td>1</td>\n",
       "      <td>0</td>\n",
       "      <td>0</td>\n",
       "      <td>0</td>\n",
       "      <td>0</td>\n",
       "      <td>0</td>\n",
       "    </tr>\n",
       "    <tr>\n",
       "      <th>15395</th>\n",
       "      <td>0</td>\n",
       "      <td>1</td>\n",
       "      <td>0</td>\n",
       "      <td>0</td>\n",
       "      <td>0</td>\n",
       "      <td>0</td>\n",
       "      <td>0</td>\n",
       "    </tr>\n",
       "    <tr>\n",
       "      <th>15396</th>\n",
       "      <td>0</td>\n",
       "      <td>1</td>\n",
       "      <td>0</td>\n",
       "      <td>0</td>\n",
       "      <td>0</td>\n",
       "      <td>0</td>\n",
       "      <td>0</td>\n",
       "    </tr>\n",
       "    <tr>\n",
       "      <th>15397</th>\n",
       "      <td>0</td>\n",
       "      <td>1</td>\n",
       "      <td>0</td>\n",
       "      <td>0</td>\n",
       "      <td>0</td>\n",
       "      <td>0</td>\n",
       "      <td>0</td>\n",
       "    </tr>\n",
       "  </tbody>\n",
       "</table>\n",
       "<p>15398 rows × 7 columns</p>\n",
       "</div>"
      ],
      "text/plain": [
       "       unknown  asi_runway  hsi  runway  alt  asi  nrst\n",
       "0            0           0    0       0    0    0     0\n",
       "1            0           0    0       0    0    0     0\n",
       "2            0           0    0       0    0    0     0\n",
       "3            0           0    0       0    0    0     0\n",
       "4            0           0    0       0    0    0     0\n",
       "...        ...         ...  ...     ...  ...  ...   ...\n",
       "15393        0           1    0       0    0    0     0\n",
       "15394        0           1    0       0    0    0     0\n",
       "15395        0           1    0       0    0    0     0\n",
       "15396        0           1    0       0    0    0     0\n",
       "15397        0           1    0       0    0    0     0\n",
       "\n",
       "[15398 rows x 7 columns]"
      ]
     },
     "execution_count": 40,
     "metadata": {},
     "output_type": "execute_result"
    }
   ],
   "source": [
    "data"
   ]
  },
  {
   "cell_type": "code",
   "execution_count": 45,
   "id": "5c4bb91b",
   "metadata": {},
   "outputs": [],
   "source": [
    "def adf_test(df):\n",
    "    result = adfuller(df.values)\n",
    "    print('ADF Statistics: %f' % result[0])\n",
    "    print('p-value: %f' % result[1])\n",
    "    print('Critical values:')\n",
    "    for key, value in result[4].items():\n",
    "        print('\\t%s: %.3f' % (key, value))\n",
    "\n",
    "def kpss_test(df):    \n",
    "    statistic, p_value, n_lags, critical_values = kpss(df.values)\n",
    "    \n",
    "    print(f'KPSS Statistic: {statistic}')\n",
    "    print(f'p-value: {p_value}')\n",
    "    print(f'num lags: {n_lags}')\n",
    "    print('Critial Values:')\n",
    "    for key, value in critical_values.items():\n",
    "        print(f'   {key} : {value}')"
   ]
  },
  {
   "cell_type": "code",
   "execution_count": 46,
   "id": "c8c1e747",
   "metadata": {},
   "outputs": [
    {
     "name": "stdout",
     "output_type": "stream",
     "text": [
      "ADF Statistics: -7.743605\n",
      "p-value: 0.000000\n",
      "Critical values:\n",
      "\t1%: -3.431\n",
      "\t5%: -2.862\n",
      "\t10%: -2.567\n"
     ]
    }
   ],
   "source": [
    "adf_test(data['asi'])"
   ]
  },
  {
   "cell_type": "code",
   "execution_count": 138,
   "id": "bf0fd189",
   "metadata": {},
   "outputs": [
    {
     "name": "stdout",
     "output_type": "stream",
     "text": [
      "\n",
      "Granger Causality\n",
      "number of lags (no zero) 1\n",
      "ssr based F test:         F=2.3134  , p=0.1283  , df_denom=14894, df_num=1\n",
      "ssr based chi2 test:   chi2=2.3139  , p=0.1282  , df=1\n",
      "likelihood ratio test: chi2=2.3137  , p=0.1282  , df=1\n",
      "parameter F test:         F=2.3134  , p=0.1283  , df_denom=14894, df_num=1\n",
      "\n",
      "Granger Causality\n",
      "number of lags (no zero) 2\n",
      "ssr based F test:         F=1.1841  , p=0.3061  , df_denom=14891, df_num=2\n",
      "ssr based chi2 test:   chi2=2.3690  , p=0.3059  , df=2\n",
      "likelihood ratio test: chi2=2.3688  , p=0.3059  , df=2\n",
      "parameter F test:         F=1.1841  , p=0.3061  , df_denom=14891, df_num=2\n",
      "\n",
      "Granger Causality\n",
      "number of lags (no zero) 3\n",
      "ssr based F test:         F=0.8083  , p=0.4891  , df_denom=14888, df_num=3\n",
      "ssr based chi2 test:   chi2=2.4259  , p=0.4888  , df=3\n",
      "likelihood ratio test: chi2=2.4257  , p=0.4889  , df=3\n",
      "parameter F test:         F=0.8083  , p=0.4891  , df_denom=14888, df_num=3\n",
      "\n",
      "Granger Causality\n",
      "number of lags (no zero) 4\n",
      "ssr based F test:         F=0.6208  , p=0.6476  , df_denom=14885, df_num=4\n",
      "ssr based chi2 test:   chi2=2.4848  , p=0.6474  , df=4\n",
      "likelihood ratio test: chi2=2.4846  , p=0.6474  , df=4\n",
      "parameter F test:         F=0.6208  , p=0.6476  , df_denom=14885, df_num=4\n"
     ]
    },
    {
     "data": {
      "text/plain": [
       "0.6476410843913205"
      ]
     },
     "execution_count": 138,
     "metadata": {},
     "output_type": "execute_result"
    }
   ],
   "source": [
    "data = pd.DataFrame(rect_signals)\n",
    "a = grangercausalitytests(data, maxlag=4)\n"
   ]
  },
  {
   "cell_type": "code",
   "execution_count": 102,
   "id": "cc108467",
   "metadata": {},
   "outputs": [
    {
     "data": {
      "text/plain": [
       "{'ssr_ftest': (0.4773009498078963, 0.7524529720624914, 14885.0, 4),\n",
       " 'ssr_chi2test': (1.910358171700049, 0.7522419290622152, 4),\n",
       " 'lrtest': (1.9102356674848124, 0.7522644390993285, 4),\n",
       " 'params_ftest': (0.47730094981428645, 0.7524529720576315, 14885.0, 4.0)}"
      ]
     },
     "execution_count": 102,
     "metadata": {},
     "output_type": "execute_result"
    }
   ],
   "source": [
    "a[4][0]"
   ]
  },
  {
   "cell_type": "code",
   "execution_count": null,
   "id": "abae89a7",
   "metadata": {},
   "outputs": [],
   "source": []
  },
  {
   "cell_type": "code",
   "execution_count": 31,
   "id": "fd24a2f6",
   "metadata": {},
   "outputs": [
    {
     "data": {
      "text/plain": [
       "<matplotlib.collections.PathCollection at 0x1ee027fc6c8>"
      ]
     },
     "execution_count": 31,
     "metadata": {},
     "output_type": "execute_result"
    },
    {
     "data": {
      "image/png": "[encoded data removed]",
      "text/plain": [
       "<Figure size 2880x576 with 1 Axes>"
      ]
     },
     "metadata": {
      "needs_background": "light"
     },
     "output_type": "display_data"
    }
   ],
   "source": [
    "# colors = plt.get_cmap('RdYlGn')(np.linspace(0, 1, 6))\n",
    "colors = plt.get_cmap('hsv')(np.linspace(0, 0.9, 7))\n",
    "\n",
    "color_codes = {\n",
    "    \"rpmleft\": colors[0],\n",
    "    \"nrst\": colors[1],\n",
    "    \"asi\": colors[2],\n",
    "    \"hsi\": colors[3],\n",
    "    \"alt\": colors[4],\n",
    "    \"runway\": colors[5],\n",
    "    \"unknown\": colors[6],\n",
    "}\n",
    "\n",
    "# equal width\n",
    "fig, ax = plt.subplots(figsize=(40, 8))\n",
    "x = df_fixation[\"start\"]\n",
    "y = [1] * len(x)\n",
    "cols = [color_codes[v] for v in df_fixation['roi']]\n",
    "ax.scatter(x, y, c=cols)\n"
   ]
  }
 ],
 "metadata": {
  "kernelspec": {
   "display_name": "Python 3 (ipykernel)",
   "language": "python",
   "name": "python3"
  },
  "language_info": {
   "codemirror_mode": {
    "name": "ipython",
    "version": 3
   },
   "file_extension": ".py",
   "mimetype": "text/x-python",
   "name": "python",
   "nbconvert_exporter": "python",
   "pygments_lexer": "ipython3",
   "version": "3.7.11"
  }
 },
 "nbformat": 4,
 "nbformat_minor": 5
}
