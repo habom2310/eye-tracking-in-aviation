{
 "cells": [
  {
   "cell_type": "markdown",
   "metadata": {},
   "source": [
    "# Import"
   ]
  },
  {
   "cell_type": "code",
   "execution_count": 1,
   "metadata": {},
   "outputs": [],
   "source": [
    "import pandas as pd\n",
    "import numpy as np\n",
    "import pygaze\n",
    "import matplotlib.pyplot as plt\n",
    "import matplotlib.image as mpimg\n",
    "import scipy as sp\n",
    "import glob\n",
    "from tqdm import tqdm"
   ]
  },
  {
   "cell_type": "code",
   "execution_count": null,
   "metadata": {},
   "outputs": [],
   "source": [
    "pygaze.__version__"
   ]
  },
  {
   "cell_type": "markdown",
   "metadata": {},
   "source": [
    "# Fixation and saccade detection"
   ]
  },
  {
   "cell_type": "code",
   "execution_count": null,
   "metadata": {},
   "outputs": [],
   "source": [
    "df_data = pd.read_csv(\"data/PISSS_ID_003_Approach Three Go-Around Gaze-Left.csv\")"
   ]
  },
  {
   "cell_type": "code",
   "execution_count": null,
   "metadata": {},
   "outputs": [],
   "source": [
    "df_not_null = df_data[df_data[\"Display\"] == 1]"
   ]
  },
  {
   "cell_type": "code",
   "execution_count": null,
   "metadata": {},
   "outputs": [],
   "source": [
    "class Point:\n",
    "    \"\"\"\n",
    "    class to define a Point\n",
    "    \"\"\"\n",
    "    def __init__(self,x,y):\n",
    "        self.x = x\n",
    "        self.y = y"
   ]
  },
  {
   "cell_type": "code",
   "execution_count": null,
   "metadata": {},
   "outputs": [],
   "source": [
    "def calculate_gaze_distance(first_point, destination_point):\n",
    "    \"\"\"\n",
    "    calculate gaze distance between 2 points\n",
    "\n",
    "    Arguments:\n",
    "        first_point (Point): first point\n",
    "        destination_point (Point): second point\n",
    "\n",
    "    Return:\n",
    "        (float): distance between 2 points\n",
    "    \"\"\"\n",
    "    return np.sqrt((first_point.x - destination_point.x)**2 + (first_point.y - destination_point.y)**2)\n",
    "\n",
    "def distance_to_gaze_angle(distance_to_view, gaze_distance):\n",
    "    \"\"\"\n",
    "    convert gaze distance to gaze angle\n",
    "    assume that distances from pilot's eyes to first point and to destionation point are equal\n",
    "\n",
    "    Arguments:\n",
    "        distance_to_view (float): distance from pilot's eyes to the control\n",
    "        gaze_distance (float): gaze distance\n",
    "\n",
    "    Return:\n",
    "        (float): angle of the gaze between 2 points\n",
    "\n",
    "    \"\"\"\n",
    "    return np.arccos(1 - (1/2)*((gaze_distance/distance_to_view)**2))"
   ]
  },
  {
   "cell_type": "code",
   "execution_count": null,
   "metadata": {},
   "outputs": [],
   "source": [
    "def calculate_all_distance(list_points):\n",
    "    \"\"\"\n",
    "    Calculate distance between all points consequently\n",
    "\n",
    "    Arguments:\n",
    "        list_points (Point): all points\n",
    "    \n",
    "    Return:\n",
    "        all_distance (list(float)): list of distance between Point(n) and Point(n+1)\n",
    "    \n",
    "    \"\"\"\n",
    "    all_distance = [0]\n",
    "    for i in range(len(list_points) - 1):\n",
    "        all_distance.append(calculate_gaze_distance(list_points[i],list_points[i+1]))\n",
    "    return all_distance"
   ]
  },
  {
   "cell_type": "code",
   "execution_count": null,
   "metadata": {},
   "outputs": [],
   "source": [
    "list_points = []\n",
    "for i in range(len(df_not_null)):\n",
    "    x = df_not_null.iloc[i]\n",
    "    pt = Point(int(float(x[\"X Pos\"])), int(float(x[\"Y Pos\"])))\n",
    "    list_points.append(pt)\n"
   ]
  },
  {
   "cell_type": "code",
   "execution_count": null,
   "metadata": {},
   "outputs": [],
   "source": [
    "def fixation_saccade_classification(list_points, distance_threshold, angle_threshold = 5, time_threshold = 140):\n",
    "    \"\"\"\n",
    "    classify fixation and saccade based on the angle of the eye's gaze,\n",
    "    if a gaze exceeds 5 degree, it will be considered as a saccade\n",
    "\n",
    "    Arguments:\n",
    "        list_points (list(Point)): all points\n",
    "        distance_threshold (float): if a gaze's distance exceeds this threshold, it will be considered as a saccade (to be removed, use angle threshold instead)\n",
    "        angle_threshold (float): default by 5 degree\n",
    "        time_threshold (float): in ms, to determine long, short fixation (to do)\n",
    "    \n",
    "    Return:\n",
    "        list_fixation_saccade (list(int)): denote the moment is a fixation (0) or a saccade (1)\n",
    "    \"\"\"\n",
    "    list_distance = calculate_all_distance(list_points)\n",
    "    list_fixation_saccade = [1 if v > distance_threshold else 0 for v in list_distance]\n",
    "    list_fixation_saccade = list_fixation_saccade\n",
    "    return list_fixation_saccade "
   ]
  },
  {
   "cell_type": "code",
   "execution_count": null,
   "metadata": {},
   "outputs": [],
   "source": [
    "list_fixation_saccade = fixation_saccade_classification(list_points, 13)"
   ]
  },
  {
   "cell_type": "code",
   "execution_count": null,
   "metadata": {},
   "outputs": [],
   "source": [
    "# df_not_null[\"distance\"] = list_distance\n",
    "df_not_null[\"fixation/saccade\"] = list_fixation_saccade"
   ]
  },
  {
   "cell_type": "code",
   "execution_count": null,
   "metadata": {},
   "outputs": [],
   "source": [
    "x_coord = df_not_null[\"X Pos\"]\n",
    "y_coord = df_not_null[\"Y Pos\"]\n",
    "\n",
    "diameter = df_not_null[\"Pupil Diameter\"]\n",
    "img = plt.imread(\"flight.jpg\")\n",
    "h,w,c = img.shape\n",
    "\n",
    "cols=[]\n",
    "\n",
    "for i in range(len(list_fixation_saccade)):\n",
    "    if list_fixation_saccade[i] == 0:\n",
    "        cols.append(\"red\")\n",
    "    else:\n",
    "        cols.append(\"blue\")\n",
    "\n",
    "    \n",
    "fig=plt.figure(figsize=(15,8))\n",
    "ax=fig.add_axes([0,0,1,1])\n",
    "# ax.scatter(x_coord[0], y_coord[0], \"-o\")\n",
    "ax.imshow(img, extent=[0, 1600, 0, 900])\n",
    "\n",
    "ax.plot()\n",
    "ax.scatter(x=x_coord,y=y_coord,c=cols)\n",
    "\n",
    "\n",
    "ax.set_xlabel('x')\n",
    "ax.set_ylabel('y')\n",
    "ax.set_title('gaze')\n",
    "\n",
    "plt.show()"
   ]
  },
  {
   "cell_type": "code",
   "execution_count": null,
   "metadata": {},
   "outputs": [],
   "source": [
    "df_data[df_data[\"X Pos\"]==0.0]"
   ]
  },
  {
   "cell_type": "markdown",
   "metadata": {},
   "source": [
    "# scan pattern"
   ]
  },
  {
   "cell_type": "code",
   "execution_count": 2,
   "metadata": {},
   "outputs": [],
   "source": [
    "import detectors\n",
    "import gazeplotter"
   ]
  },
  {
   "cell_type": "code",
   "execution_count": null,
   "metadata": {},
   "outputs": [],
   "source": [
    "participant_ID = \"029\""
   ]
  },
  {
   "cell_type": "code",
   "execution_count": null,
   "metadata": {},
   "outputs": [],
   "source": [
    "df_data = pd.read_csv(\"data/PISSS_ID_{}_Approach One Gaze-Vergence.csv\".format(participant_ID))"
   ]
  },
  {
   "cell_type": "code",
   "execution_count": null,
   "metadata": {},
   "outputs": [],
   "source": [
    "df_data.fillna(0.0, inplace=True)"
   ]
  },
  {
   "cell_type": "code",
   "execution_count": null,
   "metadata": {},
   "outputs": [],
   "source": [
    "X = np.array(df_data['X Pos'].tolist())\n",
    "Y = np.array(df_data['Y Pos'].tolist())\n",
    "time = np.array(df_data['Start Time (secs)'].tolist())*1000"
   ]
  },
  {
   "cell_type": "code",
   "execution_count": null,
   "metadata": {},
   "outputs": [],
   "source": [
    "Sblk, Eblk = detectors.blink_detection(X,Y,time,minlen=10)"
   ]
  },
  {
   "cell_type": "code",
   "execution_count": null,
   "metadata": {},
   "outputs": [],
   "source": [
    "Sfix, Efix = detectors.fixation_detection(X,Y,time,maxdist=10,mindur=50)"
   ]
  },
  {
   "cell_type": "code",
   "execution_count": null,
   "metadata": {},
   "outputs": [],
   "source": [
    "Ssac, Esac = detectors.saccade_detection(X,Y,time,minlen=5,maxvel=40,maxacc=340)"
   ]
  },
  {
   "cell_type": "code",
   "execution_count": null,
   "metadata": {},
   "outputs": [],
   "source": [
    "len(Efix)"
   ]
  },
  {
   "cell_type": "code",
   "execution_count": null,
   "metadata": {},
   "outputs": [],
   "source": [
    "gazeplotter.draw_scanpath(Efix, Esac, dispsize=(1023,682), imagefile=\"flight.jpg\", savefilename=\"scanpath_{}.png\".format(participant_ID))"
   ]
  },
  {
   "cell_type": "code",
   "execution_count": null,
   "metadata": {},
   "outputs": [],
   "source": []
  },
  {
   "cell_type": "markdown",
   "metadata": {},
   "source": [
    "# gaze transition entropy"
   ]
  },
  {
   "cell_type": "code",
   "execution_count": 3,
   "metadata": {},
   "outputs": [],
   "source": [
    "from sklearn.cluster import DBSCAN"
   ]
  },
  {
   "cell_type": "code",
   "execution_count": null,
   "metadata": {},
   "outputs": [],
   "source": [
    "X = np.array(Efix).T[3:].T"
   ]
  },
  {
   "cell_type": "code",
   "execution_count": null,
   "metadata": {},
   "outputs": [],
   "source": [
    "clustering = DBSCAN(eps=20, min_samples=3).fit(X)"
   ]
  },
  {
   "cell_type": "code",
   "execution_count": null,
   "metadata": {},
   "outputs": [],
   "source": [
    "color = clustering.labels_\n",
    "color"
   ]
  },
  {
   "cell_type": "code",
   "execution_count": null,
   "metadata": {},
   "outputs": [],
   "source": []
  },
  {
   "cell_type": "code",
   "execution_count": 4,
   "metadata": {},
   "outputs": [],
   "source": [
    "def get_center(clustering, data):\n",
    "    center = []\n",
    "    for i in range(len(set(clustering.labels_)) - 1):\n",
    "        xi = data[np.where(clustering.labels_ == i)]\n",
    "        cx = sum(xi.T[0])/len(xi)\n",
    "        cy = sum(xi.T[1])/len(xi)\n",
    "        center.append((cx,cy))\n",
    "    return center\n",
    "\n",
    "# cluster_center = get_center(clustering,X)"
   ]
  },
  {
   "cell_type": "code",
   "execution_count": null,
   "metadata": {},
   "outputs": [],
   "source": [
    "img = plt.imread(\"flight.jpg\")\n",
    "h,w,c = img.shape\n",
    "fig=plt.figure(figsize=(15,8))\n",
    "ax=fig.add_axes([0,0,1,1])\n",
    "# ax.imshow(img, extent=[0, 1600, 0, 900])\n",
    "ax.imshow(img)\n",
    "\n",
    "ax.scatter(X.T[0],X.T[1], c=color, cmap=\"jet\")\n",
    "\n",
    "ax.set_xlabel('x')\n",
    "ax.set_ylabel('y')\n",
    "ax.set_title('gaze')\n",
    "\n",
    "# plt.show()"
   ]
  },
  {
   "cell_type": "code",
   "execution_count": null,
   "metadata": {},
   "outputs": [],
   "source": [
    "# gazeplotter.draw_heatmap(Efix, dispsize=(1023,682), imagefile=\"flight.jpg\")"
   ]
  },
  {
   "cell_type": "code",
   "execution_count": null,
   "metadata": {},
   "outputs": [],
   "source": []
  },
  {
   "cell_type": "code",
   "execution_count": null,
   "metadata": {},
   "outputs": [],
   "source": [
    "window_length = -1 #10sx60Hz"
   ]
  },
  {
   "cell_type": "code",
   "execution_count": null,
   "metadata": {},
   "outputs": [],
   "source": [
    "df_data_window = df_data[:window_length]"
   ]
  },
  {
   "cell_type": "code",
   "execution_count": null,
   "metadata": {},
   "outputs": [],
   "source": [
    "wX = np.array(df_data_window['X Pos'].tolist())\n",
    "wY = np.array(df_data_window['Y Pos'].tolist())\n",
    "wtime = np.array(df_data_window['Start Time (secs)'].tolist())*1000"
   ]
  },
  {
   "cell_type": "code",
   "execution_count": null,
   "metadata": {},
   "outputs": [],
   "source": [
    "wSfix, wEfix = detectors.fixation_detection(wX,wY,wtime,maxdist=20,mindur=50)"
   ]
  },
  {
   "cell_type": "code",
   "execution_count": null,
   "metadata": {},
   "outputs": [],
   "source": [
    "len(wEfix)"
   ]
  },
  {
   "cell_type": "code",
   "execution_count": 5,
   "metadata": {},
   "outputs": [],
   "source": [
    "def transition_matrix(transitions):\n",
    "    n = 1+ max(transitions) #number of states\n",
    "\n",
    "    M = [[0]*n for _ in range(n)]\n",
    "\n",
    "    for (i,j) in zip(transitions,transitions[1:]):\n",
    "        M[i][j] += 1\n",
    "\n",
    "    #now convert to probabilities:\n",
    "    for row in M:\n",
    "        s = sum(row)\n",
    "        if s > 0:\n",
    "            row[:] = [f/s for f in row]\n",
    "    return M\n"
   ]
  },
  {
   "cell_type": "code",
   "execution_count": 6,
   "metadata": {},
   "outputs": [],
   "source": [
    "def distance(x,y):\n",
    "    return ((x[0]-y[0])**2 + (x[1]-y[1])**2)**0.5\n",
    "\n",
    "def dbscan_predict(cluster_center, X_new, min_dist = 50, metric=distance):\n",
    "    # Result is noise by default\n",
    "    y_new = np.ones(shape=len(X_new), dtype=int)*-1 \n",
    "\n",
    "    # Iterate all input samples for a label\n",
    "    for j, x_new in enumerate(X_new):\n",
    "        # Find a core sample closer than EPS\n",
    "        for i, x_core in enumerate(cluster_center): \n",
    "            if metric(x_new, x_core) < min_dist:\n",
    "                # Assign label of x_core to x_new\n",
    "                y_new[j] = i\n",
    "                break\n",
    "\n",
    "    return y_new"
   ]
  },
  {
   "cell_type": "code",
   "execution_count": null,
   "metadata": {},
   "outputs": [],
   "source": [
    "pred = dbscan_predict(cluster_center, np.array(wEfix).T[3:].T)"
   ]
  },
  {
   "cell_type": "code",
   "execution_count": null,
   "metadata": {},
   "outputs": [],
   "source": [
    "pred"
   ]
  },
  {
   "cell_type": "code",
   "execution_count": null,
   "metadata": {},
   "outputs": [],
   "source": [
    "transitions = pred[np.where(pred!=-1)]"
   ]
  },
  {
   "cell_type": "code",
   "execution_count": null,
   "metadata": {},
   "outputs": [],
   "source": [
    "transitions"
   ]
  },
  {
   "cell_type": "code",
   "execution_count": null,
   "metadata": {},
   "outputs": [],
   "source": [
    "trans_matrix = transition_matrix(transitions)\n",
    "np.around(transition_matrix(transitions),2)"
   ]
  },
  {
   "cell_type": "code",
   "execution_count": null,
   "metadata": {},
   "outputs": [],
   "source": [
    "pA = [len(np.where(transitions==i)[0])/len(transitions) for i in range(len(set(transitions)))]"
   ]
  },
  {
   "cell_type": "code",
   "execution_count": null,
   "metadata": {},
   "outputs": [],
   "source": [
    "# pA[0]*(trans_matrix[0]*np.log2(trans_matrix[0]))"
   ]
  },
  {
   "cell_type": "code",
   "execution_count": null,
   "metadata": {},
   "outputs": [],
   "source": [
    "H = 0\n",
    "for i in range(len(pA)):\n",
    "    H += -sum(pA[i]*(trans_matrix[0]*np.log2(trans_matrix[0])))\n",
    "H"
   ]
  },
  {
   "cell_type": "code",
   "execution_count": null,
   "metadata": {},
   "outputs": [],
   "source": []
  },
  {
   "cell_type": "markdown",
   "metadata": {},
   "source": [
    "# Velocity"
   ]
  },
  {
   "cell_type": "code",
   "execution_count": null,
   "metadata": {},
   "outputs": [],
   "source": [
    "def velocity(x, y, time, missing=0.0):\n",
    "    x, y, time = detectors.remove_missing(x,y,time,missing)\n",
    "    intdist = (np.diff(x)**2 + np.diff(y)**2)**0.5\n",
    "    # get inter-sample times\n",
    "    inttime = np.diff(time)\n",
    "    # recalculate inter-sample times to seconds\n",
    "    inttime = inttime\n",
    "    \n",
    "    # VELOCITY AND ACCELERATION\n",
    "    # the velocity between samples is the inter-sample distance\n",
    "    # divided by the inter-sample time\n",
    "    vel = intdist / inttime\n",
    "    # the acceleration is the sample-to-sample difference in\n",
    "    # eye movement velocity\n",
    "    acc = np.diff(vel)\n",
    "    new_time = time - time[0]\n",
    "    \n",
    "    return vel, acc, new_time"
   ]
  },
  {
   "cell_type": "code",
   "execution_count": null,
   "metadata": {},
   "outputs": [],
   "source": [
    "vel, acc, new_time = velocity(X,Y,time)"
   ]
  },
  {
   "cell_type": "code",
   "execution_count": null,
   "metadata": {},
   "outputs": [],
   "source": [
    "fig, ax = plt.subplots(figsize=(15,8))\n",
    "plt.plot(new_time[:-1], vel, \"r-\")\n",
    "\n",
    "ax.set_xlabel(\"time (ms)\")\n",
    "ax.set_ylabel(\"Velocity (pixel/ms)\")\n",
    "plt.show()"
   ]
  },
  {
   "cell_type": "code",
   "execution_count": null,
   "metadata": {},
   "outputs": [],
   "source": []
  },
  {
   "cell_type": "markdown",
   "metadata": {},
   "source": [
    "# All data"
   ]
  },
  {
   "cell_type": "code",
   "execution_count": 7,
   "metadata": {},
   "outputs": [],
   "source": [
    "csv_files = glob.glob(\"data/*.csv\")"
   ]
  },
  {
   "cell_type": "code",
   "execution_count": 8,
   "metadata": {},
   "outputs": [],
   "source": [
    "csv_files_one = [v for v in csv_files if \"One Gaze-Left\" in v]\n",
    "csv_files_two = [v for v in csv_files if \"Two Gaze-Left\" in v]\n",
    "csv_files_three = [v for v in csv_files if \"Three Go-Around Gaze-Left\" in v]"
   ]
  },
  {
   "cell_type": "code",
   "execution_count": 9,
   "metadata": {},
   "outputs": [
    {
     "name": "stderr",
     "output_type": "stream",
     "text": [
      "  0%|                                                                                           | 0/32 [00:00<?, ?it/s]c:\\users\\khanhhanguyen\\appdata\\local\\continuum\\anaconda3\\envs\\kia\\lib\\site-packages\\ipykernel_launcher.py:40: RuntimeWarning: divide by zero encountered in log2\n",
      "c:\\users\\khanhhanguyen\\appdata\\local\\continuum\\anaconda3\\envs\\kia\\lib\\site-packages\\ipykernel_launcher.py:40: RuntimeWarning: invalid value encountered in multiply\n",
      "  6%|█████▏                                                                             | 2/32 [00:00<00:03,  8.74it/s]c:\\users\\khanhhanguyen\\appdata\\local\\continuum\\anaconda3\\envs\\kia\\lib\\site-packages\\ipykernel_launcher.py:40: RuntimeWarning: divide by zero encountered in log2\n",
      "c:\\users\\khanhhanguyen\\appdata\\local\\continuum\\anaconda3\\envs\\kia\\lib\\site-packages\\ipykernel_launcher.py:40: RuntimeWarning: invalid value encountered in multiply\n",
      "  9%|███████▊                                                                           | 3/32 [00:00<00:03,  8.85it/s]c:\\users\\khanhhanguyen\\appdata\\local\\continuum\\anaconda3\\envs\\kia\\lib\\site-packages\\ipykernel_launcher.py:40: RuntimeWarning: divide by zero encountered in log2\n",
      "c:\\users\\khanhhanguyen\\appdata\\local\\continuum\\anaconda3\\envs\\kia\\lib\\site-packages\\ipykernel_launcher.py:40: RuntimeWarning: invalid value encountered in multiply\n",
      " 22%|██████████████████▏                                                                | 7/32 [00:00<00:02,  9.19it/s]c:\\users\\khanhhanguyen\\appdata\\local\\continuum\\anaconda3\\envs\\kia\\lib\\site-packages\\ipykernel_launcher.py:40: RuntimeWarning: divide by zero encountered in log2\n",
      "c:\\users\\khanhhanguyen\\appdata\\local\\continuum\\anaconda3\\envs\\kia\\lib\\site-packages\\ipykernel_launcher.py:40: RuntimeWarning: invalid value encountered in multiply\n",
      " 31%|█████████████████████████▋                                                        | 10/32 [00:01<00:02,  8.70it/s]c:\\users\\khanhhanguyen\\appdata\\local\\continuum\\anaconda3\\envs\\kia\\lib\\site-packages\\ipykernel_launcher.py:40: RuntimeWarning: divide by zero encountered in log2\n",
      "c:\\users\\khanhhanguyen\\appdata\\local\\continuum\\anaconda3\\envs\\kia\\lib\\site-packages\\ipykernel_launcher.py:40: RuntimeWarning: invalid value encountered in multiply\n",
      " 34%|████████████████████████████▏                                                     | 11/32 [00:01<00:02,  8.06it/s]c:\\users\\khanhhanguyen\\appdata\\local\\continuum\\anaconda3\\envs\\kia\\lib\\site-packages\\ipykernel_launcher.py:40: RuntimeWarning: divide by zero encountered in log2\n",
      "c:\\users\\khanhhanguyen\\appdata\\local\\continuum\\anaconda3\\envs\\kia\\lib\\site-packages\\ipykernel_launcher.py:40: RuntimeWarning: invalid value encountered in multiply\n",
      " 44%|███████████████████████████████████▉                                              | 14/32 [00:01<00:01,  9.52it/s]c:\\users\\khanhhanguyen\\appdata\\local\\continuum\\anaconda3\\envs\\kia\\lib\\site-packages\\ipykernel_launcher.py:40: RuntimeWarning: divide by zero encountered in log2\n",
      "c:\\users\\khanhhanguyen\\appdata\\local\\continuum\\anaconda3\\envs\\kia\\lib\\site-packages\\ipykernel_launcher.py:40: RuntimeWarning: invalid value encountered in multiply\n",
      "c:\\users\\khanhhanguyen\\appdata\\local\\continuum\\anaconda3\\envs\\kia\\lib\\site-packages\\ipykernel_launcher.py:40: RuntimeWarning: divide by zero encountered in log2\n",
      "c:\\users\\khanhhanguyen\\appdata\\local\\continuum\\anaconda3\\envs\\kia\\lib\\site-packages\\ipykernel_launcher.py:40: RuntimeWarning: invalid value encountered in multiply\n",
      " 50%|█████████████████████████████████████████                                         | 16/32 [00:01<00:01,  8.42it/s]c:\\users\\khanhhanguyen\\appdata\\local\\continuum\\anaconda3\\envs\\kia\\lib\\site-packages\\ipykernel_launcher.py:40: RuntimeWarning: divide by zero encountered in log2\n",
      "c:\\users\\khanhhanguyen\\appdata\\local\\continuum\\anaconda3\\envs\\kia\\lib\\site-packages\\ipykernel_launcher.py:40: RuntimeWarning: invalid value encountered in multiply\n",
      " 56%|██████████████████████████████████████████████▏                                   | 18/32 [00:01<00:01,  9.84it/s]c:\\users\\khanhhanguyen\\appdata\\local\\continuum\\anaconda3\\envs\\kia\\lib\\site-packages\\ipykernel_launcher.py:40: RuntimeWarning: divide by zero encountered in log2\n",
      "c:\\users\\khanhhanguyen\\appdata\\local\\continuum\\anaconda3\\envs\\kia\\lib\\site-packages\\ipykernel_launcher.py:40: RuntimeWarning: invalid value encountered in multiply\n",
      " 62%|███████████████████████████████████████████████████▎                              | 20/32 [00:02<00:01,  9.20it/s]c:\\users\\khanhhanguyen\\appdata\\local\\continuum\\anaconda3\\envs\\kia\\lib\\site-packages\\ipykernel_launcher.py:40: RuntimeWarning: divide by zero encountered in log2\n",
      "c:\\users\\khanhhanguyen\\appdata\\local\\continuum\\anaconda3\\envs\\kia\\lib\\site-packages\\ipykernel_launcher.py:40: RuntimeWarning: invalid value encountered in multiply\n",
      " 69%|████████████████████████████████████████████████████████▍                         | 22/32 [00:02<00:01,  8.51it/s]c:\\users\\khanhhanguyen\\appdata\\local\\continuum\\anaconda3\\envs\\kia\\lib\\site-packages\\ipykernel_launcher.py:40: RuntimeWarning: divide by zero encountered in log2\n",
      "c:\\users\\khanhhanguyen\\appdata\\local\\continuum\\anaconda3\\envs\\kia\\lib\\site-packages\\ipykernel_launcher.py:40: RuntimeWarning: invalid value encountered in multiply\n",
      " 75%|█████████████████████████████████████████████████████████████▌                    | 24/32 [00:02<00:00,  9.83it/s]c:\\users\\khanhhanguyen\\appdata\\local\\continuum\\anaconda3\\envs\\kia\\lib\\site-packages\\ipykernel_launcher.py:40: RuntimeWarning: divide by zero encountered in log2\n",
      "c:\\users\\khanhhanguyen\\appdata\\local\\continuum\\anaconda3\\envs\\kia\\lib\\site-packages\\ipykernel_launcher.py:40: RuntimeWarning: invalid value encountered in multiply\n",
      " 94%|████████████████████████████████████████████████████████████████████████████▉     | 30/32 [00:03<00:00, 10.11it/s]c:\\users\\khanhhanguyen\\appdata\\local\\continuum\\anaconda3\\envs\\kia\\lib\\site-packages\\ipykernel_launcher.py:40: RuntimeWarning: divide by zero encountered in log2\n",
      "c:\\users\\khanhhanguyen\\appdata\\local\\continuum\\anaconda3\\envs\\kia\\lib\\site-packages\\ipykernel_launcher.py:40: RuntimeWarning: invalid value encountered in multiply\n",
      "100%|██████████████████████████████████████████████████████████████████████████████████| 32/32 [00:03<00:00, 10.16it/s]\n",
      "  0%|                                                                                           | 0/32 [00:00<?, ?it/s]c:\\users\\khanhhanguyen\\appdata\\local\\continuum\\anaconda3\\envs\\kia\\lib\\site-packages\\ipykernel_launcher.py:40: RuntimeWarning: divide by zero encountered in log2\n",
      "c:\\users\\khanhhanguyen\\appdata\\local\\continuum\\anaconda3\\envs\\kia\\lib\\site-packages\\ipykernel_launcher.py:40: RuntimeWarning: invalid value encountered in multiply\n",
      "  6%|█████▏                                                                             | 2/32 [00:00<00:03,  7.52it/s]c:\\users\\khanhhanguyen\\appdata\\local\\continuum\\anaconda3\\envs\\kia\\lib\\site-packages\\ipykernel_launcher.py:40: RuntimeWarning: divide by zero encountered in log2\n",
      "c:\\users\\khanhhanguyen\\appdata\\local\\continuum\\anaconda3\\envs\\kia\\lib\\site-packages\\ipykernel_launcher.py:40: RuntimeWarning: invalid value encountered in multiply\n",
      " 12%|██████████▍                                                                        | 4/32 [00:00<00:03,  8.03it/s]c:\\users\\khanhhanguyen\\appdata\\local\\continuum\\anaconda3\\envs\\kia\\lib\\site-packages\\ipykernel_launcher.py:40: RuntimeWarning: divide by zero encountered in log2\n",
      "c:\\users\\khanhhanguyen\\appdata\\local\\continuum\\anaconda3\\envs\\kia\\lib\\site-packages\\ipykernel_launcher.py:40: RuntimeWarning: invalid value encountered in multiply\n",
      " 22%|██████████████████▏                                                                | 7/32 [00:00<00:03,  7.61it/s]c:\\users\\khanhhanguyen\\appdata\\local\\continuum\\anaconda3\\envs\\kia\\lib\\site-packages\\ipykernel_launcher.py:40: RuntimeWarning: divide by zero encountered in log2\n",
      "c:\\users\\khanhhanguyen\\appdata\\local\\continuum\\anaconda3\\envs\\kia\\lib\\site-packages\\ipykernel_launcher.py:40: RuntimeWarning: invalid value encountered in multiply\n",
      " 31%|█████████████████████████▋                                                        | 10/32 [00:01<00:02,  8.44it/s]c:\\users\\khanhhanguyen\\appdata\\local\\continuum\\anaconda3\\envs\\kia\\lib\\site-packages\\ipykernel_launcher.py:40: RuntimeWarning: divide by zero encountered in log2\n",
      "c:\\users\\khanhhanguyen\\appdata\\local\\continuum\\anaconda3\\envs\\kia\\lib\\site-packages\\ipykernel_launcher.py:40: RuntimeWarning: invalid value encountered in multiply\n"
     ]
    },
    {
     "name": "stderr",
     "output_type": "stream",
     "text": [
      " 34%|████████████████████████████▏                                                     | 11/32 [00:01<00:03,  6.17it/s]c:\\users\\khanhhanguyen\\appdata\\local\\continuum\\anaconda3\\envs\\kia\\lib\\site-packages\\ipykernel_launcher.py:40: RuntimeWarning: divide by zero encountered in log2\n",
      "c:\\users\\khanhhanguyen\\appdata\\local\\continuum\\anaconda3\\envs\\kia\\lib\\site-packages\\ipykernel_launcher.py:40: RuntimeWarning: invalid value encountered in multiply\n",
      " 53%|███████████████████████████████████████████▌                                      | 17/32 [00:01<00:01,  8.63it/s]c:\\users\\khanhhanguyen\\appdata\\local\\continuum\\anaconda3\\envs\\kia\\lib\\site-packages\\ipykernel_launcher.py:40: RuntimeWarning: divide by zero encountered in log2\n",
      "c:\\users\\khanhhanguyen\\appdata\\local\\continuum\\anaconda3\\envs\\kia\\lib\\site-packages\\ipykernel_launcher.py:40: RuntimeWarning: invalid value encountered in multiply\n",
      " 69%|████████████████████████████████████████████████████████▍                         | 22/32 [00:02<00:01,  7.91it/s]c:\\users\\khanhhanguyen\\appdata\\local\\continuum\\anaconda3\\envs\\kia\\lib\\site-packages\\ipykernel_launcher.py:40: RuntimeWarning: divide by zero encountered in log2\n",
      "c:\\users\\khanhhanguyen\\appdata\\local\\continuum\\anaconda3\\envs\\kia\\lib\\site-packages\\ipykernel_launcher.py:40: RuntimeWarning: invalid value encountered in multiply\n",
      "c:\\users\\khanhhanguyen\\appdata\\local\\continuum\\anaconda3\\envs\\kia\\lib\\site-packages\\ipykernel_launcher.py:40: RuntimeWarning: divide by zero encountered in log2\n",
      "c:\\users\\khanhhanguyen\\appdata\\local\\continuum\\anaconda3\\envs\\kia\\lib\\site-packages\\ipykernel_launcher.py:40: RuntimeWarning: invalid value encountered in multiply\n",
      " 88%|███████████████████████████████████████████████████████████████████████▊          | 28/32 [00:03<00:00, 10.67it/s]c:\\users\\khanhhanguyen\\appdata\\local\\continuum\\anaconda3\\envs\\kia\\lib\\site-packages\\ipykernel_launcher.py:40: RuntimeWarning: divide by zero encountered in log2\n",
      "c:\\users\\khanhhanguyen\\appdata\\local\\continuum\\anaconda3\\envs\\kia\\lib\\site-packages\\ipykernel_launcher.py:40: RuntimeWarning: invalid value encountered in multiply\n",
      " 94%|████████████████████████████████████████████████████████████████████████████▉     | 30/32 [00:03<00:00, 10.23it/s]c:\\users\\khanhhanguyen\\appdata\\local\\continuum\\anaconda3\\envs\\kia\\lib\\site-packages\\ipykernel_launcher.py:40: RuntimeWarning: divide by zero encountered in log2\n",
      "c:\\users\\khanhhanguyen\\appdata\\local\\continuum\\anaconda3\\envs\\kia\\lib\\site-packages\\ipykernel_launcher.py:40: RuntimeWarning: invalid value encountered in multiply\n",
      "100%|██████████████████████████████████████████████████████████████████████████████████| 32/32 [00:03<00:00,  9.26it/s]\n",
      "  0%|                                                                                           | 0/31 [00:00<?, ?it/s]c:\\users\\khanhhanguyen\\appdata\\local\\continuum\\anaconda3\\envs\\kia\\lib\\site-packages\\ipykernel_launcher.py:40: RuntimeWarning: divide by zero encountered in log2\n",
      "c:\\users\\khanhhanguyen\\appdata\\local\\continuum\\anaconda3\\envs\\kia\\lib\\site-packages\\ipykernel_launcher.py:40: RuntimeWarning: invalid value encountered in multiply\n",
      "c:\\users\\khanhhanguyen\\appdata\\local\\continuum\\anaconda3\\envs\\kia\\lib\\site-packages\\ipykernel_launcher.py:40: RuntimeWarning: divide by zero encountered in log2\n",
      "c:\\users\\khanhhanguyen\\appdata\\local\\continuum\\anaconda3\\envs\\kia\\lib\\site-packages\\ipykernel_launcher.py:40: RuntimeWarning: invalid value encountered in multiply\n",
      " 16%|█████████████▍                                                                     | 5/31 [00:00<00:00, 48.67it/s]c:\\users\\khanhhanguyen\\appdata\\local\\continuum\\anaconda3\\envs\\kia\\lib\\site-packages\\ipykernel_launcher.py:40: RuntimeWarning: divide by zero encountered in log2\n",
      "c:\\users\\khanhhanguyen\\appdata\\local\\continuum\\anaconda3\\envs\\kia\\lib\\site-packages\\ipykernel_launcher.py:40: RuntimeWarning: invalid value encountered in multiply\n",
      "c:\\users\\khanhhanguyen\\appdata\\local\\continuum\\anaconda3\\envs\\kia\\lib\\site-packages\\ipykernel_launcher.py:40: RuntimeWarning: divide by zero encountered in log2\n",
      "c:\\users\\khanhhanguyen\\appdata\\local\\continuum\\anaconda3\\envs\\kia\\lib\\site-packages\\ipykernel_launcher.py:40: RuntimeWarning: invalid value encountered in multiply\n",
      "c:\\users\\khanhhanguyen\\appdata\\local\\continuum\\anaconda3\\envs\\kia\\lib\\site-packages\\ipykernel_launcher.py:40: RuntimeWarning: divide by zero encountered in log2\n",
      "c:\\users\\khanhhanguyen\\appdata\\local\\continuum\\anaconda3\\envs\\kia\\lib\\site-packages\\ipykernel_launcher.py:40: RuntimeWarning: invalid value encountered in multiply\n",
      " 29%|████████████████████████                                                           | 9/31 [00:00<00:00, 42.27it/s]c:\\users\\khanhhanguyen\\appdata\\local\\continuum\\anaconda3\\envs\\kia\\lib\\site-packages\\ipykernel_launcher.py:40: RuntimeWarning: divide by zero encountered in log2\n",
      "c:\\users\\khanhhanguyen\\appdata\\local\\continuum\\anaconda3\\envs\\kia\\lib\\site-packages\\ipykernel_launcher.py:40: RuntimeWarning: invalid value encountered in multiply\n",
      "c:\\users\\khanhhanguyen\\appdata\\local\\continuum\\anaconda3\\envs\\kia\\lib\\site-packages\\ipykernel_launcher.py:39: RuntimeWarning: divide by zero encountered in log2\n",
      "c:\\users\\khanhhanguyen\\appdata\\local\\continuum\\anaconda3\\envs\\kia\\lib\\site-packages\\ipykernel_launcher.py:39: RuntimeWarning: invalid value encountered in double_scalars\n",
      "c:\\users\\khanhhanguyen\\appdata\\local\\continuum\\anaconda3\\envs\\kia\\lib\\site-packages\\ipykernel_launcher.py:40: RuntimeWarning: divide by zero encountered in log2\n",
      "c:\\users\\khanhhanguyen\\appdata\\local\\continuum\\anaconda3\\envs\\kia\\lib\\site-packages\\ipykernel_launcher.py:40: RuntimeWarning: invalid value encountered in multiply\n",
      " 45%|█████████████████████████████████████                                             | 14/31 [00:00<00:00, 43.89it/s]c:\\users\\khanhhanguyen\\appdata\\local\\continuum\\anaconda3\\envs\\kia\\lib\\site-packages\\ipykernel_launcher.py:40: RuntimeWarning: divide by zero encountered in log2\n",
      "c:\\users\\khanhhanguyen\\appdata\\local\\continuum\\anaconda3\\envs\\kia\\lib\\site-packages\\ipykernel_launcher.py:40: RuntimeWarning: invalid value encountered in multiply\n",
      " 55%|████████████████████████████████████████████▉                                     | 17/31 [00:00<00:00, 35.57it/s]c:\\users\\khanhhanguyen\\appdata\\local\\continuum\\anaconda3\\envs\\kia\\lib\\site-packages\\ipykernel_launcher.py:40: RuntimeWarning: divide by zero encountered in log2\n",
      "c:\\users\\khanhhanguyen\\appdata\\local\\continuum\\anaconda3\\envs\\kia\\lib\\site-packages\\ipykernel_launcher.py:40: RuntimeWarning: invalid value encountered in multiply\n",
      "c:\\users\\khanhhanguyen\\appdata\\local\\continuum\\anaconda3\\envs\\kia\\lib\\site-packages\\ipykernel_launcher.py:40: RuntimeWarning: divide by zero encountered in log2\n",
      "c:\\users\\khanhhanguyen\\appdata\\local\\continuum\\anaconda3\\envs\\kia\\lib\\site-packages\\ipykernel_launcher.py:40: RuntimeWarning: invalid value encountered in multiply\n",
      "c:\\users\\khanhhanguyen\\appdata\\local\\continuum\\anaconda3\\envs\\kia\\lib\\site-packages\\ipykernel_launcher.py:40: RuntimeWarning: divide by zero encountered in log2\n",
      "c:\\users\\khanhhanguyen\\appdata\\local\\continuum\\anaconda3\\envs\\kia\\lib\\site-packages\\ipykernel_launcher.py:40: RuntimeWarning: invalid value encountered in multiply\n",
      "c:\\users\\khanhhanguyen\\appdata\\local\\continuum\\anaconda3\\envs\\kia\\lib\\site-packages\\ipykernel_launcher.py:40: RuntimeWarning: divide by zero encountered in log2\n",
      "c:\\users\\khanhhanguyen\\appdata\\local\\continuum\\anaconda3\\envs\\kia\\lib\\site-packages\\ipykernel_launcher.py:40: RuntimeWarning: invalid value encountered in multiply\n",
      " 74%|████████████████████████████████████████████████████████████▊                     | 23/31 [00:00<00:00, 39.42it/s]c:\\users\\khanhhanguyen\\appdata\\local\\continuum\\anaconda3\\envs\\kia\\lib\\site-packages\\ipykernel_launcher.py:40: RuntimeWarning: divide by zero encountered in log2\n",
      "c:\\users\\khanhhanguyen\\appdata\\local\\continuum\\anaconda3\\envs\\kia\\lib\\site-packages\\ipykernel_launcher.py:40: RuntimeWarning: invalid value encountered in multiply\n",
      "c:\\users\\khanhhanguyen\\appdata\\local\\continuum\\anaconda3\\envs\\kia\\lib\\site-packages\\ipykernel_launcher.py:40: RuntimeWarning: divide by zero encountered in log2\n",
      "c:\\users\\khanhhanguyen\\appdata\\local\\continuum\\anaconda3\\envs\\kia\\lib\\site-packages\\ipykernel_launcher.py:40: RuntimeWarning: invalid value encountered in multiply\n"
     ]
    },
    {
     "name": "stderr",
     "output_type": "stream",
     "text": [
      "c:\\users\\khanhhanguyen\\appdata\\local\\continuum\\anaconda3\\envs\\kia\\lib\\site-packages\\ipykernel_launcher.py:40: RuntimeWarning: divide by zero encountered in log2\n",
      "c:\\users\\khanhhanguyen\\appdata\\local\\continuum\\anaconda3\\envs\\kia\\lib\\site-packages\\ipykernel_launcher.py:40: RuntimeWarning: invalid value encountered in multiply\n",
      " 90%|██████████████████████████████████████████████████████████████████████████        | 28/31 [00:00<00:00, 42.02it/s]c:\\users\\khanhhanguyen\\appdata\\local\\continuum\\anaconda3\\envs\\kia\\lib\\site-packages\\ipykernel_launcher.py:40: RuntimeWarning: divide by zero encountered in log2\n",
      "c:\\users\\khanhhanguyen\\appdata\\local\\continuum\\anaconda3\\envs\\kia\\lib\\site-packages\\ipykernel_launcher.py:40: RuntimeWarning: invalid value encountered in multiply\n",
      "100%|██████████████████████████████████████████████████████████████████████████████████| 31/31 [00:00<00:00, 42.58it/s]\n"
     ]
    }
   ],
   "source": [
    "trials = []\n",
    "\n",
    "for csv in [csv_files_one, csv_files_two, csv_files_three]:\n",
    "    arr_Sblk = []\n",
    "    arr_Eblk = []\n",
    "    arr_Sfix = []\n",
    "    arr_Efix = []\n",
    "    arr_Ssac = []\n",
    "    arr_Esac = []\n",
    "    arr_trans_matrix = []\n",
    "    arr_Ht = []\n",
    "    arr_Hs = []\n",
    "    arr_total_time = []\n",
    "\n",
    "    for f in tqdm(csv):\n",
    "        df_data = pd.read_csv(f)\n",
    "        df_data.fillna(0.0, inplace=True)\n",
    "\n",
    "        X = np.array(df_data['X Pos'].tolist())\n",
    "        Y = np.array(df_data['Y Pos'].tolist())\n",
    "        time = np.array(df_data['Start Time (secs)'].tolist())*1000\n",
    "\n",
    "        Sblk, Eblk = detectors.blink_detection(X,Y,time,minlen=6)\n",
    "        Sfix, Efix = detectors.fixation_detection(X,Y,time,maxdist=10,mindur=50)\n",
    "        Ssac, Esac = detectors.saccade_detection(X,Y,time,minlen=5,maxvel=40,maxacc=340)\n",
    "\n",
    "        X = np.array(Efix).T[3:].T\n",
    "        clustering = DBSCAN(eps=20, min_samples=3).fit(X)\n",
    "        cluster_center = get_center(clustering,X)\n",
    "        pred = dbscan_predict(cluster_center, np.array(Efix).T[3:].T)\n",
    "        transitions = pred[np.where(pred!=-1)]\n",
    "\n",
    "        trans_matrix = transition_matrix(transitions)\n",
    "    #     np.around(transition_matrix(transitions),2)\n",
    "        pA = [len(np.where(transitions==i)[0])/len(transitions) for i in range(len(set(transitions)))]\n",
    "        Ht = 0\n",
    "        Hs = 0\n",
    "        for i in range(len(pA)):\n",
    "            Hs += pA[i]*np.log2(pA[i])\n",
    "            Ht += -sum(pA[i]*(trans_matrix[0]*np.log2(trans_matrix[0])))\n",
    "\n",
    "\n",
    "\n",
    "        arr_Sblk.append(Sblk)\n",
    "        arr_Eblk.append(Eblk)\n",
    "        arr_Sfix.append(Sfix)\n",
    "        arr_Efix.append(Efix)\n",
    "        arr_Ssac.append(Ssac)\n",
    "        arr_Esac.append(Esac)\n",
    "        arr_trans_matrix.append(trans_matrix)\n",
    "        arr_Ht.append(Ht)\n",
    "        arr_Hs.append(Hs)\n",
    "        arr_total_time.append(time[-1] - time[0])\n",
    "        \n",
    "    d = {\n",
    "            \"Eblk\": arr_Eblk,\n",
    "            \"Efix\": arr_Efix,\n",
    "            \"Esac\": arr_Esac,\n",
    "            \"trans_matrix\": arr_trans_matrix,\n",
    "            \"Ht\": arr_Ht,\n",
    "            \"Hs\": arr_Hs,\n",
    "            \"total_time\": arr_total_time\n",
    "        }\n",
    "        \n",
    "    trials.append(d)\n",
    "    \n",
    "    "
   ]
  },
  {
   "cell_type": "code",
   "execution_count": null,
   "metadata": {},
   "outputs": [],
   "source": [
    "dur_fix = []\n",
    "for i, fix in enumerate(arr_Efix):\n",
    "    dur_fix.append(sum(np.array(fix).T[2])/arr_total_time[i])\n",
    "    \n",
    "    \n",
    "dur_sac = []\n",
    "for i, sac in enumerate(arr_Esac):\n",
    "    dur_sac.append(sum(np.array(sac).T[2])/arr_total_time[i])\n",
    "    "
   ]
  },
  {
   "cell_type": "code",
   "execution_count": 187,
   "metadata": {},
   "outputs": [],
   "source": [
    "x = np.array([trials[0]['Ht'], trials[1]['Ht']]).T"
   ]
  },
  {
   "cell_type": "code",
   "execution_count": 203,
   "metadata": {},
   "outputs": [
    {
     "data": {
      "text/plain": [
       "array([ True,  True])"
      ]
     },
     "execution_count": 203,
     "metadata": {},
     "output_type": "execute_result"
    }
   ],
   "source": [
    "np.isnan(x[0])"
   ]
  },
  {
   "cell_type": "code",
   "execution_count": 231,
   "metadata": {},
   "outputs": [],
   "source": [
    "x1 = []\n",
    "for v in x:\n",
    "    if True not in np.isnan(v):\n",
    "        x1.append(v)\n",
    "        \n",
    "x1 = np.stack(x1, axis=0)"
   ]
  },
  {
   "cell_type": "code",
   "execution_count": 236,
   "metadata": {},
   "outputs": [
    {
     "data": {
      "text/plain": [
       "array([1.00163516, 1.31284805, 1.06095438, 0.81040979, 1.06333768,\n",
       "       1.12310401, 1.15709709, 1.08166427, 1.26595191, 0.89363965,\n",
       "       0.95862239, 1.28312837, 0.89258532])"
      ]
     },
     "execution_count": 236,
     "metadata": {},
     "output_type": "execute_result"
    }
   ],
   "source": [
    "x1.T[0]"
   ]
  },
  {
   "cell_type": "code",
   "execution_count": 242,
   "metadata": {},
   "outputs": [
    {
     "data": {
      "text/plain": [
       "0.2868128962164242"
      ]
     },
     "execution_count": 242,
     "metadata": {},
     "output_type": "execute_result"
    }
   ],
   "source": [
    "np.std(x1.T[1])"
   ]
  },
  {
   "cell_type": "code",
   "execution_count": 234,
   "metadata": {},
   "outputs": [
    {
     "data": {
      "text/plain": [
       "Ttest_indResult(statistic=0.9753270699610622, pvalue=0.3421494879702286)"
      ]
     },
     "execution_count": 234,
     "metadata": {},
     "output_type": "execute_result"
    }
   ],
   "source": [
    "scipy.stats.ttest_ind(x1.T[0], x1.T[1], equal_var = False)"
   ]
  },
  {
   "cell_type": "code",
   "execution_count": 134,
   "metadata": {},
   "outputs": [],
   "source": [
    "dur_fix1 = np.array([])\n",
    "mean_fix1 = []\n",
    "for i, p in enumerate(trials[0]['Efix']):\n",
    "    dur_fix1 = np.append(dur_fix1,np.array(p).T[2])\n",
    "    mean_fix1.append(np.mean(np.array(p).T[2])/trials[0]['total_time'][i])\n",
    "\n",
    "dur_fix2 = []\n",
    "mean_fix2 = []\n",
    "for i, p in enumerate(trials[1]['Efix']):\n",
    "    dur_fix2 = np.append(dur_fix2,np.array(p).T[2])\n",
    "    mean_fix2.append(np.mean(np.array(p).T[2])/trials[1]['total_time'][i])"
   ]
  },
  {
   "cell_type": "code",
   "execution_count": 165,
   "metadata": {},
   "outputs": [
    {
     "data": {
      "text/plain": [
       "Ttest_indResult(statistic=-3.0859705990978625, pvalue=0.002031127498962883)"
      ]
     },
     "execution_count": 165,
     "metadata": {},
     "output_type": "execute_result"
    }
   ],
   "source": [
    "scipy.stats.ttest_ind(dur_fix1, dur_fix2, equal_var = False)"
   ]
  },
  {
   "cell_type": "code",
   "execution_count": 164,
   "metadata": {},
   "outputs": [
    {
     "data": {
      "text/plain": [
       "215.17733450960404"
      ]
     },
     "execution_count": 164,
     "metadata": {},
     "output_type": "execute_result"
    }
   ],
   "source": [
    "np.std(dur_fix2)"
   ]
  },
  {
   "cell_type": "code",
   "execution_count": 150,
   "metadata": {},
   "outputs": [
    {
     "data": {
      "text/plain": [
       "204.92303396467642"
      ]
     },
     "execution_count": 150,
     "metadata": {},
     "output_type": "execute_result"
    }
   ],
   "source": [
    "np.mean(dur_fix1)"
   ]
  },
  {
   "cell_type": "code",
   "execution_count": 177,
   "metadata": {},
   "outputs": [
    {
     "data": {
      "text/plain": [
       "Ttest_indResult(statistic=0.5206482894598665, pvalue=0.6045157335075184)"
      ]
     },
     "execution_count": 177,
     "metadata": {},
     "output_type": "execute_result"
    }
   ],
   "source": [
    "scipy.stats.ttest_ind(x, y, equal_var = False)"
   ]
  },
  {
   "cell_type": "code",
   "execution_count": 244,
   "metadata": {},
   "outputs": [],
   "source": [
    "x = np.array([len(v) for v in trials[0]['Eblk']])/np.array(trials[0]['total_time'])*1000\n",
    "y = np.array([len(v) for v in trials[1]['Eblk']])/np.array(trials[1]['total_time'])*1000"
   ]
  },
  {
   "cell_type": "code",
   "execution_count": 246,
   "metadata": {},
   "outputs": [
    {
     "name": "stdout",
     "output_type": "stream",
     "text": [
      "mean trial 1: 0.25417298709911085\n",
      "mean trial 2: 0.22899477908179017\n",
      "std trial 1: 0.20536851539444673\n",
      "std trial 2: 0.17412976115512052\n"
     ]
    }
   ],
   "source": [
    "print(\"mean trial 1:\", np.mean(x))\n",
    "print(\"mean trial 2:\", np.mean(y))\n",
    "print(\"std trial 1:\", np.std(x))\n",
    "print(\"std trial 2:\", np.std(y))"
   ]
  },
  {
   "cell_type": "code",
   "execution_count": 176,
   "metadata": {},
   "outputs": [
    {
     "data": {
      "text/plain": [
       "0.22899477908179017"
      ]
     },
     "execution_count": 176,
     "metadata": {},
     "output_type": "execute_result"
    }
   ],
   "source": [
    "np.mean(y)"
   ]
  },
  {
   "cell_type": "code",
   "execution_count": null,
   "metadata": {},
   "outputs": [],
   "source": []
  },
  {
   "cell_type": "code",
   "execution_count": null,
   "metadata": {},
   "outputs": [],
   "source": []
  },
  {
   "cell_type": "code",
   "execution_count": null,
   "metadata": {},
   "outputs": [],
   "source": []
  },
  {
   "cell_type": "code",
   "execution_count": null,
   "metadata": {},
   "outputs": [],
   "source": []
  },
  {
   "cell_type": "code",
   "execution_count": null,
   "metadata": {},
   "outputs": [],
   "source": []
  },
  {
   "cell_type": "code",
   "execution_count": null,
   "metadata": {},
   "outputs": [],
   "source": []
  },
  {
   "cell_type": "code",
   "execution_count": null,
   "metadata": {},
   "outputs": [],
   "source": []
  },
  {
   "cell_type": "code",
   "execution_count": null,
   "metadata": {},
   "outputs": [],
   "source": []
  },
  {
   "cell_type": "code",
   "execution_count": null,
   "metadata": {},
   "outputs": [],
   "source": []
  },
  {
   "cell_type": "code",
   "execution_count": null,
   "metadata": {},
   "outputs": [],
   "source": []
  }
 ],
 "metadata": {
  "kernelspec": {
   "display_name": "Python 3",
   "language": "python",
   "name": "python3"
  },
  "language_info": {
   "codemirror_mode": {
    "name": "ipython",
    "version": 3
   },
   "file_extension": ".py",
   "mimetype": "text/x-python",
   "name": "python",
   "nbconvert_exporter": "python",
   "pygments_lexer": "ipython3",
   "version": "3.6.10"
  }
 },
 "nbformat": 4,
 "nbformat_minor": 4
}
