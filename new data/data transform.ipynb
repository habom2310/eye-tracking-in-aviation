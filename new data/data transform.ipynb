{
 "cells": [
  {
   "cell_type": "code",
   "execution_count": 1,
   "id": "2706d19b",
   "metadata": {},
   "outputs": [],
   "source": [
    "import pandas as pd\n",
    "import numpy as np"
   ]
  },
  {
   "cell_type": "code",
   "execution_count": 12,
   "id": "227b8f06",
   "metadata": {
    "scrolled": true
   },
   "outputs": [
    {
     "data": {
      "text/html": [
       "<div>\n",
       "<style scoped>\n",
       "    .dataframe tbody tr th:only-of-type {\n",
       "        vertical-align: middle;\n",
       "    }\n",
       "\n",
       "    .dataframe tbody tr th {\n",
       "        vertical-align: top;\n",
       "    }\n",
       "\n",
       "    .dataframe thead th {\n",
       "        text-align: right;\n",
       "    }\n",
       "</style>\n",
       "<table border=\"1\" class=\"dataframe\">\n",
       "  <thead>\n",
       "    <tr style=\"text-align: right;\">\n",
       "      <th></th>\n",
       "      <th>_real,_time</th>\n",
       "      <th>_totl,_time</th>\n",
       "      <th>missn,_time</th>\n",
       "      <th>timer,_time</th>\n",
       "      <th>_zulu,_time</th>\n",
       "      <th>local,_time</th>\n",
       "      <th>hobbs,_time</th>\n",
       "      <th>__USE,puffs</th>\n",
       "      <th>__TOT,puffs</th>\n",
       "      <th>__VIS,_tris</th>\n",
       "      <th>...</th>\n",
       "      <th>NAV_1,dme-d</th>\n",
       "      <th>NAV_1,h-def</th>\n",
       "      <th>NAV_1,v-def</th>\n",
       "      <th>___ap,__src</th>\n",
       "      <th>_fdir,_mode</th>\n",
       "      <th>_fdir,_ptch</th>\n",
       "      <th>_fdir,_roll</th>\n",
       "      <th>__HUD,power</th>\n",
       "      <th>__HUD,brite</th>\n",
       "      <th></th>\n",
       "    </tr>\n",
       "  </thead>\n",
       "  <tbody>\n",
       "    <tr>\n",
       "      <th>0</th>\n",
       "      <td>47.59469</td>\n",
       "      <td>0.01522</td>\n",
       "      <td>0.01522</td>\n",
       "      <td>0.0</td>\n",
       "      <td>2.27419</td>\n",
       "      <td>12.27419</td>\n",
       "      <td>0.87980</td>\n",
       "      <td>0.0</td>\n",
       "      <td>0.0</td>\n",
       "      <td>1042176.0</td>\n",
       "      <td>...</td>\n",
       "      <td>0.00000</td>\n",
       "      <td>-2.35010</td>\n",
       "      <td>-2.35010</td>\n",
       "      <td>0.0</td>\n",
       "      <td>0.0</td>\n",
       "      <td>1.65609</td>\n",
       "      <td>2.32481</td>\n",
       "      <td>1.0</td>\n",
       "      <td>0.5</td>\n",
       "      <td></td>\n",
       "    </tr>\n",
       "    <tr>\n",
       "      <th>1</th>\n",
       "      <td>48.27396</td>\n",
       "      <td>0.06547</td>\n",
       "      <td>0.06547</td>\n",
       "      <td>0.0</td>\n",
       "      <td>2.27420</td>\n",
       "      <td>12.27420</td>\n",
       "      <td>0.87982</td>\n",
       "      <td>0.0</td>\n",
       "      <td>0.0</td>\n",
       "      <td>416052.0</td>\n",
       "      <td>...</td>\n",
       "      <td>0.00000</td>\n",
       "      <td>-1.90145</td>\n",
       "      <td>-1.90145</td>\n",
       "      <td>0.0</td>\n",
       "      <td>0.0</td>\n",
       "      <td>1.66552</td>\n",
       "      <td>2.34358</td>\n",
       "      <td>1.0</td>\n",
       "      <td>0.5</td>\n",
       "      <td></td>\n",
       "    </tr>\n",
       "    <tr>\n",
       "      <th>2</th>\n",
       "      <td>48.70170</td>\n",
       "      <td>0.19324</td>\n",
       "      <td>0.19324</td>\n",
       "      <td>0.0</td>\n",
       "      <td>2.27424</td>\n",
       "      <td>12.27424</td>\n",
       "      <td>0.87985</td>\n",
       "      <td>0.0</td>\n",
       "      <td>0.0</td>\n",
       "      <td>416052.0</td>\n",
       "      <td>...</td>\n",
       "      <td>0.00000</td>\n",
       "      <td>-1.11890</td>\n",
       "      <td>-1.11890</td>\n",
       "      <td>0.0</td>\n",
       "      <td>0.0</td>\n",
       "      <td>1.70060</td>\n",
       "      <td>2.43736</td>\n",
       "      <td>1.0</td>\n",
       "      <td>0.5</td>\n",
       "      <td></td>\n",
       "    </tr>\n",
       "    <tr>\n",
       "      <th>3</th>\n",
       "      <td>48.80650</td>\n",
       "      <td>0.29804</td>\n",
       "      <td>0.29804</td>\n",
       "      <td>0.0</td>\n",
       "      <td>2.27427</td>\n",
       "      <td>12.27427</td>\n",
       "      <td>0.87988</td>\n",
       "      <td>0.0</td>\n",
       "      <td>0.0</td>\n",
       "      <td>285903.0</td>\n",
       "      <td>...</td>\n",
       "      <td>1.40207</td>\n",
       "      <td>-0.87089</td>\n",
       "      <td>-0.87089</td>\n",
       "      <td>0.0</td>\n",
       "      <td>0.0</td>\n",
       "      <td>1.71509</td>\n",
       "      <td>2.49596</td>\n",
       "      <td>1.0</td>\n",
       "      <td>0.5</td>\n",
       "      <td></td>\n",
       "    </tr>\n",
       "    <tr>\n",
       "      <th>4</th>\n",
       "      <td>48.91360</td>\n",
       "      <td>0.40514</td>\n",
       "      <td>0.40514</td>\n",
       "      <td>0.0</td>\n",
       "      <td>2.27430</td>\n",
       "      <td>12.27430</td>\n",
       "      <td>0.87991</td>\n",
       "      <td>0.0</td>\n",
       "      <td>0.0</td>\n",
       "      <td>285903.0</td>\n",
       "      <td>...</td>\n",
       "      <td>7.11613</td>\n",
       "      <td>-1.45111</td>\n",
       "      <td>-1.45111</td>\n",
       "      <td>0.0</td>\n",
       "      <td>0.0</td>\n",
       "      <td>1.72241</td>\n",
       "      <td>2.55011</td>\n",
       "      <td>1.0</td>\n",
       "      <td>0.5</td>\n",
       "      <td></td>\n",
       "    </tr>\n",
       "  </tbody>\n",
       "</table>\n",
       "<p>5 rows × 70 columns</p>\n",
       "</div>"
      ],
      "text/plain": [
       "     _real,_time      _totl,_time      missn,_time      timer,_time   \\\n",
       "0        47.59469          0.01522          0.01522              0.0   \n",
       "1        48.27396          0.06547          0.06547              0.0   \n",
       "2        48.70170          0.19324          0.19324              0.0   \n",
       "3        48.80650          0.29804          0.29804              0.0   \n",
       "4        48.91360          0.40514          0.40514              0.0   \n",
       "\n",
       "      _zulu,_time      local,_time      hobbs,_time      __USE,puffs   \\\n",
       "0          2.27419         12.27419          0.87980              0.0   \n",
       "1          2.27420         12.27420          0.87982              0.0   \n",
       "2          2.27424         12.27424          0.87985              0.0   \n",
       "3          2.27427         12.27427          0.87988              0.0   \n",
       "4          2.27430         12.27430          0.87991              0.0   \n",
       "\n",
       "      __TOT,puffs      __VIS,_tris   ...     NAV_1,dme-d      NAV_1,h-def   \\\n",
       "0              0.0        1042176.0  ...          0.00000         -2.35010   \n",
       "1              0.0         416052.0  ...          0.00000         -1.90145   \n",
       "2              0.0         416052.0  ...          0.00000         -1.11890   \n",
       "3              0.0         285903.0  ...          1.40207         -0.87089   \n",
       "4              0.0         285903.0  ...          7.11613         -1.45111   \n",
       "\n",
       "      NAV_1,v-def      ___ap,__src      _fdir,_mode      _fdir,_ptch   \\\n",
       "0         -2.35010              0.0              0.0          1.65609   \n",
       "1         -1.90145              0.0              0.0          1.66552   \n",
       "2         -1.11890              0.0              0.0          1.70060   \n",
       "3         -0.87089              0.0              0.0          1.71509   \n",
       "4         -1.45111              0.0              0.0          1.72241   \n",
       "\n",
       "      _fdir,_roll      __HUD,power      __HUD,brite      \n",
       "0          2.32481              1.0              0.5     \n",
       "1          2.34358              1.0              0.5     \n",
       "2          2.43736              1.0              0.5     \n",
       "3          2.49596              1.0              0.5     \n",
       "4          2.55011              1.0              0.5     \n",
       "\n",
       "[5 rows x 70 columns]"
      ]
     },
     "execution_count": 12,
     "metadata": {},
     "output_type": "execute_result"
    }
   ],
   "source": [
    "df_data = pd.read_csv(\"flight_ha.csv\")\n",
    "df_data.head()"
   ]
  },
  {
   "cell_type": "code",
   "execution_count": 13,
   "id": "d866f997",
   "metadata": {},
   "outputs": [
    {
     "data": {
      "text/html": [
       "<div>\n",
       "<style scoped>\n",
       "    .dataframe tbody tr th:only-of-type {\n",
       "        vertical-align: middle;\n",
       "    }\n",
       "\n",
       "    .dataframe tbody tr th {\n",
       "        vertical-align: top;\n",
       "    }\n",
       "\n",
       "    .dataframe thead th {\n",
       "        text-align: right;\n",
       "    }\n",
       "</style>\n",
       "<table border=\"1\" class=\"dataframe\">\n",
       "  <thead>\n",
       "    <tr style=\"text-align: right;\">\n",
       "      <th></th>\n",
       "      <th>_real,_time</th>\n",
       "      <th>_totl,_time</th>\n",
       "      <th>missn,_time</th>\n",
       "      <th>timer,_time</th>\n",
       "      <th>_zulu,_time</th>\n",
       "      <th>local,_time</th>\n",
       "      <th>hobbs,_time</th>\n",
       "      <th>__USE,puffs</th>\n",
       "      <th>__TOT,puffs</th>\n",
       "      <th>__VIS,_tris</th>\n",
       "      <th>...</th>\n",
       "      <th>NAV_1,dme-d</th>\n",
       "      <th>NAV_1,h-def</th>\n",
       "      <th>NAV_1,v-def</th>\n",
       "      <th>___ap,__src</th>\n",
       "      <th>_fdir,_mode</th>\n",
       "      <th>_fdir,_ptch</th>\n",
       "      <th>_fdir,_roll</th>\n",
       "      <th>__HUD,power</th>\n",
       "      <th>__HUD,brite</th>\n",
       "      <th></th>\n",
       "    </tr>\n",
       "  </thead>\n",
       "  <tbody>\n",
       "    <tr>\n",
       "      <th>0</th>\n",
       "      <td>150.46246</td>\n",
       "      <td>3.09585</td>\n",
       "      <td>3.09585</td>\n",
       "      <td>0.0</td>\n",
       "      <td>2.27505</td>\n",
       "      <td>12.27505</td>\n",
       "      <td>0.98952</td>\n",
       "      <td>0.0</td>\n",
       "      <td>0.0</td>\n",
       "      <td>285903.0</td>\n",
       "      <td>...</td>\n",
       "      <td>9.70245</td>\n",
       "      <td>-2.49998</td>\n",
       "      <td>-2.49998</td>\n",
       "      <td>0.0</td>\n",
       "      <td>2.0</td>\n",
       "      <td>2.27038</td>\n",
       "      <td>3.80113</td>\n",
       "      <td>1.0</td>\n",
       "      <td>0.5</td>\n",
       "      <td></td>\n",
       "    </tr>\n",
       "    <tr>\n",
       "      <th>1</th>\n",
       "      <td>150.55310</td>\n",
       "      <td>3.18649</td>\n",
       "      <td>3.18649</td>\n",
       "      <td>0.0</td>\n",
       "      <td>2.27507</td>\n",
       "      <td>12.27507</td>\n",
       "      <td>0.98955</td>\n",
       "      <td>0.0</td>\n",
       "      <td>0.0</td>\n",
       "      <td>285903.0</td>\n",
       "      <td>...</td>\n",
       "      <td>9.70035</td>\n",
       "      <td>-2.49999</td>\n",
       "      <td>-2.49999</td>\n",
       "      <td>0.0</td>\n",
       "      <td>2.0</td>\n",
       "      <td>2.27038</td>\n",
       "      <td>3.80113</td>\n",
       "      <td>1.0</td>\n",
       "      <td>0.5</td>\n",
       "      <td></td>\n",
       "    </tr>\n",
       "    <tr>\n",
       "      <th>2</th>\n",
       "      <td>150.64398</td>\n",
       "      <td>3.27736</td>\n",
       "      <td>3.27736</td>\n",
       "      <td>0.0</td>\n",
       "      <td>2.27510</td>\n",
       "      <td>12.27510</td>\n",
       "      <td>0.98957</td>\n",
       "      <td>0.0</td>\n",
       "      <td>0.0</td>\n",
       "      <td>285903.0</td>\n",
       "      <td>...</td>\n",
       "      <td>9.69824</td>\n",
       "      <td>-2.49999</td>\n",
       "      <td>-2.49999</td>\n",
       "      <td>0.0</td>\n",
       "      <td>2.0</td>\n",
       "      <td>2.27038</td>\n",
       "      <td>3.80113</td>\n",
       "      <td>1.0</td>\n",
       "      <td>0.5</td>\n",
       "      <td></td>\n",
       "    </tr>\n",
       "    <tr>\n",
       "      <th>3</th>\n",
       "      <td>150.75180</td>\n",
       "      <td>3.38519</td>\n",
       "      <td>3.38519</td>\n",
       "      <td>0.0</td>\n",
       "      <td>2.27513</td>\n",
       "      <td>12.27513</td>\n",
       "      <td>0.98960</td>\n",
       "      <td>0.0</td>\n",
       "      <td>0.0</td>\n",
       "      <td>285903.0</td>\n",
       "      <td>...</td>\n",
       "      <td>9.69574</td>\n",
       "      <td>-2.49999</td>\n",
       "      <td>-2.49999</td>\n",
       "      <td>0.0</td>\n",
       "      <td>2.0</td>\n",
       "      <td>2.27038</td>\n",
       "      <td>3.80113</td>\n",
       "      <td>1.0</td>\n",
       "      <td>0.5</td>\n",
       "      <td></td>\n",
       "    </tr>\n",
       "    <tr>\n",
       "      <th>4</th>\n",
       "      <td>150.86143</td>\n",
       "      <td>3.49482</td>\n",
       "      <td>3.49482</td>\n",
       "      <td>0.0</td>\n",
       "      <td>2.27516</td>\n",
       "      <td>12.27516</td>\n",
       "      <td>0.98963</td>\n",
       "      <td>0.0</td>\n",
       "      <td>0.0</td>\n",
       "      <td>285903.0</td>\n",
       "      <td>...</td>\n",
       "      <td>9.69320</td>\n",
       "      <td>-2.50000</td>\n",
       "      <td>-2.50000</td>\n",
       "      <td>0.0</td>\n",
       "      <td>2.0</td>\n",
       "      <td>2.27038</td>\n",
       "      <td>3.80113</td>\n",
       "      <td>1.0</td>\n",
       "      <td>0.5</td>\n",
       "      <td></td>\n",
       "    </tr>\n",
       "  </tbody>\n",
       "</table>\n",
       "<p>5 rows × 70 columns</p>\n",
       "</div>"
      ],
      "text/plain": [
       "     _real,_time      _totl,_time      missn,_time      timer,_time   \\\n",
       "0       150.46246          3.09585          3.09585              0.0   \n",
       "1       150.55310          3.18649          3.18649              0.0   \n",
       "2       150.64398          3.27736          3.27736              0.0   \n",
       "3       150.75180          3.38519          3.38519              0.0   \n",
       "4       150.86143          3.49482          3.49482              0.0   \n",
       "\n",
       "      _zulu,_time      local,_time      hobbs,_time      __USE,puffs   \\\n",
       "0          2.27505         12.27505          0.98952              0.0   \n",
       "1          2.27507         12.27507          0.98955              0.0   \n",
       "2          2.27510         12.27510          0.98957              0.0   \n",
       "3          2.27513         12.27513          0.98960              0.0   \n",
       "4          2.27516         12.27516          0.98963              0.0   \n",
       "\n",
       "      __TOT,puffs      __VIS,_tris   ...     NAV_1,dme-d      NAV_1,h-def   \\\n",
       "0              0.0         285903.0  ...          9.70245         -2.49998   \n",
       "1              0.0         285903.0  ...          9.70035         -2.49999   \n",
       "2              0.0         285903.0  ...          9.69824         -2.49999   \n",
       "3              0.0         285903.0  ...          9.69574         -2.49999   \n",
       "4              0.0         285903.0  ...          9.69320         -2.50000   \n",
       "\n",
       "      NAV_1,v-def      ___ap,__src      _fdir,_mode      _fdir,_ptch   \\\n",
       "0         -2.49998              0.0              2.0          2.27038   \n",
       "1         -2.49999              0.0              2.0          2.27038   \n",
       "2         -2.49999              0.0              2.0          2.27038   \n",
       "3         -2.49999              0.0              2.0          2.27038   \n",
       "4         -2.50000              0.0              2.0          2.27038   \n",
       "\n",
       "      _fdir,_roll      __HUD,power      __HUD,brite      \n",
       "0          3.80113              1.0              0.5     \n",
       "1          3.80113              1.0              0.5     \n",
       "2          3.80113              1.0              0.5     \n",
       "3          3.80113              1.0              0.5     \n",
       "4          3.80113              1.0              0.5     \n",
       "\n",
       "[5 rows x 70 columns]"
      ]
     },
     "execution_count": 13,
     "metadata": {},
     "output_type": "execute_result"
    }
   ],
   "source": [
    "df_ils = pd.read_csv(\"ILS_ground_truth.csv\")\n",
    "df_ils.head()"
   ]
  },
  {
   "cell_type": "code",
   "execution_count": null,
   "id": "d62b4485",
   "metadata": {},
   "outputs": [],
   "source": []
  },
  {
   "cell_type": "code",
   "execution_count": 23,
   "id": "6125b7f7",
   "metadata": {},
   "outputs": [],
   "source": [
    "df_latlon_ha = df_data[['   __lat,__deg ', '   __lon,__deg ']]\n",
    "df_latlon_ils = df_ils[['   __lat,__deg ', '   __lon,__deg ']]"
   ]
  },
  {
   "cell_type": "code",
   "execution_count": 29,
   "id": "5b9f58c5",
   "metadata": {},
   "outputs": [],
   "source": [
    "latlon_arr1 = df_latlon_ha.values"
   ]
  },
  {
   "cell_type": "code",
   "execution_count": 30,
   "id": "17a89c99",
   "metadata": {},
   "outputs": [],
   "source": [
    "latlon_arr2 = df_latlon_ils.values"
   ]
  },
  {
   "cell_type": "code",
   "execution_count": 94,
   "id": "c9c2e8e2",
   "metadata": {},
   "outputs": [],
   "source": [
    "def calculate_distance(latlon1, latlon2):\n",
    "    lat1 = latlon1[0]\n",
    "    lon1 = latlon1[1]\n",
    "    lat2 = latlon2[0]\n",
    "    lon2 = latlon2[1]\n",
    "    p = np.pi/180\n",
    "    a = 0.5 - np.cos((lat2-lat1)*p)/2 + np.cos(lat1*p) * np.cos(lat2*p) * (1-np.cos((lon2-lon1)*p))/2\n",
    "    distance = 12742 * np.arcsin(np.sqrt(a))\n",
    "    return distance"
   ]
  },
  {
   "cell_type": "code",
   "execution_count": 114,
   "id": "8b922318",
   "metadata": {},
   "outputs": [],
   "source": [
    "from math import sin, cos, sqrt, atan2, radians\n",
    "def distance_from_latlong(latlon1, latlon2):\n",
    "    R = 6373.0\n",
    "    \n",
    "    lat1 = radians(latlon1[0])\n",
    "    lon1 = radians(latlon1[1])\n",
    "    lat2 = radians(latlon2[0])\n",
    "    lon2 = radians(latlon2[1])\n",
    "\n",
    "    dlon = lon2 - lon1\n",
    "    dlat = lat2 - lat1\n",
    "\n",
    "    a = sin(dlat / 2)**2 + cos(lat1) * cos(lat2) * sin(dlon / 2)**2\n",
    "    c = 2 * atan2(sqrt(a), sqrt(1 - a))\n",
    "\n",
    "    distance = R * c\n",
    "    \n",
    "    return distance"
   ]
  },
  {
   "cell_type": "code",
   "execution_count": 115,
   "id": "38cc71d2",
   "metadata": {},
   "outputs": [],
   "source": [
    "latlon_deviation_arr = []\n",
    "for i in range(len(latlon_arr1)):\n",
    "    distance = distance_from_latlong(latlon_arr1[i], latlon_arr2[i])\n",
    "    latlon_deviation_arr.append(distance*3280.84)"
   ]
  },
  {
   "cell_type": "code",
   "execution_count": null,
   "id": "181770d5",
   "metadata": {},
   "outputs": [],
   "source": []
  },
  {
   "cell_type": "code",
   "execution_count": 116,
   "id": "31d9f4e5",
   "metadata": {},
   "outputs": [
    {
     "data": {
      "image/png": "[encoded data removed]",
      "text/plain": [
       "<Figure size 432x288 with 1 Axes>"
      ]
     },
     "metadata": {
      "needs_background": "light"
     },
     "output_type": "display_data"
    }
   ],
   "source": [
    "import matplotlib.pyplot as plt\n",
    "plt.plot(latlon_deviation_arr)\n",
    "plt.show()"
   ]
  },
  {
   "cell_type": "code",
   "execution_count": 97,
   "id": "23990cb4",
   "metadata": {},
   "outputs": [],
   "source": [
    "altitude_ha = df_data[\"   __alt,ftmsl \"].values\n",
    "altitude_ils = df_ils[\"   __alt,ftmsl \"].values"
   ]
  },
  {
   "cell_type": "code",
   "execution_count": 98,
   "id": "fe9c9373",
   "metadata": {},
   "outputs": [],
   "source": [
    "altitude_deviation_arr=[]\n",
    "for i in range(len(altitude_ha)):\n",
    "    distance = np.abs(altitude_ha[i]-altitude_ils[i])\n",
    "    altitude_deviation_arr.append(distance)"
   ]
  },
  {
   "cell_type": "code",
   "execution_count": 118,
   "id": "99d212cb",
   "metadata": {},
   "outputs": [
    {
     "data": {
      "text/plain": [
       "[<matplotlib.lines.Line2D at 0x17f075465c8>]"
      ]
     },
     "execution_count": 118,
     "metadata": {},
     "output_type": "execute_result"
    },
    {
     "data": {
      "image/png": "[encoded data removed]",
      "text/plain": [
       "<Figure size 432x288 with 1 Axes>"
      ]
     },
     "metadata": {
      "needs_background": "light"
     },
     "output_type": "display_data"
    }
   ],
   "source": [
    "plt.plot(altitude_deviation_arr)"
   ]
  },
  {
   "cell_type": "code",
   "execution_count": 119,
   "id": "5d30d685",
   "metadata": {},
   "outputs": [],
   "source": [
    "total_deviation_arr=[]\n",
    "for i in range(len(altitude_ha)):\n",
    "    distance = np.sqrt(latlon_deviation_arr[i]**2 + altitude_deviation_arr[i]**2)\n",
    "    total_deviation_arr.append(distance)"
   ]
  },
  {
   "cell_type": "code",
   "execution_count": 120,
   "id": "12979f74",
   "metadata": {},
   "outputs": [
    {
     "data": {
      "text/plain": [
       "[<matplotlib.lines.Line2D at 0x17f07594308>]"
      ]
     },
     "execution_count": 120,
     "metadata": {},
     "output_type": "execute_result"
    },
    {
     "data": {
      "image/png": "[encoded data removed]",
      "text/plain": [
       "<Figure size 432x288 with 1 Axes>"
      ]
     },
     "metadata": {
      "needs_background": "light"
     },
     "output_type": "display_data"
    }
   ],
   "source": [
    "plt.plot(altitude_ha)\n",
    "plt.plot(altitude_ils)"
   ]
  },
  {
   "cell_type": "code",
   "execution_count": 127,
   "id": "feb6ee4d",
   "metadata": {},
   "outputs": [],
   "source": [
    "time = df_data[\"   missn,_time \"].values\n",
    "x = time-time[0]"
   ]
  },
  {
   "cell_type": "code",
   "execution_count": 131,
   "id": "f2a6dc02",
   "metadata": {},
   "outputs": [
    {
     "data": {
      "text/plain": [
       "<matplotlib.legend.Legend at 0x17f08921ac8>"
      ]
     },
     "execution_count": 131,
     "metadata": {},
     "output_type": "execute_result"
    },
    {
     "data": {
      "image/png": "[encoded data removed]",
      "text/plain": [
       "<Figure size 432x288 with 1 Axes>"
      ]
     },
     "metadata": {
      "needs_background": "light"
     },
     "output_type": "display_data"
    }
   ],
   "source": [
    "plt.plot(x, latlon_deviation_arr, label=\"latlon deviation\")\n",
    "plt.plot(x, altitude_deviation_arr, label=\"altitude deviation\")\n",
    "plt.legend()"
   ]
  },
  {
   "cell_type": "code",
   "execution_count": 130,
   "id": "0ccd9c12",
   "metadata": {},
   "outputs": [],
   "source": []
  },
  {
   "cell_type": "code",
   "execution_count": null,
   "id": "f8712d57",
   "metadata": {},
   "outputs": [],
   "source": []
  },
  {
   "cell_type": "code",
   "execution_count": null,
   "id": "6c54e2af",
   "metadata": {},
   "outputs": [],
   "source": []
  },
  {
   "cell_type": "code",
   "execution_count": null,
   "id": "3fdc91ae",
   "metadata": {},
   "outputs": [],
   "source": []
  }
 ],
 "metadata": {
  "kernelspec": {
   "display_name": "Python 3 (ipykernel)",
   "language": "python",
   "name": "python3"
  },
  "language_info": {
   "codemirror_mode": {
    "name": "ipython",
    "version": 3
   },
   "file_extension": ".py",
   "mimetype": "text/x-python",
   "name": "python",
   "nbconvert_exporter": "python",
   "pygments_lexer": "ipython3",
   "version": "3.7.11"
  }
 },
 "nbformat": 4,
 "nbformat_minor": 5
}
