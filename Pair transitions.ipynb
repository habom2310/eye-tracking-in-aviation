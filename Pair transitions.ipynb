{
 "cells": [
  {
   "cell_type": "code",
   "execution_count": 1,
   "id": "6428d707",
   "metadata": {},
   "outputs": [],
   "source": [
    "import numpy as np\n",
    "import pandas as pd\n",
    "import cv2\n",
    "from matplotlib import pyplot as plt\n",
    "from collections import defaultdict\n",
    "import seaborn as sns\n",
    "from tqdm import tqdm\n",
    "import matplotlib.patches as mpatches\n",
    "from sklearn.cluster import DBSCAN\n",
    "import scipy\n",
    "import re\n",
    "\n",
    "import eye_metrics_utils\n",
    "import data_utils\n",
    "import gaze_entropy\n",
    "import anova"
   ]
  },
  {
   "cell_type": "code",
   "execution_count": 2,
   "id": "6948b699",
   "metadata": {},
   "outputs": [],
   "source": [
    "import glob\n",
    "csv_files = glob.glob(\"data/*.csv\")\n",
    "csv_files_two = [v for v in csv_files if \"Two Gaze-Vergence\" in v]"
   ]
  },
  {
   "cell_type": "code",
   "execution_count": 3,
   "id": "3964353d",
   "metadata": {},
   "outputs": [],
   "source": [
    "img = cv2.imread(\"flight.jpg\")\n",
    "\n",
    "overlay = img.copy()\n",
    "thickness = -1\n",
    "\n",
    "h,w,c = img.shape"
   ]
  },
  {
   "cell_type": "code",
   "execution_count": 4,
   "id": "8016817a",
   "metadata": {},
   "outputs": [],
   "source": [
    "roi_center = {\n",
    "                \"runway\": (850, 170), \n",
    "                \"rpmleft\": (652, 438),\n",
    "                \"asi\": (695, 490), \n",
    "                \"alt\": (820, 490),\n",
    "                \"nrst\": (840, 550),\n",
    "                \"rpmright\": (1050, 438),\n",
    "             }"
   ]
  },
  {
   "cell_type": "code",
   "execution_count": 5,
   "id": "f9ec27ff",
   "metadata": {},
   "outputs": [],
   "source": [
    "# modified ROIs\n",
    "label = {\"runway\": [(0,0), (1280, 350), \"r\"],\n",
    "         \"rpmleft\": [(633, 411), (672, 451), \"r\"],\n",
    "         \"asi\": [(674, 432), (705, 525), \"r\"],\n",
    "         \"alt\": [(797, 428), (852, 523), \"r\"],\n",
    "         \"hsi\": [(742, 556), 45, \"c\"],\n",
    "         \"nrst\": [(792, 534), (876, 554), \"r\"],\n",
    "#          \"RPM_RIGHT\": [(1054, 440), 30, \"c\"]\n",
    "}\n",
    "\n",
    "encode_table = {\n",
    "    \"rpmleft\": \"P\",\n",
    "    \"nrst\": \"Q\",\n",
    "#     \"RPM_RIGHT\": \"R\",\n",
    "    \"asi\": \"B\",\n",
    "    \"hsi\": \"D\",\n",
    "    \"alt\": \"E\",\n",
    "    \"runway\": \"X\",\n",
    "    \"unknown\": \"Z\"\n",
    "}"
   ]
  },
  {
   "cell_type": "code",
   "execution_count": 6,
   "id": "bd9ac924",
   "metadata": {},
   "outputs": [],
   "source": [
    "pdict = defaultdict()\n",
    "for key in label:\n",
    "    if label[key][-1] == \"c\":\n",
    "        mask = np.zeros((h,w), np.uint8)\n",
    "        cv2.circle(mask,label[key][0], label[key][1],255,-1)\n",
    "        points = np.where(mask==255)\n",
    "        pdict[key] = points\n",
    "    elif label[key][-1] == \"r\":\n",
    "        mask = np.zeros((h,w), np.uint8)\n",
    "        cv2.rectangle(mask,label[key][0], label[key][1],255,-1)\n",
    "        points = np.where(mask==255)\n",
    "        pdict[key] = points"
   ]
  },
  {
   "cell_type": "code",
   "execution_count": 7,
   "id": "d212aa9b",
   "metadata": {},
   "outputs": [],
   "source": [
    "def distance(x, y):\n",
    "    return ((x[0]-y[0])**2 + (x[1] - y[1])**2)**0.5"
   ]
  },
  {
   "cell_type": "code",
   "execution_count": 8,
   "id": "f7fa69ef",
   "metadata": {},
   "outputs": [],
   "source": [
    "def calibration(df_fix, roi_center):\n",
    "    diffx = []\n",
    "    diffy = []\n",
    "    idxmin= []\n",
    "    for i in range(len(df_fix)):\n",
    "        x = df_fix.iloc[i]\n",
    "        m = np.argmin(x[-6:])\n",
    "        idxmin.append(m)\n",
    "        mx = list(roi_center.values())[m][0]\n",
    "        my = list(roi_center.values())[m][1]\n",
    "\n",
    "        if m == 0:\n",
    "            w = 0.3\n",
    "        else:\n",
    "            w = 1\n",
    "        diffx.append(w * (x.x - mx))\n",
    "        diffy.append(w * (x.y - my))\n",
    "    offsetx = np.mean(diffx)\n",
    "    offsety = np.mean(diffy)\n",
    "    print(\"offsetx\", offsetx)\n",
    "    print(\"offsety\", offsety)\n",
    "    \n",
    "    return offsetx, offsety"
   ]
  },
  {
   "cell_type": "code",
   "execution_count": 9,
   "id": "31b9fa7d",
   "metadata": {},
   "outputs": [],
   "source": [
    "def merge_consecutive_fixations_in_same_roi(df_fix):\n",
    "    df_fix['value_grp'] = (df_fix.roi != df_fix.roi.shift()).cumsum()\n",
    "\n",
    "    return pd.DataFrame({ 'start' : df_fix.groupby('value_grp').start.first(), \n",
    "                          'end' : df_fix.groupby('value_grp').end.last(),\n",
    "                          'duration' : df_fix.groupby('value_grp').duration.sum(), \n",
    "                          'x' : df_fix.groupby('value_grp').x.mean(),\n",
    "                          'y': df_fix.groupby('value_grp').y.mean(),\n",
    "                          'roi': df_fix.groupby('value_grp').roi.first()\n",
    "                         }).reset_index(drop=True)"
   ]
  },
  {
   "cell_type": "code",
   "execution_count": 10,
   "id": "2f019aee",
   "metadata": {},
   "outputs": [],
   "source": [
    "def get_center(clustering, data):\n",
    "    center = []\n",
    "    for i in range(len(set(clustering.labels_)) - 1):\n",
    "        xi = data[np.where(clustering.labels_ == i)]\n",
    "        cx = sum(xi.T[0])/len(xi)\n",
    "        cy = sum(xi.T[1])/len(xi)\n",
    "        center.append((cx,cy))\n",
    "    return center"
   ]
  },
  {
   "cell_type": "code",
   "execution_count": 11,
   "id": "f259508b",
   "metadata": {},
   "outputs": [],
   "source": [
    "def dist_func(point, v1, v2, type=\"c\"): #between points and rectange/cirle\n",
    "    \"\"\"\n",
    "    point: x, y\n",
    "    v1,v2: topleft,bottomright if type = \"r\"\n",
    "    v1,v2: center (x,y),  if type = \"c\"\n",
    "    \"\"\"    \n",
    "    d = 0\n",
    "    if type == \"r\":\n",
    "        dx = max(v1[0] - point[0], 0, point[0] - v2[0])\n",
    "        dy = max(v1[1] - point[1], 0, point[1] - v2[1])\n",
    "        \n",
    "        d = np.sqrt(dx*dx + dy*dy)\n",
    "    elif type == \"c\":\n",
    "        d = np.sqrt((point[0]-v1[0])**2 + (point[1]-v1[1])**2) - v2\n",
    "        \n",
    "    return d"
   ]
  },
  {
   "cell_type": "code",
   "execution_count": 12,
   "id": "1b0a3050",
   "metadata": {},
   "outputs": [],
   "source": [
    "def encode(lst_transition):\n",
    "    str_transition = \"\"\n",
    "    for v in lst_transition:\n",
    "        str_transition = str_transition + encode_table[v]\n",
    "    return str_transition\n",
    "\n",
    "def decode(str_transition):\n",
    "    lst_transition = []\n",
    "    for v in str_transition:\n",
    "        key_index = list(encode_table.values()).index(v)\n",
    "        lst_transition.append(list(encode_table.keys())[key_index])\n",
    "    return lst_transition"
   ]
  },
  {
   "cell_type": "code",
   "execution_count": 29,
   "id": "4fa4f366",
   "metadata": {},
   "outputs": [],
   "source": [
    "def run_one_data(filename):\n",
    "    print(filename)\n",
    "    df_data = pd.read_csv(filename)\n",
    "\n",
    "    df_data = data_utils.reset_time(df_data)\n",
    "    null_percent = data_utils.check_percentage_null(df_data)\n",
    "    if null_percent > 0.2:\n",
    "        print(\"null percent: {}, exclude ID {}\".format(null_percent, filename[14:17]))\n",
    "        return 0\n",
    "\n",
    "    df_fixation = eye_metrics_utils.detect_fixations(df_data)\n",
    "    df_blink = eye_metrics_utils.detect_blinks(df_data)\n",
    "    df_saccade = eye_metrics_utils.detect_saccades(df_data)\n",
    "\n",
    "    X = df_fixation[[\"x\", \"y\"]].values\n",
    "    clustering = DBSCAN(eps=20, min_samples=5, metric = distance).fit(X)\n",
    "    df_fixation[\"roi\"] = clustering.labels_\n",
    "    df_fixation = merge_consecutive_fixations_in_same_roi(df_fixation)\n",
    "\n",
    "    for k,v in roi_center.items():\n",
    "        df_fixation[\"{}\".format(k)] = df_fixation.apply(lambda x: distance(x[[\"x\",\"y\"]], v), axis=1)\n",
    "        \n",
    "        \n",
    "    X = df_fixation[[\"x\", \"y\"]].values\n",
    "    clustering = DBSCAN(eps=20, min_samples=5, metric = distance).fit(X)\n",
    "\n",
    "    color = clustering.labels_\n",
    "    df_fixation[\"roi\"] = clustering.labels_\n",
    "        \n",
    "#     img = plt.imread(\"flight.jpg\")\n",
    "#     h,w,c = img.shape\n",
    "#     fig=plt.figure(figsize=(15,8))\n",
    "#     ax=fig.add_axes([0,0,1,1])\n",
    "#     # ax.imshow(img, extent=[0, 1600, 0, 900])\n",
    "#     ax.imshow(img)\n",
    "# #     ax.scatter(cluster_center[0], cluster_center[1], s=30, marker = \"x\", c = \"red\")\n",
    "#     ax.scatter(X.T[0],X.T[1], c=color, cmap=\"jet\", alpha = 0.5)\n",
    "\n",
    "#     ax.set_xlabel('x')\n",
    "#     ax.set_ylabel('y')\n",
    "#     ax.set_title('center')\n",
    "\n",
    "    offsetx, offsety = calibration(df_fixation, roi_center)\n",
    "    df_fixation[\"x\"] = df_fixation.x - offsetx\n",
    "    df_fixation[\"y\"] = df_fixation.y - offsety\n",
    "    \n",
    "    return df_fixation"
   ]
  },
  {
   "cell_type": "code",
   "execution_count": 25,
   "id": "c347d42b",
   "metadata": {},
   "outputs": [],
   "source": [
    "def get_fixation_sequences(df_fixation, label = label, threshold = 20):\n",
    "    roi = []\n",
    "    count = 0\n",
    "    for i in range(len(df_fixation)):\n",
    "        x = df_fixation.iloc[i]\n",
    "        point = (x.x, x.y)\n",
    "        d = [dist_func(point, v[0], v[1], v[2]) for k,v in label.items()]\n",
    "        order = np.argsort(d)\n",
    "        if 0.0 not in d: # point is outside ROI\n",
    "            if d[order[0]] > threshold:\n",
    "                key = \"unknown\"\n",
    "            else:\n",
    "                key = list(pdict.keys())[order[0]]\n",
    "        else:# point falls inside a ROI\n",
    "            count += 1\n",
    "            key = list(pdict.keys())[order[0]]\n",
    "    #     print(d, order, key)\n",
    "        roi.append(key)\n",
    "    return roi"
   ]
  },
  {
   "cell_type": "code",
   "execution_count": 26,
   "id": "0dc9c5a6",
   "metadata": {},
   "outputs": [],
   "source": [
    "def create_transition_matrix(transitions):\n",
    "    m = pd.crosstab(pd.Series(list(transitions)[1:], name = \"t+1\"),\n",
    "            pd.Series(list(transitions)[:-1], name = \"t\"),normalize=1)\n",
    "        \n",
    "    return m"
   ]
  },
  {
   "cell_type": "code",
   "execution_count": 38,
   "id": "866eb672",
   "metadata": {},
   "outputs": [],
   "source": [
    "def create_transition_count_matrix(transitions):\n",
    "    m = pd.crosstab(pd.Series(list(transitions)[1:], name = \"t+1\"),\n",
    "            pd.Series(list(transitions)[:-1], name = \"t\"))\n",
    "        \n",
    "    return m"
   ]
  },
  {
   "cell_type": "code",
   "execution_count": null,
   "id": "0c85efb4",
   "metadata": {},
   "outputs": [],
   "source": []
  },
  {
   "cell_type": "code",
   "execution_count": 220,
   "id": "67f4696c",
   "metadata": {
    "scrolled": true
   },
   "outputs": [
    {
     "name": "stdout",
     "output_type": "stream",
     "text": [
      "t             alt       asi  hsi      nrst   rpmleft    runway  unknown\n",
      "t+1                                                                    \n",
      "alt      0.000000  0.209302  0.5  0.166667  0.076923  0.396226      0.0\n",
      "asi      0.272727  0.000000  0.0  0.000000  0.384615  0.528302      0.5\n",
      "hsi      0.000000  0.000000  0.0  0.000000  0.000000  0.037736      0.0\n",
      "nrst     0.121212  0.000000  0.0  0.000000  0.076923  0.018868      0.0\n",
      "rpmleft  0.060606  0.209302  0.0  0.166667  0.000000  0.018868      0.0\n",
      "runway   0.545455  0.558140  0.5  0.500000  0.461538  0.000000      0.5\n",
      "unknown  0.000000  0.023256  0.0  0.166667  0.000000  0.000000      0.0\n",
      "t        alt  asi  hsi  nrst  rpmleft  runway  unknown\n",
      "t+1                                                   \n",
      "alt        0    9    1     1        1      21        0\n",
      "asi        9    0    0     0        5      28        1\n",
      "hsi        0    0    0     0        0       2        0\n",
      "nrst       4    0    0     0        1       1        0\n",
      "rpmleft    2    9    0     1        0       1        0\n",
      "runway    18   24    1     3        6       0        1\n",
      "unknown    0    1    0     1        0       0        0\n"
     ]
    }
   ],
   "source": [
    "print(create_transition_matrix(transitions))\n",
    "print(create_transition_count_matrix(transitions))"
   ]
  },
  {
   "cell_type": "code",
   "execution_count": null,
   "id": "d1511d44",
   "metadata": {},
   "outputs": [],
   "source": []
  },
  {
   "cell_type": "code",
   "execution_count": 288,
   "id": "7715500a",
   "metadata": {},
   "outputs": [],
   "source": [
    "def encode_transition(transitions, label_type = \"random\"):\n",
    "    \"\"\"\n",
    "    assign a random letter for each roi\n",
    "    \"\"\"\n",
    "    letters = list(\"ABCDEFGHIJKLMNOPQRSTUVWXYZ\")\n",
    "    L = list(set(transitions))\n",
    "    print(L)\n",
    "    enc_transitions = \"\"\n",
    "    for roi in transitions:\n",
    "        enc_transitions += letters[L.index(roi)]\n",
    "        \n",
    "    return enc_transitions, L\n",
    "\n",
    "def decode_transitions(enc_transitions, list_labels):\n",
    "    letters = list(\"ABCDEFGHIJKLMNOPQRSTUVWXYZ\")\n",
    "    dec_transitions = []\n",
    "    for enc_t in enc_transitions:\n",
    "        dec_transitions.append(list_labels[letters.index(enc_t)])\n",
    "        \n",
    "    return dec_transitions"
   ]
  },
  {
   "cell_type": "code",
   "execution_count": null,
   "id": "46421afc",
   "metadata": {},
   "outputs": [],
   "source": []
  },
  {
   "cell_type": "code",
   "execution_count": 302,
   "id": "ba5706c8",
   "metadata": {},
   "outputs": [
    {
     "data": {
      "text/plain": [
       "[0, 1, 4, 7, 8]"
      ]
     },
     "execution_count": 302,
     "metadata": {},
     "output_type": "execute_result"
    }
   ],
   "source": [
    "def find_all(p, s):\n",
    "    '''Yields all the positions of\n",
    "    the pattern p in the string s.'''\n",
    "    i = s.find(p)\n",
    "    while i != -1:\n",
    "        yield i\n",
    "        i = s.find(p, i+1)\n",
    "        \n",
    "list(find_all(\"BB\", \"BBBABBABBB\"))"
   ]
  },
  {
   "cell_type": "code",
   "execution_count": 357,
   "id": "41d8fb66",
   "metadata": {},
   "outputs": [],
   "source": [
    "def find_index_of_most_subseq(enc_transition, L):\n",
    "    '''\n",
    "    enc_transitions: encoded transitions\n",
    "    '''\n",
    "    length = 2\n",
    "    subseqcount = defaultdict(int)\n",
    "\n",
    "    for i in range(len(enc_transitions)-length + 1):\n",
    "        substring = enc_transitions[i:i+length]\n",
    "        subseqcount[substring] += 1\n",
    "    max_subseq = max(subseqcount, key=subseqcount.get)\n",
    "    max5 = {k:subseqcount.get(k) for k in sorted(subseqcount, key=subseqcount.get, reverse=True)[:5]}\n",
    "    print(\"max 5 subseq:\", max5)\n",
    "    print(\"max_subseq:\", max_subseq)\n",
    "    print(\"max_subseq decode:\", decode_transitions(max_subseq, L))\n",
    "    list_idx_max_subseq = list(find_all(max_subseq, enc_transitions))\n",
    "    \n",
    "    return list_idx_max_subseq"
   ]
  },
  {
   "cell_type": "code",
   "execution_count": 337,
   "id": "022bf06d",
   "metadata": {},
   "outputs": [],
   "source": [
    "def merge_2roi_to_1roi(df_data, list_idx):\n",
    "    for idx in list_idx:\n",
    "        df_x = df_data.loc[idx:idx + 1]\n",
    "        start = df_x.iloc[0][\"start\"]\n",
    "        end = df_x.iloc[1][\"end\"]\n",
    "        duration = end - start\n",
    "        x = df_x.iloc[0][\"x\"]\n",
    "        y = df_x.iloc[0][\"y\"]\n",
    "        roi = \"{}_{}\".format(df_x.iloc[0]['roi'], df_x.iloc[1]['roi'])\n",
    "        \n",
    "        df_data.loc[idx] = start, end, duration, x, y, roi\n",
    "        if idx + 1 not in list_idx:\n",
    "            df_data = df_data.drop(idx + 1)\n",
    "        \n",
    "    return df_data.reset_index(drop=True)"
   ]
  },
  {
   "cell_type": "code",
   "execution_count": null,
   "id": "0d26348a",
   "metadata": {},
   "outputs": [],
   "source": []
  },
  {
   "cell_type": "code",
   "execution_count": 397,
   "id": "4a4372b8",
   "metadata": {},
   "outputs": [
    {
     "name": "stdout",
     "output_type": "stream",
     "text": [
      "data\\PISSS_ID_003_Approach Two Gaze-Vergence.csv\n",
      "offsetx 17.647147803731563\n",
      "offsety -1.4763019074890766\n"
     ]
    }
   ],
   "source": [
    "df_fixation = run_one_data(csv_files_two[2])\n",
    "roi = get_fixation_sequences(df_fixation)\n",
    "df_fixation[\"roi\"] = roi\n",
    "df_fixation = merge_consecutive_fixations_in_same_roi(df_fixation)\n",
    "transitions = df_fixation[\"roi\"]"
   ]
  },
  {
   "cell_type": "code",
   "execution_count": null,
   "id": "96e333da",
   "metadata": {},
   "outputs": [],
   "source": []
  },
  {
   "cell_type": "code",
   "execution_count": 398,
   "id": "7f269eb3",
   "metadata": {
    "scrolled": false
   },
   "outputs": [
    {
     "name": "stdout",
     "output_type": "stream",
     "text": [
      "level: 0\n",
      "['rpmleft', 'asi', 'unknown', 'alt', 'runway']\n",
      "enc_transitions: AEBAECDEAEABAEBDECDEDEDEDEAEAEDBEBEBEBEBABEBEBEBEDEDEDECBEAEDEDEDEDEDEDEBEBAE\n",
      "max 5 subseq: {'DE': 15, 'ED': 13, 'EB': 11, 'BE': 10, 'AE': 8}\n",
      "max_subseq: DE\n",
      "max_subseq decode: ['alt', 'runway']\n",
      "[6, 15, 18, 20, 22, 24, 49, 51, 53, 60, 62, 64, 66, 68, 70]\n",
      "num_max_subseq: 15\n",
      "------------------------------------------------------------\n",
      "level: 1\n",
      "['alt_runway', 'rpmleft', 'asi', 'unknown', 'alt', 'runway']\n",
      "enc_transitions: BFCBFDABFBCBFCADAAAABFBFECFCFCFCFCBCFCFCFCFAAADCFBFAAAAAACFCBF\n",
      "max 5 subseq: {'FC': 10, 'AA': 10, 'CF': 10, 'BF': 8, 'CB': 4}\n",
      "max_subseq: FC\n",
      "max_subseq decode: ['runway', 'asi']\n",
      "[1, 12, 26, 28, 30, 32, 36, 38, 40, 58]\n",
      "num_max_subseq: 10\n",
      "------------------------------------------------------------\n",
      "level: 2\n",
      "['alt_runway', 'rpmleft', 'runway_asi', 'asi', 'unknown', 'alt', 'runway']\n",
      "enc_transitions: BCBGEABGBDBCAEAAAABGBGFDCCCCBDCCCGAAAEDGBGAAAAAADCBG\n",
      "max 5 subseq: {'AA': 10, 'BG': 6, 'CC': 5, 'CB': 3, 'GB': 3}\n",
      "max_subseq: AA\n",
      "max_subseq decode: ['alt_runway', 'alt_runway']\n",
      "[14, 15, 16, 34, 35, 42, 43, 44, 45, 46]\n",
      "num_max_subseq: 10\n",
      "------------------------------------------------------------\n",
      "level: 3\n",
      "['alt_runway', 'rpmleft', 'runway_asi', 'asi', 'unknown', 'alt_runway_alt_runway', 'alt', 'runway']\n",
      "enc_transitions: BCBHEABHBDBCAEFFFBHBHGDCCCCBDCCCHFFEDHBHFFFFFDCBH\n",
      "max 5 subseq: {'FF': 7, 'BH': 6, 'CC': 5, 'CB': 3, 'HB': 3}\n",
      "max_subseq: FF\n",
      "max_subseq decode: ['alt_runway_alt_runway', 'alt_runway_alt_runway']\n",
      "[14, 15, 33, 40, 41, 42, 43]\n",
      "num_max_subseq: 7\n",
      "------------------------------------------------------------\n",
      "level: 4\n",
      "['alt_runway', 'rpmleft', 'runway_asi', 'alt_runway_alt_runway_alt_runway_alt_runway', 'asi', 'unknown', 'alt', 'runway']\n",
      "enc_transitions: BCBHFABHBEBCAFDDBHBHGECCCCBECCCHDFEHBHDDDDECBH\n",
      "max 5 subseq: {'BH': 6, 'CC': 5, 'DD': 4, 'CB': 3, 'HB': 3}\n",
      "max_subseq: BH\n",
      "max_subseq decode: ['rpmleft', 'runway']\n",
      "[2, 6, 16, 18, 36, 44]\n",
      "num_max_subseq: 6\n",
      "------------------------------------------------------------\n",
      "level: 5\n",
      "['alt_runway', 'rpmleft_runway', 'rpmleft', 'runway_asi', 'alt_runway_alt_runway_alt_runway_alt_runway', 'asi', 'unknown', 'alt', 'runway']\n",
      "enc_transitions: CDBGABCFCDAGEEBBHFDDDDCFDDDIEGFIBEEEEFDB\n",
      "max 5 subseq: {'DD': 5, 'EE': 4, 'FD': 3, 'CD': 2, 'DB': 2}\n",
      "max_subseq: DD\n",
      "max_subseq decode: ['runway_asi', 'runway_asi']\n",
      "[18, 19, 20, 24, 25]\n",
      "num_max_subseq: 5\n",
      "------------------------------------------------------------\n",
      "level: 6\n",
      "['alt_runway', 'rpmleft_runway', 'rpmleft', 'runway_asi', 'alt_runway_alt_runway_alt_runway_alt_runway', 'asi', 'unknown', 'alt', 'runway', 'runway_asi_runway_asi']\n",
      "enc_transitions: CDBGABCFCDAGEEBBHFJJJCFJJIEGFIBEEEEFDB\n",
      "max 5 subseq: {'EE': 4, 'JJ': 3, 'CD': 2, 'DB': 2, 'CF': 2}\n",
      "max_subseq: EE\n",
      "max_subseq decode: ['alt_runway_alt_runway_alt_runway_alt_runway', 'alt_runway_alt_runway_alt_runway_alt_runway']\n",
      "[12, 31, 32, 33]\n",
      "num_max_subseq: 4\n",
      "------------------------------------------------------------\n",
      "level: 7\n",
      "['alt_runway', 'rpmleft_runway', 'rpmleft', 'runway_asi', 'alt_runway_alt_runway_alt_runway_alt_runway', 'asi', 'unknown', 'alt_runway_alt_runway_alt_runway_alt_runway_alt_runway_alt_runway_alt_runway_alt_runway', 'alt', 'runway', 'runway_asi_runway_asi']\n",
      "enc_transitions: CDBGABCFCDAGHBBIFKKKCFKKJEGFJBHHHFDB\n",
      "max 5 subseq: {'KK': 3, 'CD': 2, 'DB': 2, 'CF': 2, 'FK': 2}\n",
      "max_subseq: KK\n",
      "max_subseq decode: ['runway_asi_runway_asi', 'runway_asi_runway_asi']\n",
      "[17, 18, 22]\n",
      "num_max_subseq: 3\n",
      "------------------------------------------------------------\n"
     ]
    }
   ],
   "source": [
    "level = 0\n",
    "num_max_subseq = 100\n",
    "list_df_transition_merged = []\n",
    "list_transitions = []\n",
    "df_transition_merged = df_fixation.copy()\n",
    "list_df_transition_merged.append(df_transition_merged)\n",
    "\n",
    "while num_max_subseq > 3:\n",
    "    print(\"level:\",level)\n",
    "    enc_transitions, L = encode_transition(transitions)\n",
    "    print(\"enc_transitions:\", enc_transitions)\n",
    "    list_idx_max_subseq = find_index_of_most_subseq(enc_transitions, L)\n",
    "    print(list_idx_max_subseq)\n",
    "    num_max_subseq = len(list_idx_max_subseq)\n",
    "    print(\"num_max_subseq:\",num_max_subseq)\n",
    "    df_transition_merged = merge_2roi_to_1roi(df_transition_merged, list_idx_max_subseq)\n",
    "    list_df_transition_merged.append(df_transition_merged)\n",
    "    transitions = df_transition_merged[\"roi\"]\n",
    "    list_transitions.append(transitions)\n",
    "    level += 1\n",
    "    print(\"------------------------------------------------------------\")"
   ]
  },
  {
   "cell_type": "code",
   "execution_count": 399,
   "id": "a606a3fc",
   "metadata": {
    "scrolled": false
   },
   "outputs": [],
   "source": [
    "def construct_rect_signal(start, end, signal_end):\n",
    "    signal = np.zeros(int(signal_end*1000), dtype=int)\n",
    "    for i, s in enumerate(start):\n",
    "        s = int(start[i]*1000)\n",
    "        e = int(end[i]*1000)\n",
    "        signal[s:e] = 1\n",
    "        \n",
    "    return signal\n",
    "\n",
    "\n",
    "def create_rect_signal_from_transitions(df_transition):\n",
    "    list_signals = {}\n",
    "    signal_end = list(df_transition[\"end\"])[-1]\n",
    "    for roi in list(set(df_transition[\"roi\"])):\n",
    "        df_x = df_transition[df_transition[\"roi\"] == roi]\n",
    "        start = df_x['start'].values\n",
    "        end = df_x['end'].values\n",
    "        signal = construct_rect_signal(start, end, signal_end)\n",
    "        list_signals[roi] = signal\n",
    "        \n",
    "    return list_signals"
   ]
  },
  {
   "cell_type": "code",
   "execution_count": 400,
   "id": "5d63d9da",
   "metadata": {},
   "outputs": [],
   "source": [
    "rect_signals = create_rect_signal_from_transitions(list_df_transition_merged[0])"
   ]
  },
  {
   "cell_type": "code",
   "execution_count": 401,
   "id": "91176c10",
   "metadata": {},
   "outputs": [
    {
     "data": {
      "text/plain": [
       "{'alt_runway': array([0, 0, 0, ..., 0, 0, 0]),\n",
       " 'rpmleft': array([1, 1, 1, ..., 0, 0, 0]),\n",
       " 'asi': array([0, 0, 0, ..., 0, 0, 0]),\n",
       " 'unknown': array([0, 0, 0, ..., 0, 0, 0]),\n",
       " 'alt': array([0, 0, 0, ..., 0, 0, 0]),\n",
       " 'runway': array([0, 0, 0, ..., 1, 1, 1])}"
      ]
     },
     "execution_count": 401,
     "metadata": {},
     "output_type": "execute_result"
    }
   ],
   "source": [
    "rect_signals"
   ]
  },
  {
   "cell_type": "code",
   "execution_count": 424,
   "id": "d6d68e35",
   "metadata": {},
   "outputs": [
    {
     "data": {
      "image/png": "[encoded data removed]",
      "text/plain": [
       "<Figure size 1080x360 with 2 Axes>"
      ]
     },
     "metadata": {
      "needs_background": "light"
     },
     "output_type": "display_data"
    },
    {
     "data": {
      "text/plain": [
       "(array([ 1.22283110e-01-8.51160261e-19j, -5.26201995e-02-1.76792454e-02j,\n",
       "         2.47140683e-02+4.20427749e-02j, ...,\n",
       "        -2.49650836e-05+1.84835653e-05j,  9.03325899e-06-1.48641146e-05j,\n",
       "        -2.12603126e-05-6.78518538e-06j]),\n",
       " array([0.00000000e+00, 6.58640040e-03, 1.31728008e-02, ...,\n",
       "        4.99980241e+02, 4.99986827e+02, 4.99993414e+02]))"
      ]
     },
     "execution_count": 424,
     "metadata": {},
     "output_type": "execute_result"
    }
   ],
   "source": [
    "import scipy.fftpack\n",
    "import matplotlib.pyplot as plt\n",
    "\n",
    "signal = rect_signals[\"asi\"]\n",
    "\n",
    "def fftPlot(sig, dt=None, plot=True):\n",
    "    # Here it's assumes analytic signal (real signal...) - so only half of the axis is required\n",
    "\n",
    "    if dt is None:\n",
    "        dt = 1\n",
    "        t = np.arange(0, sig.shape[-1])\n",
    "        xLabel = 'samples'\n",
    "    else:\n",
    "        t = np.arange(0, sig.shape[-1]) * dt\n",
    "        xLabel = 'freq [Hz]'\n",
    "\n",
    "    if sig.shape[0] % 2 != 0:\n",
    "#         warnings.warn(\"signal preferred to be even in size, autoFixing it...\")\n",
    "        t = t[0:-1]\n",
    "        sig = sig[0:-1]\n",
    "\n",
    "    sigFFT = np.fft.fft(sig) / t.shape[0]  # Divided by size t for coherent magnitude\n",
    "\n",
    "    freq = np.fft.fftfreq(t.shape[0], d=dt)\n",
    "\n",
    "    # Plot analytic signal - right half of frequence axis needed only...\n",
    "    firstNegInd = np.argmax(freq < 0)\n",
    "    freqAxisPos = freq[0:firstNegInd]\n",
    "    sigFFTPos = 2 * sigFFT[0:firstNegInd]  # *2 because of magnitude of analytic signal\n",
    "\n",
    "    if plot:\n",
    "        fix, ax = plt.subplots(ncols=2, figsize = (15,5))\n",
    "        ax[0].plot(signal)\n",
    "        ax[0].set_xlabel(\"time\")\n",
    "        ax[0].set_ylabel('mag')\n",
    "        ax[0].set_title('raw data')\n",
    "        \n",
    "        ax[1].plot(freqAxisPos[:200], np.abs(sigFFTPos)[:200])\n",
    "        ax[1].set_xlabel(xLabel)\n",
    "        ax[1].set_ylabel('mag')\n",
    "        ax[1].set_title('FFT plot')\n",
    "        plt.show()\n",
    "\n",
    "    return sigFFTPos, freqAxisPos\n",
    "\n",
    "dt = 1 / 1000\n",
    "fftPlot(signal, dt=dt)\n",
    "# Result in samples (if the frequencies axis is unknown)\n",
    "# fftPlot(signal)"
   ]
  },
  {
   "cell_type": "code",
   "execution_count": null,
   "id": "c04080c4",
   "metadata": {},
   "outputs": [],
   "source": []
  },
  {
   "cell_type": "code",
   "execution_count": null,
   "id": "0010bd47",
   "metadata": {},
   "outputs": [],
   "source": []
  },
  {
   "cell_type": "code",
   "execution_count": 62,
   "id": "fd24a2f6",
   "metadata": {},
   "outputs": [
    {
     "data": {
      "text/plain": [
       "<matplotlib.collections.PathCollection at 0x2a902e16708>"
      ]
     },
     "execution_count": 62,
     "metadata": {},
     "output_type": "execute_result"
    },
    {
     "data": {
      "image/png": "[encoded data removed]",
      "text/plain": [
       "<Figure size 2880x576 with 1 Axes>"
      ]
     },
     "metadata": {
      "needs_background": "light"
     },
     "output_type": "display_data"
    }
   ],
   "source": [
    "# colors = plt.get_cmap('RdYlGn')(np.linspace(0, 1, 6))\n",
    "colors = plt.get_cmap('hsv')(np.linspace(0, 0.9, 7))\n",
    "\n",
    "color_codes = {\n",
    "    \"rpmleft\": colors[0],\n",
    "    \"nrst\": colors[1],\n",
    "    \"asi\": colors[2],\n",
    "    \"hsi\": colors[3],\n",
    "    \"alt\": colors[4],\n",
    "    \"runway\": colors[5],\n",
    "    \"unknown\": colors[6],\n",
    "}\n",
    "\n",
    "# equal width\n",
    "fig, ax = plt.subplots(figsize=(40, 8))\n",
    "x = df_fixation[\"start\"]\n",
    "y = [1] * len(x)\n",
    "cols = [color_codes[v] for v in df_fixation['roi']]\n",
    "ax.scatter(x, y, c=cols)\n"
   ]
  },
  {
   "cell_type": "code",
   "execution_count": null,
   "id": "98b1f88f",
   "metadata": {},
   "outputs": [],
   "source": []
  }
 ],
 "metadata": {
  "kernelspec": {
   "display_name": "Python 3 (ipykernel)",
   "language": "python",
   "name": "python3"
  },
  "language_info": {
   "codemirror_mode": {
    "name": "ipython",
    "version": 3
   },
   "file_extension": ".py",
   "mimetype": "text/x-python",
   "name": "python",
   "nbconvert_exporter": "python",
   "pygments_lexer": "ipython3",
   "version": "3.7.11"
  }
 },
 "nbformat": 4,
 "nbformat_minor": 5
}
